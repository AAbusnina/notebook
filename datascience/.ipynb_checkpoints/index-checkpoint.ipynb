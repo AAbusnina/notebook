{
 "metadata": {
  "name": "",
  "signature": "sha256:321de1ea0de2f97fb8afbcc543fc4ba11713baae0582ca37245c91ed4cd99f36"
 },
 "nbformat": 3,
 "nbformat_minor": 0,
 "worksheets": [
  {
   "cells": [
    {
     "cell_type": "markdown",
     "metadata": {},
     "source": [
      "# Sheffield Data Science Meet Ups: Notebooks\n",
      "\n",
      "## 2014/4/30 First Data Science Meeting\n",
      "\n",
      "The first Sheffield Data Science Meetup took place in the Pam Liveridge Building on 30th April 2014. We had talks from Fernando Perez on IPython and from Fabian Pedregosa on developing open source machine learning software. To our knowledge we also held the first ever IPython notebook poster session. Notebook posters from the meeting are hosted here.\n",
      "\n"
     ]
    },
    {
     "cell_type": "markdown",
     "metadata": {},
     "source": [
      "## Notebooks of the First Data Science Meeting\n",
      "\n",
      "* [HRF estimation from the Natural images dataset](http://nbviewer.ipython.org/github/fabianp/hrf_estimation/blob/master/doc/figures_natural_images.ipynb) Fabian Pedregosa.\n",
      "\n",
      "* [Tutorial in Bayesian Optimization] () Javier Gonzalez\n",
      "\n",
      "* [Partial Differential Equation and Gaussian Process] () Mu Niu\n"
     ]
    },
    {
     "cell_type": "code",
     "collapsed": false,
     "input": [],
     "language": "python",
     "metadata": {},
     "outputs": []
    }
   ],
   "metadata": {}
  }
 ]
}