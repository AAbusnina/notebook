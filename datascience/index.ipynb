{
 "metadata": {
  "name": "",
  "signature": "sha256:d9c811b1119e76e68df56c995c4a19ffca58f1da6df69a9ec980c0f2293f0aa6"
 },
 "nbformat": 3,
 "nbformat_minor": 0,
 "worksheets": [
  {
   "cells": [
    {
     "cell_type": "markdown",
     "metadata": {},
     "source": [
      "# Sheffield Data Science Meet Ups: Notebooks\n",
      "\n",
      "## 2014/4/30 First Data Science Meeting\n",
      "\n",
      "The first Sheffield Data Science Meetup took place in the Pam Liveridge Building on 30th April 2014. We had talks from Fernando Perez on IPython and from Fabian Pedregosa on developing open source machine learning software. To our knowledge we also held the first ever IPython notebook poster session. Notebook posters from the meeting are hosted here."
     ]
    },
    {
     "cell_type": "code",
     "collapsed": false,
     "input": [],
     "language": "python",
     "metadata": {},
     "outputs": []
    }
   ],
   "metadata": {}
  }
 ]
}