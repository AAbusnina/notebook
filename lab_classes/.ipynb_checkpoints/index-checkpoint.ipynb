{
 "metadata": {
  "name": "",
  "signature": "sha256:0ebd04cb09866dc79b155446aba4b7ff98014ec35832a0ee8254a3f7b2173d44"
 },
 "nbformat": 3,
 "nbformat_minor": 0,
 "worksheets": [
  {
   "cells": [
    {
     "cell_type": "markdown",
     "metadata": {},
     "source": [
      "## Sheffield ML Notebooks\n",
      "\n",
      "* [Computational Biology and Bioinformatics](./compbio/index.ipynb)\n",
      "* [Sheffield Data Science Meet Ups](./datascience/index.ipynb)\n",
      "* [GPy Examples](./GPy/index.ipynb)"
     ]
    },
    {
     "cell_type": "code",
     "collapsed": false,
     "input": [],
     "language": "python",
     "metadata": {},
     "outputs": []
    }
   ],
   "metadata": {}
  }
 ]
}