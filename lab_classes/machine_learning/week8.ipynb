{
 "metadata": {
  "name": "",
  "signature": "sha256:35fcd3864d1beaa33c9dbea5471dd3d8d8665d26e63ac72e5468f8572f4283e7"
 },
 "nbformat": 3,
 "nbformat_minor": 0,
 "worksheets": [
  {
   "cells": [
    {
     "cell_type": "markdown",
     "metadata": {},
     "source": [
      "# Dimensionality Reduction: Latent Variable Modelling\n",
      "\n",
      "### 18th November 2014 Neil D. Lawrence"
     ]
    },
    {
     "cell_type": "code",
     "collapsed": false,
     "input": [],
     "language": "python",
     "metadata": {},
     "outputs": []
    }
   ],
   "metadata": {}
  }
 ]
}