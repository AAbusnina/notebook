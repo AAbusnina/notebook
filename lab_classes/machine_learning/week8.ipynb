{
 "metadata": {
  "name": "",
  "signature": "sha256:bc1a2974e65c6176523099b0df720bfcc7761a02339f87e91254cc57ff71253a"
 },
 "nbformat": 3,
 "nbformat_minor": 0,
 "worksheets": [
  {
   "cells": [
    {
     "cell_type": "markdown",
     "metadata": {},
     "source": [
      "# Dimensionality Reduction: Latent Variable Modelling\n",
      "\n",
      "### 18th November 2014 Neil D. Lawrence\n",
      "\n",
      "So far in our classes we have focussed mainly on regression problems, which are examples of supervised learning. We have considered the relationship between the likelihood and the objective function and we have shown how we can find paramters by maximizing the likelihood (equivalent to minimizing the objective function) and in the last session we saw how we can *marginalize* the parameters in a process known as Bayesian inference.\n",
      "\n",
      "Now we are going to turn to a different form of learning, commonly known as *unsupervised* learning. In unsupervised learning our data isn't necessarily labelled in any form, but we want models that give us a better understanding of the data. We've actually seen an example of this already with [*matrix factorization* for collaborative filtering](./week2.ipynb),  which we introduces in the context of *objective functions*. Now we will introduce a more probabilistic approach to such models, specifically we are interested in *latent variable* modelling.\n",
      "\n",
      "## Latent Variables\n",
      "\n",
      "Latent means hidden, and hidden variables are simply *unobservable* variables. The idea of a latent variable is crucial to the concept of artificial intelligence, machine learning and experimental design. A latent variable could take many forms. We might observe an man walking along a road with a large bag of clothes and we might *infer* that the man is walking to the laundrette. Our observations are a highly complex data space, the response in our eyes is processed through our visual cortex, the combination of the indidivuals limb movememnts and the direction they are walking in all conflate in our heads to cause us to infer that (perhaps) the individual is going to the laundrette. We don't *know* that the man is walking to the laundrette, but we have a model of the world that suggests that it's a likely outcome for the very complex data. In some ways the latent variable can be seen as a *compression* of this very complex scene. If I were writing a book, I might write that \"A man tripped over whilst walking to the laundrette\". In the reader's mind an image of a man, perhaps laden with dirty clothes, may occur. All these ideas come from our expectations of the world around us. We can make further inference about the man, some of it perhaps plausible others less so. The man may be going to the laundrette because his washing machine is broken, or because he doesn't have a large enough flat to have a washing machine, or because he's carrying a duvet, or because he doesn't like ironing. All of these may *increase* in probability given our observation, but they are still *latent* variables. Unless we follow the man back to his appartment, or start making other enquirires about the man, we don't know the true answer. \n",
      "\n",
      "It's clear that to do inference about any complex system we *must* include latent variables. Latent variables are extremely powerful. In robotics, they are used to represent the *state* of the robot. The state of the robot may include its position (in x, y coordinates) it's speed, its direction of facing. How are *these* variables unknown to the robot? Well the robot only posesses *sensors*, it can make observations of the nearest object in a certain direction, and it may have a map of its environment. If we represent the state of the robot as it's position on a map, it may be uncertain of that position. If you go walking or running in the hills around Sheffield, you can take a very high quality ordnance survey map with you. However, unless you are a really excellent orienteer, when you are far from any given landmark, you will probably be *uncertain* about your true position on the map. These states are also latent variables. \n",
      "\n",
      "In statistical analysis of experiments you try to control for each aspect of the experiment, in particular by *randomization*. So if I'm interested in the ability of a particular fertilizer to improve the yield of a particular plant I may design an experiment where I apply the fertilizer to some plants (the treatment group) and withold the fertilizer from others (the control group). I then test to see whether the yield from the treatment group is better (or worse) than the control group. I may find that I have an excellent yield for the treatment group. However, what if I'd (unknowlingly) planted all my treatment plants in a sunny part of the field, and all the control plants in a shady part of the field. That would also be a latent variable, in this case known as a *confounder*. In statistical experimental design *randomization* is used to attempt to eliminate the correlated effects of these confounders: you aim to ensure that if these confounders *do* exist their effects are not correlated with treatment and contorl. This is known as a [randomized control trial](http://en.wikipedia.org/wiki/Randomized_controlled_trial). \n",
      "\n",
      "Greek philosophers worried a great deal about what was knowable and what was unknowable. Adherents of [philosophical Skeptisism](http://en.wikipedia.org/wiki/Skepticism) were inspired by the idea that since your senses sometimes give you contradictory information, they cannot be trusted, and in extreme cases they chose to *ignore* their senses. This is an acknowledgement that very often the true state of the world cannot be known with precision. Unfortunately, these philosophers didn't have a good understanding of probability, so they were unable to encapsulate their ideas through a *degree* of belief.\n",
      "\n",
      "We often use language to express the compression of a complex behavior or patterns in a simpler way, for example we talk about motives as a useful distallation for a perhaps very complex patter of behavior. In physics we use principles of causation and simple laws to describe the world around us. Such motives or underlying principles are difficult to observe directly, our conclusions about them emerge over a period of time by observing indirect consequences of the latent variables.\n",
      "\n",
      "Epistemic uncertainty allows us to deal with these worries by associating our degree of belief about the state of the world with a probaiblity distribution. This core idea underpins state space modelling, probabilistic graphical models and the wider field of latent variable modelling. In this session we are going to explore the idea in a simple linear system and see how it relates to *factor analysis* and *principal component analysis*.\n",
      "\n",
      "## Your Personality\n",
      "\n",
      "At the beginning of the 20th century there was a great deal of interest amoungst psychologists in formalizing patterns of thought. The approach they used became known as factor analysis. The principle is that we observe a potentially high dimensional vector of characteristics about an individual. To formalize this, social scientists designed questionaires. We can envisage many questions that we may ask, but the assumption is that underlying these questions there are only a few traits that dictate the behavior. These models are known as latent trait models and the analysis is sometimes known as factor analysis. The idea is that there are a few characteristic traits that we are looking to discern. These traits or factors can be extracted by assimilating the high dimensional characteristics of the individual into a few latent factors. \n",
      "\n",
      "### Factor Analysis Model\n",
      "\n",
      "This causes us to consider a model as follows, if we are given a high dimensional vector of features (perhaps questionaire answers) associated with an individual, $\\mathbf{y}$, we assume that these factors are actually generated from a low dimensional vector latent traits, or latent variables, which determine the personality.\n",
      "$$\n",
      "\\mathbf{y} = \\mathbf{f}(\\mathbf{x}) + \\boldsymbol{\\epsilon}\n",
      "$$\n",
      "where \\mathbf{f}(\\mathbf{x}) is a *vector valued* function that is dependent on the latent traits and $\\boldsymbol{\\epsilon}$ is some corrupting noise. For simplicity, we assume that the function is given by a *linear* relationship,\n",
      "$$\n",
      "\\mathbf{f}(\\mathbf{x}) = \\mathbf{W}\\mathbf{x}\n",
      "$$\n",
      "where we have introduced a matrix $\\mathbf{W}$ that is sometimes referred to as the *factor loadings* but we also immediately see is related to our *multivariate linear regression* models from the [previous session on linear regression](./week3.ipynb). That is because our vector valued function is of the form\n",
      "$$\n",
      "\\mathbf{f}(\\mathbf{x}) = \\begin{bmatrix} f_1(\\mathbf{x}) \\\\ f_1(\\mathbf{x}) \\\\ \\vdots \\\\ f_p(\\mathbf{x})\\end{bmatrix}\n",
      "$$\n",
      "where there are $p$ features associated with the individual. If we consider any of these functions individually we have a prediction function that looks like a regression model,\n",
      "$$\n",
      "f_j(\\mathbf{x}) = \\mathbf{w}_{j, :}^\\top \\mathbf{x},\n",
      "$$\n",
      "for each element of the vector valued function, where $\\mathbf{w}_{:, j}$ is the $j$th column of the matrix $\\mathbf{W}$. In that context each column of $\\mathbf{W}$ is a vector of *regression weights*. This is a multiple input and multiple output regression. Our inputs (or covariates) have dimensionality greater than 1 and our outputs (or response variables) also have dimensionality greater than one. Just as in a standard regression, we are assuming that we don't observe the function directly (note that this *also* makes the function a *type* of latent variable), but we observe some corrupted variant of the function, where the corruption is given by $\\boldsymbol{\\epsilon}$. Just as in linear regression we can assume that this corruption is given by Gaussian noise, where the noise for the $j$th element of $\\mathbf{y}$ is by,\n",
      "$$\n",
      "\\epsilon_j \\sim \\mathcal{N}(0, \\sigma^2_j).\n",
      "$$\n",
      "Of course, just as in a regression problem we also need to make an assumption across the individual data points to form our full likelihood. Our data set now consists of many observations of $\\mathbf{y}$ for diffetent individuals. We store these observations in a *design matrix*, $\\mathbf{Y}$, where each *row* of $\\mathbf{Y}$ contains the observation for one individual. To emphasize that $\\mathbf{y}$ is a vector derived from a row of $\\mathbf{Y}$ we represent the observation of the features associated with the $i$th individual by $\\mathbf{y}_{i, :}$, and place each individual in our data matrix,\n",
      "$$\n",
      "\\mathbf{Y} = \\begin{bmatrix} \\mathbf{y}_{1, :}^\\top \\\\ \\mathbf{y}_{2, :}^\\top \\\\ \\vdots \\\\ \\mathbf{y}_{n, :}^\\top\\end{bmatrix},\n",
      "$$\n",
      "where we have $n$ data points. Our data matrix therefore has $n$ rows and $p$ columns. The point to notice here is that each data obsesrvation appears as a row vector in the design matrix (thus the transpose operation inside the brackets). Our prediction functions are now actually a *matrix value* function, \n",
      "$$\n",
      "\\mathbf{F} = \\mathbf{X}\\mathbf{W},\n",
      "$$\n",
      "where for each matrix the data points are in the rows and the data features are in the columns. This implies that if we have $q$ inputs to the function we have $\\mathbf{F}\\in \\Re^{n\\times p}$, $\\mathbf{W} \\in \\Re^{q \\times p}$ and $\\mathbf{X} \\in \\Re^{n\\times q}$."
     ]
    },
    {
     "cell_type": "markdown",
     "metadata": {},
     "source": [
      "### Assignment Question 1\n",
      "\n",
      "Show that, given all the definitions above, if,\n",
      "$$\n",
      "\\mathbf{F} = \\mathbf{X}\\mathbf{W}^\\top\n",
      "$$\n",
      "and the elements of the vector valued function $\\mathbf{F}$ are given by \n",
      "$$\n",
      "f_{i, j} = f_j(\\mathbf{x}_{i, :}),\n",
      "$$\n",
      "where $\\mathbf{x}_{i, :}$ is the $i$th row of the latent variables, $\\mathbf{X}$, then show that\n",
      "$$\n",
      "f_j(\\mathbf{x}_{i, :}) = \\mathbf{w}_{j, :}^\\top \\mathbf{x}_{i, :}\n",
      "$$\n",
      "\n",
      "*5 marks*"
     ]
    },
    {
     "cell_type": "markdown",
     "metadata": {},
     "source": [
      "#### Question 1 Answer\n",
      "\n",
      "Write your answer to the question in this box."
     ]
    },
    {
     "cell_type": "markdown",
     "metadata": {},
     "source": [
      "## Latent Variables\n",
      "\n",
      "The difference between this model and a multiple output regression is that in the regression case we are provided with the covariates $\\mathbf{X}$, here they are *latent variables*. These variables are unknown. \n",
      "\n",
      "Just as we have done in the past for unknowns, we now treat them with a probability distribution. In *factor analysis* we assume that the latent variables have a Gaussian density which is independent across both across the latent variables associated with the different data points, and across those associated with different data features, so we have,\n",
      "$$\n",
      "x_{i,j} \\sim \\mathcal{N}(0, 1),\n",
      "$$\n",
      "and we can write the density governing the latent variable associated with a single point as,\n",
      "$$\n",
      "\\mathbf{x}_{i, :} \\sim \\mathcal{N}(\\mathbf{0}, \\mathbf{I}).\n",
      "$$\n",
      "If we consider the values of the function for the $i$th data point as\n",
      "$$\n",
      "\\mathbf{f}_{i, :} = \\mathbf{f}(\\mathbf{x}_{i, :}) = \\mathbf{W}\\mathbf{x}_{i, :} \n",
      "$$\n",
      "then we can use the rules for multivariate Gaussian relationships to write that\n",
      "$$\n",
      "\\mathbf{f}_{i, :} \\sim \\mathcal{N}(\\mathbf{0}, \\mathbf{W}\\mathbf{W}^\\top)\n",
      "$$\n",
      "which implies that the distribution for $\\mathbf{y}_{i, :}$ is given by\n",
      "$$\n",
      "\\mathbf{y}_{i, :} = \\sim \\mathcal{N}(\\mathbf{0}, \\mathbf{W}\\mathbf{W}^\\top + \\boldsymbol{\\Sigma})\n",
      "$$\n",
      "where $\\boldsymbol{\\Sigma}$ the covariance of the noise variable, $\\epsilon_{i, :}$ which for factor analysis is a diagonal matrix (because we have assumed that the noise was *independent* across the features),\n",
      "$$\n",
      "\\boldsymbol{\\Sigma} = \\begin{bmatrix}\\sigma^2_{1} & 0 & 0 & 0\\\\\n",
      "                                     0 & \\sigma^2_{2} & 0 & 0\\\\\n",
      "                                     0 & 0 & \\ddots & 0\\\\\n",
      "                                     0 & 0 & 0 & \\sigma^2_p\\end{bmatrix}.\n",
      "$$\n",
      "For completeness, we could also add in a *mean* for the data vector $\\boldsymbol{\\mu}$, \n",
      "$$\n",
      "\\mathbf{y}_{i, :} = \\mathbf{W}^\\top \\mathbf{x}_{i, :} + \\boldsymbol{\\mu} + \\boldsymbol{\\epsilon}_{i, :}\n",
      "$$\n",
      "which would give our marginal distribution for $\\mathbf{y}_{i, :}$ a mean $\\boldsymbol{\\mu}$. However, the maximum likelihood solution for $\\boldsymbol{\\mu}$ turns out to equal the empirical mean of the data,\n",
      "$$\n",
      "\\boldsymbol{\\mu} = \\frac{1}{n} \\sum_{i=1}^n \\mathbf{y}_{i, :},\n",
      "$$\n",
      "*regardless* of the form of the covariance, $\\mathbf{C} = \\mathbf{W}\\mathbf{W}^\\top + \\boldsymbol{\\Sigma}$. As a result it is very common to simply preprocess the data and ensure it is zero mean. We will follow that convention for this session.\n",
      "\n",
      "The prior density over latent variables is independent, and the likelihood is independent, that means that the marginal likelihood here is also independent over the data points. \n",
      "                                     \n",
      "Factor analysis was developed mainly in psychology and the social sciences for understanding personality and intelligence. [Charles Spearman](http://en.wikipedia.org/wiki/Charles_Spearman) was concerned with the measurements of \"the abilities of man\" and is credited with the earliest version of factor analysis.                                    \n",
      "                                   \n",
      "## Principal Component Analysis\n",
      "\n",
      "In 1933 [Harold Hotelling](http://en.wikipedia.org/wiki/Harold_Hotelling) published on *principal component analysis* the first mention of this approach. Hotelling's inspiration was to provide mathematical foundation for factor analysis methods that were by then widely used within psychology and the social sciences. His model was a factor analysis model, but he considered the noiseless 'limit' of the model. In other words he took $\\sigma^2_i \\rightarrow 0$ so that he had\n",
      "$$\n",
      "\\mathbf{y}_{i, :} \\sim \\lim_{\\sigma^2 \\rightarrow 0} \\mathcal{N}(\\mathbf{0}, \\mathbf{W}\\mathbf{W}^\\top + \\sigma^2 \\mathbf{I}).\n",
      "$$\n",
      "The paper had two unfortunate effects. Firstly, the resulting model is no longer valid probablistically, because the covariance of this Gaussian is 'degenerate'. Because $\\mathbf{W}\\mathbf{W}^\\top$ has rank of at most $q$ where $q<p$ (due to the dimensionality reduction) the determinant of the covariance is zero, meaning the inverse doesn't exist so the density,\n",
      "$$\n",
      "p(\\mathbf{y}_{i, :}|\\mathbf{W}) = \\lim_{\\sigma^2 \\rightarrow 0} \\frac{1}{(2\\pi)^\\frac{p}{2} |\\mathbf{W}\\mathbf{W}^\\top + \\sigma^2 \\mathbf{I}|^{-1}} \\exp\\left(-\\frac{1}{2}\\mathbf{y}_{i, :}\\left[\\mathbf{W}\\mathbf{W}^\\top+ \\sigma^2 \\mathbf{I}\\right]^{-1}\\mathbf{y}_{i, :}\\right),\n",
      "$$\n",
      "is *not* valid for $q$<$p$ (where $\\mathbf{W}\\in \\Re^{p\\times q}$). Secondly, Hotelling explicity chose to rename factor analysis as principal component analysis, arguing that the factors social scientist sought were different in nature to the concept of a mathematical factor. This was unfortunate because the factor loadings, $\\mathbf{W}$ can also be seen as factors in the mathematical sense because the model Hotelling defined is a Gaussian model with covariance given by $\\mathbf{C} = \\mathbf{W}\\mathbf{W}^\\top$ so $\\mathbf{W}$ is a *factor* of the covariance in the mathematical sense, as well as a factor loading. \n",
      "\n",
      "However, the paper had one great advantage over standard approaches to factor analysis. Despite the fact that the model was a special case that is subsumed by the more general approach of factor analysis it is this special case that leads to a particular algorithm, namely that the factor loadings (or principal components as Hotelling referred to them) are given by an *eigenvalue decomposition* of the empirical covariance matrix.\n",
      "\n",
      "## Eigenvalue Decomposition\n",
      "\n",
      "Eigenvalue problems are widespreads in physics and mathematics, they are often written as a matrix/vector equation but we prefer to write them as a full matrix equation. In an eigenvalue problem you are looking to find a matrix of eigenvectors, $\\mathbf{U}$ and a *diagonal* matrix of eigenvalues, $\\boldsymbol{\\Lambda}$ that satisfy the *matrix* equation\n",
      "$$\n",
      "\\mathbf{A}\\mathbf{U} = \\mathbf{U}\\boldsymbol{\\Lambda}.\n",
      "$$\n",
      "where $\\mathbf{A}$ is your matrix of interest. This equation is not trivially solvable through matrix inverse because matrix multiplication is not [commutative](http://en.wikipedia.org/wiki/Commutative_property), so premultiplying by $\\mathbf{U}^{-1}$ gives\n",
      "$$\n",
      "\\mathbf{U}^{-1}\\mathbf{A}\\mathbf{U} = \\boldsymbol{\\Lambda}, \n",
      "$$\n",
      "where we remember that $\\boldsymbol{\\Lambda}$ is a *diagonal* matrix, so the eigenvectors can be used to *diagonalise* the matrix. When performing the eigendecomposition on a Gaussian covariances, diagonalisation is very important because it returns the covariance to a form where there is no correlation between points. \n",
      "\n",
      "### Positive Definite\n",
      "\n",
      "We are interested in the case where $\\mathbf{A}$ is a covariance matrix, which implies it is *positive definite*. A positive definite matrix is one for which the inner product,\n",
      "$$\n",
      "\\mathbf{w}^\\top \\mathbf{C}\\mathbf{w}\n",
      "$$\n",
      "is positive for *all* values of the vector $\\mathbf{w}$ other than the zero vector. One way of creating a positive definite matrix is to assume that the symmetric and positive definite matrix $\\mathbf{C}\\in \\Re^{p\\times p}$ is factorised into, $\\mathbf{A}in \\Re^{p\\times p}$, a *full rank* matrix, so that\n",
      "$$\n",
      "\\mathbf{C} = \\mathbf{A}^\\top \\mathbf{A}.\n",
      "$$\n",
      "This ensures that $\\mathbf{C}$ must be positive definite because\n",
      "$$\n",
      "\\mathbf{w}^\\top \\mathbf{C}\\mathbf{w}=\\mathbf{w}^\\top \\mathbf{A}^\\top\\mathbf{A}\\mathbf{w} \n",
      "$$\n",
      "and if we now define a new *vector* $\\mathbf{b}$ as\n",
      "$$\n",
      "\\mathbf{b} = \\mathbf{A}\\mathbf{w}\n",
      "$$\n",
      "we can now rewrite as\n",
      "$$\n",
      "\\mathbf{w}^\\top \\mathbf{C}\\mathbf{w} = \\mathbf{b}^\\top\\mathbf{b} = \\sum_{i} b_i^2\n",
      "$$\n",
      "which, since it is a sum of squares, is positive or zero. The constraint that $\\mathbf{A}$ must be *full rank* ensures that there is no vector $\\mathbf{w}$, other than the zero vector, which causes the vector $\\mathbf{b}$ to be all zeros. \n",
      "\n"
     ]
    },
    {
     "cell_type": "markdown",
     "metadata": {},
     "source": [
      "### Assignment Question 2\n",
      "\n",
      "If $\\mathbf{C}=\\mathbf{A}^\\top \\mathbf{A}$ then express $c_{i,j}$, the value of the element at the $i$th row and the $j$th column of $\\mathbf{C}$, in terms of the columns of $\\mathbf{A}$. Use this to show that (i) the matrix is symmetric and (ii) the matrix has positive elements along its diagonal.\n",
      "\n",
      "*10 marks*"
     ]
    },
    {
     "cell_type": "markdown",
     "metadata": {},
     "source": [
      "#### Question 2 Answer\n",
      "\n",
      "Write your answer to the question in this box."
     ]
    },
    {
     "cell_type": "markdown",
     "metadata": {},
     "source": [
      "## Eigenvectors of a Symmetric Matric\n",
      "\n",
      "Symmetric matrices have *orthonormal* eigenvectors. This means that $\\mathbf{U}$ is an [orthogonal matrix](http://en.wikipedia.org/wiki/Orthogonal_matrix), $\\mathbf{U}^\\top\\mathbf{U} = \\mathbf{I}$. This implies that $\\mathbf{u}_{:, i} ^\\top \\mathbf{:, j}$ is equal to 0 if $i\\neq j$ and 1 if $i=j$. "
     ]
    },
    {
     "cell_type": "markdown",
     "metadata": {},
     "source": [
      "## Probabilistic PCA\n",
      "\n",
      "In 1997 [Tipping and Bishop](http://research.microsoft.com/pubs/67218/bishop-ppca-jrss.pdf)  and [Roweis](https://www.cs.nyu.edu/~roweis/papers/empca.pdf) independently revisited Hotelling's model and considered the case where the noise variance was finite, but *shared* across all output dimensons. Their model can be thought of as a factor analysis where\n",
      "$$\n",
      "\\boldsymbol{\\Sigma} = \\sigma^2 \\mathbf{I}.\n",
      "$$\n",
      "This leads to a marginal likelihood of the form\n",
      "$$\n",
      "p(\\mathbf{Y}|\\mathbf{W}, \\sigma^2) = \\prod_{i=1}^n\\mathcal{N}(\\mathbf{y}_{i, :} | \\mathbf{0}, \\mathbf{W}\\mathbf{W}^\\top \\sigma^2 \\mathbf{I})\n",
      "$$\n",
      "where the limit of $\\sigma^2\\rightarrow 0$ is *not* taken. This defines a proper probabilistic model. Tippping and Bishop then went on to prove that the *maximum likelihood* solution of this model with respect to $\\mathbf{W}$ is given by an eigenvalue problem. In the probabilistic PCA case the eigenvalues and eigenvectors are given as follows. \n",
      "$$\n",
      "\\mathbf{W} = \\mathbf{U}\\mathbf{L} \\mathbf{R}^\\top\n",
      "$$\n",
      "where $\\mathbf{U}$ is the eigenvectors of the empirical covariance matrix \n",
      "$$\n",
      "\\mathbf{S} = \\sum_{i=1}^n (\\mathbf{y}_{i, :} - \\boldsymbol{\\mu})(\\mathbf{y}_{i, :} - \\boldsymbol{\\mu})^\\top,\n",
      "$$ \n",
      "which can be written $\\mathbf{S} = \\frac{1}{n} \\mathbf{Y}^\\top\\mathbf{Y}$ if the data is zero mean. The matrix $\\mathbf{L}$ is diagonal and is dependent on the *eigenvalues* of $\\mathbf{S}$, $\\boldsymbol{\\Lambda}$. If the $i$th diagonal element of this matrix is given by $\\lambda_i$ then the corresponding element of $\\mathbf{L}$ is \n",
      "$$\n",
      "\\ell_i = \\sqrt{\\lambda_i - \\sigma^2}\n",
      "$$\n",
      "where $\\sigma^2$ is the noise variance. Note that if $\\sigma^2$ is larger than any particular eigenvalue, then that eigenvalue (along with its corresponding eigenvector) is *discarded* from the solution. "
     ]
    },
    {
     "cell_type": "markdown",
     "metadata": {},
     "source": [
      "## Posterior for Principal Component Analysis\n",
      "\n",
      "Under the latent variable model justification for principal component analysis, we are normally interested in inferring something about the latent variables given the data. This is the distribution,\n",
      "$$\n",
      "p(\\mathbf{x}_{i, :} | \\mathbf{y}_{i, :})\n",
      "$$\n",
      "for any given data point. Determining this density turns out to be very similar to the approach for determining the Bayesian posterior of $\\mathbf{w}$ in Bayesian linear regression, only this time we place the prior density over $\\mathbf{x}_{i, :}$ instead of $\\mathbf{w}$. \n"
     ]
    },
    {
     "cell_type": "code",
     "collapsed": false,
     "input": [
      "import pods\n",
      "data=pods.datasets.spellman_yeast()"
     ],
     "language": "python",
     "metadata": {},
     "outputs": [],
     "prompt_number": 2
    },
    {
     "cell_type": "code",
     "collapsed": false,
     "input": [
      "import pandas as pd\n",
      "pd.\n"
     ],
     "language": "python",
     "metadata": {},
     "outputs": [
      {
       "ename": "AttributeError",
       "evalue": "'module' object has no attribute 'fi'",
       "output_type": "pyerr",
       "traceback": [
        "\u001b[0;31m---------------------------------------------------------------------------\u001b[0m\n\u001b[0;31mAttributeError\u001b[0m                            Traceback (most recent call last)",
        "\u001b[0;32m<ipython-input-6-82bc28d28294>\u001b[0m in \u001b[0;36m<module>\u001b[0;34m()\u001b[0m\n\u001b[1;32m      1\u001b[0m \u001b[0;32mimport\u001b[0m \u001b[0mpandas\u001b[0m \u001b[0;32mas\u001b[0m \u001b[0mpd\u001b[0m\u001b[0;34m\u001b[0m\u001b[0m\n\u001b[0;32m----> 2\u001b[0;31m \u001b[0mpd\u001b[0m\u001b[0;34m.\u001b[0m\u001b[0mfi\u001b[0m\u001b[0;34m\u001b[0m\u001b[0m\n\u001b[0m",
        "\u001b[0;31mAttributeError\u001b[0m: 'module' object has no attribute 'fi'"
       ]
      }
     ],
     "prompt_number": 6
    },
    {
     "cell_type": "code",
     "collapsed": false,
     "input": [
      "pd"
     ],
     "language": "python",
     "metadata": {},
     "outputs": []
    }
   ],
   "metadata": {}
  }
 ]
}