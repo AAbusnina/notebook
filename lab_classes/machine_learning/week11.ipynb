{
 "metadata": {
  "name": "",
  "signature": "sha256:63e3bc6c2fac9710e3b31245d4df68778ea077d67b039fa815cf2409f7514216"
 },
 "nbformat": 3,
 "nbformat_minor": 0,
 "worksheets": [
  {
   "cells": [
    {
     "cell_type": "markdown",
     "metadata": {},
     "source": [
      "# Review Week: Exam Practice\n",
      "\n",
      "### 9th December 2014 Neil D. Lawrence"
     ]
    }
   ],
   "metadata": {}
  }
 ]
}