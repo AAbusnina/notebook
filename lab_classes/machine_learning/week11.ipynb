{
 "metadata": {
  "name": "",
  "signature": "sha256:db1fa3bcb3861acae3a8d9c33a7aa8462d1d8702c2c66652e6fb46158ace7ddf"
 },
 "nbformat": 3,
 "nbformat_minor": 0,
 "worksheets": [
  {
   "cells": [
    {
     "cell_type": "markdown",
     "metadata": {},
     "source": [
      "# Review Week: Exam Practice\n",
      "\n",
      "### 9th December 2014 Neil D. Lawrence"
     ]
    },
    {
     "cell_type": "code",
     "collapsed": false,
     "input": [],
     "language": "python",
     "metadata": {},
     "outputs": []
    }
   ],
   "metadata": {}
  }
 ]
}