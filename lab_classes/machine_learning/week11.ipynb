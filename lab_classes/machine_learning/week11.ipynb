{
 "metadata": {
  "name": "",
  "signature": "sha256:14cd8723a66bb0d1d69b402326a2e88671ba5b343520acca66859e6ae2b17828"
 },
 "nbformat": 3,
 "nbformat_minor": 0,
 "worksheets": [
  {
   "cells": [
    {
     "cell_type": "markdown",
     "metadata": {},
     "source": [
      "# Week 11: Reading Week\n",
      "\n",
      "### 9th December 2014\n",
      "\n",
      "This week you should focus on exam practice which will involve looking at some past questions."
     ]
    },
    {
     "cell_type": "code",
     "collapsed": false,
     "input": [],
     "language": "python",
     "metadata": {},
     "outputs": []
    }
   ],
   "metadata": {}
  }
 ]
}