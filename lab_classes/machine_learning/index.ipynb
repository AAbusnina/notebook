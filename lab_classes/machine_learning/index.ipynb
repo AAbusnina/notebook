{
 "metadata": {
  "name": "",
  "signature": "sha256:9dd1d2c513152d9d392aa08e169398b8519c06d07cbf6fa785487d983eee7213"
 },
 "nbformat": 3,
 "nbformat_minor": 0,
 "worksheets": [
  {
   "cells": [
    {
     "cell_type": "markdown",
     "metadata": {},
     "source": [
      "# Machine Learning and Adaptive Intelligence \n",
      "\n",
      "## Neil D. Lawrence\n",
      "\n",
      "For lab classes from 2013-14 please see [here](./2013-14/index.ipynb)\n",
      "\n",
      "Welcome to the COM4509/6509 Course on \"Machine Learning and Adaptive Intelligence\". This year the course has undergone a slight shift of focus relative to last year, in particular we will be introducing more emphasis on practical techniques for processing data using the Jupyter Notebook.\n",
      "\n",
      "The lecture notes will all be given in the form of Jupyter Notebooks and are available below. \n",
      "\n",
      "* [Week 1](./week1.ipynb) Probability and an Introduction to the Jupyter Notebook, python and Pandas. \n",
      "* [Week 2](./week2.ipynb) Objective Functions: a simple example with matrix factorisation.\n",
      "* [Week 3](./week3.ipynb) Linear Algebra and Linear Regression\n",
      "* [Week 4](./week4.ipynb) Basis Functions\n",
      "* Week 5 Reading Week\n",
      "* [Week 6](./week6.ipynb) Model checking: training, testing and validation\n",
      "* [Week 7](./week7.ipynb) Bayesian Regression\n",
      "* [Week 8](./week8.ipynb) Dimensionality Reduction: Latent Variable Modelling\n",
      "* [Week 9](./week9.ipynb) Probabilistic Classification with Logistic Regression\n",
      "* [Week 10](./week10.ipynb) Special Topic: Gaussian Processes\n",
      "\n",
      "Special topics are likely to be one or more of Gaussian processes, large scale learning and Support Vector Machines."
     ]
    },
    {
     "cell_type": "code",
     "collapsed": false,
     "input": [],
     "language": "python",
     "metadata": {},
     "outputs": []
    }
   ],
   "metadata": {}
  }
 ]
}