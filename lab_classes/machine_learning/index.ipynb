{
 "metadata": {
  "name": "",
  "signature": "sha256:2dcd747c1a032b8e4d8be931ca2f012e672576c2a26786578726e7c4f82c714c"
 },
 "nbformat": 3,
 "nbformat_minor": 0,
 "worksheets": [
  {
   "cells": [
    {
     "cell_type": "markdown",
     "metadata": {},
     "source": [
      "# Machine Learning and Adaptive Intelligence \n",
      "\n",
      "## Neil D. Lawrence\n",
      "\n",
      "For lab classes from 2013-14 please see [here](./2013-14/index.ipynb)\n",
      "\n",
      "Welcome to the COM4509/6509 Course on \"Machine Learning and Adaptive Intelligence\". This year the course has undergone a slight shift of focus relative to last year, in particular we will be introducing more emphasis on practical techniques for processing data using the Jupyter Notebook.\n",
      "\n",
      "The lecture notes will all be given in the form of Jupyter Notebooks and are available below. \n",
      "\n",
      "* [Week 1](./week1.ipynb) Naive Bayes and an Introduction to the Jupyter Notebook, python and Pandas. \n",
      "* [Week 2](./week2.ipynb) Objective Functions: a simple example with matrix factorisation.\n",
      "* [Week 3](./week3.ipynb) Linear Algebra and Linear Regression\n",
      "* [Week 4](./week4.ipynb) Model checking: training, testing and validation.\n",
      "* [Week 5](./week5.ipynb) Probabilistic Interpretations of Objective Functions: Linear Regression.\n",
      "* [Week 6](./week6.ipynb) Classification with Logistic Regression\n",
      "* [Week 7](./week7.ipynb) Dimensionality Reduction: Latent Variable Modelling\n",
      "* [Week 8](./week8.ipynb) Special Topics I: Large Scale Learning\n",
      "* [Week 9](./week9.ipynb) Special Topics II: Support Vector Machines\n",
      "* [Week 10](./week10.ipynb) Special Topics III: \n",
      "\n",
      "Linear regression in python with numpy.\n",
      "\n",
      "* [Lab Class 3](./MLAI_lab3.ipynb)\n",
      "\n",
      "Generalization: training sets and test sets, validation.\n",
      "\n",
      "* [Lab Class 4](./MLAI_lab4.ipynb)\n",
      "\n",
      "Bayesian approaches.\n",
      "\n",
      "* [Lab Class 5](./MLAI_lab5.ipynb)\n",
      "\n",
      "Gaussian process models."
     ]
    },
    {
     "cell_type": "code",
     "collapsed": false,
     "input": [],
     "language": "python",
     "metadata": {},
     "outputs": []
    }
   ],
   "metadata": {}
  }
 ]
}