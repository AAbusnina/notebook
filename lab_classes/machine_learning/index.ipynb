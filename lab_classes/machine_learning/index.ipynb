{
 "metadata": {
  "name": "",
  "signature": "sha256:ed27effda9b7b440fd1e957620e21ba1776a2b62958b2587047d7a4f4dc4576f"
 },
 "nbformat": 3,
 "nbformat_minor": 0,
 "worksheets": [
  {
   "cells": [
    {
     "cell_type": "markdown",
     "metadata": {},
     "source": [
      "# Machine Learning and Adaptive Intelligence \n",
      "\n",
      "## Neil D. Lawrence\n",
      "\n",
      "For lab classes from 2013-14 please see [here](./2013-14/index.ipynb)\n",
      "\n",
      "Welcome to the COM4509/6509 Course on \"Machine Learning and Adaptive Intelligence\". This year the course has undergone a slight shift of focus relative to last year, in particular we will be introducing more emphasis on practical techniques for processing data using the Jupyter Notebook.\n",
      "\n",
      "The lecture notes will all be given in the form of Jupyter Notebooks and are available below. \n",
      "\n",
      "* [Week 1](./week1.ipynb) Probability and an Introduction to the Jupyter Notebook, python and Pandas. \n",
      "* [Week 2](./week2.ipynb) Objective Functions: a simple example with matrix factorisation.\n",
      "* [Week 3](./week3.ipynb) Linear Algebra and Linear Regression\n",
      "* [Week 4](./week4.ipynb) Basis Functions\n",
      "* Week 5 Reading Week\n",
      "* [Week 6](./week6.ipynb) Model checking: training, testing and validation\n",
      "* [Week 7](./week7.ipynb) Bayesian Regression\n",
      "* [Week 8](./week8.ipynb) Dimensionality Reduction: Latent Variable Modelling\n",
      "* [Week 9](./week9.ipynb) Probabilistic Classification \n",
      "* [Week 10](./week11.ipynb) Logistic Regression and Generalised Linear Models\n",
      "* Week 11 Reading Week\n",
      "* [Week 12](./week12.ipynb) Special Topic: Gaussian Processes\n",
      "\n"
     ]
    },
    {
     "cell_type": "code",
     "collapsed": false,
     "input": [],
     "language": "python",
     "metadata": {},
     "outputs": []
    }
   ],
   "metadata": {}
  }
 ]
}