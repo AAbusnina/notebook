{
 "metadata": {
  "name": "",
  "signature": "sha256:6e9c747d00b55b7ce9d249e1ee8bbf58b8a1bbe570287576c8cf2ee73b858d8c"
 },
 "nbformat": 3,
 "nbformat_minor": 0,
 "worksheets": [
  {
   "cells": [
    {
     "cell_type": "markdown",
     "metadata": {},
     "source": [
      "# Dimensionality Reduction: Latent Variable Modelling\n",
      "\n",
      "### 25th November 2014 Neil D. Lawrence"
     ]
    },
    {
     "cell_type": "code",
     "collapsed": false,
     "input": [],
     "language": "python",
     "metadata": {},
     "outputs": []
    }
   ],
   "metadata": {}
  }
 ]
}