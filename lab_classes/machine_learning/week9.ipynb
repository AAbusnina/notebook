{
 "metadata": {
  "name": "",
  "signature": "sha256:a86b923b4e7ab61999cf93565736087c0858685368aa7e66fa46d5523b8d1fce"
 },
 "nbformat": 3,
 "nbformat_minor": 0,
 "worksheets": [
  {
   "cells": [
    {
     "cell_type": "markdown",
     "metadata": {},
     "source": [
      "# Probabilistic Classification with Logistic Regression\n",
      "\n",
      "### 25th November 2014 Neil D. Lawrence"
     ]
    },
    {
     "cell_type": "code",
     "collapsed": false,
     "input": [],
     "language": "python",
     "metadata": {},
     "outputs": []
    }
   ],
   "metadata": {}
  }
 ]
}