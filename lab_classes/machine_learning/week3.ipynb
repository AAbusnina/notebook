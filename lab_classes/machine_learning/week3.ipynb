{
 "metadata": {
  "name": "",
  "signature": "sha256:a73da4562489f364c3f4dbd874696bfa8c9ae567a5569df0f01ca06ecdccbf48"
 },
 "nbformat": 3,
 "nbformat_minor": 0,
 "worksheets": [
  {
   "cells": [
    {
     "cell_type": "markdown",
     "metadata": {},
     "source": [
      "# Linear Algebra and Linear Regression\n",
      "\n",
      "### 14th October 2014 Neil Lawrence"
     ]
    },
    {
     "cell_type": "markdown",
     "metadata": {},
     "source": [
      "### Open Data Science Software\n",
      "\n",
      "First let's refresh your local copy of the open data science software just to ensure you can access the data."
     ]
    },
    {
     "cell_type": "code",
     "collapsed": false,
     "input": [
      "# download the software\n",
      "import urllib\n",
      "\n",
      "urllib.urlretrieve('https://github.com/sods/ods/archive/master.zip', 'master.zip')\n",
      "\n",
      "# unzip the software\n",
      "import zipfile\n",
      "zip = zipfile.ZipFile('./master.zip', 'r')\n",
      "for name in zip.namelist():\n",
      "    zip.extract(name, '.')\n",
      "\n",
      "# add the module location to the python path.    \n",
      "import sys\n",
      "sys.path.append(\"./ods-master/\")"
     ],
     "language": "python",
     "metadata": {},
     "outputs": [],
     "prompt_number": 1
    },
    {
     "cell_type": "code",
     "collapsed": false,
     "input": [
      "#import pods\n",
      "#pods.notebook.code_toggle()"
     ],
     "language": "python",
     "metadata": {},
     "outputs": [],
     "prompt_number": 2
    },
    {
     "cell_type": "markdown",
     "metadata": {},
     "source": [
      "\n",
      "## Sum of Squares Error\n",
      "\n",
      "Last week we considered a cost function for minimization of the error. We considered items (films) and users and assumed that each movie rating, $y_{i,j}$ could be summarised by an inner product between a vector associated with the item, $\\mathbf{v}_j$ and one associated with the user $\n",
      "\\mathbf{u}_i$. We justified the inner product as a measure of similarity in the space of 'movie subjects', where both the users and the items lived, giving the analogy of a library.\n",
      "\n",
      "To make predictions we encouraged the similarity to be high if the movie rating was high using the quadratic error function,\n",
      "$$\n",
      "E_{i,j}(\\mathbf{u}_i, \\mathbf{v}_j) = \\left(\\mathbf{u}_i^\\top \\mathbf{v}_j - y_{i,j}\\right)^2,\n",
      "$$\n",
      "which we then summed across all the observations to form the total error\n",
      "$$\n",
      "E(\\mathbf{U}, \\mathbf{V}) = \\sum_{i,j}s_{i,j}\\left(\\mathbf{u}_i^\\top \\mathbf{v}_j - y_{i,j}\\right)^2,\n",
      "$$\n",
      "where $s_{i,j}$ is an indicator variable which is set to 1 if the rating of movie $j$ by user $i$ is provided in our data set. \n",
      "\n",
      "This is known as a sum of squares error. Minimizing it was first proposed by [Legendre](http://en.wikipedia.org/wiki/Adrien-Marie_Legendre) in 1805. His book, which was on the orbit of comets, is available on google books, we can take a look at the relevant page by calling the code below. "
     ]
    },
    {
     "cell_type": "code",
     "collapsed": false,
     "input": [
      "import pods\n",
      "pods.notebook.display_google_book(id='spcAAAAAMAAJ', page=72) "
     ],
     "language": "python",
     "metadata": {},
     "outputs": [
      {
       "html": [
        "<iframe frameborder=\"0\" scrolling=\"yes\" style=\"border:0px\" src=\"http://books.google.co.uk/books?id=spcAAAAAMAAJ&pg=PA72&output=embed\", width=700 height=500></iframe>"
       ],
       "metadata": {},
       "output_type": "display_data",
       "text": [
        "<IPython.core.display.HTML at 0x103c1c4d0>"
       ]
      }
     ],
     "prompt_number": 3
    },
    {
     "cell_type": "markdown",
     "metadata": {},
     "source": [
      "Of course, the main text is in French, but hte key part we are interested in can be roughly translated as\n",
      "\n",
      "\"In most matters where we take measures data through observation, the most accurate results they can offer, it is almost always leads to a system of equations of the form\n",
      "$$E = a + bx + cy + fz + etc .$$\n",
      "where a, b, c, f etc are the known coefficients and  x , y, z etc are unknown and must be determined by the condition that the value of E is reduced, for each equation, to an amount or zero or very small.\"\n",
      "\n",
      "He continues\n",
      "\n",
      "\"Of all the principles that we can offer for this item, I think it is not broader, more accurate, nor easier than the one we have used in previous research application, and that is to make the minimum sum of the squares of the errors. By this means, it is between the errors a kind of balance that prevents extreme to prevail, is very specific to make known the state of the closest to the truth system. The sum of the squares of the errors $E^2 + \\left.E^\\prime\\right.^2 + \\left.E^{\\prime\\prime}\\right.^2 + etc$ being\n",
      "\\begin{align*}   &(a + bx + cy + fz + etc)^2 \\\\\n",
      "+ &(a^\\prime + b^\\prime x + c^\\prime y + f^\\prime z + etc ) ^2\\\\\n",
      "+ &(a^{\\prime\\prime} + b^{\\prime\\prime}x  + c^{\\prime\\prime}y +  f^{\\prime\\prime}z + etc )^2 \\\\\n",
      "+ & etc\n",
      "\\end{align*}\n",
      "if we wanted a minimum, by varying x alone, we will have the equation ...\"\n",
      "\n",
      "This is the earliest know printed version of the problem of least squares. The notation, however, is a little awkward for mordern eyes. In particular Legendre doesn't make use of the sum sign,\n",
      "$$\n",
      "\\sum_{i=1}^3 z_i = z_1 + z_2 + z_3\n",
      "$$\n",
      "nor does he make use of the inner product. \n",
      "\n",
      "In our notation, if we were to do linear regression, we would need to subsititue:\n",
      "\\begin{align*}\n",
      "a &\\leftarrow y_1-c, \\\\ a^\\prime &\\leftarrow y_2-c,\\\\ a^{\\prime\\prime} &\\leftarrow y_3 -c,\\\\ \n",
      "\\text{etc.} \n",
      "\\end{align*}\n",
      "to introduce the data observations $\\{y_i\\}_{i=1}^{n}$ alongside $c$, the offset. We would then introduce the input locations\n",
      "\\begin{align*}\n",
      "b & \\leftarrow x_1,\\\\\n",
      "b^\\prime & \\leftarrow x_2,\\\\\n",
      "b^{\\prime\\prime} & \\leftarrow x_3\\\\\n",
      "\\text{etc.}\n",
      "\\end{align*}\n",
      "and finally the gradient of the function\n",
      "$$x \\leftarrow -m.$$\n",
      "The remaining coefficients ($c$ and $f$) would then be zero. That would give us \n",
      "\\begin{align*}   &(y_1 - (mx_1+c))^2 \\\\\n",
      "+ &(y_2 -(mx_2 + c))^2\\\\\n",
      "+ &(y_3 -(mx_3 + c))^2 \\\\\n",
      "+ & \\text{etc.}\n",
      "\\end{align*}\n",
      "which we would write in the modern notation for sums as\n",
      "$$\n",
      "\\sum_{i=1}^n (y_i-(mx_i + c))^2\n",
      "$$\n",
      "which is recognised as the sum of squares error for a linear regression.\n",
      "\n",
      "This shows the advantage of modern [summation operator](http://en.wikipedia.org/wiki/Summation), $\\sum$,  in keeping our mathematica notation compact. Whilst it may look more complicated the first time you see it, understanding the mathematical rules that go around it, allows us to go much further with the notation.\n",
      "\n",
      "Inner products (or [dot products](http://en.wikipedia.org/wiki/Dot_product)) are similar. They allow us to write\n",
      "$$\n",
      "\\sum_{i=1}^q u_i v_i\n",
      "$$\n",
      "in a more compact notation,\n",
      "$\n",
      "\\mathbf{u}\\cdot\\mathbf{v}.\n",
      "$\n",
      "\n",
      "Here we are using bold face to represent vectors, and we assume that the individual elements of a vector $\\mathbf{z}$ are given as a series of scalars\n",
      "$$\n",
      "\\mathbf{z} = \\begin{bmatrix} z_1\\\\ z_2\\\\ \\vdots\\\\ z_n \\end{bmatrix}\n",
      "$$\n",
      "which are each indexed by their position in the vector.\n",
      "\n",
      "## Linear Algebra\n",
      "\n",
      "Linear algebra provides a very similar role, when we introduce [linear algebra](http://en.wikipedia.org/wiki/Linear_algebra), it is because we are faced with a large number of addition and multiplication operations. These operations need to be done together and would be very tedious to write down as a group. So the first reason we reach for linear algebra is for a more compact representation of our mathematical formulae. "
     ]
    },
    {
     "cell_type": "markdown",
     "metadata": {},
     "source": [
      "### Running Example: Olympic Marathons\n",
      "\n",
      "Now we will load in the Olympic marathon data. This is data of the olympic marath times for the men's marathon from the first olympics in 1896 up until the London 2012 olympics."
     ]
    },
    {
     "cell_type": "code",
     "collapsed": false,
     "input": [
      "data = pods.datasets.olympic_marathon_men()\n",
      "x = data['X']\n",
      "y = data['Y']"
     ],
     "language": "python",
     "metadata": {},
     "outputs": [],
     "prompt_number": 4
    },
    {
     "cell_type": "markdown",
     "metadata": {},
     "source": [
      "You can see what these values are by typing:"
     ]
    },
    {
     "cell_type": "code",
     "collapsed": false,
     "input": [
      "print(x)\n",
      "print(y)"
     ],
     "language": "python",
     "metadata": {},
     "outputs": [
      {
       "output_type": "stream",
       "stream": "stdout",
       "text": [
        "[[ 1896.]\n",
        " [ 1900.]\n",
        " [ 1904.]\n",
        " [ 1908.]\n",
        " [ 1912.]\n",
        " [ 1920.]\n",
        " [ 1924.]\n",
        " [ 1928.]\n",
        " [ 1932.]\n",
        " [ 1936.]\n",
        " [ 1948.]\n",
        " [ 1952.]\n",
        " [ 1956.]\n",
        " [ 1960.]\n",
        " [ 1964.]\n",
        " [ 1968.]\n",
        " [ 1972.]\n",
        " [ 1976.]\n",
        " [ 1980.]\n",
        " [ 1984.]\n",
        " [ 1988.]\n",
        " [ 1992.]\n",
        " [ 1996.]\n",
        " [ 2000.]\n",
        " [ 2004.]\n",
        " [ 2008.]\n",
        " [ 2012.]]\n",
        "[[ 4.47083333]\n",
        " [ 4.46472926]\n",
        " [ 5.22208333]\n",
        " [ 4.15467867]\n",
        " [ 3.90331675]\n",
        " [ 3.56951267]\n",
        " [ 3.82454477]\n",
        " [ 3.62483707]\n",
        " [ 3.59284275]\n",
        " [ 3.53880792]\n",
        " [ 3.67010309]\n",
        " [ 3.39029111]\n",
        " [ 3.43642612]\n",
        " [ 3.20583007]\n",
        " [ 3.13275665]\n",
        " [ 3.32819844]\n",
        " [ 3.13583758]\n",
        " [ 3.0789588 ]\n",
        " [ 3.10581822]\n",
        " [ 3.06552909]\n",
        " [ 3.09357349]\n",
        " [ 3.16111704]\n",
        " [ 3.14255244]\n",
        " [ 3.08527867]\n",
        " [ 3.10265829]\n",
        " [ 2.99877553]\n",
        " [ 3.03392977]]\n"
       ]
      }
     ],
     "prompt_number": 5
    },
    {
     "cell_type": "markdown",
     "metadata": {},
     "source": [
      "Note that they are not `pandas` data frames for this example, they are just arrays of dimensionality $n\\times 1$, where $n$ is the number of data."
     ]
    },
    {
     "cell_type": "markdown",
     "metadata": {},
     "source": [
      "The aim of this lab is to have you coding linear regression in python. We will do it in two ways, once using iterative updates (coordinate ascent) and then using linear algebra. The linear algebra approach will not only work much better, it is easy to extend to multivariate linear regression and *non-linear* regression using basis functions."
     ]
    },
    {
     "cell_type": "markdown",
     "metadata": {},
     "source": [
      "### Plotting the Data\n",
      "\n",
      "You can make a plot of $y$ vs $x$ with the following command:"
     ]
    },
    {
     "cell_type": "code",
     "collapsed": false,
     "input": [
      "%matplotlib inline \n",
      "import pylab as plt\n",
      "\n",
      "plt.plot(x, y, 'rx')\n",
      "plt.xlabel('year')\n",
      "plt.ylabel('pace in min/km')"
     ],
     "language": "python",
     "metadata": {},
     "outputs": [
      {
       "metadata": {},
       "output_type": "pyout",
       "prompt_number": 6,
       "text": [
        "<matplotlib.text.Text at 0x10dfd06d0>"
       ]
      },
      {
       "metadata": {},
       "output_type": "display_data",
       "png": "[encoded data removed]",
       "text": [
        "<matplotlib.figure.Figure at 0x103c1c0d0>"
       ]
      }
     ],
     "prompt_number": 6
    },
    {
     "cell_type": "heading",
     "level": 3,
     "metadata": {},
     "source": [
      "Maximum Likelihood: Iterative Solution"
     ]
    },
    {
     "cell_type": "markdown",
     "metadata": {},
     "source": [
      "Now we will take the maximum likelihood approach we derived in the lecture to fit a line, $y_i=mx_i + c$, to the data you've plotted. We are trying to minimize the error function:"
     ]
    },
    {
     "cell_type": "markdown",
     "metadata": {},
     "source": [
      "$$E(m, c) =  \\sum_{i=1}^n(y_i-mx_i-c)^2$$"
     ]
    },
    {
     "cell_type": "markdown",
     "metadata": {},
     "source": [
      "with respect to $m$, $c$ and $\\sigma^2$. We can start with an initial guess for $m$, "
     ]
    },
    {
     "cell_type": "code",
     "collapsed": true,
     "input": [
      "m = -0.4\n",
      "c = 80 "
     ],
     "language": "python",
     "metadata": {},
     "outputs": [],
     "prompt_number": 7
    },
    {
     "cell_type": "markdown",
     "metadata": {},
     "source": [
      "Then we use the maximum likelihood update to find an estimate for the offset, $c$.\n",
      "\n",
      "### Coordinate Descent\n",
      "\n",
      "In the movie recommender system example, we minimised the objective function by steepest descent based gradient methods. Our updates required us to compute the gradient at the position we were located, then to update the gradient according to the direction of steepest descent. This time, we will take another approach. It is known as *coordinate descent*. In coordinate descent, we choose to move one parameter at a time. Ideally, we design an algorithm that at each step moves the parameter to its minimum value. At each step we choose to move the individual parameter to its minimum.\n",
      "\n",
      "To find the minimum, we look for the point in the curve where the gradient is zero. This can be found by taking the gradient of $E(m,c)$ with respect to the parameter. \n",
      "\n",
      "#### Update for Offset\n",
      "\n",
      "Let's consider the parameter $c$ first. The gradient goes nicely through the summation operator, and we obtain\n",
      "$$\n",
      "\\frac{\\text{d}E(m,c)}{\\text{d}c} = -\\sum_{i=1}^n 2(y_i-mx_i-c).\n",
      "$$\n",
      "Now we want the point that is a minimum. A minimum is an example of a [*stationary point*](http://en.wikipedia.org/wiki/Stationary_point), the stationary points are those points of the function where the gradient is zero. They are found by solving the equation for $\\frac{\\text{d}E(m,c)}{\\text{d}c} = 0$. Substituting in to our gradient, we can obtain the following equation, \n",
      "$$\n",
      "0 = -\\sum_{i=1}^n 2(y_i-mx_i-c)\n",
      "$$\n",
      "which can be reorganised as follows,\n",
      "$$\n",
      "c^* = \\frac{\\sum_{i=1}^n(y_i-m^*x_i)}{n}.\n",
      "$$\n",
      "The fact that the stationary point is easily extracted in this manner implies that the solution is *unique*. There is only one stationary point for this system. Traditionally when trying to determine the type of stationary point we have encountered we now compute the *second derivative*,\n",
      "$$\n",
      "\\frac{\\text{d}^2E(m,c)}{\\text{d}c^2} = 2n.\n",
      "$$\n",
      "The second derivative is positive, which in turn implies that we have found a minimum of the function. This means that setting $c$ in this way will take us to the lowest point along that axes."
     ]
    },
    {
     "cell_type": "code",
     "collapsed": false,
     "input": [
      "# set c to the minimum\n",
      "c = (y - m*x).mean()\n",
      "print c"
     ],
     "language": "python",
     "metadata": {},
     "outputs": [
      {
       "output_type": "stream",
       "stream": "stdout",
       "text": [
        "786.019771145\n"
       ]
      }
     ],
     "prompt_number": 8
    },
    {
     "cell_type": "markdown",
     "metadata": {},
     "source": [
      "#### Update for Slope\n",
      "\n",
      "Now we have the offset set to the minimum value, in coordinate descent, the next step is to optimise another parameter. Only one further parameter remains. That is the slope of the system. \n",
      "\n",
      "Now we can turn our attention to the slope. We once again peform the same set of computations to find the minima. We end up with an update equation of the following form.\n",
      "\n",
      "$$m^* = \\frac{\\sum_{i=1}^n (y_i - c)x_i}{\\sum_{i=1}^n x_i^2}$$\n",
      "\n",
      "Communication of mathematics in data science is an essential skill, in a moment, you will be asked to rederive the equation above. Before we do that, however, we will briefly review how to write mathematics in the notebook.\n",
      "\n",
      "### $\\LaTeX$ for Maths\n",
      "\n",
      "These cells use [Markdown format](http://en.wikipedia.org/wiki/Markdown). You can include maths in your markdown using [$\\LaTeX$ syntax](http://en.wikipedia.org/wiki/LaTeX), all you have to do is write your answer inside dollar signs, as follows:\n",
      "\n",
      "To write a fraction, we write `$\\frac{a}{b}$`, and it will display like this $\\frac{a}{b}$. To write a subscript we write `$a_b$` which will appear as $a_b$. To write a superscript (for example in a polynomial) we write `$a^b$` which will appear as $a^b$. There are lots of other macros as well, for example we can do greek letters such as `$\\alpha, \\beta, \\gamma$` rendering as $\\alpha, \\beta, \\gamma$. And we can do sum and intergral signs as `$\\sum \\int \\int$`.\n",
      "\n",
      "You can combine many of these operations together for composing expressions."
     ]
    },
    {
     "cell_type": "markdown",
     "metadata": {},
     "source": [
      "### Assignment Question 1 \n",
      "\n",
      "Convert the following python code expressions into $\\LaTeX$j, writing your answers below. In each case write your answer as a single equality (i.e. your maths should only contain one expression, not several lines of expressions). For the purposes of your $\\LaTeX$ please assume that `x` and `w` are $n$ dimensional vectors. \n",
      "\n",
      "(a) \n",
      "``` python\n",
      "f = x.sum()\n",
      "```\n",
      "\n",
      "(b) \n",
      "``` python \n",
      "m = x.mean()\n",
      "```\n",
      "\n",
      "(c) \n",
      "``` python\n",
      "g = (x*w).sum()\n",
      "```\n",
      "\n",
      "*15 marks*"
     ]
    },
    {
     "cell_type": "markdown",
     "metadata": {},
     "source": [
      "#### Question 1 Answer\n",
      "\n",
      "Write your answer to the question in this box."
     ]
    },
    {
     "cell_type": "markdown",
     "metadata": {},
     "source": [
      "### Gradient With Respect to the Slope\n",
      "Now that you've had a little training in writing maths with $\\LaTeX$, we will be able to use it to answer questions. The next thing we are going to do is a little differentiation practice. "
     ]
    },
    {
     "cell_type": "markdown",
     "metadata": {},
     "source": [
      "### Assignment Question 2\n",
      "\n",
      "Derive the the gradient of the objective function with respect to the slope, $m$. Rearrange it to show that the update equation written above does find the stationary points of the objective function. By computing its derivative show that it's a minimum.\n",
      "\n",
      "*20 marks*"
     ]
    },
    {
     "cell_type": "markdown",
     "metadata": {},
     "source": [
      "#### Question 2 Answer\n",
      "\n",
      "Write your answer to the question in this box."
     ]
    },
    {
     "cell_type": "code",
     "collapsed": false,
     "input": [
      "m = ((y - c)*x).sum()/(x**2).sum()\n",
      "print m"
     ],
     "language": "python",
     "metadata": {},
     "outputs": [
      {
       "output_type": "stream",
       "stream": "stdout",
       "text": [
        "-0.3998724073\n"
       ]
      }
     ],
     "prompt_number": 9
    },
    {
     "cell_type": "markdown",
     "metadata": {},
     "source": [
      "We can have a look at how good our fit is by computing the prediction across the input space. First create a vector of 'test points',"
     ]
    },
    {
     "cell_type": "code",
     "collapsed": false,
     "input": [
      "import numpy as np\n",
      "x_test = np.linspace(1890, 2020, 130)[:, None]"
     ],
     "language": "python",
     "metadata": {},
     "outputs": [],
     "prompt_number": 10
    },
    {
     "cell_type": "markdown",
     "metadata": {},
     "source": [
      "Now use this vector to compute some test predictions,"
     ]
    },
    {
     "cell_type": "code",
     "collapsed": false,
     "input": [
      "f_test = m*x_test + c"
     ],
     "language": "python",
     "metadata": {},
     "outputs": [],
     "prompt_number": 11
    },
    {
     "cell_type": "markdown",
     "metadata": {},
     "source": [
      "Now plot those test predictions with a blue line on the same plot as the data,"
     ]
    },
    {
     "cell_type": "code",
     "collapsed": false,
     "input": [
      "plt.plot(x_test, f_test, 'b-')\n",
      "plt.plot(x, y, 'rx')"
     ],
     "language": "python",
     "metadata": {},
     "outputs": [
      {
       "metadata": {},
       "output_type": "pyout",
       "prompt_number": 12,
       "text": [
        "[<matplotlib.lines.Line2D at 0x1044a8950>]"
       ]
      },
      {
       "metadata": {},
       "output_type": "display_data",
       "png": "[encoded data removed]",
       "text": [
        "<matplotlib.figure.Figure at 0x1044a8f10>"
       ]
      }
     ],
     "prompt_number": 12
    },
    {
     "cell_type": "markdown",
     "metadata": {},
     "source": [
      "The fit isn't very good, we need to iterate between these parameter updates in a loop to improve the fit, we have to do this several times,"
     ]
    },
    {
     "cell_type": "code",
     "collapsed": false,
     "input": [
      "for i in np.arange(10):\n",
      "    m = ((y - c)*x).sum()/(x*x).sum()\n",
      "    c = (y-m*x).sum()/y.shape[0]\n",
      "print(m)\n",
      "print(c)"
     ],
     "language": "python",
     "metadata": {},
     "outputs": [
      {
       "output_type": "stream",
       "stream": "stdout",
       "text": [
        "-0.398725964251\n",
        "783.527379727\n"
       ]
      }
     ],
     "prompt_number": 13
    },
    {
     "cell_type": "markdown",
     "metadata": {},
     "source": [
      "And let's try plotting the result again"
     ]
    },
    {
     "cell_type": "code",
     "collapsed": false,
     "input": [
      "f_test = m*x_test + c\n",
      "plt.plot(x_test, f_test, 'b-')\n",
      "plt.plot(x, y, 'rx')"
     ],
     "language": "python",
     "metadata": {},
     "outputs": [
      {
       "metadata": {},
       "output_type": "pyout",
       "prompt_number": 14,
       "text": [
        "[<matplotlib.lines.Line2D at 0x1044c7550>]"
       ]
      },
      {
       "metadata": {},
       "output_type": "display_data",
       "png": "[encoded data removed]",
       "text": [
        "<matplotlib.figure.Figure at 0x1044c7a50>"
       ]
      }
     ],
     "prompt_number": 14
    },
    {
     "cell_type": "markdown",
     "metadata": {},
     "source": [
      "Clearly we need more iterations than 10! In the next question you will add more iterations and report on the error as optimisation proceeds. "
     ]
    },
    {
     "cell_type": "markdown",
     "metadata": {},
     "source": [
      "### Assignment Question 3\n",
      "\n",
      "There is a problem here, we seem to need many interations to get to a good solution. Let's explore what's going on. Write code which alternates between updates of `c` and `m`. Include the following features in your code.\n",
      "\n",
      "(a) Initialise with `m=-0.4` and `c=80`.\n",
      "(b) Every 10 iterations compute the value of the objective function for the training data and print it to the screen (you'll find hints on this in [the lab from last week](./week2.ipynb).\n",
      "(c) Cause the code to stop running when the error change over less than 10 iterations is smaller than $1\\times10^{-4}$. This is known as a stopping criterion.\n",
      "\n",
      "Why do we need so many iterations to get to the solution?\n",
      "\n",
      "*25 marks*"
     ]
    },
    {
     "cell_type": "code",
     "collapsed": false,
     "input": [
      "# Question 3 Answer Code\n",
      "# Write code for you answer to this question in this box\n",
      "# Do not delete these comments, otherwise you will get zero for this answer.\n",
      "# Make sure your code has run and the answer is correct *before* submitting your notebook for marking.\n",
      "m=-0.4\n",
      "c=10\n",
      "diff = 1\n",
      "iter = 0\n",
      "f = m*x + c\n",
      "obj = ((y-f)**2).sum()              \n",
      "while diff>1e-4:\n",
      "    old_obj = obj\n",
      "    m = ((y - c)*x).sum()/(x*x).sum()\n",
      "    c = (y-m*x).sum()/y.shape[0]\n",
      "    f = m*x + c\n",
      "                       \n",
      "    if not iter % 10:\n",
      "        obj = ((y-f)**2).sum()              \n",
      "        print \"Iteration\", iter, \"Objective:\", obj\n",
      "        diff = old_obj-obj\n",
      "    iter += 1"
     ],
     "language": "python",
     "metadata": {},
     "outputs": [
      {
       "output_type": "stream",
       "stream": "stdout",
       "text": [
        "Iteration 0 Objective: 5.15699534935\n",
        "Iteration 10 Objective: 5.13611285818\n",
        "Iteration 20 Objective: 5.11536762758\n",
        "Iteration 30 Objective: 5.09475875534\n",
        "Iteration 40 Objective: 5.07428534518\n",
        "Iteration 50 Objective: 5.05394650671\n",
        "Iteration 60 Objective: 5.03374135538\n",
        "Iteration 70 Objective: 5.01366901248\n",
        "Iteration 80 Objective: 4.99372860505\n",
        "Iteration 90 Objective: 4.97391926588\n",
        "Iteration 100 Objective: 4.95424013346\n",
        "Iteration 110 Objective: 4.93469035194\n",
        "Iteration 120 Objective: 4.91526907109\n",
        "Iteration 130 Objective: 4.89597544629\n",
        "Iteration 140 Objective: 4.87680863845\n",
        "Iteration 150 Objective: 4.857767814\n",
        "Iteration 160 Objective: 4.83885214486\n",
        "Iteration 170 Objective: 4.82006080837\n",
        "Iteration 180 Objective: 4.8013929873\n",
        "Iteration 190 Objective: 4.78284786979\n",
        "Iteration 200 Objective: 4.7644246493\n",
        "Iteration 210 Objective: 4.7461225246\n",
        "Iteration 220 Objective: 4.72794069973\n",
        "Iteration 230 Objective: 4.70987838396\n",
        "Iteration 240 Objective: 4.69193479177\n",
        "Iteration"
       ]
      },
      {
       "output_type": "stream",
       "stream": "stdout",
       "text": [
        " 250 Objective: 4.67410914277\n",
        "Iteration 260 Objective: 4.65640066172\n",
        "Iteration 270 Objective: 4.63880857849\n",
        "Iteration 280 Objective: 4.62133212799\n",
        "Iteration 290 Objective: 4.60397055017\n",
        "Iteration"
       ]
      },
      {
       "output_type": "stream",
       "stream": "stdout",
       "text": [
        " 300 Objective: 4.58672308996\n",
        "Iteration 310 Objective: 4.56958899728\n",
        "Iteration 320 Objective: 4.55256752696\n",
        "Iteration"
       ]
      },
      {
       "output_type": "stream",
       "stream": "stdout",
       "text": [
        " 330 Objective: 4.53565793873\n",
        "Iteration 340 Objective: 4.51885949719\n",
        "Iteration 350 Objective: 4.50217147178\n",
        "Iteration 360 Objective: 4.48559313673\n",
        "Iteration 370 Objective: 4.46912377104\n",
        "Iteration 380 Objective: 4.45276265846\n",
        "Iteration 390 Objective: 4.43650908745\n",
        "Iteration 400 Objective: 4.42036235112\n",
        "Iteration 410 Objective: 4.40432174727\n",
        "Iteration 420 Objective: 4.38838657827\n",
        "Iteration 430 Objective: 4.37255615111\n",
        "Iteration 440 Objective: 4.35682977732\n",
        "Iteration 450 Objective: 4.34120677295\n",
        "Iteration 460 Objective: 4.32568645856\n",
        "Iteration"
       ]
      },
      {
       "output_type": "stream",
       "stream": "stdout",
       "text": [
        " 470 Objective: 4.31026815917\n",
        "Iteration 480 Objective: 4.29495120423\n",
        "Iteration 490 Objective: 4.27973492761\n",
        "Iteration 500 Objective: 4.26461866754\n",
        "Iteration 510 Objective: 4.24960176663\n",
        "Iteration 520 Objective: 4.23468357178\n",
        "Iteration 530 Objective: 4.21986343419\n",
        "Iteration 540 Objective: 4.20514070934\n",
        "Iteration 550 Objective: 4.19051475693\n",
        "Iteration 560 Objective: 4.17598494088\n",
        "Iteration 570 Objective: 4.16155062929\n",
        "Iteration 580 Objective: 4.14721119439\n",
        "Iteration 590 Objective: 4.13296601258\n",
        "Iteration 600 Objective: 4.11881446432\n",
        "Iteration 610 Objective: 4.10475593416\n",
        "Iteration 620 Objective: 4.09078981069\n",
        "Iteration 630 Objective: 4.07691548653\n",
        "Iteration 640 Objective: 4.06313235827\n",
        "Iteration 650 Objective: 4.04943982649\n",
        "Iteration 660 Objective: 4.03583729569\n",
        "Iteration"
       ]
      },
      {
       "output_type": "stream",
       "stream": "stdout",
       "text": [
        " 670 Objective: 4.02232417431\n",
        "Iteration 680 Objective: 4.00889987464\n",
        "Iteration 690 Objective: 3.99556381288\n",
        "Iteration 700 Objective: 3.98231540902\n",
        "Iteration 710 Objective: 3.96915408689\n",
        "Iteration 720 Objective: 3.95607927411\n",
        "Iteration 730 Objective: 3.94309040205\n",
        "Iteration"
       ]
      },
      {
       "output_type": "stream",
       "stream": "stdout",
       "text": [
        " 740 Objective: 3.93018690583\n",
        "Iteration 750 Objective: 3.91736822426\n",
        "Iteration 760 Objective: 3.90463379986\n",
        "Iteration 770 Objective: 3.8919830788\n",
        "Iteration 780 Objective: 3.87941551091\n",
        "Iteration 790 Objective: 3.86693054963\n",
        "Iteration 800 Objective: 3.85452765197\n",
        "Iteration 810 Objective: 3.84220627853\n",
        "Iteration 820 Objective: 3.82996589346\n",
        "Iteration 830 Objective: 3.81780596441\n",
        "Iteration 840 Objective: 3.80572596256\n",
        "Iteration 850 Objective: 3.79372536254\n",
        "Iteration 860 Objective: 3.78180364244\n",
        "Iteration 870 Objective: 3.76996028378\n",
        "Iteration"
       ]
      },
      {
       "output_type": "stream",
       "stream": "stdout",
       "text": [
        " 880 Objective: 3.75819477149\n",
        "Iteration 890 Objective: 3.7465065939\n",
        "Iteration 900 Objective: 3.73489524268\n",
        "Iteration 910 Objective: 3.72336021284\n",
        "Iteration 920 Objective: 3.71190100274\n",
        "Iteration 930 Objective: 3.700517114\n",
        "Iteration 940 Objective: 3.68920805154\n",
        "Iteration 950 Objective: 3.67797332353\n",
        "Iteration 960 Objective: 3.66681244136\n",
        "Iteration 970 Objective: 3.65572491965\n",
        "Iteration 980 Objective: 3.6447102762\n",
        "Iteration 990 Objective: 3.63376803198\n",
        "Iteration 1000 Objective: 3.62289771112\n",
        "Iteration 1010 Objective: 3.61209884085\n",
        "Iteration 1020 Objective: 3.60137095153\n",
        "Iteration 1030 Objective: 3.59071357661\n",
        "Iteration 1040 Objective: 3.5801262526\n",
        "Iteration 1050 Objective: 3.56960851905\n",
        "Iteration 1060 Objective: 3.55915991854\n",
        "Iteration 1070 Objective: 3.54877999666\n",
        "Iteration 1080 Objective: 3.53846830199\n",
        "Iteration 1090 Objective: 3.52822438607\n",
        "Iteration 1100 Objective: 3.51804780339\n",
        "Iteration 1110 Objective: 3.50793811137\n",
        "Iteration"
       ]
      },
      {
       "output_type": "stream",
       "stream": "stdout",
       "text": [
        " 1120 Objective: 3.49789487033\n",
        "Iteration 1130 Objective: 3.4879176435\n",
        "Iteration 1140 Objective: 3.47800599697\n",
        "Iteration 1150 Objective: 3.46815949966\n",
        "Iteration 1160 Objective: 3.45837772337\n",
        "Iteration 1170 Objective: 3.44866024267\n",
        "Iteration 1180 Objective: 3.43900663496\n",
        "Iteration 1190 Objective: 3.42941648039\n",
        "Iteration 1200 Objective: 3.41988936189\n",
        "Iteration 1210 Objective: 3.41042486512\n",
        "Iteration 1220 Objective: 3.40102257847\n",
        "Iteration 1230 Objective: 3.39168209303\n",
        "Iteration 1240 Objective: 3.38240300259\n",
        "Iteration 1250 Objective: 3.37318490359\n",
        "Iteration 1260 Objective: 3.36402739514\n",
        "Iteration 1270 Objective: 3.35493007897\n",
        "Iteration 1280 Objective: 3.34589255945\n",
        "Iteration 1290 Objective: 3.33691444352\n",
        "Iteration 1300 Objective: 3.32799534073\n",
        "Iteration 1310 Objective: 3.31913486319\n",
        "Iteration 1320 Objective: 3.31033262556\n",
        "Iteration 1330 Objective: 3.30158824501\n",
        "Iteration 1340 Objective: 3.29290134126\n",
        "Iteration 1350 Objective: 3.28427153651\n",
        "Iteration 1360 Objective: 3.27569845546\n",
        "Iteration 1370 Objective: 3.26718172525\n",
        "Iteration 1380 Objective: 3.25872097549\n",
        "Iteration 1390 Objective: 3.25031583822\n",
        "Iteration 1400 Objective: 3.24196594791\n",
        "Iteration 1410 Objective: 3.2336709414\n",
        "Iteration 1420 Objective: 3.22543045796\n",
        "Iteration 1430 Objective: 3.21724413921\n",
        "Iteration 1440 Objective: 3.20911162911\n",
        "Iteration 1450 Objective: 3.20103257398\n",
        "Iteration 1460 Objective: 3.19300662247\n",
        "Iteration 1470 Objective: 3.18503342552\n",
        "Iteration"
       ]
      },
      {
       "output_type": "stream",
       "stream": "stdout",
       "text": [
        " 1480 Objective: 3.17711263638\n",
        "Iteration 1490 Objective: 3.16924391058\n",
        "Iteration 1500 Objective: 3.16142690589\n",
        "Iteration 1510 Objective: 3.15366128236\n",
        "Iteration 1520 Objective: 3.14594670226\n",
        "Iteration 1530 Objective: 3.13828283008\n",
        "Iteration 1540 Objective: 3.13066933252\n",
        "Iteration 1550 Objective: 3.12310587846\n",
        "Iteration 1560 Objective: 3.11559213897\n",
        "Iteration 1570 Objective: 3.10812778728\n",
        "Iteration 1580 Objective: 3.10071249876\n",
        "Iteration 1590 Objective: 3.09334595091\n",
        "Iteration 1600 Objective: 3.08602782337\n",
        "Iteration 1610 Objective: 3.07875779787\n",
        "Iteration 1620 Objective: 3.07153555824\n",
        "Iteration 1630 Objective: 3.06436079037\n",
        "Iteration 1640 Objective: 3.05723318223\n",
        "Iteration 1650 Objective: 3.05015242385\n",
        "Iteration 1660 Objective: 3.04311820729\n",
        "Iteration 1670 Objective: 3.03613022661\n",
        "Iteration 1680 Objective: 3.02918817792\n",
        "Iteration 1690 Objective: 3.0222917593\n",
        "Iteration 1700 Objective: 3.01544067083\n",
        "Iteration 1710 Objective: 3.00863461455\n",
        "Iteration 1720 Objective: 3.00187329447\n",
        "Iteration 1730 Objective: 2.99515641653\n",
        "Iteration 1740 Objective: 2.98848368862\n",
        "Iteration 1750 Objective: 2.98185482053\n",
        "Iteration 1760 Objective: 2.97526952398\n",
        "Iteration 1770 Objective: 2.96872751258\n",
        "Iteration 1780 Objective: 2.9622285018\n",
        "Iteration"
       ]
      },
      {
       "output_type": "stream",
       "stream": "stdout",
       "text": [
        " 1790 Objective: 2.95577220901\n",
        "Iteration 1800 Objective: 2.94935835341\n",
        "Iteration 1810 Objective: 2.94298665608\n",
        "Iteration 1820 Objective: 2.93665683991\n",
        "Iteration 1830 Objective: 2.9303686296\n",
        "Iteration 1840 Objective: 2.92412175169\n",
        "Iteration 1850 Objective: 2.9179159345\n",
        "Iteration 1860 Objective: 2.91175090813\n",
        "Iteration 1870 Objective: 2.90562640446\n",
        "Iteration 1880 Objective: 2.89954215715\n",
        "Iteration 1890 Objective: 2.89349790159\n",
        "Iteration 1900 Objective: 2.8874933749\n",
        "Iteration 1910 Objective: 2.88152831596\n",
        "Iteration 1920 Objective: 2.87560246534\n",
        "Iteration 1930 Objective: 2.86971556532\n",
        "Iteration 1940 Objective: 2.86386735989\n",
        "Iteration 1950 Objective: 2.8580575947\n",
        "Iteration 1960 Objective: 2.85228601708\n",
        "Iteration 1970 Objective: 2.84655237604\n",
        "Iteration 1980 Objective: 2.8408564222\n",
        "Iteration 1990 Objective: 2.83519790786\n",
        "Iteration"
       ]
      },
      {
       "output_type": "stream",
       "stream": "stdout",
       "text": [
        " 2000 Objective: 2.82957658693\n",
        "Iteration 2010 Objective: 2.82399221492\n",
        "Iteration 2020 Objective: 2.81844454899\n",
        "Iteration 2030 Objective: 2.81293334785\n",
        "Iteration 2040 Objective: 2.80745837182\n",
        "Iteration 2050 Objective: 2.80201938281\n",
        "Iteration 2060 Objective: 2.79661614425\n",
        "Iteration 2070 Objective: 2.79124842118\n",
        "Iteration 2080 Objective: 2.78591598014\n",
        "Iteration 2090 Objective: 2.78061858922\n",
        "Iteration 2100 Objective: 2.77535601804\n",
        "Iteration 2110 Objective: 2.77012803774\n",
        "Iteration 2120 Objective: 2.76493442094\n",
        "Iteration 2130 Objective: 2.75977494177\n",
        "Iteration 2140 Objective: 2.75464937585\n",
        "Iteration 2150 Objective: 2.74955750026\n",
        "Iteration 2160 Objective: 2.74449909357\n",
        "Iteration 2170 Objective: 2.73947393577\n",
        "Iteration 2180 Objective: 2.73448180832\n",
        "Iteration 2190 Objective: 2.72952249412\n",
        "Iteration 2200 Objective: 2.72459577748\n",
        "Iteration 2210 Objective: 2.71970144414\n",
        "Iteration 2220 Objective: 2.71483928125\n",
        "Iteration 2230 Objective: 2.71000907734\n",
        "Iteration 2240 Objective: 2.70521062235\n",
        "Iteration 2250 Objective: 2.7004437076\n",
        "Iteration 2260 Objective: 2.69570812577\n",
        "Iteration 2270 Objective: 2.69100367091\n",
        "Iteration 2280 Objective: 2.68633013843\n",
        "Iteration 2290 Objective: 2.68168732506\n",
        "Iteration 2300 Objective: 2.6770750289\n",
        "Iteration 2310 Objective: 2.67249304935\n",
        "Iteration 2320 Objective: 2.66794118715\n",
        "Iteration 2330 Objective: 2.66341924432\n",
        "Iteration 2340 Objective: 2.65892702422\n",
        "Iteration 2350 Objective: 2.65446433148\n",
        "Iteration 2360 Objective: 2.650030972\n",
        "Iteration 2370 Objective: 2.64562675299\n",
        "Iteration 2380 Objective: 2.6412514829\n",
        "Iteration 2390 Objective: 2.63690497145\n",
        "Iteration 2400 Objective: 2.63258702962\n",
        "Iteration 2410 Objective: 2.6282974696\n",
        "Iteration 2420 Objective: 2.62403610486\n",
        "Iteration 2430 Objective: 2.61980275006\n",
        "Iteration"
       ]
      },
      {
       "output_type": "stream",
       "stream": "stdout",
       "text": [
        " 2440 Objective: 2.6155972211\n",
        "Iteration 2450 Objective: 2.61141933506\n",
        "Iteration 2460 Objective: 2.60726891027\n",
        "Iteration 2470 Objective: 2.60314576621\n",
        "Iteration 2480 Objective: 2.59904972357\n",
        "Iteration 2490 Objective: 2.5949806042\n",
        "Iteration 2500 Objective: 2.59093823116\n",
        "Iteration 2510 Objective: 2.58692242862\n",
        "Iteration 2520 Objective: 2.58293302194\n",
        "Iteration 2530 Objective: 2.57896983763\n",
        "Iteration 2540 Objective: 2.57503270332\n",
        "Iteration 2550 Objective: 2.57112144779\n",
        "Iteration 2560 Objective: 2.56723590093\n",
        "Iteration 2570 Objective: 2.56337589377\n",
        "Iteration 2580 Objective: 2.55954125842\n",
        "Iteration 2590 Objective: 2.55573182813\n",
        "Iteration 2600 Objective: 2.55194743721\n",
        "Iteration 2610 Objective: 2.54818792109\n",
        "Iteration 2620 Objective: 2.54445311626\n",
        "Iteration 2630 Objective: 2.5407428603\n",
        "Iteration 2640 Objective: 2.53705699184\n",
        "Iteration 2650 Objective: 2.53339535059\n",
        "Iteration 2660 Objective: 2.52975777729\n",
        "Iteration 2670 Objective: 2.52614411377\n",
        "Iteration 2680 Objective: 2.52255420284\n",
        "Iteration 2690 Objective: 2.51898788839\n",
        "Iteration 2700 Objective: 2.51544501532\n",
        "Iteration 2710 Objective: 2.51192542955\n",
        "Iteration 2720 Objective: 2.50842897801\n",
        "Iteration 2730 Objective: 2.50495550864\n",
        "Iteration 2740 Objective: 2.50150487038\n",
        "Iteration 2750 Objective: 2.49807691315\n",
        "Iteration 2760 Objective: 2.49467148789\n",
        "Iteration 2770 Objective: 2.49128844647\n",
        "Iteration 2780 Objective: 2.48792764178\n",
        "Iteration 2790 Objective: 2.48458892766\n",
        "Iteration 2800 Objective: 2.48127215889\n",
        "Iteration 2810 Objective: 2.47797719124\n",
        "Iteration 2820 Objective: 2.47470388141\n",
        "Iteration 2830 Objective: 2.47145208704\n",
        "Iteration 2840 Objective: 2.4682216667\n",
        "Iteration 2850 Objective: 2.46501247991\n",
        "Iteration 2860 Objective: 2.4618243871\n",
        "Iteration 2870 Objective: 2.45865724962\n",
        "Iteration 2880 Objective: 2.45551092973\n",
        "Iteration 2890 Objective: 2.45238529059\n",
        "Iteration 2900 Objective: 2.44928019627\n",
        "Iteration 2910 Objective: 2.44619551173\n",
        "Iteration 2920 Objective: 2.44313110282\n",
        "Iteration 2930 Objective: 2.44008683626\n",
        "Iteration 2940 Objective: 2.43706257966\n",
        "Iteration 2950 Objective: 2.43405820149\n",
        "Iteration 2960 Objective: 2.43107357109\n",
        "Iteration"
       ]
      },
      {
       "output_type": "stream",
       "stream": "stdout",
       "text": [
        " 2970 Objective: 2.42810855867\n",
        "Iteration 2980 Objective: 2.42516303526\n",
        "Iteration 2990 Objective: 2.42223687278\n",
        "Iteration 3000 Objective: 2.41932994395\n",
        "Iteration 3010 Objective: 2.41644212237\n",
        "Iteration 3020 Objective: 2.41357328243\n",
        "Iteration 3030 Objective: 2.41072329936\n",
        "Iteration 3040 Objective: 2.40789204924\n",
        "Iteration 3050 Objective: 2.40507940891\n",
        "Iteration 3060 Objective: 2.40228525606\n",
        "Iteration 3070 Objective: 2.39950946918\n",
        "Iteration 3080 Objective: 2.39675192754\n",
        "Iteration 3090 Objective: 2.39401251121\n",
        "Iteration 3100 Objective: 2.39129110106\n",
        "Iteration 3110 Objective: 2.38858757874\n",
        "Iteration 3120 Objective: 2.38590182666\n",
        "Iteration 3130 Objective: 2.38323372802\n",
        "Iteration 3140 Objective: 2.3805831668\n",
        "Iteration 3150 Objective: 2.3779500277\n",
        "Iteration 3160 Objective: 2.37533419623\n",
        "Iteration 3170 Objective: 2.37273555861\n",
        "Iteration 3180 Objective: 2.37015400183\n",
        "Iteration 3190 Objective: 2.36758941362\n",
        "Iteration 3200 Objective: 2.36504168244\n",
        "Iteration 3210 Objective: 2.3625106975\n",
        "Iteration 3220 Objective: 2.35999634871\n",
        "Iteration 3230 Objective: 2.35749852673\n",
        "Iteration 3240 Objective: 2.35501712294\n",
        "Iteration 3250 Objective: 2.3525520294\n",
        "Iteration 3260 Objective: 2.35010313892\n",
        "Iteration 3270 Objective: 2.347670345\n",
        "Iteration 3280 Objective: 2.34525354182\n",
        "Iteration 3290 Objective: 2.34285262429\n",
        "Iteration 3300 Objective: 2.34046748798\n",
        "Iteration 3310 Objective: 2.33809802917\n",
        "Iteration 3320 Objective: 2.33574414481\n",
        "Iteration 3330 Objective: 2.33340573252\n",
        "Iteration 3340 Objective: 2.33108269061\n",
        "Iteration 3350 Objective: 2.32877491806\n",
        "Iteration 3360 Objective: 2.32648231449\n",
        "Iteration 3370 Objective: 2.3242047802\n",
        "Iteration"
       ]
      },
      {
       "output_type": "stream",
       "stream": "stdout",
       "text": [
        " 3380 Objective: 2.32194221613\n",
        "Iteration 3390 Objective: 2.3196945239\n",
        "Iteration 3400 Objective: 2.31746160574\n",
        "Iteration 3410 Objective: 2.31524336455\n",
        "Iteration 3420 Objective: 2.31303970386\n",
        "Iteration 3430 Objective: 2.31085052782\n",
        "Iteration 3440 Objective: 2.30867574123\n",
        "Iteration 3450 Objective: 2.30651524951\n",
        "Iteration 3460 Objective: 2.3043689587\n",
        "Iteration 3470 Objective: 2.30223677546\n",
        "Iteration 3480 Objective: 2.30011860705\n",
        "Iteration 3490 Objective: 2.29801436136\n",
        "Iteration 3500 Objective: 2.29592394687\n",
        "Iteration 3510 Objective: 2.29384727267\n",
        "Iteration 3520 Objective: 2.29178424844\n",
        "Iteration 3530 Objective: 2.28973478448\n",
        "Iteration 3540 Objective: 2.28769879163\n",
        "Iteration 3550 Objective: 2.28567618136\n",
        "Iteration 3560 Objective: 2.28366686571\n",
        "Iteration 3570 Objective: 2.28167075728\n",
        "Iteration 3580 Objective: 2.27968776927\n",
        "Iteration 3590 Objective: 2.27771781544\n",
        "Iteration 3600 Objective: 2.2757608101\n",
        "Iteration 3610 Objective: 2.27381666817\n",
        "Iteration 3620 Objective: 2.27188530507\n",
        "Iteration 3630 Objective: 2.26996663682\n",
        "Iteration 3640 Objective: 2.26806057997\n",
        "Iteration 3650 Objective: 2.26616705163\n",
        "Iteration 3660 Objective: 2.26428596945\n",
        "Iteration 3670 Objective: 2.26241725162\n",
        "Iteration 3680 Objective: 2.26056081686\n",
        "Iteration 3690 Objective: 2.25871658445\n",
        "Iteration 3700 Objective: 2.25688447418\n",
        "Iteration 3710 Objective: 2.25506440636\n",
        "Iteration 3720 Objective: 2.25325630184\n",
        "Iteration 3730 Objective: 2.25146008199\n",
        "Iteration 3740 Objective: 2.2496756687\n",
        "Iteration 3750 Objective: 2.24790298434\n",
        "Iteration 3760 Objective: 2.24614195184\n",
        "Iteration 3770 Objective: 2.2443924946\n",
        "Iteration 3780 Objective: 2.24265453654\n",
        "Iteration 3790 Objective: 2.24092800208\n",
        "Iteration 3800 Objective: 2.23921281612\n",
        "Iteration"
       ]
      },
      {
       "output_type": "stream",
       "stream": "stdout",
       "text": [
        " 3810 Objective: 2.23750890408\n",
        "Iteration 3820 Objective: 2.23581619185\n",
        "Iteration 3830 Objective: 2.23413460581\n",
        "Iteration 3840 Objective: 2.23246407284\n",
        "Iteration 3850 Objective: 2.23080452027\n",
        "Iteration 3860 Objective: 2.22915587594\n",
        "Iteration 3870 Objective: 2.22751806815\n",
        "Iteration 3880 Objective: 2.22589102566\n",
        "Iteration 3890 Objective: 2.22427467772\n",
        "Iteration 3900 Objective: 2.22266895404\n",
        "Iteration 3910 Objective: 2.22107378477\n",
        "Iteration 3920 Objective: 2.21948910055\n",
        "Iteration 3930 Objective: 2.21791483245\n",
        "Iteration 3940 Objective: 2.21635091201\n",
        "Iteration 3950 Objective: 2.21479727123\n",
        "Iteration 3960 Objective: 2.21325384251\n",
        "Iteration 3970 Objective: 2.21172055876\n",
        "Iteration 3980 Objective: 2.21019735327\n",
        "Iteration 3990 Objective: 2.20868415981\n",
        "Iteration 4000 Objective: 2.20718091257\n",
        "Iteration 4010 Objective: 2.20568754617\n",
        "Iteration 4020 Objective: 2.20420399566\n",
        "Iteration 4030 Objective: 2.20273019653\n",
        "Iteration 4040 Objective: 2.20126608468\n",
        "Iteration 4050 Objective: 2.19981159643\n",
        "Iteration 4060 Objective: 2.19836666853\n",
        "Iteration 4070 Objective: 2.19693123814\n",
        "Iteration 4080 Objective: 2.19550524283\n",
        "Iteration 4090 Objective: 2.19408862059\n",
        "Iteration 4100 Objective: 2.1926813098\n",
        "Iteration 4110 Objective: 2.19128324926\n",
        "Iteration 4120 Objective: 2.18989437817\n",
        "Iteration 4130 Objective: 2.18851463613\n",
        "Iteration 4140 Objective: 2.18714396313\n",
        "Iteration 4150 Objective: 2.18578229956\n",
        "Iteration 4160 Objective: 2.1844295862\n",
        "Iteration 4170 Objective: 2.18308576423\n",
        "Iteration 4180 Objective: 2.18175077519\n",
        "Iteration 4190 Objective: 2.18042456104\n",
        "Iteration 4200 Objective: 2.17910706409\n",
        "Iteration 4210 Objective: 2.17779822704\n",
        "Iteration 4220 Objective: 2.17649799298\n",
        "Iteration 4230 Objective: 2.17520630535\n",
        "Iteration 4240 Objective: 2.17392310798\n",
        "Iteration 4250 Objective: 2.17264834507\n",
        "Iteration 4260 Objective: 2.17138196117\n",
        "Iteration 4270 Objective: 2.17012390121\n",
        "Iteration 4280 Objective: 2.16887411048\n",
        "Iteration 4290 Objective: 2.16763253462\n",
        "Iteration 4300 Objective: 2.16639911963\n",
        "Iteration 4310 Objective: 2.16517381188\n",
        "Iteration 4320 Objective: 2.16395655807\n",
        "Iteration"
       ]
      },
      {
       "output_type": "stream",
       "stream": "stdout",
       "text": [
        " 4330 Objective: 2.16274730528\n",
        "Iteration 4340 Objective: 2.16154600089\n",
        "Iteration 4350 Objective: 2.16035259268\n",
        "Iteration 4360 Objective: 2.15916702874\n",
        "Iteration 4370 Objective: 2.15798925751\n",
        "Iteration 4380 Objective: 2.15681922777\n",
        "Iteration 4390 Objective: 2.15565688862\n",
        "Iteration 4400 Objective: 2.15450218954\n",
        "Iteration 4410 Objective: 2.15335508029\n",
        "Iteration 4420 Objective: 2.15221551098\n",
        "Iteration 4430 Objective: 2.15108343206\n",
        "Iteration 4440 Objective: 2.1499587943\n",
        "Iteration 4450 Objective: 2.14884154877\n",
        "Iteration 4460 Objective: 2.1477316469\n",
        "Iteration 4470 Objective: 2.14662904041\n",
        "Iteration 4480 Objective: 2.14553368136\n",
        "Iteration 4490 Objective: 2.14444552209\n",
        "Iteration 4500 Objective: 2.14336451529\n",
        "Iteration 4510 Objective: 2.14229061395\n",
        "Iteration 4520 Objective: 2.14122377137\n",
        "Iteration 4530 Objective: 2.14016394113\n",
        "Iteration 4540 Objective: 2.13911107716\n",
        "Iteration 4550 Objective: 2.13806513366\n",
        "Iteration 4560 Objective: 2.13702606514\n",
        "Iteration 4570 Objective: 2.13599382643\n",
        "Iteration 4580 Objective: 2.13496837261\n",
        "Iteration 4590 Objective: 2.1339496591\n",
        "Iteration 4600 Objective: 2.13293764159\n",
        "Iteration 4610 Objective: 2.13193227607\n",
        "Iteration 4620 Objective: 2.13093351882\n",
        "Iteration 4630 Objective: 2.12994132639\n",
        "Iteration 4640 Objective: 2.12895565565\n",
        "Iteration 4650 Objective: 2.12797646372\n",
        "Iteration 4660 Objective: 2.12700370801\n",
        "Iteration 4670 Objective: 2.12603734623\n",
        "Iteration 4680 Objective: 2.12507733634\n",
        "Iteration 4690 Objective: 2.12412363659\n",
        "Iteration 4700 Objective: 2.12317620551\n",
        "Iteration 4710 Objective: 2.12223500189\n",
        "Iteration 4720 Objective: 2.1212999848\n",
        "Iteration 4730 Objective: 2.12037111358\n",
        "Iteration 4740 Objective: 2.11944834783\n",
        "Iteration 4750 Objective: 2.11853164741\n",
        "Iteration 4760 Objective: 2.11762097246\n",
        "Iteration 4770 Objective: 2.11671628338\n",
        "Iteration 4780 Objective: 2.11581754082\n",
        "Iteration 4790 Objective: 2.11492470569\n",
        "Iteration 4800 Objective: 2.11403773917\n",
        "Iteration 4810 Objective: 2.11315660267\n",
        "Iteration 4820 Objective: 2.11228125788\n",
        "Iteration 4830 Objective: 2.11141166674\n",
        "Iteration 4840 Objective: 2.11054779141\n",
        "Iteration 4850 Objective: 2.10968959433\n",
        "Iteration 4860 Objective: 2.10883703819\n",
        "Iteration 4870 Objective: 2.10799008589\n",
        "Iteration 4880 Objective: 2.10714870061\n",
        "Iteration 4890 Objective: 2.10631284575\n",
        "Iteration 4900 Objective: 2.10548248496\n",
        "Iteration"
       ]
      },
      {
       "output_type": "stream",
       "stream": "stdout",
       "text": [
        " 4910 Objective: 2.10465758214\n",
        "Iteration 4920 Objective: 2.1038381014\n",
        "Iteration 4930 Objective: 2.1030240071\n",
        "Iteration 4940 Objective: 2.10221526385\n",
        "Iteration 4950 Objective: 2.10141183646\n",
        "Iteration 4960 Objective: 2.10061369\n",
        "Iteration 4970 Objective: 2.09982078975\n",
        "Iteration 4980 Objective: 2.09903310124\n",
        "Iteration 4990 Objective: 2.0982505902\n",
        "Iteration 5000 Objective: 2.0974732226\n",
        "Iteration 5010 Objective: 2.09670096464\n",
        "Iteration 5020 Objective: 2.09593378274\n",
        "Iteration 5030 Objective: 2.09517164351\n",
        "Iteration 5040 Objective: 2.09441451383\n",
        "Iteration 5050 Objective: 2.09366236076\n",
        "Iteration 5060 Objective: 2.09291515158\n",
        "Iteration 5070 Objective: 2.09217285382\n",
        "Iteration 5080 Objective: 2.09143543517\n",
        "Iteration 5090 Objective: 2.09070286358\n",
        "Iteration 5100 Objective: 2.08997510718\n",
        "Iteration 5110 Objective: 2.08925213432\n",
        "Iteration 5120 Objective: 2.08853391355\n",
        "Iteration 5130 Objective: 2.08782041366\n",
        "Iteration 5140 Objective: 2.08711160359\n",
        "Iteration 5150 Objective: 2.08640745254\n",
        "Iteration 5160 Objective: 2.08570792986\n",
        "Iteration 5170 Objective: 2.08501300515\n",
        "Iteration 5180 Objective: 2.08432264818\n",
        "Iteration 5190 Objective: 2.08363682892\n",
        "Iteration 5200 Objective: 2.08295551755\n",
        "Iteration 5210 Objective: 2.08227868444\n",
        "Iteration 5220 Objective: 2.08160630015\n",
        "Iteration 5230 Objective: 2.08093833544\n",
        "Iteration 5240 Objective: 2.08027476127\n",
        "Iteration 5250 Objective: 2.07961554876\n",
        "Iteration 5260 Objective: 2.07896066926\n",
        "Iteration 5270 Objective: 2.07831009428\n",
        "Iteration 5280 Objective: 2.07766379552\n",
        "Iteration 5290 Objective: 2.07702174489\n",
        "Iteration 5300 Objective: 2.07638391446\n",
        "Iteration 5310 Objective: 2.07575027648\n",
        "Iteration 5320 Objective: 2.07512080341\n",
        "Iteration 5330 Objective: 2.07449546786\n",
        "Iteration 5340 Objective: 2.07387424264\n",
        "Iteration 5350 Objective: 2.07325710073\n",
        "Iteration 5360 Objective: 2.07264401529\n",
        "Iteration 5370 Objective: 2.07203495967\n",
        "Iteration 5380 Objective: 2.07142990736\n",
        "Iteration 5390 Objective: 2.07082883206\n",
        "Iteration 5400 Objective: 2.07023170763\n",
        "Iteration 5410 Objective: 2.0696385081\n",
        "Iteration 5420 Objective: 2.06904920767\n",
        "Iteration 5430 Objective: 2.06846378071\n",
        "Iteration 5440 Objective: 2.06788220176\n",
        "Iteration 5450 Objective: 2.06730444552\n",
        "Iteration 5460 Objective: 2.06673048688\n",
        "Iteration 5470 Objective: 2.06616030086\n",
        "Iteration"
       ]
      },
      {
       "output_type": "stream",
       "stream": "stdout",
       "text": [
        " 5480 Objective: 2.06559386268\n",
        "Iteration 5490 Objective: 2.06503114769\n",
        "Iteration 5500 Objective: 2.06447213143\n",
        "Iteration 5510 Objective: 2.06391678958\n",
        "Iteration 5520 Objective: 2.06336509799\n",
        "Iteration 5530 Objective: 2.06281703267\n",
        "Iteration 5540 Objective: 2.06227256979\n",
        "Iteration 5550 Objective: 2.06173168565\n",
        "Iteration 5560 Objective: 2.06119435675\n",
        "Iteration 5570 Objective: 2.06066055971\n",
        "Iteration 5580 Objective: 2.06013027131\n",
        "Iteration 5590 Objective: 2.0596034685\n",
        "Iteration 5600 Objective: 2.05908012837\n",
        "Iteration 5610 Objective: 2.05856022814\n",
        "Iteration 5620 Objective: 2.05804374522\n",
        "Iteration 5630 Objective: 2.05753065715\n",
        "Iteration 5640 Objective: 2.05702094159\n",
        "Iteration 5650 Objective: 2.0565145764\n",
        "Iteration 5660 Objective: 2.05601153955\n",
        "Iteration 5670 Objective: 2.05551180915\n",
        "Iteration 5680 Objective: 2.05501536349\n",
        "Iteration 5690 Objective: 2.05452218096\n",
        "Iteration 5700 Objective: 2.05403224011\n",
        "Iteration 5710 Objective: 2.05354551965\n",
        "Iteration 5720 Objective: 2.0530619984\n",
        "Iteration 5730 Objective: 2.05258165533\n",
        "Iteration 5740 Objective: 2.05210446956\n",
        "Iteration 5750 Objective: 2.05163042033\n",
        "Iteration 5760 Objective: 2.05115948703\n",
        "Iteration 5770 Objective: 2.05069164916\n",
        "Iteration 5780 Objective: 2.0502268864\n",
        "Iteration 5790 Objective: 2.04976517852\n",
        "Iteration 5800 Objective: 2.04930650545\n",
        "Iteration 5810 Objective: 2.04885084723\n",
        "Iteration 5820 Objective: 2.04839818405\n",
        "Iteration 5830 Objective: 2.04794849623\n",
        "Iteration 5840 Objective: 2.0475017642\n",
        "Iteration 5850 Objective: 2.04705796855\n",
        "Iteration 5860 Objective: 2.04661708996\n",
        "Iteration 5870 Objective: 2.04617910926\n",
        "Iteration"
       ]
      },
      {
       "output_type": "stream",
       "stream": "stdout",
       "text": [
        " 5880 Objective: 2.04574400742\n",
        "Iteration 5890 Objective: 2.04531176549\n",
        "Iteration 5900 Objective: 2.04488236469\n",
        "Iteration 5910 Objective: 2.04445578634\n",
        "Iteration 5920 Objective: 2.04403201189\n",
        "Iteration 5930 Objective: 2.04361102291\n",
        "Iteration 5940 Objective: 2.04319280109\n",
        "Iteration 5950 Objective: 2.04277732824\n",
        "Iteration 5960 Objective: 2.04236458629\n",
        "Iteration 5970 Objective: 2.0419545573\n",
        "Iteration 5980 Objective: 2.04154722342\n",
        "Iteration 5990 Objective: 2.04114256695\n",
        "Iteration 6000 Objective: 2.04074057028\n",
        "Iteration 6010 Objective: 2.04034121594\n",
        "Iteration 6020 Objective: 2.03994448656\n",
        "Iteration 6030 Objective: 2.03955036487\n",
        "Iteration 6040 Objective: 2.03915883375\n",
        "Iteration 6050 Objective: 2.03876987616\n",
        "Iteration 6060 Objective: 2.03838347518\n",
        "Iteration 6070 Objective: 2.03799961402\n",
        "Iteration 6080 Objective: 2.03761827598\n",
        "Iteration 6090 Objective: 2.03723944448\n",
        "Iteration 6100 Objective: 2.03686310303\n",
        "Iteration 6110 Objective: 2.03648923527\n",
        "Iteration 6120 Objective: 2.03611782495\n",
        "Iteration 6130 Objective: 2.0357488559\n",
        "Iteration 6140 Objective: 2.03538231209\n",
        "Iteration 6150 Objective: 2.03501817757\n",
        "Iteration 6160 Objective: 2.0346564365\n",
        "Iteration 6170 Objective: 2.03429707316\n",
        "Iteration 6180 Objective: 2.03394007191\n",
        "Iteration 6190 Objective: 2.03358541724\n",
        "Iteration 6200 Objective: 2.0332330937\n",
        "Iteration 6210 Objective: 2.03288308599\n",
        "Iteration 6220 Objective: 2.03253537888\n",
        "Iteration 6230 Objective: 2.03218995724\n",
        "Iteration 6240 Objective: 2.03184680606\n",
        "Iteration 6250 Objective: 2.03150591042\n",
        "Iteration 6260 Objective: 2.03116725548\n",
        "Iteration 6270 Objective: 2.03083082652\n",
        "Iteration 6280 Objective: 2.0304966089\n",
        "Iteration"
       ]
      },
      {
       "output_type": "stream",
       "stream": "stdout",
       "text": [
        " 6290 Objective: 2.0301645881\n",
        "Iteration 6300 Objective: 2.02983474967\n",
        "Iteration 6310 Objective: 2.02950707927\n",
        "Iteration 6320 Objective: 2.02918156264\n",
        "Iteration 6330 Objective: 2.02885818563\n",
        "Iteration 6340 Objective: 2.02853693418\n",
        "Iteration 6350 Objective: 2.02821779432\n",
        "Iteration 6360 Objective: 2.02790075216\n",
        "Iteration 6370 Objective: 2.02758579392\n",
        "Iteration 6380 Objective: 2.0272729059\n",
        "Iteration 6390 Objective: 2.02696207449\n",
        "Iteration 6400 Objective: 2.02665328618\n",
        "Iteration 6410 Objective: 2.02634652753\n",
        "Iteration 6420 Objective: 2.0260417852\n",
        "Iteration 6430 Objective: 2.02573904595\n",
        "Iteration 6440 Objective: 2.0254382966\n",
        "Iteration 6450 Objective: 2.02513952407\n",
        "Iteration 6460 Objective: 2.02484271538\n",
        "Iteration 6470 Objective: 2.0245478576\n",
        "Iteration 6480 Objective: 2.02425493793\n",
        "Iteration 6490 Objective: 2.02396394362\n",
        "Iteration 6500 Objective: 2.02367486202\n",
        "Iteration 6510 Objective: 2.02338768054\n",
        "Iteration 6520 Objective: 2.02310238671\n",
        "Iteration 6530 Objective: 2.02281896812\n",
        "Iteration 6540 Objective: 2.02253741243\n",
        "Iteration 6550 Objective: 2.02225770742\n",
        "Iteration 6560 Objective: 2.0219798409\n",
        "Iteration 6570 Objective: 2.02170380079\n",
        "Iteration 6580 Objective: 2.0214295751\n",
        "Iteration 6590 Objective: 2.0211571519\n",
        "Iteration 6600 Objective: 2.02088651933\n",
        "Iteration 6610 Objective: 2.02061766563\n",
        "Iteration 6620 Objective: 2.0203505791\n",
        "Iteration 6630 Objective: 2.02008524813\n",
        "Iteration 6640 Objective: 2.01982166118\n",
        "Iteration 6650 Objective: 2.01955980679\n",
        "Iteration 6660 Objective: 2.01929967357\n",
        "Iteration 6670 Objective: 2.0190412502\n",
        "Iteration 6680 Objective: 2.01878452545\n",
        "Iteration 6690 Objective: 2.01852948815\n",
        "Iteration 6700 Objective: 2.01827612721\n",
        "Iteration 6710 Objective: 2.01802443161\n",
        "Iteration 6720 Objective: 2.0177743904\n",
        "Iteration 6730 Objective: 2.01752599272\n",
        "Iteration 6740 Objective: 2.01727922775\n",
        "Iteration 6750 Objective: 2.01703408477\n",
        "Iteration 6760 Objective: 2.01679055312\n",
        "Iteration 6770 Objective: 2.01654862219\n",
        "Iteration"
       ]
      },
      {
       "output_type": "stream",
       "stream": "stdout",
       "text": [
        " 6780 Objective: 2.01630828148\n",
        "Iteration 6790 Objective: 2.01606952053\n",
        "Iteration 6800 Objective: 2.01583232895\n",
        "Iteration 6810 Objective: 2.01559669643\n",
        "Iteration 6820 Objective: 2.01536261273\n",
        "Iteration 6830 Objective: 2.01513006765\n",
        "Iteration 6840 Objective: 2.0148990511\n",
        "Iteration 6850 Objective: 2.01466955301\n",
        "Iteration 6860 Objective: 2.01444156342\n",
        "Iteration 6870 Objective: 2.0142150724\n",
        "Iteration 6880 Objective: 2.0139900701\n",
        "Iteration 6890 Objective: 2.01376654675\n",
        "Iteration 6900 Objective: 2.01354449261\n",
        "Iteration 6910 Objective: 2.01332389804\n",
        "Iteration 6920 Objective: 2.01310475343\n",
        "Iteration 6930 Objective: 2.01288704927\n",
        "Iteration 6940 Objective: 2.01267077607\n",
        "Iteration 6950 Objective: 2.01245592443\n",
        "Iteration 6960 Objective: 2.01224248501\n",
        "Iteration 6970 Objective: 2.01203044853\n",
        "Iteration 6980 Objective: 2.01181980577\n",
        "Iteration 6990 Objective: 2.01161054755\n",
        "Iteration 7000 Objective: 2.0114026648\n",
        "Iteration 7010 Objective: 2.01119614845\n",
        "Iteration 7020 Objective: 2.01099098954\n",
        "Iteration 7030 Objective: 2.01078717914\n",
        "Iteration 7040 Objective: 2.01058470838\n",
        "Iteration 7050 Objective: 2.01038356846\n",
        "Iteration 7060 Objective: 2.01018375064\n",
        "Iteration 7070 Objective: 2.00998524621\n",
        "Iteration 7080 Objective: 2.00978804656\n",
        "Iteration 7090 Objective: 2.0095921431\n",
        "Iteration 7100 Objective: 2.00939752731\n",
        "Iteration 7110 Objective: 2.00920419073\n",
        "Iteration 7120 Objective: 2.00901212495\n",
        "Iteration 7130 Objective: 2.00882132162\n",
        "Iteration 7140 Objective: 2.00863177244\n",
        "Iteration 7150 Objective: 2.00844346917\n",
        "Iteration 7160 Objective: 2.00825640361\n",
        "Iteration 7170 Objective: 2.00807056764\n",
        "Iteration 7180 Objective: 2.00788595316\n",
        "Iteration 7190 Objective: 2.00770255216\n",
        "Iteration 7200 Objective: 2.00752035665\n",
        "Iteration 7210 Objective: 2.00733935871\n",
        "Iteration 7220 Objective: 2.00715955047\n",
        "Iteration 7230 Objective: 2.00698092411\n",
        "Iteration 7240 Objective: 2.00680347186\n",
        "Iteration"
       ]
      },
      {
       "output_type": "stream",
       "stream": "stdout",
       "text": [
        " 7250 Objective: 2.006627186\n",
        "Iteration 7260 Objective: 2.00645205887\n",
        "Iteration 7270 Objective: 2.00627808285\n",
        "Iteration 7280 Objective: 2.00610525037\n",
        "Iteration 7290 Objective: 2.00593355392\n",
        "Iteration 7300 Objective: 2.00576298604\n",
        "Iteration 7310 Objective: 2.00559353929\n",
        "Iteration 7320 Objective: 2.00542520632\n",
        "Iteration 7330 Objective: 2.0052579798\n",
        "Iteration 7340 Objective: 2.00509185246\n",
        "Iteration 7350 Objective: 2.00492681707\n",
        "Iteration 7360 Objective: 2.00476286646\n",
        "Iteration 7370 Objective: 2.0045999935\n",
        "Iteration 7380 Objective: 2.0044381911\n",
        "Iteration 7390 Objective: 2.00427745223\n",
        "Iteration 7400 Objective: 2.00411776989\n",
        "Iteration 7410 Objective: 2.00395913715\n",
        "Iteration 7420 Objective: 2.0038015471\n",
        "Iteration 7430 Objective: 2.00364499289\n",
        "Iteration 7440 Objective: 2.00348946771\n",
        "Iteration 7450 Objective: 2.00333496479\n",
        "Iteration 7460 Objective: 2.00318147743\n",
        "Iteration 7470 Objective: 2.00302899893\n",
        "Iteration 7480 Objective: 2.00287752268\n",
        "Iteration 7490 Objective: 2.00272704208\n",
        "Iteration 7500 Objective: 2.00257755059\n",
        "Iteration 7510 Objective: 2.0024290417\n",
        "Iteration 7520 Objective: 2.00228150897\n",
        "Iteration 7530 Objective: 2.00213494596\n",
        "Iteration 7540 Objective: 2.00198934632\n",
        "Iteration 7550 Objective: 2.0018447037\n",
        "Iteration 7560 Objective: 2.00170101182\n",
        "Iteration 7570 Objective: 2.00155826442\n",
        "Iteration 7580 Objective: 2.0014164553\n",
        "Iteration 7590 Objective: 2.00127557829\n",
        "Iteration 7600 Objective: 2.00113562727\n",
        "Iteration 7610 Objective: 2.00099659614\n",
        "Iteration 7620 Objective: 2.00085847887\n",
        "Iteration 7630 Objective: 2.00072126944\n",
        "Iteration 7640 Objective: 2.00058496189\n",
        "Iteration 7650 Objective: 2.00044955029\n",
        "Iteration 7660 Objective: 2.00031502874\n",
        "Iteration 7670 Objective: 2.00018139141\n",
        "Iteration 7680 Objective: 2.00004863248\n",
        "Iteration 7690 Objective: 1.99991674616\n",
        "Iteration 7700 Objective: 1.99978572674\n",
        "Iteration 7710 Objective: 1.99965556851\n",
        "Iteration 7720 Objective: 1.99952626581\n",
        "Iteration 7730 Objective: 1.99939781301\n",
        "Iteration 7740 Objective: 1.99927020454\n",
        "Iteration"
       ]
      },
      {
       "output_type": "stream",
       "stream": "stdout",
       "text": [
        " 7750 Objective: 1.99914343483\n",
        "Iteration 7760 Objective: 1.99901749838\n",
        "Iteration 7770 Objective: 1.99889238972\n",
        "Iteration 7780 Objective: 1.99876810339\n",
        "Iteration 7790 Objective: 1.99864463399\n",
        "Iteration 7800 Objective: 1.99852197616\n",
        "Iteration 7810 Objective: 1.99840012456\n",
        "Iteration 7820 Objective: 1.99827907389\n",
        "Iteration 7830 Objective: 1.99815881888\n",
        "Iteration 7840 Objective: 1.99803935431\n",
        "Iteration 7850 Objective: 1.99792067498\n",
        "Iteration 7860 Objective: 1.99780277573\n",
        "Iteration 7870 Objective: 1.99768565144\n",
        "Iteration 7880 Objective: 1.997569297\n",
        "Iteration 7890 Objective: 1.99745370735\n",
        "Iteration 7900 Objective: 1.99733887748\n",
        "Iteration 7910 Objective: 1.99722480238\n",
        "Iteration 7920 Objective: 1.9971114771\n",
        "Iteration 7930 Objective: 1.99699889671\n",
        "Iteration 7940 Objective: 1.99688705631\n",
        "Iteration 7950 Objective: 1.99677595103\n",
        "Iteration 7960 Objective: 1.99666557605\n",
        "Iteration 7970 Objective: 1.99655592656\n",
        "Iteration 7980 Objective: 1.9964469978\n",
        "Iteration 7990 Objective: 1.99633878503\n",
        "Iteration 8000 Objective: 1.99623128354\n",
        "Iteration 8010 Objective: 1.99612448865\n",
        "Iteration 8020 Objective: 1.99601839573\n",
        "Iteration 8030 Objective: 1.99591300016\n",
        "Iteration 8040 Objective: 1.99580829735\n",
        "Iteration 8050 Objective: 1.99570428276\n",
        "Iteration 8060 Objective: 1.99560095185\n",
        "Iteration 8070 Objective: 1.99549830014\n",
        "Iteration 8080 Objective: 1.99539632315\n",
        "Iteration 8090 Objective: 1.99529501646\n",
        "Iteration 8100 Objective: 1.99519437566\n",
        "Iteration 8110 Objective: 1.99509439637\n"
       ]
      }
     ],
     "prompt_number": 15
    },
    {
     "cell_type": "markdown",
     "metadata": {},
     "source": [
      "#### Question 3 Answer Here\n",
      "\n",
      "Write your answer to the question in this box."
     ]
    },
    {
     "cell_type": "markdown",
     "metadata": {},
     "source": [
      "## Multivariate Solution with Linear Algebra\n",
      "\n",
      "You've now seen how slow it can be to perform a coordinate ascent on a system. Another approach to solving the system (which is not always possible, particularly in *non-linear* systems) is to go direct to the minimum. To do this we need to introduce *linear algebra*. We will represent all our errors and functions in the form of linear algebra. \n",
      "\n",
      "As we mentioned above, linear algebra is just a shorthand for performing lots of multiplications and additions simultaneously. What does it have to do with our system then? Well the first thing to note is that the linear function we were trying to fit has the following form:\n",
      "$$\n",
      "f(x) = mx + c\n",
      "$$\n",
      "the classical form for a straight line. From a linear algebraic perspective we are looking for multiplications and additions. We are also looking to separate our parameters from our data. The data is the *givens* remember, in French the word is donn\u00e9es literally translated means *givens* that's great, because we don't need to change the data, what we need to change are the parameters (or variables) of the model. In this function the data comes in through $x$, and the parameters are $m$ and $c$. \n",
      "\n",
      "What we'd like to create is a vector of parameters and a vector of data. Then we could represent the system with vectors that represent the data, and vectors that represent the parameters. \n",
      "\n",
      "We look to turn the multiplications and additions into a linear algebraic form, we have one multiplication ($m\\times c$ and one addition ($mx + c$). But we can turn this into a inner product by writing it in the following way,\n",
      "$$\n",
      "f(x) = m \\times x + c \\times 1,\n",
      "$$\n",
      "in other words we've extracted the unit value, from the offset, $c$. We can think of this unit value like an extra item of data, because it is always given to us, and it is always set to 1 (unlike regular data, which is likely to vary!). We can therefore write each input data location, $\\mathbf{x}$, as a vector\n",
      "$$\n",
      "\\mathbf{x} = \\begin{bmatrix} 1\\\\ x\\end{bmatrix}.\n",
      "$$\n",
      "\n",
      "Now we choose to also turn our parameters into a vector. The parameter vector will be defined to contain \n",
      "$$\n",
      "\\mathbf{w} = \\begin{bmatrix} c \\\\ m\\end{bmatrix}\n",
      "$$\n",
      "because if we now take the inner product between these to vectors we recover\n",
      "$$\n",
      "\\mathbf{x}\\cdot\\mathbf{w} = 1 \\times c + x \\times m = mx + c\n",
      "$$\n",
      "In `numpy` we can define this vector as follows"
     ]
    },
    {
     "cell_type": "code",
     "collapsed": false,
     "input": [
      "# define the vector w\n",
      "w = np.zeros(shape=(2, 1))\n",
      "w[0] = m\n",
      "w[1] = c"
     ],
     "language": "python",
     "metadata": {},
     "outputs": [],
     "prompt_number": 16
    },
    {
     "cell_type": "markdown",
     "metadata": {},
     "source": [
      "This gives us the equivalence between original operation and an operation in vector space. Whilst the notation here isn't a lot shorter, the beauty is that we will be able to add as many features as we like and still keep the seame representation. In general, we are now moving to a system where each of our predictions is given by an inner product. When we want to represent a linear product in linear algebra, we tend to do it with the transpose operation, so since we have $\\mathbf{a}\\cdot\\mathbf{b} = \\mathbf{a}^\\top\\mathbf{b}$ we can write\n",
      "$$\n",
      "f(\\mathbf{x}_i) = \\mathbf{x}_i^\\top\\mathbf{w}.\n",
      "$$\n",
      "Where we've assumed that each data point, $\\mathbf{x}_i$, is now written by appending a 1 onto the original vector\n",
      "$$\n",
      "\\mathbf{x}_i = \n",
      "\\begin{bmatrix} \n",
      "1 \\\\\n",
      "x_i\n",
      "\\end{bmatrix}\n",
      "$$\n",
      "\n",
      "## Design Matrix\n",
      "\n",
      "We can do this for the entire data set to form a [*design matrix*](http://en.wikipedia.org/wiki/Design_matrix) $\\mathbf{X}$,\n",
      "\n",
      "$$\\mathbf{X} = \\begin{bmatrix} \n",
      "\\mathbf{x}_1^\\top \\\\\\ \n",
      "\\mathbf{x}_2^\\top \\\\\\ \n",
      "\\vdots \\\\\\\n",
      "\\mathbf{x}_n^\\top\n",
      "\\end{bmatrix} = \\begin{bmatrix}\n",
      "1 & x_1 \\\\\\\n",
      "1 & x_2 \\\\\\\n",
      "\\vdots & \\vdots \\\\\\\n",
      "1 & x_n \n",
      "\\end{bmatrix},$$\n",
      "\n",
      "which in `numpy` can be done with the following commands:"
     ]
    },
    {
     "cell_type": "code",
     "collapsed": false,
     "input": [
      "X = np.hstack((np.ones_like(x), x))\n",
      "print(X)"
     ],
     "language": "python",
     "metadata": {},
     "outputs": [
      {
       "output_type": "stream",
       "stream": "stdout",
       "text": [
        "[[  1.00000000e+00   1.89600000e+03]\n",
        " [  1.00000000e+00   1.90000000e+03]\n",
        " [  1.00000000e+00   1.90400000e+03]\n",
        " [  1.00000000e+00   1.90800000e+03]\n",
        " [  1.00000000e+00   1.91200000e+03]\n",
        " [  1.00000000e+00   1.92000000e+03]\n",
        " [  1.00000000e+00   1.92400000e+03]\n",
        " [  1.00000000e+00   1.92800000e+03]\n",
        " [  1.00000000e+00   1.93200000e+03]\n",
        " [  1.00000000e+00   1.93600000e+03]\n",
        " [  1.00000000e+00   1.94800000e+03]\n",
        " [  1.00000000e+00   1.95200000e+03]\n",
        " [  1.00000000e+00   1.95600000e+03]\n",
        " [  1.00000000e+00   1.96000000e+03]\n",
        " [  1.00000000e+00   1.96400000e+03]\n",
        " [  1.00000000e+00   1.96800000e+03]\n",
        " [  1.00000000e+00   1.97200000e+03]\n",
        " [  1.00000000e+00   1.97600000e+03]\n",
        " [  1.00000000e+00   1.98000000e+03]\n",
        " [  1.00000000e+00   1.98400000e+03]\n",
        " [  1.00000000e+00   1.98800000e+03]\n",
        " [  1.00000000e+00   1.99200000e+03]\n",
        " [  1.00000000e+00   1.99600000e+03]\n",
        " [  1.00000000e+00   2.00000000e+03]\n",
        " [  1.00000000e+00   2.00400000e+03]\n",
        " [  1.00000000e+00   2.00800000e+03]\n",
        " [  1.00000000e+00   2.01200000e+03]]\n"
       ]
      }
     ],
     "prompt_number": 17
    },
    {
     "cell_type": "markdown",
     "metadata": {},
     "source": [
      "### Writing the Objective with Linear Algebra\n",
      "\n",
      "When we think of the objective function, we can think of it as the errors where the error is defined in a similar way to what it was in Legendre's day $y_i - f(\\mathbf{x}_i)$, in statistics these errors are also sometimes called [*residuals*](http://en.wikipedia.org/wiki/Errors_and_residuals_in_statistics). So we can think as the objective and the prediction function as two separate parts, first we have,\n",
      "$$\n",
      "E(\\mathbf{w}) = \\sum_{i=1}^n (y_i - f(\\mathbf{x}_i; \\mathbf{w}))^2,\n",
      "$$\n",
      "where we've made the function $f(\\cdot)$'s dependence on the parameters $\\mathbf{w}$ explicit in this equation. Then we have the definition of the function itself,\n",
      "$$\n",
      "f(\\mathbf{x}_i; \\mathbf{w}) = \\mathbf{x}_i^\\top \\mathbf{w}.\n",
      "$$\n",
      "Let's look again at these two equations and see if we can identify any inner products. The first equation is a sum of squares, which is promising. Any sum of squares can be represented by an inner product,\n",
      "$$\n",
      "a = \\sum_{i=1}^{k} b^2_i = \\mathbf{b}^\\top\\mathbf{b},\n",
      "$$\n",
      "so if we wish to represent $E(\\mathbf{w})$ in this way, all we need to do is convert the sum operator to an inner product. We can get a vector from that sum operator by placing both $y_i$ and $f(\\mathbf{x}_i; \\mathbf{w})$ into vectors, which we do by defining \n",
      "$$\n",
      "\\mathbf{y} = \\begin{bmatrix}y_1\\\\y_2\\\\ \\vdots \\\\ y_n\\end{bmatrix}\n",
      "$$\n",
      "and defining\n",
      "$$\n",
      "\\mathbf{f}(\\mathbf{x}_1; \\mathbf{w}) = \\begin{bmatrix}f(\\mathbf{x}_1; \\mathbf{w})\\\\f(\\mathbf{x}_2; \\mathbf{w})\\\\ \\vdots \\\\ f(\\mathbf{x}_n; \\mathbf{w})\\end{bmatrix}.\n",
      "$$\n",
      "The second of these is actually a vector-valued function. This term may appear intimidating, but the idea is straightforward. A vector valued function is simply a vector whose elements are themselves defined as *functions*, i.e. it is a vector of functions, rather than a vector of scalars. The idea is so straightforward, that we are going to ignore it for the moment, and barely use it in the derivation. But it will reappear later when we introduce *basis functions*. So we will, for the moment, ignore the dependence of $\\mathbf{f}$ on $\\mathbf{w}$ and $\\mathbf{X}$ and simply summarise it by a vector of numbers\n",
      "$$\n",
      "\\mathbf{f} = \\begin{bmatrix}f_1\\\\f_2\\\\ \\vdots \\\\ f_n\\end{bmatrix}.\n",
      "$$\n",
      "This allows us to write our objective in the folowing, linear algebraic form,\n",
      "$$\n",
      "E(\\mathbf{w}) = (\\mathbf{y} - \\mathbf{f})^\\top(\\mathbf{y} - \\mathbf{f})\n",
      "$$\n",
      "from the rules of inner products.\n",
      "\n",
      "But what of our matrix $\\mathbf{X}$ of input data? At this point, we need to dust off [*matrix-vector multiplication*](http://en.wikipedia.org/wiki/Matrix_multiplication). Matrix multiplication is simply a convenient way of performing many inner products together, and it's exactly what we need to summarise the operation\n",
      "$$\n",
      "f_i = \\mathbf{x}_i^\\top\\mathbf{w}.\n",
      "$$\n",
      "This operation tells us that each element of the vector $\\mathbf{f}$ (our vector valued function) is given by an inner product between $\\mathbf{x}_i$ and $\\mathbf{w}$. In other words it is a series of inner products. Let's look at the definition of matrix multiplication, it takes the form\n",
      "$$\n",
      "\\mathbf{c} = \\mathbf{B}\\mathbf{a}\n",
      "$$\n",
      "where $\\mathbf{c}$ might be a $k$ dimensional vector (which we can intepret as a $k\\times 1$ dimensional matrix), and $\\mathbf{B}$ is a $k\\times k$ dimensional matrix and $\\mathbf{a}$ is a $k$ dimensional vector ($k\\times 1$ dimensional matrix). \n",
      "\n",
      "The result of this multiplication is of the form\n",
      "$$\n",
      "\\begin{bmatrix}c_1\\\\c_2 \\\\ \\vdots \\\\ a_k\\end{bmatrix} = \n",
      "\\begin{bmatrix} b_{1,1} & b_{1, 2} & \\dots & b_{1, k} \\\\\n",
      "b_{2, 1} & b_{2, 2} & \\dots & b_{2, k} \\\\\n",
      "\\vdots & \\vdots & \\ddots & \\vdots \\\\\n",
      "b_{k, 1} & b_{k, 2} & \\dots & b_{k, k} \\end{bmatrix} \\begin{bmatrix}a_1\\\\a_2 \\\\ \\vdots\\\\ c_k\\end{bmatrix} = \\begin{bmatrix} b_{1, 1}a_1 + b_{1, 2}a_2 + \\dots + b_{1, k}a_k\\\\\n",
      "b_{2, 1}a_1 + b_{2, 2}a_2 + \\dots + b_{2, k}a_k \\\\ \n",
      "\\vdots\\\\ \n",
      "b_{k, 1}a_1 + b_{k, 2}a_2 + \\dots + b_{k, k}a_k\\end{bmatrix}\n",
      "$$\n",
      "so we see that each element of the result, $\\mathbf{a}$ is simply the inner product between each *row* of $\\mathbf{B}$ and the vector $\\mathbf{c}$. Because we have defined each element of $\\mathbf{f}$ to be given by the inner product between each *row* of the design matrix and the vector $\\mathbf{w}$ we now can write the full operation in one matrix multiplication,\n",
      "$$\n",
      "\\mathbf{f} = \\mathbf{X}\\mathbf{w}.\n",
      "$$"
     ]
    },
    {
     "cell_type": "code",
     "collapsed": false,
     "input": [
      "f = np.dot(X, w) # np.dot does matrix multiplication in python"
     ],
     "language": "python",
     "metadata": {},
     "outputs": [],
     "prompt_number": 18
    },
    {
     "cell_type": "markdown",
     "metadata": {},
     "source": [
      "Combining this result with our objective function,\n",
      "$$\n",
      "E(\\mathbf{w}) = (\\mathbf{y} - \\mathbf{f})^\\top(\\mathbf{y} - \\mathbf{f})\n",
      "$$\n",
      "we find we have defined the *model* with two equations. One equation tells us the form of our predictive function and how it depends on its parameters, the other tells us the form of our objective function."
     ]
    },
    {
     "cell_type": "code",
     "collapsed": false,
     "input": [
      "resid = (y-f)\n",
      "E = np.dot(resid.T, resid) # matrix multiplication on a single vector is equivalent to a dot product.\n",
      "print \"Error function is:\", E"
     ],
     "language": "python",
     "metadata": {},
     "outputs": [
      {
       "output_type": "stream",
       "stream": "stdout",
       "text": [
        "Error function is: [[  7.86871276e+10]]\n"
       ]
      }
     ],
     "prompt_number": 19
    },
    {
     "cell_type": "markdown",
     "metadata": {},
     "source": [
      "### Assignment Question 4\n",
      "\n",
      "The prediction for our movie recommender system had the form\n",
      "$$\n",
      "f_{i,j} = \\mathbf{u}_i^\\top \\mathbf{v}_j\n",
      "$$\n",
      "and the objective function was then\n",
      "$$\n",
      "E = \\sum_{i,j} s_{i,j}(y_{i,j} - f_{i, j})^2\n",
      "$$\n",
      "Try writing this down in matrix and vector form. How many of the terms can you do? For each variable and parameter carefully think about whether it should be represented as a matrix or vector. Do as many of the terms as you can. Use $\\LaTeX$ to give your answers and give the *dimensions* of any matrices you create.\n",
      "\n",
      "*20 points* "
     ]
    },
    {
     "cell_type": "markdown",
     "metadata": {},
     "source": [
      "#### Question 4 Answer\n",
      "\n",
      "Write your answer to the question in this box."
     ]
    },
    {
     "cell_type": "markdown",
     "metadata": {},
     "source": [
      "## Objective Optimisation\n",
      "\n",
      "Our *model* has now been defined with two equations, the prediction function and the objective function. Next we will use multivariate calculus to define an *algorithm* to fit the model. The separation between model and algorithm is important and is often overlooked. Our model contains a function that shows how it will be used for prediction, and a function that describes the objective function we need to optimise to obtain a good set of parameters. \n",
      "\n",
      "The model linear regression model we have described is still the same as the one we fitted above with a coordinate ascent algorithm. We have only played with the notation to obtain the same model in a matrix and vector notation. However, we will now fit this model with a different algorithm, one that is much faster. It is such a widely used algorithm that from the end user's perspective it doesn't even look like an algorithm, it just appears to be a single operation (or function). However, underneath the computer calls an algorithm to find the solution. Further, the algorithm we obtain is very widely used, and because of this it turns out to be highly optimised.\n",
      "\n",
      "Once again we are going to try and find the stationary points of our objective by finding the *stationary points*. However, the stationary points of a multivariate function, are a little bit more complext to find. Once again we need to find the point at which the derivative is zero, but now we need to use  *multivariate calculus* to find it. This involves learning a few additional rules of differentiation (that allow you to do the derivatives of a function with respect to  vector), but in the end it makes things quite a bit easier. We define vectorial derivatives as follows,\n",
      "$$\n",
      "\\frac{\\text{d}E(\\mathbf{w})}{\\text{d}\\mathbf{w}} = \\begin{bmatrix}\\frac{\\text{d}E(\\mathbf{w})}{\\text{d}w_1}\\\\\\frac{\\text{d}E(\\mathbf{w})}{\\text{d}w_2}\\end{bmatrix}.\n",
      "$$\n",
      "where $\\frac{\\text{d}E(\\mathbf{w})}{\\text{d}w_1}$ is the [partial derivative](http://en.wikipedia.org/wiki/Partial_derivative) of the error function with respect to $w_1$.\n",
      "\n",
      "Differentiation through multiplications and additions is relatively straightforward, and since linear algebra is just multiplication and addition, then its rules of diffentiation are quite straightforward too, but slightly more complex than regular derivatives. \n",
      "\n",
      "### Matrix Differentiation\n",
      "\n",
      "We will need two rules of differentiation. The first is diffentiation of an inner product. By remebering that the inner product is made up of multiplication and addition, we can hope that its derivative is quite straightforward, and so it proves to be. We can start by thinking about the definition of the inner product,\n",
      "$$\n",
      "\\mathbf{a}^\\top\\mathbf{z} = \\sum_{i} a_i z_i,\n",
      "$$\n",
      "which if we were to take the derivative with respect to $z_k$ would simply return the gradient of the one term in the sum for which the derivative was non zero, that of $a_k$, so we know that \n",
      "$$\n",
      "\\frac{\\text{d}}{\\text{d}z_k} \\mathbf{a}^\\top \\mathbf{z} = a_k\n",
      "$$\n",
      "and by our definition of multivariate derivatives we can simply stack all the partial derivatives of this form in a vector to obtain the result that\n",
      "$$\n",
      "\\frac{\\text{d}}{\\text{d}\\mathbf{z}} \\mathbf{a}^\\top \\mathbf{z} = \\mathbf{a}.\n",
      "$$\n",
      "The second rule that's required is differentiation of a 'matrix quadratic'. A scalar quadratic in $z$ with coefficient $c$ has the form $cz^2$. If $\\mathbf{z}$ is a $k\\times 1$ vector and $\\mathbf{C}$ is a $k \\times k$ *matrix* of coefficients then the matrix quadratic form is written as $\\mathbf{z}^\\top \\mathbf{C}\\mathbf{z}$, which is itself a *scalar* quantity, but it is a function of a *vector*. \n",
      "\n",
      "#### Matching Dimensions in Matrix Multiplications\n",
      "\n",
      "There's a trick for telling that it's a scalar result. When you are doing maths with matrices, it's always worth pausing to perform a quick sanity check on the dimensions. Matrix multplication only works when the dimensions match. To be precise, the 'inner' dimension of the matrix must match. What is the inner dimension. If we multiply two matrices $\\mathbf{A}$ and $\\mathbf{B}$, the first of which has $k$ rows and $\\ell$ columns and the second of which has $p$ rows and $q$ columns, then we can check whether the multiplication works by writing the dimensionalities next to each other,\n",
      "$$\n",
      "\\mathbf{A} \\mathbf{B} \\rightarrow (k \\times \\underbrace{\\ell)(p}_\\text{inner dimensions} \\times q) \\rightarrow (k\\times q).\n",
      "$$\n",
      "The inner dimensions are the two inside dimensions, $\\ell$ and $p$. The multiplication will only work if $\\ell=p$. The result of the multiplication will then be a $k\\times q$ matrix: this dimensionality comes from the 'outer dimensions'. Note that matrix multiplication is not [*commutative*](http://en.wikipedia.org/wiki/Commutative_property). And if you change the order of the multiplication, \n",
      "$$\n",
      "\\mathbf{B} \\mathbf{A} \\rightarrow (\\ell \\times \\underbrace{k)(q}_\\text{inner dimensions} \\times p) \\rightarrow (\\ell \\times p).\n",
      "$$\n",
      "firstly it may no longer even work, because now the condition is that $k=q$, and secondly the result could be of a different dimensionality. An exception is if the matrices are square matrices (e.g. same number of rows as columns) and they are both *symmetric*. A symmetric matrix is one for which $\\mathbf{A}=\\mathbf{A}^\\top$, or equivalently, $a_{i,j} = a_{j,i}$ for all $i$ and $j$.  \n",
      "\n",
      "You will need to get used to working with matrices and vectors applying and developing new machine learning techniques. You should have come across them before, but you may not have used them as extensively as we will now do in this course. You should get used to using this trick to check your work and ensure you know what the dimension of an output matrix should be. For our matrix quadratic form, it turns out that we can see it as a special type of inner product.\n",
      "$$\n",
      "\\mathbf{z}^\\top\\mathbf{C}\\mathbf{z} \\rightarrow (1\\times \\underbrace{k) (k}_\\text{inner dimensions}\\times k) (k\\times 1) \\rightarrow \\mathbf{b}^\\top\\mathbf{z}\n",
      "$$\n",
      "where $\\mathbf{b} = \\mathbf{C}\\mathbf{z}$ so therefore the result is a scalar,\n",
      "$$\n",
      "\\mathbf{b}^\\top\\mathbf{z} \\rightarrow (1\\times \\underbrace{k) (k}_\\text{inner dimensions}\\times 1) \\rightarrow (1\\times 1)\n",
      "$$\n",
      "where a $(1\\times 1)$ matrix is recognised as a scalar.\n",
      "\n",
      "This implies that we should be able to differentiate this form, and indeed the rule for its differentiation is slightly more complex than the inner product, but still quite simple,\n",
      "$$\n",
      "\\frac{\\text{d}}{\\text{d}\\mathbf{z}} \\mathbf{z}^\\top\\mathbf{C}\\mathbf{z}= \\mathbf{C}\\mathbf{z} + \\mathbf{C}^\\top \\mathbf{z}.\n",
      "$$\n",
      "Note that in the special case where $\\mathbf{C}$ is symmetric then we have $\\mathbf{C} = \\mathbf{C}^\\top$ and the derivative simplifies to \n",
      "$$\n",
      "\\frac{\\text{d}}{\\text{d}\\mathbf{z}} \\mathbf{z}^\\top\\mathbf{C}\\mathbf{z}= 2\\mathbf{C}\\mathbf{z}.\n",
      "$$\n",
      "### Differentiating the Objective\n",
      "\n",
      "First, we need to compute the full objective by substituting our prediction function into the objective function to obtain the objective in terms of $\\mathbf{w}$. Doing this we obtain\n",
      "$$\n",
      "E(\\mathbf{w})= (\\mathbf{y} - \\mathbf{X}\\mathbf{w})^\\top (\\mathbf{y} - \\mathbf{X}\\mathbf{w}).\n",
      "$$\n",
      "We now need to differentiate this *quadratic form* to find the minimum. We differentiate with respect to the *vector* $\\mathbf{w}$. But before we do that, we'll expand the brackets in the quadratic form to obtain a series of scalar terms. The rules for bracket expansion across the vectors are similar to those for the scalar system giving,\n",
      "$$\n",
      "(\\mathbf{a} - \\mathbf{b})^\\top (\\mathbf{c} - \\mathbf{d}) = \\mathbf{a}^\\top \\mathbf{c} - \\mathbf{a}^\\top \\mathbf{d} - \\mathbf{b}^\\top \\mathbf{c} + \\mathbf{b}^\\top \\mathbf{d}\n",
      "$$\n",
      "which substituting for $\\mathbf{a} = \\mathbf{c} = \\mathbf{y}$ and $\\mathbf{b}=\\mathbf{d} = \\mathbf{X}\\mathbf{w}$ gives\n",
      "$$\n",
      "E(\\mathbf{w})= \\mathbf{y}^\\top\\mathbf{y} - 2\\mathbf{y}^\\top\\mathbf{X}\\mathbf{w} + \\mathbf{w}^\\top\\mathbf{X}^\\top\\mathbf{X}\\mathbf{w}\n",
      "$$\n",
      "where we used the fact that $\\mathbf{y}^\\top\\mathbf{X}\\mathbf{w}= \\mathbf{w}^\\top\\mathbf{X}^\\top\\mathbf{y}$. Now we can use our rules of differentiation to compute the derivative of this form, which is,\n",
      "$$\n",
      "\\frac{\\text{d}}{\\text{d}\\mathbf{w}}E(\\mathbf{w})=- 2\\mathbf{X}^\\top \\mathbf{y} + 2\\mathbf{X}^\\top\\mathbf{X}\\mathbf{w},\n",
      "$$\n",
      "where we have exploited the fact that $\\mathbf{X}^\\top\\mathbf{X}$ is symmetric to obtain this result."
     ]
    },
    {
     "cell_type": "markdown",
     "metadata": {},
     "source": [
      "### Assignment Question 5\n",
      "\n",
      "Use the equivalence between our vector and our matrix formulations of linear regression, alongside our definition of vector derivates, to match the gradients we've computed directly for $\\frac{\\text{d}E(c, m)}{\\text{d}c}$ and $\\frac{\\text{d}E(c, m)}{\\text{d}m}$ to those for $\\frac{\\text{d}E(\\mathbf{w})}{\\text{d}\\mathbf{w}}$.\n",
      "\n",
      "*20 marks*"
     ]
    },
    {
     "cell_type": "markdown",
     "metadata": {},
     "source": [
      "#### Question 5 Answer\n",
      "\n",
      "Write your answer to the question in this box."
     ]
    },
    {
     "cell_type": "markdown",
     "metadata": {},
     "source": [
      "## Update Equation for Global Optimum\n",
      "\n",
      "Once again, we need to find the minimum of our objective function. Using our multivariate likelihood we can now do for our parameter vector $\\mathbf{w}$. Firstly, just as in the univariate case, we seek stationary points by find parameter vectors that solve for when the gradients are zero,\n",
      "$$\n",
      "\\mathbf{0}=- 2\\mathbf{X}^\\top \\mathbf{y} + 2\\mathbf{X}^\\top\\mathbf{X}\\mathbf{w},\n",
      "$$\n",
      "where $\\mathbf{0}$ is a *vector* of zeros. Rearranging this equation we find the solution to be\n",
      "$$\n",
      "\\mathbf{w} = \\left[\\mathbf{X}^\\top \\mathbf{X}\\right]^{-1} \\mathbf{X}^\\top \\mathbf{y}\n",
      "$$ \n",
      "where $\\mathbf{A}^{-1}$ denotes [*matrix inverse*](http://en.wikipedia.org/wiki/Invertible_matrix).\n",
      "\n",
      "### Solving the Multivariate System\n",
      "\n",
      "The solution for $\\mathbf{w}$ is given in terms of a matrix inverse, but computation of a matrix inverse requires, in itself, an algorithm to resolve it. You'll know this if you had to invert, by hand, a 3\\times 3 matrix in high school. From a numerical stability perspective, it is also best not to compute the matrix inverse directly, but rather to ask the computer to *solve* the  system of linear equations given by\n",
      "$$\\mathbf{X}^\\top\\mathbf{X} \\mathbf{w} = \\mathbf{X}^\\top\\mathbf{y}$$\n",
      "for $\\mathbf{w}$. This can be done in `numpy` using the command"
     ]
    },
    {
     "cell_type": "code",
     "collapsed": false,
     "input": [
      "np.linalg.solve?"
     ],
     "language": "python",
     "metadata": {},
     "outputs": [],
     "prompt_number": 20
    },
    {
     "cell_type": "markdown",
     "metadata": {},
     "source": [
      "so we can obtain the solution using"
     ]
    },
    {
     "cell_type": "code",
     "collapsed": false,
     "input": [
      "w = np.linalg.solve(np.dot(X.T, X), np.dot(X.T, y))\n",
      "print w"
     ],
     "language": "python",
     "metadata": {},
     "outputs": [
      {
       "output_type": "stream",
       "stream": "stdout",
       "text": [
        "[[  2.88952457e+01]\n",
        " [ -1.29806477e-02]]\n"
       ]
      }
     ],
     "prompt_number": 21
    },
    {
     "cell_type": "markdown",
     "metadata": {},
     "source": [
      "We can map it back to the liner regression and plot the fit as follows"
     ]
    },
    {
     "cell_type": "code",
     "collapsed": false,
     "input": [
      "m = w[1]; c=w[0]\n",
      "f_test = m*x_test + c\n",
      "print(m)\n",
      "print(c)\n",
      "plt.plot(x_test, f_test, 'b-')\n",
      "plt.plot(x, y, 'rx')"
     ],
     "language": "python",
     "metadata": {},
     "outputs": [
      {
       "output_type": "stream",
       "stream": "stdout",
       "text": [
        "[-0.01298065]\n",
        "[ 28.89524574]\n"
       ]
      },
      {
       "metadata": {},
       "output_type": "pyout",
       "prompt_number": 22,
       "text": [
        "[<matplotlib.lines.Line2D at 0x10e3cc1d0>]"
       ]
      },
      {
       "metadata": {},
       "output_type": "display_data",
       "png": "[encoded data removed]",
       "text": [
        "<matplotlib.figure.Figure at 0x1044a63d0>"
       ]
      }
     ],
     "prompt_number": 22
    },
    {
     "cell_type": "markdown",
     "metadata": {},
     "source": [
      "## Multivariate Linear Regression\n",
      "\n",
      "A major advantage of the new system is that we can build a linear regression on a multivariate system. The matrix calculus didn't specify what the length of the vector $\\mathbf{x}$ should be, or equivalently the size of the design matrix. \n",
      "\n",
      "### Movie Body Count Data\n",
      "\n",
      "Let's load back in the movie body count data."
     ]
    },
    {
     "cell_type": "code",
     "collapsed": false,
     "input": [
      "data = pods.datasets.movie_body_count()\n",
      "movies = data['Y']"
     ],
     "language": "python",
     "metadata": {},
     "outputs": [],
     "prompt_number": 23
    },
    {
     "cell_type": "markdown",
     "metadata": {},
     "source": [
      "Let's remind ourselves of the features we've been provided with."
     ]
    },
    {
     "cell_type": "code",
     "collapsed": false,
     "input": [
      "print ', '.join(movies.columns)"
     ],
     "language": "python",
     "metadata": {},
     "outputs": [
      {
       "output_type": "stream",
       "stream": "stdout",
       "text": [
        "Film, Year, Body_Count, MPAA_Rating, Genre, Director, Actors, Length_Minutes, IMDB_Rating\n"
       ]
      }
     ],
     "prompt_number": 24
    },
    {
     "cell_type": "markdown",
     "metadata": {},
     "source": [
      "Now we will build a design matrix based on the numeric features: year, Body_Count, Length_Minutes in an effort to predict the rating. We build the design matrix as follows:\n",
      "\n",
      "## Relation to Univariate System\n",
      "\n",
      "Bias as an additional feature."
     ]
    },
    {
     "cell_type": "code",
     "collapsed": false,
     "input": [
      "select_features = ['Year', 'Body_Count', 'Length_Minutes']\n",
      "X = movies[select_features]\n",
      "X['X_0'] = 1 # add a column for the offset\n",
      "y = movies[['IMDB_Rating']]"
     ],
     "language": "python",
     "metadata": {},
     "outputs": [],
     "prompt_number": 25
    },
    {
     "cell_type": "markdown",
     "metadata": {},
     "source": [
      "Now let's perform a linear regression. But this time, we will create a pandas data frame for the result so we can store it in a form that we can visualise easily."
     ]
    },
    {
     "cell_type": "code",
     "collapsed": false,
     "input": [
      "import pandas as pd\n",
      "w = pd.DataFrame(data=np.linalg.solve(np.dot(X.T, X), np.dot(X.T, y)),  # solve linear regression here\n",
      "                 index = X.columns,  # columns of X become rows of w\n",
      "                 columns=['regression_coefficient']) # the column of X is the value of regression coefficient"
     ],
     "language": "python",
     "metadata": {},
     "outputs": [],
     "prompt_number": 26
    },
    {
     "cell_type": "markdown",
     "metadata": {},
     "source": [
      "We can check the residuals to see how good our estimates are"
     ]
    },
    {
     "cell_type": "code",
     "collapsed": false,
     "input": [
      "(y - np.dot(X, w)).hist()"
     ],
     "language": "python",
     "metadata": {},
     "outputs": [
      {
       "metadata": {},
       "output_type": "pyout",
       "prompt_number": 27,
       "text": [
        "array([[<matplotlib.axes.AxesSubplot object at 0x10e3cfd90>]], dtype=object)"
       ]
      },
      {
       "metadata": {},
       "output_type": "display_data",
       "png": "[encoded data removed]",
       "text": [
        "<matplotlib.figure.Figure at 0x10e767dd0>"
       ]
      }
     ],
     "prompt_number": 27
    },
    {
     "cell_type": "markdown",
     "metadata": {},
     "source": [
      "Which shows our model *hasn't* yet done a great job of representation, because the spread of values is large. We can check what the rating is dominated by in terms of regression coefficients."
     ]
    },
    {
     "cell_type": "code",
     "collapsed": false,
     "input": [
      "w"
     ],
     "language": "python",
     "metadata": {},
     "outputs": [
      {
       "html": [
        "<div style=\"max-height:1000px;max-width:1500px;overflow:auto;\">\n",
        "<table border=\"1\" class=\"dataframe\">\n",
        "  <thead>\n",
        "    <tr style=\"text-align: right;\">\n",
        "      <th></th>\n",
        "      <th>regression_coefficient</th>\n",
        "    </tr>\n",
        "  </thead>\n",
        "  <tbody>\n",
        "    <tr>\n",
        "      <th>Year</th>\n",
        "      <td> -0.016280</td>\n",
        "    </tr>\n",
        "    <tr>\n",
        "      <th>Body_Count</th>\n",
        "      <td> -0.000995</td>\n",
        "    </tr>\n",
        "    <tr>\n",
        "      <th>Length_Minutes</th>\n",
        "      <td>  0.025386</td>\n",
        "    </tr>\n",
        "    <tr>\n",
        "      <th>X_0</th>\n",
        "      <td> 36.508363</td>\n",
        "    </tr>\n",
        "  </tbody>\n",
        "</table>\n",
        "</div>"
       ],
       "metadata": {},
       "output_type": "pyout",
       "prompt_number": 28,
       "text": [
        "                regression_coefficient\n",
        "Year                         -0.016280\n",
        "Body_Count                   -0.000995\n",
        "Length_Minutes                0.025386\n",
        "X_0                          36.508363"
       ]
      }
     ],
     "prompt_number": 28
    },
    {
     "cell_type": "markdown",
     "metadata": {},
     "source": [
      "Although we have to be a little careful about interpretation because our input values live on different scales, however it looks like we are dominated by the bias, with a small negative effect for later films (but bear in mind the years are large, so this effect is probably larger than it looks) and a positive effect for length. So it looks like long earlier films generally do better, but the residuals are so high that we probably haven't modelled the system very well."
     ]
    },
    {
     "cell_type": "code",
     "collapsed": false,
     "input": [
      "from IPython.display import YouTubeVideo\n",
      "YouTubeVideo('ui-uNlFHoms')"
     ],
     "language": "python",
     "metadata": {},
     "outputs": [
      {
       "html": [
        "\n",
        "        <iframe\n",
        "            width=\"400\"\n",
        "            height=300\"\n",
        "            src=\"https://www.youtube.com/embed/ui-uNlFHoms\"\n",
        "            frameborder=\"0\"\n",
        "            allowfullscreen\n",
        "        ></iframe>\n",
        "        "
       ],
       "metadata": {},
       "output_type": "pyout",
       "prompt_number": 29,
       "text": [
        "<IPython.lib.display.YouTubeVideo at 0x10e9b3cd0>"
       ]
      }
     ],
     "prompt_number": 29
    },
    {
     "cell_type": "code",
     "collapsed": false,
     "input": [],
     "language": "python",
     "metadata": {},
     "outputs": []
    }
   ],
   "metadata": {}
  }
 ]
}