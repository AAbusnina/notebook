{
 "metadata": {
  "name": "",
  "signature": "sha256:e531970afead85291d320f8e85fad702b2c89a7065cbf342e50f847807cbaa1e"
 },
 "nbformat": 3,
 "nbformat_minor": 0,
 "worksheets": [
  {
   "cells": [
    {
     "cell_type": "markdown",
     "metadata": {},
     "source": [
      "# Linear Algebra and Linear Regression\n",
      "\n",
      "### 14th October 2014 Neil Lawrence"
     ]
    }
   ],
   "metadata": {}
  }
 ]
}