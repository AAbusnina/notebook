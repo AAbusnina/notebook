{
 "metadata": {
  "name": "",
  "signature": "sha256:fa6df3923e8a813df48879f069e0506120d6cf14dde4435a5e43622ed5ef3ea3"
 },
 "nbformat": 3,
 "nbformat_minor": 0,
 "worksheets": [
  {
   "cells": [
    {
     "cell_type": "markdown",
     "metadata": {},
     "source": [
      "# Probability and an Introduction to Jupyter, Python and Pandas\n",
      "\n",
      "### 30th September 2014 Neil Lawrence"
     ]
    },
    {
     "cell_type": "markdown",
     "metadata": {},
     "source": [
      "Welcome to the Machine Learning and Adaptive Intelligence course. In this course we will introduce the basic concepts of machine learning and data science. In particular we will look at tools and techniques that describe how to model. An integrated part of that is how we approach data with the computer. We are choosing to do that with the tool you see in front of you: the Jupyter Notebook. \n",
      "\n",
      "The notebook provides us with a way of interacting with the data that allows us to give the computer instructions and explore the nature of a data set. It is *different* to normal coding, but it is related. In this course you will, through intensive practical sessions and labs, develop your understanding of the interaction between data and computers. \n",
      "\n",
      "The first thing we are going to do is ask you to forget a bit about what you think about normal programming, or 'classical software engineering'. Classical software engineering demands a large amount of design and testing. In data analysis, testing remains very important, but the design is often evolving. The design evolves through a process known as *exploratory data analysis*. You will learn some of the techniques of exploratory data analysis in this course.\n",
      "\n",
      "A particular difference between classical software engineering and data analysis is the way in which programs are run. Classically we spend a deal of time working with a text editor, writing code. Compilations are done on a regular basis and aspects of the code are tested (perhaps with unit tests). \n",
      "\n",
      "Data analysis is more like coding in a debugger. In a debugger (particularly a visual debugger) you interact with the data stored in the memory of the computer to try and understand what is happening in the computer, you need to understand exactly what your bug is: you often have a fixed idea of what the program is trying to do, you are just struggling to find out why it isn't doing it. \n",
      "\n",
      "Naturally, debugging is an important part of data analysis also, but in some sense it can be seen as its entire premise. You load in a data set into a computer that you don't understand, your entire objective is to understand the data. This is best done by interogating the data to visualise it or summarize it, just like in a power visual debugger. However, for data science the requirements for visualization and summarization are far greater than in a regular program. When the data is well understood, the actual number of lines of your program may well be very few (particularly if you disregard commands that load in the data and commands which plot your results). If a powerful data science library is available, you may be able to summarize your code with just two or three lines, but the amount of intellectual energy that is expended on writing those three lines is far greater than in standard code.\n",
      "\n",
      "In the first lecture we will think a little about 'how we got here' in terms of computer science. In the lecture itself, this will be done by taking a subjective perspective, that of my own 'data autobiography'."
     ]
    },
    {
     "cell_type": "markdown",
     "metadata": {},
     "source": [
      "## Assumed Knowledge\n",
      "\n",
      "### Linear Algebra, Probability and Differential Calculus\n",
      "\n",
      "We will be assuming that you have good background in maths. In particular we will be making use of linear algrebra (matrix operations including inverse, inner products, determinant etc), probability (sum rule of probability, product rule of probability), and the calculus of differentiation (and integration!). A new concept for the course is multivariate differentiation and integration. This combines linear algebra and differential calculus. These techniques are vital in understanding probability distributions over high dimensional distributions. \n",
      "\n",
      "### Choice of Language\n",
      "\n",
      "In this course we will be using Python for our programming language. A prerequisite of attending this course is that you have learnt at least one programming language in the past. It is not our objective to teach you python. At Level 4 and Masters we expect our students to be able pick up a language as they go. If you have not experienced python before it may be worth your while spending some time understanding the language. There are resources available for you to do this [here](https://docs.python.org/2/tutorial/) that are based on the standard console. An introduction to the Jupyter notebook (formerly known as the IPython notebook) is available [here](http://ipython.org/ipython-doc/2/notebook/index.html). "
     ]
    },
    {
     "cell_type": "markdown",
     "metadata": {},
     "source": [
      "For our first example of data science, we take inspiration from an example used by [researchers at NJIT](http://www.theswarmlab.com/r-vs-python-round-2/). Those researchers were comparing the qualities of Python with R. They considered the IMDb, the \"Internet Movie Database\" and the [Movie Body Count](http://www.moviebodycounts.com/) website as an example. The python library for importing data from the IMDb is called `imdbpy`. To install it firstly go to [this site](http://imdbpy.sourceforge.net/) and click on the link that says [download as zip](https://bitbucket.org/alberanid/imdbpy/get/5.0.zip). Expand the zip file and then run `python setup.py` from the directry where you've expanded the file. This works on the CICS machines for other machines please follow installation instructions on (http://imdbpy.sourceforge.net/). Once you've installed `imdbpy` you can test it works with the following script, which should list movies with the word 'python' in their title. To run the code in the following box, simply click the box and press `SHIFT-enter` or `CTRL-enter`. "
     ]
    },
    {
     "cell_type": "code",
     "collapsed": false,
     "input": [
      "from imdb import IMDb\n",
      "ia = IMDb()\n",
      "\n",
      "for movie in ia.search_movie('python'):\n",
      "    print movie "
     ],
     "language": "python",
     "metadata": {},
     "outputs": [
      {
       "output_type": "stream",
       "stream": "stdout",
       "text": [
        "Python\n",
        "Python\n",
        "Monty Python and the Holy Grail\n",
        "Monty Python's Flying Circus\n",
        "Python 2\n",
        "Mega Python vs. Gatoroid\n",
        "Monty Python Live (Mostly)\n",
        "The Python\n",
        "Boa vs. Python\n",
        "Monty Python's The Meaning of Life\n",
        "Python Hunters\n",
        "Monty Python Live at the Hollywood Bowl\n",
        "Monty Python's Fliegender Zirkus\n",
        "Python Night: 30 Years of Monty Python\n",
        "Pythons\n",
        "Life of Python\n",
        "Police Python 357\n",
        "The Seventh Python\n",
        "Monty Python's Personal Best\n",
        "Monty Python & the Quest for the Holy Grail\n"
       ]
      }
     ],
     "prompt_number": 2
    },
    {
     "cell_type": "markdown",
     "metadata": {},
     "source": [
      "Have a play with the code in the above box. Think about the following questions: what is the difference between `CTRL-enter` and `SHIFT-enter` in running the code? Can you do other things with the movie data base? How can you find help in the notebook?\n"
     ]
    },
    {
     "cell_type": "markdown",
     "metadata": {},
     "source": [
      "### Assignment Question 1\n",
      "\n",
      "Who invented python and why? What was the language designed to do? What is the origin of the name \"python\"? Is the language a compiled language? Is it an object orientated language?\n",
      "\n",
      "*10 marks*"
     ]
    },
    {
     "cell_type": "markdown",
     "metadata": {},
     "source": [
      "#### Question 1 Answer\n",
      "\n",
      "Write your answer to the question in this box."
     ]
    },
    {
     "cell_type": "markdown",
     "metadata": {},
     "source": [
      "Once you've had a play with the code we can load in some data using the `pandas` library for data analysis. We will make use of data that has already been 'scraped' from the [Movie Body Count](http://www.moviebodycounts.com/) website. Their code and the data is available at [their github repository](https://github.com/sjmgarnier/R-vs-Python/tree/master/Deadliest%20movies%20scrape/code). Git is a version control system and github is a website that hosts code that can be accessed through git. By sharing the code publicly through github, the authors are licensing the code publicly and allowing you to access and edit it. As well as accessing the code via github you can also [download the zip file](https://github.com/sjmgarnier/R-vs-Python/archive/master.zip). Once you have downloaded the data unzip it into the same directory where you have downloaded this file. To run the original script, hyou would also need to install the html2text library with `pip install html2text`. That takes too long to do, so instead we will upload the pre-prepared csv file using pandas. "
     ]
    },
    {
     "cell_type": "code",
     "collapsed": false,
     "input": [
      "import pandas as pd# import the pandas library\n",
      "film_deaths = pd.read_csv('./R-vs-Python-master/Deadliest movies scrape/code/film-death-counts-Python.csv')\n"
     ],
     "language": "python",
     "metadata": {},
     "outputs": [],
     "prompt_number": 32
    },
    {
     "cell_type": "markdown",
     "metadata": {},
     "source": [
      "Once it is loaded in the data can be summarized using the `describe` method in pandas.\n"
     ]
    },
    {
     "cell_type": "code",
     "collapsed": false,
     "input": [
      "film_deaths.describe()"
     ],
     "language": "python",
     "metadata": {},
     "outputs": [
      {
       "html": [
        "<div style=\"max-height:1000px;max-width:1500px;overflow:auto;\">\n",
        "<table border=\"1\" class=\"dataframe\">\n",
        "  <thead>\n",
        "    <tr style=\"text-align: right;\">\n",
        "      <th></th>\n",
        "      <th>Year</th>\n",
        "      <th>Body_Count</th>\n",
        "      <th>Length_Minutes</th>\n",
        "      <th>IMDB_Rating</th>\n",
        "    </tr>\n",
        "  </thead>\n",
        "  <tbody>\n",
        "    <tr>\n",
        "      <th>count</th>\n",
        "      <td>  421.000000</td>\n",
        "      <td> 421.000000</td>\n",
        "      <td> 421.000000</td>\n",
        "      <td> 421.000000</td>\n",
        "    </tr>\n",
        "    <tr>\n",
        "      <th>mean</th>\n",
        "      <td> 1996.491686</td>\n",
        "      <td>  53.287411</td>\n",
        "      <td> 115.427553</td>\n",
        "      <td>   6.882898</td>\n",
        "    </tr>\n",
        "    <tr>\n",
        "      <th>std</th>\n",
        "      <td>   10.913210</td>\n",
        "      <td>  82.068035</td>\n",
        "      <td>  21.652287</td>\n",
        "      <td>   1.110788</td>\n",
        "    </tr>\n",
        "    <tr>\n",
        "      <th>min</th>\n",
        "      <td> 1949.000000</td>\n",
        "      <td>   0.000000</td>\n",
        "      <td>  79.000000</td>\n",
        "      <td>   2.000000</td>\n",
        "    </tr>\n",
        "    <tr>\n",
        "      <th>25%</th>\n",
        "      <td> 1991.000000</td>\n",
        "      <td>  11.000000</td>\n",
        "      <td> 100.000000</td>\n",
        "      <td>   6.200000</td>\n",
        "    </tr>\n",
        "    <tr>\n",
        "      <th>50%</th>\n",
        "      <td> 2000.000000</td>\n",
        "      <td>  28.000000</td>\n",
        "      <td> 111.000000</td>\n",
        "      <td>   6.900000</td>\n",
        "    </tr>\n",
        "    <tr>\n",
        "      <th>75%</th>\n",
        "      <td> 2005.000000</td>\n",
        "      <td>  61.000000</td>\n",
        "      <td> 127.000000</td>\n",
        "      <td>   7.700000</td>\n",
        "    </tr>\n",
        "    <tr>\n",
        "      <th>max</th>\n",
        "      <td> 2009.000000</td>\n",
        "      <td> 836.000000</td>\n",
        "      <td> 201.000000</td>\n",
        "      <td>   9.300000</td>\n",
        "    </tr>\n",
        "  </tbody>\n",
        "</table>\n",
        "</div>"
       ],
       "metadata": {},
       "output_type": "pyout",
       "prompt_number": 11,
       "text": [
        "              Year  Body_Count  Length_Minutes  IMDB_Rating\n",
        "count   421.000000  421.000000      421.000000   421.000000\n",
        "mean   1996.491686   53.287411      115.427553     6.882898\n",
        "std      10.913210   82.068035       21.652287     1.110788\n",
        "min    1949.000000    0.000000       79.000000     2.000000\n",
        "25%    1991.000000   11.000000      100.000000     6.200000\n",
        "50%    2000.000000   28.000000      111.000000     6.900000\n",
        "75%    2005.000000   61.000000      127.000000     7.700000\n",
        "max    2009.000000  836.000000      201.000000     9.300000"
       ]
      }
     ],
     "prompt_number": 11
    },
    {
     "cell_type": "markdown",
     "metadata": {},
     "source": [
      "The film deaths data is stored in an object known as a 'data frame'. Data frames come from the statistical family of programming languages based on `S`, the most widely used of which is [`R`](http://en.wikipedia.org/wiki/R_(programming_language)). The data frame gives us a convenient object for manipulating data. The describe method summarizes which columns there are in the data frame and gives us counts, means, standard deviations and percentiles for the values in those columns. To access a column directly we can write"
     ]
    },
    {
     "cell_type": "code",
     "collapsed": false,
     "input": [
      "print film_deaths['Year']\n",
      "#print film_deaths['Body_Count']"
     ],
     "language": "python",
     "metadata": {},
     "outputs": [
      {
       "output_type": "stream",
       "stream": "stdout",
       "text": [
        "0     2002\n",
        "1     2007\n",
        "2     2006\n",
        "3     1999\n",
        "4     1971\n",
        "5     1988\n",
        "6     1988\n",
        "7     1990\n",
        "8     2005\n",
        "9     1988\n",
        "10    2002\n",
        "11    1979\n",
        "12    2007\n",
        "13    2006\n",
        "14    1980\n",
        "...\n",
        "406    2002\n",
        "407    1968\n",
        "408    1969\n",
        "409    2000\n",
        "410    2003\n",
        "411    2006\n",
        "412    2002\n",
        "413    2005\n",
        "414    1974\n",
        "415    2000\n",
        "416    2007\n",
        "417    1967\n",
        "418    2007\n",
        "419    2001\n",
        "420    1964\n",
        "Name: Year, Length: 421, dtype: int64\n"
       ]
      }
     ],
     "prompt_number": 33
    },
    {
     "cell_type": "markdown",
     "metadata": {},
     "source": [
      "This shows the number of deaths per film across the years. We can plot the data as follows."
     ]
    },
    {
     "cell_type": "code",
     "collapsed": false,
     "input": [
      "# this ensures the plot appears in the web browser\n",
      "%matplotlib inline \n",
      "import pylab as pb # this imports the plotting library in python\n",
      "\n",
      "pb.plot(film_deaths['Year'], film_deaths['Body_Count'], 'rx')"
     ],
     "language": "python",
     "metadata": {},
     "outputs": [
      {
       "metadata": {},
       "output_type": "pyout",
       "prompt_number": 20,
       "text": [
        "[<matplotlib.lines.Line2D at 0x7f3496ea3650>]"
       ]
      },
      {
       "metadata": {},
       "output_type": "display_data",
       "png": "[encoded data removed]",
       "text": [
        "<matplotlib.figure.Figure at 0x7f34972faf10>"
       ]
      }
     ],
     "prompt_number": 20
    },
    {
     "cell_type": "markdown",
     "metadata": {},
     "source": [
      "We immediately note that some films have a lot of deaths, which prevent us seeing the detail of the main body of films. First lets identify the films with the most deaths."
     ]
    },
    {
     "cell_type": "code",
     "collapsed": false,
     "input": [
      "film_deaths[film_deaths['Body_Count']>200]"
     ],
     "language": "python",
     "metadata": {},
     "outputs": [
      {
       "html": [
        "<div style=\"max-height:1000px;max-width:1500px;overflow:auto;\">\n",
        "<table border=\"1\" class=\"dataframe\">\n",
        "  <thead>\n",
        "    <tr style=\"text-align: right;\">\n",
        "      <th></th>\n",
        "      <th>Film</th>\n",
        "      <th>Year</th>\n",
        "      <th>Body_Count</th>\n",
        "      <th>MPAA_Rating</th>\n",
        "      <th>Genre</th>\n",
        "      <th>Director</th>\n",
        "      <th>Actors</th>\n",
        "      <th>Length_Minutes</th>\n",
        "      <th>IMDB_Rating</th>\n",
        "    </tr>\n",
        "  </thead>\n",
        "  <tbody>\n",
        "    <tr>\n",
        "      <th>60 </th>\n",
        "      <td>                             Dip huet gaai tau</td>\n",
        "      <td> 1990</td>\n",
        "      <td> 214</td>\n",
        "      <td>   NaN</td>\n",
        "      <td>               Crime|Drama|Thriller</td>\n",
        "      <td>                                          John Woo</td>\n",
        "      <td> Tony Leung Chiu Wai|Jacky Cheung|Waise Lee|Sim...</td>\n",
        "      <td> 136</td>\n",
        "      <td> 7.7</td>\n",
        "    </tr>\n",
        "    <tr>\n",
        "      <th>117</th>\n",
        "      <td>                                   Equilibrium</td>\n",
        "      <td> 2002</td>\n",
        "      <td> 236</td>\n",
        "      <td>     R</td>\n",
        "      <td>       Action|Drama|Sci-Fi|Thriller</td>\n",
        "      <td>                                       Kurt Wimmer</td>\n",
        "      <td> Christian Bale|Dominic Purcell|Sean Bean|Chris...</td>\n",
        "      <td> 107</td>\n",
        "      <td> 7.6</td>\n",
        "    </tr>\n",
        "    <tr>\n",
        "      <th>154</th>\n",
        "      <td>                                    Grindhouse</td>\n",
        "      <td> 2007</td>\n",
        "      <td> 310</td>\n",
        "      <td>     R</td>\n",
        "      <td>             Action|Horror|Thriller</td>\n",
        "      <td> Robert Rodriguez|Eli Roth|Quentin Tarantino|Ed...</td>\n",
        "      <td> Kurt Russell|Zo\u00eb Bell|Rosario Dawson|Vanessa F...</td>\n",
        "      <td> 191</td>\n",
        "      <td> 7.7</td>\n",
        "    </tr>\n",
        "    <tr>\n",
        "      <th>159</th>\n",
        "      <td>                              Lat sau san taam</td>\n",
        "      <td> 1992</td>\n",
        "      <td> 307</td>\n",
        "      <td>     R</td>\n",
        "      <td>        Action|Crime|Drama|Thriller</td>\n",
        "      <td>                                          John Woo</td>\n",
        "      <td> Yun-Fat Chow|Tony Leung Chiu Wai|Teresa Mo|Phi...</td>\n",
        "      <td> 128</td>\n",
        "      <td> 8.0</td>\n",
        "    </tr>\n",
        "    <tr>\n",
        "      <th>193</th>\n",
        "      <td>                             Kingdom of Heaven</td>\n",
        "      <td> 2005</td>\n",
        "      <td> 610</td>\n",
        "      <td>     R</td>\n",
        "      <td> Action|Adventure|Drama|History|War</td>\n",
        "      <td>                                      Ridley Scott</td>\n",
        "      <td> Martin Hancock|Michael Sheen|Nathalie Cox|Eriq...</td>\n",
        "      <td> 144</td>\n",
        "      <td> 7.2</td>\n",
        "    </tr>\n",
        "    <tr>\n",
        "      <th>206</th>\n",
        "      <td>                              The Last Samurai</td>\n",
        "      <td> 2003</td>\n",
        "      <td> 558</td>\n",
        "      <td>     R</td>\n",
        "      <td>           Action|Drama|History|War</td>\n",
        "      <td>                                      Edward Zwick</td>\n",
        "      <td> Ken Watanabe|Tom Cruise|William Atherton|Chad ...</td>\n",
        "      <td> 154</td>\n",
        "      <td> 7.7</td>\n",
        "    </tr>\n",
        "    <tr>\n",
        "      <th>222</th>\n",
        "      <td>         The Lord of the Rings: The Two Towers</td>\n",
        "      <td> 2002</td>\n",
        "      <td> 468</td>\n",
        "      <td> PG-13</td>\n",
        "      <td>           Action|Adventure|Fantasy</td>\n",
        "      <td>                                     Peter Jackson</td>\n",
        "      <td> Bruce Allpress|Sean Astin|John Bach|Sala Baker...</td>\n",
        "      <td> 179</td>\n",
        "      <td> 8.8</td>\n",
        "    </tr>\n",
        "    <tr>\n",
        "      <th>223</th>\n",
        "      <td> The Lord of the Rings: The Return of the King</td>\n",
        "      <td> 2003</td>\n",
        "      <td> 836</td>\n",
        "      <td> PG-13</td>\n",
        "      <td>           Action|Adventure|Fantasy</td>\n",
        "      <td>                                     Peter Jackson</td>\n",
        "      <td> Noel Appleby|Alexandra Astin|Sean Astin|David ...</td>\n",
        "      <td> 201</td>\n",
        "      <td> 8.9</td>\n",
        "    </tr>\n",
        "    <tr>\n",
        "      <th>291</th>\n",
        "      <td>                                         Rambo</td>\n",
        "      <td> 2008</td>\n",
        "      <td> 247</td>\n",
        "      <td>     R</td>\n",
        "      <td>                Action|Thriller|War</td>\n",
        "      <td>                                Sylvester Stallone</td>\n",
        "      <td> Sylvester Stallone|Julie Benz|Matthew Marsden|...</td>\n",
        "      <td>  92</td>\n",
        "      <td> 7.1</td>\n",
        "    </tr>\n",
        "    <tr>\n",
        "      <th>317</th>\n",
        "      <td>                           Saving Private Ryan</td>\n",
        "      <td> 1998</td>\n",
        "      <td> 255</td>\n",
        "      <td>     R</td>\n",
        "      <td>                   Action|Drama|War</td>\n",
        "      <td>                                  Steven Spielberg</td>\n",
        "      <td> Tom Hanks|Tom Sizemore|Edward Burns|Barry Pepp...</td>\n",
        "      <td> 169</td>\n",
        "      <td> 8.6</td>\n",
        "    </tr>\n",
        "    <tr>\n",
        "      <th>349</th>\n",
        "      <td>                             Starship Troopers</td>\n",
        "      <td> 1997</td>\n",
        "      <td> 256</td>\n",
        "      <td>     R</td>\n",
        "      <td>                      Action|Sci-Fi</td>\n",
        "      <td>                                    Paul Verhoeven</td>\n",
        "      <td> Casper Van Dien|Dina Meyer|Denise Richards|Jak...</td>\n",
        "      <td> 129</td>\n",
        "      <td> 7.2</td>\n",
        "    </tr>\n",
        "    <tr>\n",
        "      <th>375</th>\n",
        "      <td>                                       Titanic</td>\n",
        "      <td> 1997</td>\n",
        "      <td> 307</td>\n",
        "      <td> PG-13</td>\n",
        "      <td>                      Drama|Romance</td>\n",
        "      <td>                                     James Cameron</td>\n",
        "      <td> Leonardo DiCaprio|Kate Winslet|Billy Zane|Kath...</td>\n",
        "      <td> 194</td>\n",
        "      <td> 7.7</td>\n",
        "    </tr>\n",
        "    <tr>\n",
        "      <th>382</th>\n",
        "      <td>                                          Troy</td>\n",
        "      <td> 2004</td>\n",
        "      <td> 572</td>\n",
        "      <td>     R</td>\n",
        "      <td>                    Adventure|Drama</td>\n",
        "      <td>                                 Wolfgang Petersen</td>\n",
        "      <td> Julian Glover|Brian Cox|Nathan Jones|Adoni Mar...</td>\n",
        "      <td> 163</td>\n",
        "      <td> 7.2</td>\n",
        "    </tr>\n",
        "    <tr>\n",
        "      <th>406</th>\n",
        "      <td>                              We Were Soldiers</td>\n",
        "      <td> 2002</td>\n",
        "      <td> 305</td>\n",
        "      <td>     R</td>\n",
        "      <td>           Action|Drama|History|War</td>\n",
        "      <td>                                   Randall Wallace</td>\n",
        "      <td> Mel Gibson|Madeleine Stowe|Greg Kinnear|Sam El...</td>\n",
        "      <td> 138</td>\n",
        "      <td> 7.1</td>\n",
        "    </tr>\n",
        "  </tbody>\n",
        "</table>\n",
        "</div>"
       ],
       "metadata": {},
       "output_type": "pyout",
       "prompt_number": 21,
       "text": [
        "                                              Film  Year  Body_Count  \\\n",
        "60                               Dip huet gaai tau  1990         214   \n",
        "117                                    Equilibrium  2002         236   \n",
        "154                                     Grindhouse  2007         310   \n",
        "159                               Lat sau san taam  1992         307   \n",
        "193                              Kingdom of Heaven  2005         610   \n",
        "206                               The Last Samurai  2003         558   \n",
        "222          The Lord of the Rings: The Two Towers  2002         468   \n",
        "223  The Lord of the Rings: The Return of the King  2003         836   \n",
        "291                                          Rambo  2008         247   \n",
        "317                            Saving Private Ryan  1998         255   \n",
        "349                              Starship Troopers  1997         256   \n",
        "375                                        Titanic  1997         307   \n",
        "382                                           Troy  2004         572   \n",
        "406                               We Were Soldiers  2002         305   \n",
        "\n",
        "    MPAA_Rating                               Genre  \\\n",
        "60          NaN                Crime|Drama|Thriller   \n",
        "117           R        Action|Drama|Sci-Fi|Thriller   \n",
        "154           R              Action|Horror|Thriller   \n",
        "159           R         Action|Crime|Drama|Thriller   \n",
        "193           R  Action|Adventure|Drama|History|War   \n",
        "206           R            Action|Drama|History|War   \n",
        "222       PG-13            Action|Adventure|Fantasy   \n",
        "223       PG-13            Action|Adventure|Fantasy   \n",
        "291           R                 Action|Thriller|War   \n",
        "317           R                    Action|Drama|War   \n",
        "349           R                       Action|Sci-Fi   \n",
        "375       PG-13                       Drama|Romance   \n",
        "382           R                     Adventure|Drama   \n",
        "406           R            Action|Drama|History|War   \n",
        "\n",
        "                                              Director  \\\n",
        "60                                            John Woo   \n",
        "117                                        Kurt Wimmer   \n",
        "154  Robert Rodriguez|Eli Roth|Quentin Tarantino|Ed...   \n",
        "159                                           John Woo   \n",
        "193                                       Ridley Scott   \n",
        "206                                       Edward Zwick   \n",
        "222                                      Peter Jackson   \n",
        "223                                      Peter Jackson   \n",
        "291                                 Sylvester Stallone   \n",
        "317                                   Steven Spielberg   \n",
        "349                                     Paul Verhoeven   \n",
        "375                                      James Cameron   \n",
        "382                                  Wolfgang Petersen   \n",
        "406                                    Randall Wallace   \n",
        "\n",
        "                                                Actors  Length_Minutes  \\\n",
        "60   Tony Leung Chiu Wai|Jacky Cheung|Waise Lee|Sim...             136   \n",
        "117  Christian Bale|Dominic Purcell|Sean Bean|Chris...             107   \n",
        "154  Kurt Russell|Zo\u00eb Bell|Rosario Dawson|Vanessa F...             191   \n",
        "159  Yun-Fat Chow|Tony Leung Chiu Wai|Teresa Mo|Phi...             128   \n",
        "193  Martin Hancock|Michael Sheen|Nathalie Cox|Eriq...             144   \n",
        "206  Ken Watanabe|Tom Cruise|William Atherton|Chad ...             154   \n",
        "222  Bruce Allpress|Sean Astin|John Bach|Sala Baker...             179   \n",
        "223  Noel Appleby|Alexandra Astin|Sean Astin|David ...             201   \n",
        "291  Sylvester Stallone|Julie Benz|Matthew Marsden|...              92   \n",
        "317  Tom Hanks|Tom Sizemore|Edward Burns|Barry Pepp...             169   \n",
        "349  Casper Van Dien|Dina Meyer|Denise Richards|Jak...             129   \n",
        "375  Leonardo DiCaprio|Kate Winslet|Billy Zane|Kath...             194   \n",
        "382  Julian Glover|Brian Cox|Nathan Jones|Adoni Mar...             163   \n",
        "406  Mel Gibson|Madeleine Stowe|Greg Kinnear|Sam El...             138   \n",
        "\n",
        "     IMDB_Rating  \n",
        "60           7.7  \n",
        "117          7.6  \n",
        "154          7.7  \n",
        "159          8.0  \n",
        "193          7.2  \n",
        "206          7.7  \n",
        "222          8.8  \n",
        "223          8.9  \n",
        "291          7.1  \n",
        "317          8.6  \n",
        "349          7.2  \n",
        "375          7.7  \n",
        "382          7.2  \n",
        "406          7.1  "
       ]
      }
     ],
     "prompt_number": 21
    },
    {
     "cell_type": "markdown",
     "metadata": {},
     "source": [
      "Here we are using the command `film_deaths['Kill_Count']>200` to index the films in the pandas data frame which have over 200 deaths. To sort them in order we can also use the `sort` command. The result of this command on its own is a data series of `True` and `False` values. However, when it is passed to the `film_deaths` data frame it returns a new data frame which contains only those values for which the data series is `True`. We can also sort the result. To sort the result by the values in the `Kill_Count` column in *descending* order we use the following command."
     ]
    },
    {
     "cell_type": "code",
     "collapsed": false,
     "input": [
      "film_deaths[film_deaths['Body_Count']>200].sort(columns='Body_Count', ascending=False)"
     ],
     "language": "python",
     "metadata": {},
     "outputs": [
      {
       "html": [
        "<div style=\"max-height:1000px;max-width:1500px;overflow:auto;\">\n",
        "<table border=\"1\" class=\"dataframe\">\n",
        "  <thead>\n",
        "    <tr style=\"text-align: right;\">\n",
        "      <th></th>\n",
        "      <th>Film</th>\n",
        "      <th>Year</th>\n",
        "      <th>Body_Count</th>\n",
        "      <th>MPAA_Rating</th>\n",
        "      <th>Genre</th>\n",
        "      <th>Director</th>\n",
        "      <th>Actors</th>\n",
        "      <th>Length_Minutes</th>\n",
        "      <th>IMDB_Rating</th>\n",
        "    </tr>\n",
        "  </thead>\n",
        "  <tbody>\n",
        "    <tr>\n",
        "      <th>223</th>\n",
        "      <td> The Lord of the Rings: The Return of the King</td>\n",
        "      <td> 2003</td>\n",
        "      <td> 836</td>\n",
        "      <td> PG-13</td>\n",
        "      <td>           Action|Adventure|Fantasy</td>\n",
        "      <td>                                     Peter Jackson</td>\n",
        "      <td> Noel Appleby|Alexandra Astin|Sean Astin|David ...</td>\n",
        "      <td> 201</td>\n",
        "      <td> 8.9</td>\n",
        "    </tr>\n",
        "    <tr>\n",
        "      <th>193</th>\n",
        "      <td>                             Kingdom of Heaven</td>\n",
        "      <td> 2005</td>\n",
        "      <td> 610</td>\n",
        "      <td>     R</td>\n",
        "      <td> Action|Adventure|Drama|History|War</td>\n",
        "      <td>                                      Ridley Scott</td>\n",
        "      <td> Martin Hancock|Michael Sheen|Nathalie Cox|Eriq...</td>\n",
        "      <td> 144</td>\n",
        "      <td> 7.2</td>\n",
        "    </tr>\n",
        "    <tr>\n",
        "      <th>382</th>\n",
        "      <td>                                          Troy</td>\n",
        "      <td> 2004</td>\n",
        "      <td> 572</td>\n",
        "      <td>     R</td>\n",
        "      <td>                    Adventure|Drama</td>\n",
        "      <td>                                 Wolfgang Petersen</td>\n",
        "      <td> Julian Glover|Brian Cox|Nathan Jones|Adoni Mar...</td>\n",
        "      <td> 163</td>\n",
        "      <td> 7.2</td>\n",
        "    </tr>\n",
        "    <tr>\n",
        "      <th>206</th>\n",
        "      <td>                              The Last Samurai</td>\n",
        "      <td> 2003</td>\n",
        "      <td> 558</td>\n",
        "      <td>     R</td>\n",
        "      <td>           Action|Drama|History|War</td>\n",
        "      <td>                                      Edward Zwick</td>\n",
        "      <td> Ken Watanabe|Tom Cruise|William Atherton|Chad ...</td>\n",
        "      <td> 154</td>\n",
        "      <td> 7.7</td>\n",
        "    </tr>\n",
        "    <tr>\n",
        "      <th>222</th>\n",
        "      <td>         The Lord of the Rings: The Two Towers</td>\n",
        "      <td> 2002</td>\n",
        "      <td> 468</td>\n",
        "      <td> PG-13</td>\n",
        "      <td>           Action|Adventure|Fantasy</td>\n",
        "      <td>                                     Peter Jackson</td>\n",
        "      <td> Bruce Allpress|Sean Astin|John Bach|Sala Baker...</td>\n",
        "      <td> 179</td>\n",
        "      <td> 8.8</td>\n",
        "    </tr>\n",
        "    <tr>\n",
        "      <th>154</th>\n",
        "      <td>                                    Grindhouse</td>\n",
        "      <td> 2007</td>\n",
        "      <td> 310</td>\n",
        "      <td>     R</td>\n",
        "      <td>             Action|Horror|Thriller</td>\n",
        "      <td> Robert Rodriguez|Eli Roth|Quentin Tarantino|Ed...</td>\n",
        "      <td> Kurt Russell|Zo\u00eb Bell|Rosario Dawson|Vanessa F...</td>\n",
        "      <td> 191</td>\n",
        "      <td> 7.7</td>\n",
        "    </tr>\n",
        "    <tr>\n",
        "      <th>159</th>\n",
        "      <td>                              Lat sau san taam</td>\n",
        "      <td> 1992</td>\n",
        "      <td> 307</td>\n",
        "      <td>     R</td>\n",
        "      <td>        Action|Crime|Drama|Thriller</td>\n",
        "      <td>                                          John Woo</td>\n",
        "      <td> Yun-Fat Chow|Tony Leung Chiu Wai|Teresa Mo|Phi...</td>\n",
        "      <td> 128</td>\n",
        "      <td> 8.0</td>\n",
        "    </tr>\n",
        "    <tr>\n",
        "      <th>375</th>\n",
        "      <td>                                       Titanic</td>\n",
        "      <td> 1997</td>\n",
        "      <td> 307</td>\n",
        "      <td> PG-13</td>\n",
        "      <td>                      Drama|Romance</td>\n",
        "      <td>                                     James Cameron</td>\n",
        "      <td> Leonardo DiCaprio|Kate Winslet|Billy Zane|Kath...</td>\n",
        "      <td> 194</td>\n",
        "      <td> 7.7</td>\n",
        "    </tr>\n",
        "    <tr>\n",
        "      <th>406</th>\n",
        "      <td>                              We Were Soldiers</td>\n",
        "      <td> 2002</td>\n",
        "      <td> 305</td>\n",
        "      <td>     R</td>\n",
        "      <td>           Action|Drama|History|War</td>\n",
        "      <td>                                   Randall Wallace</td>\n",
        "      <td> Mel Gibson|Madeleine Stowe|Greg Kinnear|Sam El...</td>\n",
        "      <td> 138</td>\n",
        "      <td> 7.1</td>\n",
        "    </tr>\n",
        "    <tr>\n",
        "      <th>349</th>\n",
        "      <td>                             Starship Troopers</td>\n",
        "      <td> 1997</td>\n",
        "      <td> 256</td>\n",
        "      <td>     R</td>\n",
        "      <td>                      Action|Sci-Fi</td>\n",
        "      <td>                                    Paul Verhoeven</td>\n",
        "      <td> Casper Van Dien|Dina Meyer|Denise Richards|Jak...</td>\n",
        "      <td> 129</td>\n",
        "      <td> 7.2</td>\n",
        "    </tr>\n",
        "    <tr>\n",
        "      <th>317</th>\n",
        "      <td>                           Saving Private Ryan</td>\n",
        "      <td> 1998</td>\n",
        "      <td> 255</td>\n",
        "      <td>     R</td>\n",
        "      <td>                   Action|Drama|War</td>\n",
        "      <td>                                  Steven Spielberg</td>\n",
        "      <td> Tom Hanks|Tom Sizemore|Edward Burns|Barry Pepp...</td>\n",
        "      <td> 169</td>\n",
        "      <td> 8.6</td>\n",
        "    </tr>\n",
        "    <tr>\n",
        "      <th>291</th>\n",
        "      <td>                                         Rambo</td>\n",
        "      <td> 2008</td>\n",
        "      <td> 247</td>\n",
        "      <td>     R</td>\n",
        "      <td>                Action|Thriller|War</td>\n",
        "      <td>                                Sylvester Stallone</td>\n",
        "      <td> Sylvester Stallone|Julie Benz|Matthew Marsden|...</td>\n",
        "      <td>  92</td>\n",
        "      <td> 7.1</td>\n",
        "    </tr>\n",
        "    <tr>\n",
        "      <th>117</th>\n",
        "      <td>                                   Equilibrium</td>\n",
        "      <td> 2002</td>\n",
        "      <td> 236</td>\n",
        "      <td>     R</td>\n",
        "      <td>       Action|Drama|Sci-Fi|Thriller</td>\n",
        "      <td>                                       Kurt Wimmer</td>\n",
        "      <td> Christian Bale|Dominic Purcell|Sean Bean|Chris...</td>\n",
        "      <td> 107</td>\n",
        "      <td> 7.6</td>\n",
        "    </tr>\n",
        "    <tr>\n",
        "      <th>60 </th>\n",
        "      <td>                             Dip huet gaai tau</td>\n",
        "      <td> 1990</td>\n",
        "      <td> 214</td>\n",
        "      <td>   NaN</td>\n",
        "      <td>               Crime|Drama|Thriller</td>\n",
        "      <td>                                          John Woo</td>\n",
        "      <td> Tony Leung Chiu Wai|Jacky Cheung|Waise Lee|Sim...</td>\n",
        "      <td> 136</td>\n",
        "      <td> 7.7</td>\n",
        "    </tr>\n",
        "  </tbody>\n",
        "</table>\n",
        "</div>"
       ],
       "metadata": {},
       "output_type": "pyout",
       "prompt_number": 22,
       "text": [
        "                                              Film  Year  Body_Count  \\\n",
        "223  The Lord of the Rings: The Return of the King  2003         836   \n",
        "193                              Kingdom of Heaven  2005         610   \n",
        "382                                           Troy  2004         572   \n",
        "206                               The Last Samurai  2003         558   \n",
        "222          The Lord of the Rings: The Two Towers  2002         468   \n",
        "154                                     Grindhouse  2007         310   \n",
        "159                               Lat sau san taam  1992         307   \n",
        "375                                        Titanic  1997         307   \n",
        "406                               We Were Soldiers  2002         305   \n",
        "349                              Starship Troopers  1997         256   \n",
        "317                            Saving Private Ryan  1998         255   \n",
        "291                                          Rambo  2008         247   \n",
        "117                                    Equilibrium  2002         236   \n",
        "60                               Dip huet gaai tau  1990         214   \n",
        "\n",
        "    MPAA_Rating                               Genre  \\\n",
        "223       PG-13            Action|Adventure|Fantasy   \n",
        "193           R  Action|Adventure|Drama|History|War   \n",
        "382           R                     Adventure|Drama   \n",
        "206           R            Action|Drama|History|War   \n",
        "222       PG-13            Action|Adventure|Fantasy   \n",
        "154           R              Action|Horror|Thriller   \n",
        "159           R         Action|Crime|Drama|Thriller   \n",
        "375       PG-13                       Drama|Romance   \n",
        "406           R            Action|Drama|History|War   \n",
        "349           R                       Action|Sci-Fi   \n",
        "317           R                    Action|Drama|War   \n",
        "291           R                 Action|Thriller|War   \n",
        "117           R        Action|Drama|Sci-Fi|Thriller   \n",
        "60          NaN                Crime|Drama|Thriller   \n",
        "\n",
        "                                              Director  \\\n",
        "223                                      Peter Jackson   \n",
        "193                                       Ridley Scott   \n",
        "382                                  Wolfgang Petersen   \n",
        "206                                       Edward Zwick   \n",
        "222                                      Peter Jackson   \n",
        "154  Robert Rodriguez|Eli Roth|Quentin Tarantino|Ed...   \n",
        "159                                           John Woo   \n",
        "375                                      James Cameron   \n",
        "406                                    Randall Wallace   \n",
        "349                                     Paul Verhoeven   \n",
        "317                                   Steven Spielberg   \n",
        "291                                 Sylvester Stallone   \n",
        "117                                        Kurt Wimmer   \n",
        "60                                            John Woo   \n",
        "\n",
        "                                                Actors  Length_Minutes  \\\n",
        "223  Noel Appleby|Alexandra Astin|Sean Astin|David ...             201   \n",
        "193  Martin Hancock|Michael Sheen|Nathalie Cox|Eriq...             144   \n",
        "382  Julian Glover|Brian Cox|Nathan Jones|Adoni Mar...             163   \n",
        "206  Ken Watanabe|Tom Cruise|William Atherton|Chad ...             154   \n",
        "222  Bruce Allpress|Sean Astin|John Bach|Sala Baker...             179   \n",
        "154  Kurt Russell|Zo\u00eb Bell|Rosario Dawson|Vanessa F...             191   \n",
        "159  Yun-Fat Chow|Tony Leung Chiu Wai|Teresa Mo|Phi...             128   \n",
        "375  Leonardo DiCaprio|Kate Winslet|Billy Zane|Kath...             194   \n",
        "406  Mel Gibson|Madeleine Stowe|Greg Kinnear|Sam El...             138   \n",
        "349  Casper Van Dien|Dina Meyer|Denise Richards|Jak...             129   \n",
        "317  Tom Hanks|Tom Sizemore|Edward Burns|Barry Pepp...             169   \n",
        "291  Sylvester Stallone|Julie Benz|Matthew Marsden|...              92   \n",
        "117  Christian Bale|Dominic Purcell|Sean Bean|Chris...             107   \n",
        "60   Tony Leung Chiu Wai|Jacky Cheung|Waise Lee|Sim...             136   \n",
        "\n",
        "     IMDB_Rating  \n",
        "223          8.9  \n",
        "193          7.2  \n",
        "382          7.2  \n",
        "206          7.7  \n",
        "222          8.8  \n",
        "154          7.7  \n",
        "159          8.0  \n",
        "375          7.7  \n",
        "406          7.1  \n",
        "349          7.2  \n",
        "317          8.6  \n",
        "291          7.1  \n",
        "117          7.6  \n",
        "60           7.7  "
       ]
      }
     ],
     "prompt_number": 22
    },
    {
     "cell_type": "markdown",
     "metadata": {},
     "source": [
      "We now see that the 'Lord of the Rings' is a large outlier with a very large number of kills. We can try and determine how much of an outlier by histograming the data. "
     ]
    },
    {
     "cell_type": "markdown",
     "metadata": {},
     "source": [
      "### Plotting the Data"
     ]
    },
    {
     "cell_type": "code",
     "collapsed": false,
     "input": [
      "film_deaths['Body_Count'].hist(bins=20) # histogram the data with 20 bins.\n",
      "pb.title('Histogram of Film Kill Count')"
     ],
     "language": "python",
     "metadata": {},
     "outputs": [
      {
       "metadata": {},
       "output_type": "pyout",
       "prompt_number": 23,
       "text": [
        "<matplotlib.text.Text at 0x7f3496f69d90>"
       ]
      },
      {
       "metadata": {},
       "output_type": "display_data",
       "png": "[encoded data removed]",
       "text": [
        "<matplotlib.figure.Figure at 0x7f3496f0bed0>"
       ]
      }
     ],
     "prompt_number": 23
    },
    {
     "cell_type": "markdown",
     "metadata": {},
     "source": [
      "### Assignment Question 2 \n",
      "Read on the internet about the following python libraries: `numpy`, `matplotlib`, `scipy` and `pandas`. What functionality does each provide python. What is the `pylab` library and how does it relate to the other libraries?\n",
      "\n",
      "*10 marks*"
     ]
    },
    {
     "cell_type": "markdown",
     "metadata": {},
     "source": [
      "#### Question 2 Answer\n",
      "\n",
      "Write your answer to the question in this box."
     ]
    },
    {
     "cell_type": "markdown",
     "metadata": {},
     "source": [
      "We could try and remove these outliers, but another approach would be plot the logarithm of the counts against the year."
     ]
    },
    {
     "cell_type": "code",
     "collapsed": false,
     "input": [
      "pb.plot(film_deaths['Year'], film_deaths['Body_Count'], 'rx')\n",
      "ax = pb.gca() # obtain a handle to the current axis\n",
      "ax.set_yscale('log') # use a logarithmic death scale\n",
      "# give the plot some titles and labels\n",
      "pb.title('Film Deaths against Year')\n",
      "pb.ylabel('deaths')\n",
      "pb.xlabel('year')"
     ],
     "language": "python",
     "metadata": {},
     "outputs": [
      {
       "metadata": {},
       "output_type": "pyout",
       "prompt_number": 24,
       "text": [
        "<matplotlib.text.Text at 0x7f34945f7050>"
       ]
      },
      {
       "metadata": {},
       "output_type": "display_data",
       "png": "[encoded data removed]",
       "text": [
        "<matplotlib.figure.Figure at 0x7f3494561790>"
       ]
      }
     ],
     "prompt_number": 24
    },
    {
     "cell_type": "markdown",
     "metadata": {},
     "source": [
      "Note a few things. We are interacting with our data. In particular, we are replotting the data according to what we have learned so far. We are using the progamming language as a *scripting* language to give the computer one command or another, and then the next command we enter is dependent on the result of the previous. This is a very different paradigm to classical software engineering. In classical software engineering we normally write many lines of code (entire object classes or functions) before compiling the code and running it. Our approach is more similar to the approach we take whilst debugging. Historically, researchers interacted with data using a *console*. A command line window which allowed command entry. The notebook format we are using is slightly different. Each of the code entry boxes acts like a separate console window. We can move up and down the notebook and run each part in a different order. The *state* of the program is always as we left it after running the previous part.  "
     ]
    },
    {
     "cell_type": "markdown",
     "metadata": {},
     "source": [
      "### Assignment Question 3\n",
      "\n",
      "What is IPython and why was it invented? Give some examples of functionality it gives over standard python. What is the Jupyter project? Name two languages involved in the Jupyter project other than python.\n",
      "\n",
      "*10 marks*"
     ]
    },
    {
     "cell_type": "markdown",
     "metadata": {},
     "source": [
      "#### Question 3 Answer\n",
      "\n",
      "Write your answer to the question in this box."
     ]
    },
    {
     "cell_type": "markdown",
     "metadata": {},
     "source": [
      "## Probabilities\n",
      "\n",
      "We are now going to do some simple review of probabilities and use this review to construct a *naive Bayes* classifier: our first bit of data science.\n",
      "\n",
      "A probability distribution expresses uncertainty about the outcome of an event. We often encode this uncertainty in a variable. So if we are considering the outcome of an event, $Y$, to be a coin toss, then we might consider $Y=1$ to be heads and $Y=0$ to be tails. We represent the probability of a given outcome with the notation:\n",
      "$$\n",
      "P(Y=1) = 0.5\n",
      "$$\n",
      "The first rule of probability is that the probability must normalize. The sum of the probability of all events must equal 1. So if the probability of heads ($Y=1$) is 0.5, then the probability of tails (the only other possible outcome) is given by\n",
      "$$\n",
      "P(Y=0) = 1-P(Y=1) = 0.5\n",
      "$$\n",
      "\n",
      "Probabilities are often defined as the limit of the ratio between the number of positive outcomes (e.g. *heads*) given the number of trials. If the number of positive outcomes for event $y$ is denoted by $n$ and the number of trials is denoted by $N$ then this gives the ratio \n",
      "$$\n",
      "P(Y=y) = \\lim_{N\\rightarrow \\infty}\\frac{n_y}{N}.\n",
      "$$\n",
      "In practice we never get to observe an event infinite times, so rather than considering this we often use the following estimate\n",
      "$$\n",
      "P(Y=y) \\approx \\frac{n_y}{N}.\n",
      "$$\n",
      "Let's use this rule to compute the approximate probability that a film from the movie body count website has over 40 deaths."
     ]
    },
    {
     "cell_type": "code",
     "collapsed": false,
     "input": [
      "deaths = (film_deaths.Body_Count>40).sum()  # number of positive outcomes (in sum True counts as 1, False counts as 0)\n",
      "total_films = film_deaths.Body_Count.count()\n",
      "\n",
      "prob_death = float(deaths)/float(total_films)\n",
      "print \"Probability of deaths being greather than 40 is:\", prob_death"
     ],
     "language": "python",
     "metadata": {},
     "outputs": [
      {
       "output_type": "stream",
       "stream": "stdout",
       "text": [
        "Probability of deaths being greather than 40 is: 0.377672209026\n"
       ]
      }
     ],
     "prompt_number": 26
    },
    {
     "cell_type": "markdown",
     "metadata": {},
     "source": [
      "### Assignment Question 4\n",
      "\n",
      "We now have an estimate of the probability a film has greater than 40 deaths. The estimate seems quite high. What could be wrong with the estimate? Do you think any film you go to in the cinema has this probability of having greater than 40 deaths?\n",
      "\n",
      "Why did we have to use `float` around our counts of deaths and total films? What would the answer have been if we hadn't used the `float` command? If we were using Python 3 would we have this problem?\n",
      "\n",
      "*20 marks*"
     ]
    },
    {
     "cell_type": "markdown",
     "metadata": {},
     "source": [
      "#### Question 4 Answer\n",
      "\n",
      "Write your answer to the question in this box."
     ]
    },
    {
     "cell_type": "markdown",
     "metadata": {},
     "source": [
      "# Conditioning\n",
      "\n",
      "When predicting whether a coin turns up head or tails, we might think that this event is *independent* of the year or time of day. If we include an observation such as time, then in a probability this is known as *condtioning*. We use this notation, $P(Y=y|T=t)$, to condition the outcome on a second variable (in this case time). Or, often, for a shorthand we use $P(y|t)$ to represent this distribution (the $Y=$ and $T=$ being implicit). Because we don't believe a coin toss depends on time then we might write that \n",
      "$$\n",
      "P(y|t) = p(y).\n",
      "$$\n",
      "However, we might believe that the number of deaths is dependent on the year. For this we can try estimating $P(Y>40 | T=2000)$ and compare the result, for example to $P(Y>40|2002)$ using our empirical estimate of the probability."
     ]
    },
    {
     "cell_type": "code",
     "collapsed": false,
     "input": [
      "for year in [2000, 2002]:\n",
      "    deaths = (film_deaths.Body_Count[film_deaths.Year==year]>40).sum()\n",
      "    total_films = (film_deaths.Year==year).sum()\n",
      "\n",
      "    prob_death = float(deaths)/float(total_films)\n",
      "    print \"Probability of deaths being greather than 40 in year\", year, \"is:\", prob_death"
     ],
     "language": "python",
     "metadata": {},
     "outputs": [
      {
       "output_type": "stream",
       "stream": "stdout",
       "text": [
        "Probability of deaths being greather than 40 in year 2000 is: 0.166666666667\n",
        "Probability of deaths being greather than 40 in year 2002 is: 0.407407407407\n"
       ]
      }
     ],
     "prompt_number": 27
    },
    {
     "cell_type": "markdown",
     "metadata": {},
     "source": [
      "### Assignment Question 5\n",
      "\n",
      "Compute the probability for the number of deaths in each year we have in our `film_deaths` data frame. Store the result in a `numpy` array and plot the probabilities against the years using the `plot` command from `matplotlib`. Do you think the estimate we have created of $P(y|t)$ is a good estimate? Write your code and your written answers in the box below.  \n",
      "\n",
      "*20 marks*"
     ]
    },
    {
     "cell_type": "code",
     "collapsed": false,
     "input": [
      "# Question 5 Answer Code\n",
      "# Write code for you answer to this question in this box\n",
      "# Do not delete these comments, otherwise you will get zero for this answer.\n",
      "# Make sure your code has run and the answer is correct *before* submitting your notebook for marking.\n",
      "\n"
     ],
     "language": "python",
     "metadata": {},
     "outputs": [],
     "prompt_number": 12
    },
    {
     "cell_type": "markdown",
     "metadata": {},
     "source": [
      "#### Question 5 Answer Text\n",
      "\n",
      "Write your answer to the question in this box."
     ]
    },
    {
     "cell_type": "markdown",
     "metadata": {},
     "source": [
      "#### Notes for Question 5\n",
      "\n",
      "Make sure the plot is included in *this* notebook file (the `IPython` magic command `%matplotlib inline` we ran above will do that for you, it only needs to be run once per file)."
     ]
    },
    {
     "cell_type": "markdown",
     "metadata": {},
     "source": [
      "### Rules of Probability\n",
      "\n",
      "We've now introduced conditioning and independence to the notion of probability and computed some conditional probabilities on a practical example The scatter plot of deaths vs year that we created above can be seen as a *joint* probability distribution. We represent a joint probability using the notation $P(Y=y, T=t)$ or $P(y, t)$ for short. Computing a joint probability is equivalent to answering the simultaneous questions, what's the probability that the number of deaths was over 40 and the year was 2002? Or any other question that may occur to us. Again we can easily use pandas to ask such questions.\n"
     ]
    },
    {
     "cell_type": "code",
     "collapsed": false,
     "input": [
      "year = 2000\n",
      "deaths = (film_deaths.Body_Count[film_deaths.Year==year]>40).sum()\n",
      "total_films = film_deaths.Body_Count.count() # this is total number of films\n",
      "prob_death = float(deaths)/float(total_films)\n",
      "print \"Probability of deaths being greather than 40 and year being\", year, \"is:\", prob_death"
     ],
     "language": "python",
     "metadata": {},
     "outputs": [
      {
       "output_type": "stream",
       "stream": "stdout",
       "text": [
        "Probability of deaths being greather than 40 and year being 2000 is: 0.00712589073634\n"
       ]
      }
     ],
     "prompt_number": 28
    },
    {
     "cell_type": "markdown",
     "metadata": {},
     "source": [
      "### The Product Rule\n",
      "\n",
      "This number is the joint probability, $P(Y, T)$ which is much *smaller* than the conditional probability. The number can never be bigger than the conditional probabililty because it is computed using the *product rule*.\n",
      "$$\n",
      "p(Y=y, T=t) = p(Y=y|T=t)p(T=t)\n",
      "$$\n",
      "and $$p(T=t)$$ is a probability distribution, which is equal or less than 1, ensuring the joint distribution is typically smaller than the conditional distribution.\n",
      "\n",
      "The product rule is a *fundamental* rule of probability, and you must remember it! It gives the relationship between the two questions: 1) What's the probability that a film was made in 2002 and has over 40 deaths? and 2) What's the probability that a film has over 40 deaths given that it was made in 2002?\n",
      "\n",
      "In our shorter notation we can write the product rule as\n",
      "$$\n",
      "p(y, t) = p(y|t)p(t)\n",
      "$$\n",
      "We can see the relation working in practice for our data above by computing the different values for $t=2000$."
     ]
    },
    {
     "cell_type": "code",
     "collapsed": false,
     "input": [
      "p_t = float((film_deaths.Year==2002).sum())/float(film_deaths.Body_Count.count())\n",
      "p_y_given_t = float((film_deaths.Body_Count[film_deaths.Year==2002]>40).sum())/float((film_deaths.Year==2002).sum())\n",
      "p_y_and_t = float((film_deaths.Body_Count[film_deaths.Year==2002]>40).sum())/float(film_deaths.Body_Count.count())\n",
      "\n",
      "print \"P(t) is\", p_t\n",
      "print \"P(y|t) is\", p_y_given_t\n",
      "print \"P(y,t) is\", p_y_and_t"
     ],
     "language": "python",
     "metadata": {},
     "outputs": [
      {
       "output_type": "stream",
       "stream": "stdout",
       "text": [
        "P(t) is 0.0641330166271\n",
        "P(y|t) is 0.407407407407\n",
        "P(y,t) is 0.0261282660333\n"
       ]
      }
     ],
     "prompt_number": 30
    },
    {
     "cell_type": "markdown",
     "metadata": {},
     "source": [
      "### The Sum Rule\n",
      "\n",
      "The other *fundamental rule* of probability is the *sum rule* this tells us how to get a *marginal* distribution from the joint distribution. Simply put it says that we need to sum across the value we'd like to remove.\n",
      "$$\n",
      "P(Y=y) = \\sum_{t} P(Y=y, T=t)\n",
      "$$\n",
      "Or in our shortened notation\n",
      "$$\n",
      "P(y) = \\sum_{t} P(y, t)\n",
      "$$"
     ]
    },
    {
     "cell_type": "markdown",
     "metadata": {},
     "source": [
      "### Assignment Question 6\n",
      "\n",
      "Write Code that computes $P(y)$ by adding $P(y, t)$ for all values of $t$. \n",
      "\n",
      "*10 marks*"
     ]
    },
    {
     "cell_type": "code",
     "collapsed": false,
     "input": [
      "# Question 6 Answer Code\n",
      "# Write code for you answer to this question in this box\n",
      "# Do not delete these comments, otherwise you will get zero for this answer.\n",
      "# Make sure your code has run and the answer is correct *before* submitting your notebook for marking.\n"
     ],
     "language": "python",
     "metadata": {},
     "outputs": [],
     "prompt_number": 15
    },
    {
     "cell_type": "markdown",
     "metadata": {},
     "source": [
      "## Bayes' Rule\n",
      "\n",
      "Bayes rule is a very simple rule, it's hardly worth the name of a rule at all. It follows directly from the product rule of probability. Because $P(y, t) = P(y|t)P(t)$ and by symmetry $P(y,t)=P(t,y)=P(t|y)P(y)$ then by equating these two equations and dividing through by $P(y)$ we have\n",
      "$$\n",
      "P(t|y) = \\frac{P(y|t)P(t)}{P(y)}\n",
      "$$\n",
      "which is known as Bayes' rule (or Bayes's rule, it depends how you choose to pronounce it). It's not difficult to derive, and its importance is more to do with the semantic operation that it enables. Each of these probability distributions represents the answer to a question we have about the world. Bayes rule (via the product rule) tells us how to *invert* the probability."
     ]
    },
    {
     "cell_type": "markdown",
     "metadata": {},
     "source": [
      "## Probabilities for Extracting Information from Data\n",
      "\n",
      "What use is all this probability in data science? Let's think about how we might use the probabilities to do some decision making. Let's load up a little more information about the movies."
     ]
    },
    {
     "cell_type": "code",
     "collapsed": false,
     "input": [
      "movies = pd.read_csv('./R-vs-Python-master/Deadliest movies scrape/code/film-death-counts-Python.csv')\n",
      "movies.columns"
     ],
     "language": "python",
     "metadata": {},
     "outputs": [
      {
       "metadata": {},
       "output_type": "pyout",
       "prompt_number": 31,
       "text": [
        "Index([u'Film', u'Year', u'Body_Count', u'MPAA_Rating', u'Genre', u'Director', u'Actors', u'Length_Minutes', u'IMDB_Rating'], dtype='object')"
       ]
      }
     ],
     "prompt_number": 31
    },
    {
     "cell_type": "markdown",
     "metadata": {},
     "source": [
      "Now we see we have several additional features including rating. Let's assume we want to predict the rating given the other information in the data base. How would we go about doing it? "
     ]
    },
    {
     "cell_type": "markdown",
     "metadata": {},
     "source": [
      "### Assignment Question 7\n",
      "\n",
      "Using what you've learnt about joint, conditional and marginal probabilities, as well as the sum and product rule, how would you formulate the question you want to answer in terms of probabilities? Should you be using a joint or a conditional distribution? If it's conditional, what should the distribution be over, and what should it be conditioned on?\n",
      "\n",
      "*20 marks*"
     ]
    },
    {
     "cell_type": "markdown",
     "metadata": {},
     "source": [
      "#### Question 7 Answer Text\n",
      "\n",
      "Write your answer to the question in this box."
     ]
    },
    {
     "cell_type": "markdown",
     "metadata": {},
     "source": [
      "## Assignment Questions\n",
      "\n",
      "The questions in the above lab sheet need to be answered and handed in before 10:00 on 7th October 2014 (i.e. before next lecture). The hand should be done via file upload through [MOLE](http://vle.shef.ac.uk). "
     ]
    }
   ],
   "metadata": {}
  }
 ]
}