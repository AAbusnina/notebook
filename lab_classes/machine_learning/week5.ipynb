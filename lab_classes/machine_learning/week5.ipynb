{
 "metadata": {
  "name": "",
  "signature": "sha256:8159599f519dd06f34df4079e4612297425fda89bc97f8714c0c15395881c5a5"
 },
 "nbformat": 3,
 "nbformat_minor": 0,
 "worksheets": [
  {
   "cells": [
    {
     "cell_type": "markdown",
     "metadata": {},
     "source": [
      "# Review Week: Basis Functions & Linear Regression\n",
      "\n",
      "### 28th October 2014 Neil D. Lawrence\n"
     ]
    },
    {
     "cell_type": "code",
     "collapsed": false,
     "input": [],
     "language": "python",
     "metadata": {},
     "outputs": []
    }
   ],
   "metadata": {}
  }
 ]
}