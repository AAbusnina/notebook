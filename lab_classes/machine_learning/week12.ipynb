{
 "metadata": {
  "name": "",
  "signature": "sha256:bd31c4aa398fc00f75248e28d843457e997232ff9c68aeccc1cdd1bcfbd65b3c"
 },
 "nbformat": 3,
 "nbformat_minor": 0,
 "worksheets": [
  {
   "cells": [
    {
     "cell_type": "markdown",
     "metadata": {},
     "source": [
      "# Special Topics II\n",
      "\n",
      "## 16th December 2014 Neil D. Lawrence"
     ]
    },
    {
     "cell_type": "code",
     "collapsed": false,
     "input": [],
     "language": "python",
     "metadata": {},
     "outputs": []
    }
   ],
   "metadata": {}
  }
 ]
}