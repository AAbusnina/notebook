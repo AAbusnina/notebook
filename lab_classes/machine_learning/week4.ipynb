{
 "metadata": {
  "name": "",
  "signature": "sha256:fbfa03c129b94e453ce01cca08a4156c753e67f31afa0bc4f3fbba27e3ab1233"
 },
 "nbformat": 3,
 "nbformat_minor": 0,
 "worksheets": [
  {
   "cells": [
    {
     "cell_type": "markdown",
     "metadata": {},
     "source": [
      "# Basis Functions\n",
      "\n",
      "### 21st October 2014 Neil Lawrence\n",
      "\n",
      "http://en.wikipedia.org/wiki/Invertible_matrix"
     ]
    },
    {
     "cell_type": "code",
     "collapsed": false,
     "input": [
      "## Basis Functions: Quadratic Fit to Marathon Data\n",
      "\n",
      "Now we will fit a quadratic model using basis functions. Given everything we've learnt above, this is now quite easy to do. Firstly, we need to create a design matrix that contains the quadratic basis, \n",
      "\n",
      "$$\\mathbf{\\Phi} = \\left[ \\mathbf{1} \\quad \\mathbf{x} \\quad \\mathbf{x}^2\\right]$$\n",
      "\n",
      "where this notation means that each column of $\\mathbf{\\Phi}$ is derived from the entire set of input years.\n",
      "\n",
      "Phi = np.hstack([np.ones(x.shape), x, x**2])\n",
      "\n",
      "Now we can solve this system for $\\mathbf{w}$ just as we did for the linear case, so we have,\n",
      "\n",
      "w = np.linalg.solve(np.dot(Phi.T, Phi), np.dot(Phi.T, y))\n",
      "print(w)\n",
      "\n",
      "We can plot the solution in two different ways, either we take\n",
      "\n",
      "f_test = w[2]*x_test**2 + w[1]*x_test + w[0]\n",
      "plt.plot(x_test, f_test, 'b-')\n",
      "plt.plot(x, y, 'rx')"
     ],
     "language": "python",
     "metadata": {},
     "outputs": [
      {
       "ename": "SyntaxError",
       "evalue": "invalid syntax (<ipython-input-1-2b6b616988aa>, line 3)",
       "output_type": "pyerr",
       "traceback": [
        "\u001b[0;36m  File \u001b[0;32m\"<ipython-input-1-2b6b616988aa>\"\u001b[0;36m, line \u001b[0;32m3\u001b[0m\n\u001b[0;31m    Now we will fit a quadratic model using basis functions. Given everything we've learnt above, this is now quite easy to do. Firstly, we need to create a design matrix that contains the quadratic basis,\u001b[0m\n\u001b[0m         ^\u001b[0m\n\u001b[0;31mSyntaxError\u001b[0m\u001b[0;31m:\u001b[0m invalid syntax\n"
       ]
      }
     ],
     "prompt_number": 1
    },
    {
     "cell_type": "markdown",
     "metadata": {},
     "source": [
      "Or we can do the matrix form of this equation which first involves creating a design matrix for the test points,\n",
      "\n",
      "\n",
      "Phi_test = np.hstack((np.ones_like(x_test), x_test, x_test**2))\n",
      "\n",
      "and then computing the value of the function using a matrix multiply\n",
      "\n",
      "f_test = np.dot(Phi_test,w)\n",
      "plt.plot(x_test, f_test, 'b-')\n",
      "plt.plot(x, y, 'rx')\n",
      "\n",
      "Note the values of the coefficient $w_2$ in particular. It is relatively small, because it is multiplying a large number (square of 2000 is 4 million). This need to use small coefficients becomes worse as we increase the order of the fit. As an exercise for this week, try fitting higher order polynomials to the data. See what happens as you increase the polynomial order."
     ]
    }
   ],
   "metadata": {}
  }
 ]
}