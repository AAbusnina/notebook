{
 "metadata": {
  "name": "",
  "signature": "sha256:b473f6b01bbeda1a2928da7bc1ed09befe3d024bf929b9b49b48a61fe13013c3"
 },
 "nbformat": 3,
 "nbformat_minor": 0,
 "worksheets": [
  {
   "cells": [
    {
     "cell_type": "markdown",
     "metadata": {},
     "source": [
      "# Basis Functions\n",
      "\n",
      "### 21st October 2014 Neil Lawrence"
     ]
    }
   ],
   "metadata": {}
  }
 ]
}