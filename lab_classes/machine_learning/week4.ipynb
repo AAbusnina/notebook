{
 "metadata": {
  "name": "",
  "signature": "sha256:2fcba11df525849339b5d2d84d0c4f938e71126377ca038254bb36c3ad2b7e11"
 },
 "nbformat": 3,
 "nbformat_minor": 0,
 "worksheets": [
  {
   "cells": [
    {
     "cell_type": "markdown",
     "metadata": {},
     "source": [
      "# Basis Functions\n",
      "\n",
      "### 21st October 2014 Neil Lawrence\n",
      "\n",
      "We've now seen how we may perform linear regression. Now, we are going to consider how we can perform *non-linear* regression. However, before we get into the details of how to do that we first need to consider in what ways the regression can be non-linear. \n",
      "\n",
      "Multivariate linear regression allows us to build models that take many features into account when making our prediction. In this session we are going to introduce *basis functions*. The term seems complicted, but they are actually based on rather a simple idea. If we are doing a multivariate linear regression, we get extra features that *might* help us predict our required response varible (or target value), $y$. But what if we only have one input value? We can actually artificially generate more input values with basis functions.\n",
      "\n",
      "## Non-linear in the Inputs\n",
      "\n",
      "When we refer to non-linear regression, we are normally referring to whether the regression is non-linear in the input space, or non-linear in the *covariates*. The covariates are the observations that move with the target (or *response*) variable. In our notation we have been using $\\mathbf{x}_i$ to represent a vector of the covariates associated with the $i$th observation. The coresponding response variable is $y_i$. If a model is non-linear in the inputs, it means that there is a non-linear function between the inputs and the response variable. Linear functions are functions that only involve multiplication and addition, in other words they can be represented through *linear algebra*. Linear regression involves assuming that a function takes the form\n",
      "$$\n",
      "f(\\mathbf{x}) = \\mathbf{w}^\\top \\mathbf{x}\n",
      "$$\n",
      "where $\\mathbf{w}$ are our regression weights. A very easy way to make the linear regression non-linear is to introduce non-linear functions. When we are introducing non-linear regression these functions are known as *basis functions*.\n",
      "\n",
      "### Basis Functions\n",
      "\n",
      "Here's the idea, instead of working directly on the original input space, $\\mathbf{x}$, we build models in a new space, $\\boldsymbol{\\phi}(\\mathbf{x})$ where $\\boldsymbol{\\phi}(\\cdot)$ is a *vector valued* function that is defined on the space $\\mathbf{x}$. \n",
      "\n",
      "Remember, that a vector valued function is just a vector that contains functions instead of values. Here's an example for a one dimensional input space, $x$, being projected to a *quadratic* basis. First we consider each basis function in turn, we can think of the elements of our vector as being indexed so that we have\n",
      "\\begin{align*}\n",
      "\\phi_1(x) = 1, \\\\\n",
      "\\phi_2(x) = x, \\\\\n",
      "\\phi_3(x) = x^2.\n",
      "\\end{align*}\n",
      "Now we can consider them together by placing them in a vector,\n",
      "$$\n",
      "\\boldsymbol{\\phi}(x) = \\begin{bmatrix} 1\\\\ x \\\\ x^2\\end{bmatrix}.\n",
      "$$\n",
      "This is the idea of the vector valued function, we have simply collected the different functions together in the same vector making them notationally easier to deal with in our mathematics. \n",
      "\n",
      "When we consider the vector valued function for each data point, then we place all the data into a matrix. The result is a matrix valued function,\n",
      "$$\n",
      "\\boldsymbol{\\Phi}(\\mathbf{x}) = \n",
      "\\begin{bmatrix} 1 & x_1 & x_1^2 \\\\\n",
      "1 & x_2 & x_2^2\\\\\n",
      "\\vdots & \\vdots & \\vdots \\\\\n",
      "1 & x_n & x_n^2\n",
      "\\end{bmatrix}\n",
      "$$\n",
      "where we are still in the one dimensional input setting so $\\mathbf{x}$ here represents a vector of our inputs with $n$ elements. \n",
      "\n",
      "Let's try constructing such a matrix for a set of inputs. First of all, we create a function that returns the matrix valued function"
     ]
    },
    {
     "cell_type": "code",
     "collapsed": false,
     "input": [
      "import numpy as np # import numpy for the arrays.\n",
      "\n",
      "def quadratic(x):\n",
      "    \"\"\"Take in a vector of input values and return the design matrix associated with the basis functions.\"\"\"\n",
      "    return np.hstack([np.ones((n, 1)), x, x**2])\n"
     ],
     "language": "python",
     "metadata": {},
     "outputs": [],
     "prompt_number": 2
    },
    {
     "cell_type": "markdown",
     "metadata": {},
     "source": [
      "This function takes in an $n\\times 1$ dimensional vector and returns an $n\\times 3$ dimensional *design matrix* containing the basis functions. We can plot those basis functions against there input as follows."
     ]
    },
    {
     "cell_type": "code",
     "collapsed": false,
     "input": [
      "# ensure plots appear in the notebook.\n",
      "%matplotlib inline \n",
      "import pylab as plt\n",
      "\n",
      "# first let's generate some inputs\n",
      "n = 100\n",
      "x = np.zeros((n, 1))  # create a data set of zeros\n",
      "x[:, 0] = np.linspace(-1, 1, n) # fill it with values between -1 and 1\n",
      "\n",
      "Phi = quadratic(x)\n",
      "\n",
      "fig, ax = plt.subplots(figsize=(12,4))\n",
      "ax.set_ylim([-1.2, 1.2]) # set y limits to ensure basis functions show.\n",
      "ax.plot(x[:,0], Phi[:, 0], 'r-', label = '$\\phi=1$')\n",
      "ax.plot(x[:,0], Phi[:, 1], 'g-', label = '$\\phi = x$')\n",
      "ax.plot(x[:,0], Phi[:, 2], 'b-', label = '$\\phi = x^2$')\n",
      "ax.legend(loc='lower right')\n",
      "ax.set_title('Quadratic Basis Functions')"
     ],
     "language": "python",
     "metadata": {},
     "outputs": [
      {
       "metadata": {},
       "output_type": "pyout",
       "prompt_number": 3,
       "text": [
        "<matplotlib.text.Text at 0x10d754050>"
       ]
      },
      {
       "metadata": {},
       "output_type": "display_data",
       "png": "[encoded data removed]",
       "text": [
        "<matplotlib.figure.Figure at 0x10d747610>"
       ]
      }
     ],
     "prompt_number": 3
    },
    {
     "cell_type": "markdown",
     "metadata": {},
     "source": [
      "The actual function we observe is then made up of a sum of these functions. This is the reason for the name basis. The term *basis* means 'the underlying support or foundation for an idea, argument, or process', and in this context they form the underlying support for our prediction function. Our prediction function can only be composed of a weighted linear sum of our basis functions. "
     ]
    },
    {
     "cell_type": "markdown",
     "metadata": {},
     "source": [
      "###"
     ]
    },
    {
     "cell_type": "code",
     "collapsed": false,
     "input": [
      "def polynomial(x, num_basis=4):\n",
      "    Phi = np.zeros((x.shape[0], num_basis))\n",
      "    for i in xrange(num_basis):\n",
      "        Phi[:, i:i+1] = x**i\n",
      "    return Phi\n",
      "\n",
      "def rbf(x, num_basis=4, centres=[-1, -0.33, 0.33, 1], width=0.5):\n",
      "    Phi = np.zeros((x.shape[0], num_basis))\n",
      "    for i in xrange(num_basis):\n",
      "        Phi[:, i:i+1] = np.exp(-0.5*((x-centres[i])/width)**2)\n",
      "    return Phi\n",
      "\n",
      "\n",
      "def fourier(x, num_basis=4, frequencies=[2, 1]):\n",
      "    tau = 2*np.pi\n",
      "    Phi = np.zeros((x.shape[0], num_basis))\n",
      "    for i in xrange(num_basis):\n",
      "        if i % 2:\n",
      "            Phi[:, i:i+1] = np.sin(tau*frequencies[i/2]*x)\n",
      "        else:\n",
      "            Phi[:, i:i+1] = np.cos(tau*frequencies[i/2]*x)\n",
      "    return Phi"
     ],
     "language": "python",
     "metadata": {},
     "outputs": [],
     "prompt_number": 4
    },
    {
     "cell_type": "code",
     "collapsed": false,
     "input": [
      "import pods\n",
      "pods.notebook.display_prediction(basis=dict(rbf=rbf, polynomial=polynomial, fourier=fourier))"
     ],
     "language": "python",
     "metadata": {},
     "outputs": [
      {
       "metadata": {},
       "output_type": "display_data",
       "png": "[encoded data removed]",
       "text": [
        "<matplotlib.figure.Figure at 0x10d8c76d0>"
       ]
      }
     ],
     "prompt_number": 5
    },
    {
     "cell_type": "markdown",
     "metadata": {},
     "source": [
      "We can\n",
      "We like to make use of *design* matrices for our data. Design matrices, as you will recall, involve placing the data points into rows of the matrix and data features into the columns of the matrix. By convention, we are referincing a vector with a bold lower case letter, and a matrix with a bold upper case letter. The design matrix is therefore given by\n",
      "$$\n",
      "\\boldsymbol{\\Phi} = \\begin{bmatrix} 1 & \\mathbf{x} & \\mathbf{x}^2\\end{bmatrix}\n",
      "$$\n",
      "where \n",
      "which we can plot as follows\n",
      "\n",
      "### Non-linear but Linear in the Parameters\n",
      "\n",
      "One rather nice aspect of our model is that whilst it is non-linear in the inputs, it is still linear in the parameters $\\mathbf{w}$. This means that our derivations from before continue to operate to allow us to work with this model. In fact, although this is a non-linear regression it is still known as a *linear model* because it is linear in the parameters, \n",
      "$$\n",
      "f(\\mathbf{x}) = \\mathbf{w}^\\top \\boldsymbol{\\phi}(\\mathbf{x})\n",
      "$$\n",
      "where the vector $\\mathbf{x}$ appears inside the basis functions, making our result, $f(\\mathbf{x})$ non-linear in the inputs, but $\\mathbf{w}$ appears outside our basis function, making our result *linear* in the parameters. In practice, our basis function itself may contain its own set of parameters,\n",
      "$$\n",
      "f(\\mathbf{x}) = \\mathbf{w}^\\top \\boldsymbol{\\phi}(\\mathbf{x}; \\boldsymbol{\\theta}),\n",
      "$$\n",
      "that we've denoted here as $\\boldsymbol{\\theta}$. If these parameters appear inside the basis function then our model is *non-linear* in these parameters."
     ]
    },
    {
     "cell_type": "markdown",
     "metadata": {},
     "source": [
      "### Assignment Question X\n",
      "For the following prediction functions state whether the model is linear in the inputs, the parameters or both.\"\"\"\n",
      "\n",
      "(a) $f(x) = w_1x_1 + w_2$\n",
      "\n",
      "(b) $f(x) = w_1\\exp(x_1) + w_2x_2 + w_3$\n",
      "\n",
      "(c) $f(x) = \\log(x_1^{w_1}) + w_2x_2^2 + w_3$\n",
      "\n",
      "(d) $f(x) = \\exp(-\\sum_i(x_i - w_i)^2)$\n",
      "\n",
      "(e) $f(x) = \\exp(-\\mathbf{w}^\\top \\mathbf{x})$\n",
      "\n",
      "*10 marks*"
     ]
    },
    {
     "cell_type": "markdown",
     "metadata": {},
     "source": [
      "#### Question X Answer\n",
      "\n",
      "Write your answer to the question in this box."
     ]
    },
    {
     "cell_type": "code",
     "collapsed": false,
     "input": [
      "x = np.linspace(-1, 1, 100)\n",
      "phi_"
     ],
     "language": "python",
     "metadata": {},
     "outputs": []
    },
    {
     "cell_type": "markdown",
     "metadata": {},
     "source": []
    },
    {
     "cell_type": "markdown",
     "metadata": {},
     "source": [
      "## Basis Functions: Quadratic Fit to Marathon Data\n",
      "\n",
      "Now we will fit a quadratic model using basis functions. Given everything we've learnt above, this is now quite easy to do. Firstly, we need to create a design matrix that contains the quadratic basis, \n",
      "\n",
      "$$\\mathbf{\\Phi} = \\left[ \\mathbf{1} \\quad \\mathbf{x} \\quad \\mathbf{x}^2\\right]$$\n",
      "\n",
      "where this notation means that each column of $\\mathbf{\\Phi}$ is derived from the entire set of input years.\n",
      "\n",
      "Phi = np.hstack([np.ones(x.shape), x, x**2])\n",
      "\n",
      "Now we can solve this system for $\\mathbf{w}$ just as we did for the linear case, so we have,\n",
      "\n",
      "w = np.linalg.solve(np.dot(Phi.T, Phi), np.dot(Phi.T, y))\n",
      "print(w)\n",
      "\n",
      "We can plot the solution in two different ways, either we take\n",
      "\n",
      "f_test = w[2]*x_test**2 + w[1]*x_test + w[0]\n",
      "plt.plot(x_test, f_test, 'b-')\n",
      "plt.plot(x, y, 'rx')"
     ]
    },
    {
     "cell_type": "markdown",
     "metadata": {},
     "source": [
      "Or we can do the matrix form of this equation which first involves creating a design matrix for the test points,\n",
      "\n",
      "\n",
      "Phi_test = np.hstack((np.ones_like(x_test), x_test, x_test**2))\n",
      "\n",
      "and then computing the value of the function using a matrix multiply\n",
      "\n",
      "f_test = np.dot(Phi_test,w)\n",
      "plt.plot(x_test, f_test, 'b-')\n",
      "plt.plot(x, y, 'rx')\n",
      "\n",
      "Note the values of the coefficient $w_2$ in particular. It is relatively small, because it is multiplying a large number (square of 2000 is 4 million). This need to use small coefficients becomes worse as we increase the order of the fit. As an exercise for this week, try fitting higher order polynomials to the data. See what happens as you increase the polynomial order."
     ]
    },
    {
     "cell_type": "code",
     "collapsed": false,
     "input": [
      "\n",
      "\n",
      "http://en.wikipedia.org/wiki/Invertible_matrix"
     ],
     "language": "python",
     "metadata": {},
     "outputs": []
    }
   ],
   "metadata": {}
  }
 ]
}