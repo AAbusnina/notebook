{
 "metadata": {
  "name": "",
  "signature": "sha256:cd522ac925b56ffee064164be9bdc9b48b5b6366b106e6a88c01a8f5bccb6dd6"
 },
 "nbformat": 3,
 "nbformat_minor": 0,
 "worksheets": [
  {
   "cells": [
    {
     "cell_type": "markdown",
     "metadata": {},
     "source": [
      "# Probabilistic Interpretations of Objective Functions: Regression\n",
      "\n",
      "### 11th November 2014 Neil Lawrence"
     ]
    },
    {
     "cell_type": "code",
     "collapsed": false,
     "input": [],
     "language": "python",
     "metadata": {},
     "outputs": []
    }
   ],
   "metadata": {}
  }
 ]
}