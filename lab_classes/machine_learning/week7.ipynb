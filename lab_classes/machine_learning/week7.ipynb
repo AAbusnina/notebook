{
 "metadata": {
  "name": "",
  "signature": "sha256:388865f8fcb7fa82d851ac53976f0cdfafeb24f216679d63ed44f3c44b9f0ef2"
 },
 "nbformat": 3,
 "nbformat_minor": 0,
 "worksheets": [
  {
   "cells": [
    {
     "cell_type": "markdown",
     "metadata": {},
     "source": [
      "# Naive Bayes and an Introduction to Jupyter, Python and Pandas\n",
      "\n",
      "### 30th September 2014 Neil Lawrence\n",
      "\n",
      "Welcome to the Machine Learning and Adaptive Intelligence course"
     ]
    }
   ],
   "metadata": {}
  }
 ]
}