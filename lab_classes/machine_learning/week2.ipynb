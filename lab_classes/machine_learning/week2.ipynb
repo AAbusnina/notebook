{
 "metadata": {
  "name": "",
  "signature": "sha256:13dcd819ea9a43431e993ecc920f4d04a3f5b711dd3e6a28ffce77532bc5218b"
 },
 "nbformat": 3,
 "nbformat_minor": 0,
 "worksheets": [
  {
   "cells": [
    {
     "cell_type": "markdown",
     "metadata": {},
     "source": [
      "# Objective Functions: A Simple Example with Matrix Factorisation.\n",
      "\n",
      "### 7th October 2014 Neil Lawrence\n",
      "\n",
      "In [last week's](./week1.ipynb) class we saw how we could load in a data set to pandas and use it for some simple data processing. We computed variaous probabilities on the data and I encouraged you to think about what sort of probabilities you need for prediction. This week we are going to take a slightly different tack. \n",
      "\n",
      "Broadly speaking there are two dominating approaches to machine learning problems. We started to consider the first approach last week: constructing models based on defining the relationship between variables using probabilities. This week we will consider the second approach: which involves defining an *objective function* and optimizing it. \n",
      "\n",
      "What do we mean by an objective function? An objective function could be an *error function* a *cost function* or a *benefit* function. In evolutionary computing they are called *fitness* functions. But the idea is always the same. We write down a mathematical equation which is then optimized to do the learning. The equation should be a function of the *data* and our model *parameters*. We have a choice when optimizing, either minimize or maximize. To avoid confusion, in the optimization field, we always choose to minimize the function. If we have function that we would like to maximize, we simply choose to minimize the negative of that function. \n",
      "\n",
      "So for this lab session, we are going to ignore probabilities, but don't worry, they will return! \n",
      "\n",
      "This week we are going to try and build a simple movie recommender system using an objective function. To do this, the first thing I'd like you to do is to install some software we've written for sharing information across google documents."
     ]
    }
   ],
   "metadata": {}
  }
 ]
}