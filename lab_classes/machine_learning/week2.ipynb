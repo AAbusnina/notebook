{
 "metadata": {
  "name": "",
  "signature": "sha256:a033a630ed4f9ef1459c5fadc11c2c21d3bac9195bead6bc695290950368c55d"
 },
 "nbformat": 3,
 "nbformat_minor": 0,
 "worksheets": [
  {
   "cells": [
    {
     "cell_type": "markdown",
     "metadata": {},
     "source": [
      "# Objective Functions: A Simple Example with Matrix Factorisation.\n",
      "\n",
      "### 7th October 2014 Neil Lawrence"
     ]
    }
   ],
   "metadata": {}
  }
 ]
}