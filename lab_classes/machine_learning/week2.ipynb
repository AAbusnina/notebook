{
 "metadata": {
  "name": "",
  "signature": "sha256:4b04f4c1934fe74941cfa5155c687f32ba5b13beb1d366ead1beb1d49ce14327"
 },
 "nbformat": 3,
 "nbformat_minor": 0,
 "worksheets": [
  {
   "cells": [
    {
     "cell_type": "markdown",
     "metadata": {},
     "source": [
      "# Objective Functions: A Simple Example with Matrix Factorisation.\n",
      "\n",
      "### 7th October 2014 Neil Lawrence\n",
      "\n",
      "In [last week's](./week1.ipynb) class we saw how we could load in a data set to pandas and use it for some simple data processing. We computed variaous probabilities on the data and I encouraged you to think about what sort of probabilities you need for prediction. This week we are going to take a slightly different tack. \n",
      "\n",
      "Broadly speaking there are two dominating approaches to machine learning problems. We started to consider the first approach last week: constructing models based on defining the relationship between variables using probabilities. This week we will consider the second approach: which involves defining an *objective function* and optimizing it. \n",
      "\n",
      "What do we mean by an objective function? An objective function could be an *error function* a *cost function* or a *benefit* function. In evolutionary computing they are called *fitness* functions. But the idea is always the same. We write down a mathematical equation which is then optimized to do the learning. The equation should be a function of the *data* and our model *parameters*. We have a choice when optimizing, either minimize or maximize. To avoid confusion, in the optimization field, we always choose to minimize the function. If we have function that we would like to maximize, we simply choose to minimize the negative of that function. \n",
      "\n",
      "So for this lab session, we are going to ignore probabilities, but don't worry, they will return! \n",
      "\n",
      "This week we are going to try and build a simple movie recommender system using an objective function. To do this, the first thing I'd like you to do is to install some software we've written for sharing information across google documents.\n",
      "\n",
      "## Open Data Science Software\n",
      "\n",
      "In Sheffield we have written a suite of software tools for 'Open Data Science'. Open data science is an approach to sharing code, models and data that should make it easier for companies, health professionals and scientists to gain access to data science techniques. For some background on open data science you can read [this blog post](http://inverseprobability.com/2014/07/01/open-data-science/). The first thing we will do this week is to download that suite of software. This will allow us to load in last week's data easily."
     ]
    },
    {
     "cell_type": "code",
     "collapsed": false,
     "input": [
      "# download the software\n",
      "import urllib\n",
      "\n",
      "urllib.urlretrieve('https://github.com/sods/ods/archive/master.zip', 'master.zip')\n",
      "\n",
      "# unzip the software\n",
      "import zipfile\n",
      "zip = zipfile.ZipFile('./master.zip', 'r')\n",
      "for name in zip.namelist():\n",
      "    zip.extract(name, '.')\n",
      "\n",
      "# add the module location to the python path.    \n",
      "import sys\n",
      "sys.path.append(\"./ods-master/\")"
     ],
     "language": "python",
     "metadata": {},
     "outputs": [],
     "prompt_number": 1
    },
    {
     "cell_type": "markdown",
     "metadata": {},
     "source": [
      "### Download the Movie Body Counts Data\n",
      "\n",
      "Now that we have the Open Data Science Software installed we can download the movie body counts data. When you run the commands below for the first time on a computer you will be asked to accept the download and acknowledge the source of the data. When you use a data set that someone has prepared you should always reference the data source to acknowledge the work that's been placed in. Here there is not only the work of the [researchers at NJIT](http://www.theswarmlab.com/r-vs-python-round-2-22/), but also the work of the [IMDb website](http://www.imdb.com) and [www.MovieBodyCounts.com](http://www.MovieBodyCounts.com). "
     ]
    },
    {
     "cell_type": "code",
     "collapsed": false,
     "input": [
      "import pods\n",
      "d = pods.datasets.movie_body_count()\n",
      "movies = d['Y']"
     ],
     "language": "python",
     "metadata": {},
     "outputs": [],
     "prompt_number": 3
    },
    {
     "cell_type": "markdown",
     "metadata": {},
     "source": [
      "### Assignment Question 1\n",
      "\n",
      "Data ethics. If you find data available on the internet, can you simply use it without consequence? If you are given data by a fellow researcher can you publish that data on line? \n",
      "\n",
      "*10 marks*"
     ]
    },
    {
     "cell_type": "markdown",
     "metadata": {},
     "source": [
      "#### Question 1 Answer\n",
      "\n",
      "Write your answer to the question in this box."
     ]
    },
    {
     "cell_type": "markdown",
     "metadata": {},
     "source": [
      "## Recommender Systems\n",
      "\n",
      "A recommender system aims to make suggestions for items (films, books, other commercial products) given what it knows about users' tastes. The recommendation engine needs to represent the *taste* of all the users and the *characteristics* of each object. \n",
      "\n",
      "A common way for organizing objects is to place related objects spatially close together. For example in a library we try and put books that are on related topics near to each other on the shelves. One system for doing this is known as [Dewey Decimal Classification](http://en.wikipedia.org/wiki/Dewey_Decimal_Classification). In the Dewey Decimal Classification system (which dates from 1876) each subject is given a number (in fact it's a decimal number). For example, the field of Natural Sciences and Mathematics is given numbers which start with 500. Subjects based on Computer Science are given numbers which start 004 and works on the 'mathematical principles' of Computer science are given the series 004.0151 (which we might store as 4.0151 on a Computer). Whilst it's a classification system, the books in the library are typically laid out in the same order as the numbers, so we might expect that neighbouring numbers represent books that are related in subject. That seems to be exactly what we want when also representing films. Could we somehow represent each film's subject according to a number? In a similar way we could then imagine representing users with a list of numbers that represent things that each user is interested in.\n",
      "\n",
      "Actually a one dimensional representation of a subject can be very awkward. To see this, let's have a look at the Dewey Decimal Classification numbers for the 900s, which is listed as 'History and Geography'. We will focus on subjects in the 940s which can be found in this list from [Nova Southeastern University](http://www.nova.edu/library/help/misc/lc_dewey/dewey900.html#40). Whilst the ordering for places is somewhat sensible, it is also rather arbitrary. In the 940s we have Europe listed from 940-949, Asia listed from 950-959 and Africa listed from 960-969. Whilst it's true that Asia borders Europe, Africa is also very close, and the history of the Roman Empire spreads into [Carthage](http://en.wikipedia.org/wiki/Carthage) and later on Egypt. This image from Wikipedia shows a map of the Cathaginian Empire which fell after fighting with Rome. \n",
      "\n",
      "<img src=\"http://upload.wikimedia.org/wikipedia/en/9/9b/Carthaginianempire.PNG\", width=500>\n",
      "\n",
      "We now need to make a decision about whether Roman Histories are European or African, ideally we'd like them to be somewhere between the two, but we can't place them there in the Dewey Decimal system because between Europe and Africa is Asia, which has less to do with the Roman Empire than either Europe or Africa. Of course the fact that we've used a map provides a clue as to what to do next. Libraries are actually laid out on floors, so what if we were to use the spatial lay out to organise the sujbects of the books in two dimensions. Books on Geography could be laid out according to where in the world they are referring to. \n",
      "\n",
      "Such complexities are very hard to encapsulate in one number, but inspired by the map examples we can start considering how we might lay out films in two dimensions. Similarly, we can consider laying out a map of people's interests. If the two maps correspond to one another, the map of people could reflect where they might want to live in 'subject space'. We can think of representing people's tastes as where they might best like to sit in the library to access easily the books they are most interested in.\n",
      "\n",
      "\n",
      "## Inner Products for Representing Similarity\n",
      "\n",
      "Ideas like the above are good for gaining intuitions about what we might want, but the one of the skills of data science is representing those ideas mathematically. Mathematical abstraction of a problem is one of the key ways in which we've been able to progress as a society. Understanding planetary motions, as well as those of the smallest molecule (to quote Laplace's [Philosophical Essay on Probabilities](http://books.google.co.uk/books?id=1YQPAAAAQAAJ&printsec=frontcover&source=gbs_ge_summary_r&cad=0#v=onepage&q&f=false)) needed to be done mathematically. The right mathematical model in machine learning can be slightly more elusive, because constructing it is a two stage process. \n",
      "\n",
      "1. We have to determine the right intuition for the system we want to represent. Notions such as 'subject' and 'interest' are not mathematically well defined, and even when we create a new interpretation of what they might mean, each interpretation may have its own weaknesses. \n",
      "\n",
      "2. Once we have our interpretation we can attempt to mathematically formalize it. In our library interpretation, that's what we need to do next. \n",
      "\n",
      "### The Library on an Infinite Plane\n",
      "\n",
      "Let's imagine a library which stores all the items  we are interested in, not just books, but films and shopping items too. Such a library is likely to be very large, so we'll create it on an infinite two dimensional plane. This means we can use all the real numbers to represent the location of each item on the plane. For a two dimensional plane, we need to store the locations in a vector of numbers: we can decide that the $j$th item's location in the library is given by \n",
      "$$\n",
      "\\mathbf{v}_j = \\begin{bmatrix} v_{j,1} \\\\ v_{j,2}\\end{bmatrix},\n",
      "$$\n",
      "where $v_{j,1}$ represents the $j$th item's location in the East-West direction (or the $x$-axis) and $v_{j,2}$ represents the $j$th item's location in the North-South direction (or the $y$-axis). Now we need to specify the location where each user sits so that all the items that interest them are nearby: we can also represent the $i$th user's location with a vector \n",
      "$$\n",
      "\\mathbf{u}_i = \\begin{bmatrix} u_{i,1} \\\\ u_{i,2}\\end{bmatrix}.\n",
      "$$\n",
      "Finally, we need some way of recording a given user's affinity for a given item. This affinity might be the rating that the user gives the film. We can use $y_{i,j}$ to represent user $i$'s affinity for item $j$. \n",
      "\n",
      "For our film example we might imagine wanting to order films in a few ways. We could imagine organising films in the North-South direction as to how romantic they are. We could place the more romantic films further North and the less romantic films further South. For the East-West direction we could imagine ordering them according to how historic they are: we can imagine placing science fiction films to the East and historical drama to the West. In this case, fans of historical romances would be based in the North-West location, whilst fans of Science Fiction Action films might be located in the South-East (if we assume that 'Action' is the opposite of 'Romance', which is not necessarily the case). How do we lay out all these films? Have we got the right axes? In machine learning the answer is to 'let the data speak'. Use the data to try and obtain such a lay out. To do this we first need to obtain the data."
     ]
    },
    {
     "cell_type": "markdown",
     "metadata": {},
     "source": [
      "## Obtaining the Data\n",
      "\n",
      "We are using a functionality of the Open Data Science software library to obtain the data. This functionality involves some prewritten code which distributes to each of you a google spreadsheet where you can rate movies that you've seen. For completeness the code follows. Try and read and understand the code, but don't run it! It has already been run centrally by me. \n",
      "\n",
      "``` python\n",
      "\n",
      "import pods\n",
      "import pandas as pd\n",
      "import numpy as np\n",
      "user_data = pd.DataFrame(index=movies.index, columns=['title', 'year', 'rating', 'prediction'])\n",
      "user_data['title']=movies.Film\n",
      "user_data['year']=movies.Year\n",
      "\n",
      "accumulator=pods.lab.distributor(spreadsheet_title='COM4509/6509 Movie Ratings:', user_sep='\\t')\n",
      "# function to apply to data before giving it to user \n",
      "# Select 50 movies at random and order them according to year.\n",
      "max_movies = 50\n",
      "function = lambda x: x.loc[np.random.permutation(x.index)[:max_movies]].sort(columns='year')\n",
      "accumulator.write(data_frame=user_data, comment='Film Ratings', \n",
      "                  function=function)\n",
      "accumulator.write_comment('Rate Movie Here (score 1-5)', row=1, column=4)\n",
      "accumulator.share(share_type='writer', send_notifications=True)\n",
      "\n",
      "\n",
      "\n",
      "```\n",
      "\n",
      "In your Google docs account you should be able to find a spreadsheet called 'COM4509/6509 Movie Ratings: Your Name'. In the spreadsheet You should find a number of movies listed according to year. In the column titled 'rating' please place your rating using a score of 1-5 for *any* of the movies you've seen from the list."
     ]
    },
    {
     "cell_type": "markdown",
     "metadata": {},
     "source": [
      "Once you have placed your ratings we can download the data from your spreadsheets to a central file where the ratings of the whole class can be stored. We will build an algorithm on these ratings and use them to make predictions for the rest of the class. Firstly, here's the code for reading the ratings from each of the spreadsheets.\n",
      "\n",
      "``` python\n",
      "import numpy as np\n",
      "import pandas as pd\n",
      "import os\n",
      "\n",
      "accumulator = pods.lab.distributor(user_sep='\\t')\n",
      "data = accumulator.read(usecols=['rating'], dtype={'index':int, 'rating':np.float64}, header=2)\n",
      "\n",
      "for user in data:\n",
      "    if data[user].rating.count()>0: # only add user if they rated something\n",
      "        # add a new field to movies with that user's ratings.\n",
      "        movies[user] = data[user]['rating']\n",
      "\n",
      "# Store the csv on disk where it will be shared through dropbox.\n",
      "movies.to_csv(os.path.join(pods.lab.class_dir,'movies.csv'), index_label='index')\n",
      "```"
     ]
    },
    {
     "cell_type": "markdown",
     "metadata": {},
     "source": [
      "Now we will convert our data structure into a form that is appropriate for processing. We will convert the `movies` object into a data base which contains the movie, the user and the score using the following command."
     ]
    },
    {
     "cell_type": "code",
     "collapsed": false,
     "input": [
      "import numpy as np\n",
      "import pandas as pd\n",
      "import os\n",
      "\n",
      "accumulator = pods.lab.distributor(user_sep='\\t')\n",
      "data = accumulator.read(usecols=['rating'], dtype={'index':int, 'rating':np.float64}, header=2)\n",
      "\n",
      "for user in data:\n",
      "    if data[user].rating.count()>0: # only add user if they rated something\n",
      "        # add a new field to movies with that user's ratings.\n",
      "        movies[user] = data[user]['rating']\n",
      "\n",
      "# Store the csv on disk where it will be shared through dropbox.\n",
      "movies.to_csv(os.path.join(pods.lab.class_dir,'movies.csv'), index_label='index')"
     ],
     "language": "python",
     "metadata": {},
     "outputs": [
      {
       "ename": "KeyboardInterrupt",
       "evalue": "",
       "output_type": "pyerr",
       "traceback": [
        "\u001b[0;31m---------------------------------------------------------------------------\u001b[0m\n\u001b[0;31mKeyboardInterrupt\u001b[0m                         Traceback (most recent call last)",
        "\u001b[0;32m<ipython-input-4-87de2304e880>\u001b[0m in \u001b[0;36m<module>\u001b[0;34m()\u001b[0m\n\u001b[1;32m      4\u001b[0m \u001b[0;34m\u001b[0m\u001b[0m\n\u001b[1;32m      5\u001b[0m \u001b[0maccumulator\u001b[0m \u001b[0;34m=\u001b[0m \u001b[0mpods\u001b[0m\u001b[0;34m.\u001b[0m\u001b[0mlab\u001b[0m\u001b[0;34m.\u001b[0m\u001b[0mdistributor\u001b[0m\u001b[0;34m(\u001b[0m\u001b[0muser_sep\u001b[0m\u001b[0;34m=\u001b[0m\u001b[0;34m'\\t'\u001b[0m\u001b[0;34m)\u001b[0m\u001b[0;34m\u001b[0m\u001b[0m\n\u001b[0;32m----> 6\u001b[0;31m \u001b[0mdata\u001b[0m \u001b[0;34m=\u001b[0m \u001b[0maccumulator\u001b[0m\u001b[0;34m.\u001b[0m\u001b[0mread\u001b[0m\u001b[0;34m(\u001b[0m\u001b[0musecols\u001b[0m\u001b[0;34m=\u001b[0m\u001b[0;34m[\u001b[0m\u001b[0;34m'rating'\u001b[0m\u001b[0;34m]\u001b[0m\u001b[0;34m,\u001b[0m \u001b[0mdtype\u001b[0m\u001b[0;34m=\u001b[0m\u001b[0;34m{\u001b[0m\u001b[0;34m'index'\u001b[0m\u001b[0;34m:\u001b[0m\u001b[0mint\u001b[0m\u001b[0;34m,\u001b[0m \u001b[0;34m'rating'\u001b[0m\u001b[0;34m:\u001b[0m\u001b[0mnp\u001b[0m\u001b[0;34m.\u001b[0m\u001b[0mfloat64\u001b[0m\u001b[0;34m}\u001b[0m\u001b[0;34m,\u001b[0m \u001b[0mheader\u001b[0m\u001b[0;34m=\u001b[0m\u001b[0;36m2\u001b[0m\u001b[0;34m)\u001b[0m\u001b[0;34m\u001b[0m\u001b[0m\n\u001b[0m\u001b[1;32m      7\u001b[0m \u001b[0;34m\u001b[0m\u001b[0m\n\u001b[1;32m      8\u001b[0m \u001b[0;32mfor\u001b[0m \u001b[0muser\u001b[0m \u001b[0;32min\u001b[0m \u001b[0mdata\u001b[0m\u001b[0;34m:\u001b[0m\u001b[0;34m\u001b[0m\u001b[0m\n",
        "\u001b[0;32m/Users/neill/sods/ods/pods/lab.pyc\u001b[0m in \u001b[0;36mread\u001b[0;34m(self, names, header, na_values, read_values, dtype, usecols)\u001b[0m\n\u001b[1;32m    224\u001b[0m             \u001b[0mdata\u001b[0m \u001b[0;34m=\u001b[0m \u001b[0;34m{\u001b[0m\u001b[0;34m}\u001b[0m\u001b[0;34m\u001b[0m\u001b[0m\n\u001b[1;32m    225\u001b[0m             \u001b[0;32mfor\u001b[0m \u001b[0muser\u001b[0m \u001b[0;32min\u001b[0m \u001b[0mself\u001b[0m\u001b[0;34m.\u001b[0m\u001b[0musers\u001b[0m\u001b[0;34m.\u001b[0m\u001b[0mEmail\u001b[0m\u001b[0;34m:\u001b[0m\u001b[0;34m\u001b[0m\u001b[0m\n\u001b[0;32m--> 226\u001b[0;31m                 \u001b[0msheet\u001b[0m \u001b[0;34m=\u001b[0m \u001b[0mself\u001b[0m\u001b[0;34m.\u001b[0m\u001b[0m_get_sheet\u001b[0m\u001b[0;34m(\u001b[0m\u001b[0muser\u001b[0m\u001b[0;34m)\u001b[0m\u001b[0;34m\u001b[0m\u001b[0m\n\u001b[0m\u001b[1;32m    227\u001b[0m                 \u001b[0mdata\u001b[0m\u001b[0;34m[\u001b[0m\u001b[0muser\u001b[0m\u001b[0;34m]\u001b[0m \u001b[0;34m=\u001b[0m \u001b[0msheet\u001b[0m\u001b[0;34m.\u001b[0m\u001b[0mread\u001b[0m\u001b[0;34m(\u001b[0m\u001b[0mnames\u001b[0m\u001b[0;34m,\u001b[0m \u001b[0mheader\u001b[0m\u001b[0;34m,\u001b[0m \u001b[0mna_values\u001b[0m\u001b[0;34m,\u001b[0m \u001b[0mread_values\u001b[0m\u001b[0;34m,\u001b[0m \u001b[0mdtype\u001b[0m\u001b[0;34m,\u001b[0m \u001b[0musecols\u001b[0m\u001b[0;34m)\u001b[0m\u001b[0;34m\u001b[0m\u001b[0m\n\u001b[1;32m    228\u001b[0m             \u001b[0;32mreturn\u001b[0m \u001b[0mdata\u001b[0m\u001b[0;34m\u001b[0m\u001b[0m\n",
        "\u001b[0;32m/Users/neill/sods/ods/pods/lab.pyc\u001b[0m in \u001b[0;36m_get_sheet\u001b[0;34m(self, user)\u001b[0m\n\u001b[1;32m     79\u001b[0m \u001b[0;34m\u001b[0m\u001b[0m\n\u001b[1;32m     80\u001b[0m             \u001b[0;32mif\u001b[0m \u001b[0muser\u001b[0m \u001b[0;32min\u001b[0m \u001b[0mself\u001b[0m\u001b[0;34m.\u001b[0m\u001b[0msheet_keys\u001b[0m\u001b[0;34m:\u001b[0m\u001b[0;34m\u001b[0m\u001b[0m\n\u001b[0;32m---> 81\u001b[0;31m                 \u001b[0msheet\u001b[0m \u001b[0;34m=\u001b[0m \u001b[0mgl\u001b[0m\u001b[0;34m.\u001b[0m\u001b[0msheet\u001b[0m\u001b[0;34m(\u001b[0m\u001b[0mspreadsheet_key\u001b[0m\u001b[0;34m=\u001b[0m\u001b[0mself\u001b[0m\u001b[0;34m.\u001b[0m\u001b[0msheet_keys\u001b[0m\u001b[0;34m[\u001b[0m\u001b[0muser\u001b[0m\u001b[0;34m]\u001b[0m\u001b[0;34m)\u001b[0m\u001b[0;34m\u001b[0m\u001b[0m\n\u001b[0m\u001b[1;32m     82\u001b[0m             \u001b[0;32melse\u001b[0m\u001b[0;34m:\u001b[0m\u001b[0;34m\u001b[0m\u001b[0m\n\u001b[1;32m     83\u001b[0m                 \u001b[0mname\u001b[0m \u001b[0;34m=\u001b[0m \u001b[0mself\u001b[0m\u001b[0;34m.\u001b[0m\u001b[0m_get_name\u001b[0m\u001b[0;34m(\u001b[0m\u001b[0muser\u001b[0m\u001b[0;34m)\u001b[0m\u001b[0;34m\u001b[0m\u001b[0m\n",
        "\u001b[0;32m/Users/neill/sods/ods/pods/google.pyc\u001b[0m in \u001b[0;36m__init__\u001b[0;34m(self, spreadsheet_key, worksheet_name, title, column_indent, gd_client, docs_client)\u001b[0m\n\u001b[1;32m     49\u001b[0m \u001b[0;34m\u001b[0m\u001b[0m\n\u001b[1;32m     50\u001b[0m                 \u001b[0mself\u001b[0m\u001b[0;34m.\u001b[0m\u001b[0m_key\u001b[0m \u001b[0;34m=\u001b[0m \u001b[0mspreadsheet_key\u001b[0m\u001b[0;34m\u001b[0m\u001b[0m\n\u001b[0;32m---> 51\u001b[0;31m                 \u001b[0mself\u001b[0m\u001b[0;34m.\u001b[0m\u001b[0mdocument\u001b[0m \u001b[0;34m=\u001b[0m \u001b[0mself\u001b[0m\u001b[0;34m.\u001b[0m\u001b[0m_get_resource_feed\u001b[0m\u001b[0;34m(\u001b[0m\u001b[0;34m)\u001b[0m\u001b[0;34m\u001b[0m\u001b[0m\n\u001b[0m\u001b[1;32m     52\u001b[0m                 \u001b[0;31m# document exists already\u001b[0m\u001b[0;34m\u001b[0m\u001b[0;34m\u001b[0m\u001b[0m\n\u001b[1;32m     53\u001b[0m \u001b[0;34m\u001b[0m\u001b[0m\n",
        "\u001b[0;32m/Users/neill/sods/ods/pods/google.pyc\u001b[0m in \u001b[0;36m_get_resource_feed\u001b[0;34m(self, tries, max_tries)\u001b[0m\n\u001b[1;32m    240\u001b[0m             \u001b[0mWrapper\u001b[0m \u001b[0;32mfor\u001b[0m \u001b[0m_get_feed\u001b[0m\u001b[0;34m(\u001b[0m\u001b[0;34m)\u001b[0m \u001b[0mwhen\u001b[0m \u001b[0ma\u001b[0m \u001b[0mresource\u001b[0m \u001b[0;32mis\u001b[0m \u001b[0mrequired\u001b[0m\u001b[0;34m.\u001b[0m\u001b[0;34m\u001b[0m\u001b[0m\n\u001b[1;32m    241\u001b[0m             \"\"\"\n\u001b[0;32m--> 242\u001b[0;31m             \u001b[0;32mreturn\u001b[0m \u001b[0mself\u001b[0m\u001b[0;34m.\u001b[0m\u001b[0m_get_feed\u001b[0m\u001b[0;34m(\u001b[0m\u001b[0mtype\u001b[0m\u001b[0;34m=\u001b[0m\u001b[0;34m'resource'\u001b[0m\u001b[0;34m,\u001b[0m \u001b[0mtries\u001b[0m\u001b[0;34m=\u001b[0m\u001b[0mtries\u001b[0m\u001b[0;34m,\u001b[0m \u001b[0mmax_tries\u001b[0m\u001b[0;34m=\u001b[0m\u001b[0mmax_tries\u001b[0m\u001b[0;34m)\u001b[0m\u001b[0;34m\u001b[0m\u001b[0m\n\u001b[0m\u001b[1;32m    243\u001b[0m \u001b[0;34m\u001b[0m\u001b[0m\n\u001b[1;32m    244\u001b[0m         \u001b[0;32mdef\u001b[0m \u001b[0m_get_list_feed\u001b[0m\u001b[0;34m(\u001b[0m\u001b[0mself\u001b[0m\u001b[0;34m,\u001b[0m \u001b[0mtries\u001b[0m\u001b[0;34m=\u001b[0m\u001b[0;36m0\u001b[0m\u001b[0;34m,\u001b[0m \u001b[0mmax_tries\u001b[0m\u001b[0;34m=\u001b[0m\u001b[0;36m10\u001b[0m\u001b[0;34m)\u001b[0m\u001b[0;34m:\u001b[0m\u001b[0;34m\u001b[0m\u001b[0m\n",
        "\u001b[0;32m/Users/neill/sods/ods/pods/google.pyc\u001b[0m in \u001b[0;36m_get_feed\u001b[0;34m(self, type, query, tries, max_tries)\u001b[0m\n\u001b[1;32m    212\u001b[0m                     \u001b[0mfeed\u001b[0m \u001b[0;34m=\u001b[0m \u001b[0mself\u001b[0m\u001b[0;34m.\u001b[0m\u001b[0mdocs_client\u001b[0m\u001b[0;34m.\u001b[0m\u001b[0mGetAcl\u001b[0m\u001b[0;34m(\u001b[0m\u001b[0mself\u001b[0m\u001b[0;34m.\u001b[0m\u001b[0mdocument\u001b[0m\u001b[0;34m)\u001b[0m\u001b[0;34m\u001b[0m\u001b[0m\n\u001b[1;32m    213\u001b[0m                 \u001b[0;32melif\u001b[0m \u001b[0mtype\u001b[0m \u001b[0;34m==\u001b[0m \u001b[0;34m'resource'\u001b[0m\u001b[0;34m:\u001b[0m\u001b[0;34m\u001b[0m\u001b[0m\n\u001b[0;32m--> 214\u001b[0;31m                     \u001b[0mfeed\u001b[0m \u001b[0;34m=\u001b[0m \u001b[0mself\u001b[0m\u001b[0;34m.\u001b[0m\u001b[0mdocs_client\u001b[0m\u001b[0;34m.\u001b[0m\u001b[0mGetResourceById\u001b[0m\u001b[0;34m(\u001b[0m\u001b[0mself\u001b[0m\u001b[0;34m.\u001b[0m\u001b[0m_key\u001b[0m\u001b[0;34m)\u001b[0m\u001b[0;34m\u001b[0m\u001b[0m\n\u001b[0m\u001b[1;32m    215\u001b[0m             \u001b[0;32mexcept\u001b[0m \u001b[0mgdata\u001b[0m\u001b[0;34m.\u001b[0m\u001b[0mservice\u001b[0m\u001b[0;34m.\u001b[0m\u001b[0mRequestError\u001b[0m\u001b[0;34m,\u001b[0m \u001b[0minst\u001b[0m\u001b[0;34m:\u001b[0m\u001b[0;34m\u001b[0m\u001b[0m\n\u001b[1;32m    216\u001b[0m                 \u001b[0;32mif\u001b[0m \u001b[0mtries\u001b[0m\u001b[0;34m<\u001b[0m\u001b[0;36m10\u001b[0m\u001b[0;34m:\u001b[0m\u001b[0;34m\u001b[0m\u001b[0m\n",
        "\u001b[0;32m/Users/neill/Library/Enthought/Canopy_64bit/User/lib/python2.7/site-packages/gdata/docs/client.pyc\u001b[0m in \u001b[0;36mget_resource_by_id\u001b[0;34m(self, resource_id, **kwargs)\u001b[0m\n\u001b[1;32m    218\u001b[0m     \"\"\"\n\u001b[1;32m    219\u001b[0m     return self.GetResourceBySelfLink(\n\u001b[0;32m--> 220\u001b[0;31m         RESOURCE_SELF_LINK_TEMPLATE % resource_id, **kwargs)\n\u001b[0m\u001b[1;32m    221\u001b[0m \u001b[0;34m\u001b[0m\u001b[0m\n\u001b[1;32m    222\u001b[0m   \u001b[0mGetResourceById\u001b[0m \u001b[0;34m=\u001b[0m \u001b[0mget_resource_by_id\u001b[0m\u001b[0;34m\u001b[0m\u001b[0m\n",
        "\u001b[0;32m/Users/neill/Library/Enthought/Canopy_64bit/User/lib/python2.7/site-packages/gdata/docs/client.pyc\u001b[0m in \u001b[0;36mget_resource_by_self_link\u001b[0;34m(self, uri, etag, show_root, **kwargs)\u001b[0m\n\u001b[1;32m    244\u001b[0m       \u001b[0muri\u001b[0m\u001b[0;34m.\u001b[0m\u001b[0mquery\u001b[0m\u001b[0;34m[\u001b[0m\u001b[0;34m'showroot'\u001b[0m\u001b[0;34m]\u001b[0m \u001b[0;34m=\u001b[0m \u001b[0mstr\u001b[0m\u001b[0;34m(\u001b[0m\u001b[0mshow_root\u001b[0m\u001b[0;34m)\u001b[0m\u001b[0;34m.\u001b[0m\u001b[0mlower\u001b[0m\u001b[0;34m(\u001b[0m\u001b[0;34m)\u001b[0m\u001b[0;34m\u001b[0m\u001b[0m\n\u001b[1;32m    245\u001b[0m     return self.get_entry(\n\u001b[0;32m--> 246\u001b[0;31m         uri , etag=etag, desired_class=gdata.docs.data.Resource, **kwargs)\n\u001b[0m\u001b[1;32m    247\u001b[0m \u001b[0;34m\u001b[0m\u001b[0m\n\u001b[1;32m    248\u001b[0m   \u001b[0mGetResourceBySelfLink\u001b[0m \u001b[0;34m=\u001b[0m \u001b[0mget_resource_by_self_link\u001b[0m\u001b[0;34m\u001b[0m\u001b[0m\n",
        "\u001b[0;32m/Users/neill/Library/Enthought/Canopy_64bit/User/lib/python2.7/site-packages/gdata/client.pyc\u001b[0m in \u001b[0;36mget_entry\u001b[0;34m(self, uri, auth_token, converter, desired_class, etag, **kwargs)\u001b[0m\n\u001b[1;32m    650\u001b[0m     return self.request(method='GET', uri=uri, auth_token=auth_token,\n\u001b[1;32m    651\u001b[0m                         \u001b[0mhttp_request\u001b[0m\u001b[0;34m=\u001b[0m\u001b[0mhttp_request\u001b[0m\u001b[0;34m,\u001b[0m \u001b[0mconverter\u001b[0m\u001b[0;34m=\u001b[0m\u001b[0mconverter\u001b[0m\u001b[0;34m,\u001b[0m\u001b[0;34m\u001b[0m\u001b[0m\n\u001b[0;32m--> 652\u001b[0;31m                         desired_class=desired_class, **kwargs)\n\u001b[0m\u001b[1;32m    653\u001b[0m \u001b[0;34m\u001b[0m\u001b[0m\n\u001b[1;32m    654\u001b[0m   \u001b[0mGetEntry\u001b[0m \u001b[0;34m=\u001b[0m \u001b[0mget_entry\u001b[0m\u001b[0;34m\u001b[0m\u001b[0m\n",
        "\u001b[0;32m/Users/neill/Library/Enthought/Canopy_64bit/User/lib/python2.7/site-packages/gdata/docs/client.pyc\u001b[0m in \u001b[0;36mrequest\u001b[0;34m(self, method, uri, **kwargs)\u001b[0m\n\u001b[1;32m     64\u001b[0m         \u001b[0muri\u001b[0m \u001b[0;34m=\u001b[0m \u001b[0matom\u001b[0m\u001b[0;34m.\u001b[0m\u001b[0mhttp_core\u001b[0m\u001b[0;34m.\u001b[0m\u001b[0mUri\u001b[0m\u001b[0;34m.\u001b[0m\u001b[0mparse_uri\u001b[0m\u001b[0;34m(\u001b[0m\u001b[0muri\u001b[0m\u001b[0;34m)\u001b[0m\u001b[0;34m\u001b[0m\u001b[0m\n\u001b[1;32m     65\u001b[0m       \u001b[0muri\u001b[0m\u001b[0;34m.\u001b[0m\u001b[0mpath\u001b[0m\u001b[0;34m.\u001b[0m\u001b[0mreplace\u001b[0m\u001b[0;34m(\u001b[0m\u001b[0;34m'/default'\u001b[0m\u001b[0;34m,\u001b[0m \u001b[0;34m'/%s'\u001b[0m \u001b[0;34m%\u001b[0m \u001b[0mself\u001b[0m\u001b[0;34m.\u001b[0m\u001b[0mxoauth_requestor_id\u001b[0m\u001b[0;34m)\u001b[0m\u001b[0;34m\u001b[0m\u001b[0m\n\u001b[0;32m---> 66\u001b[0;31m     \u001b[0;32mreturn\u001b[0m \u001b[0msuper\u001b[0m\u001b[0;34m(\u001b[0m\u001b[0mDocsClient\u001b[0m\u001b[0;34m,\u001b[0m \u001b[0mself\u001b[0m\u001b[0;34m)\u001b[0m\u001b[0;34m.\u001b[0m\u001b[0mrequest\u001b[0m\u001b[0;34m(\u001b[0m\u001b[0mmethod\u001b[0m\u001b[0;34m=\u001b[0m\u001b[0mmethod\u001b[0m\u001b[0;34m,\u001b[0m \u001b[0muri\u001b[0m\u001b[0;34m=\u001b[0m\u001b[0muri\u001b[0m\u001b[0;34m,\u001b[0m \u001b[0;34m**\u001b[0m\u001b[0mkwargs\u001b[0m\u001b[0;34m)\u001b[0m\u001b[0;34m\u001b[0m\u001b[0m\n\u001b[0m\u001b[1;32m     67\u001b[0m \u001b[0;34m\u001b[0m\u001b[0m\n\u001b[1;32m     68\u001b[0m   \u001b[0mRequest\u001b[0m \u001b[0;34m=\u001b[0m \u001b[0mrequest\u001b[0m\u001b[0;34m\u001b[0m\u001b[0m\n",
        "\u001b[0;32m/Users/neill/Library/Enthought/Canopy_64bit/User/lib/python2.7/site-packages/gdata/client.pyc\u001b[0m in \u001b[0;36mrequest\u001b[0;34m(self, method, uri, auth_token, http_request, converter, desired_class, redirects_remaining, **kwargs)\u001b[0m\n\u001b[1;32m    265\u001b[0m \u001b[0;34m\u001b[0m\u001b[0m\n\u001b[1;32m    266\u001b[0m     response = atom.client.AtomPubClient.request(self, method=method,\n\u001b[0;32m--> 267\u001b[0;31m         uri=uri, auth_token=auth_token, http_request=http_request, **kwargs)\n\u001b[0m\u001b[1;32m    268\u001b[0m     \u001b[0;31m# On success, convert the response body using the desired converter\u001b[0m\u001b[0;34m\u001b[0m\u001b[0;34m\u001b[0m\u001b[0m\n\u001b[1;32m    269\u001b[0m     \u001b[0;31m# function if present.\u001b[0m\u001b[0;34m\u001b[0m\u001b[0;34m\u001b[0m\u001b[0m\n",
        "\u001b[0;32m/Users/neill/Library/Enthought/Canopy_64bit/User/lib/python2.7/site-packages/atom/client.pyc\u001b[0m in \u001b[0;36mrequest\u001b[0;34m(self, method, uri, auth_token, http_request, **kwargs)\u001b[0m\n\u001b[1;32m    120\u001b[0m     \u001b[0;31m# Perform the fully specified request using the http_client instance.\u001b[0m\u001b[0;34m\u001b[0m\u001b[0;34m\u001b[0m\u001b[0m\n\u001b[1;32m    121\u001b[0m     \u001b[0;31m# Sends the request to the server and returns the server's response.\u001b[0m\u001b[0;34m\u001b[0m\u001b[0;34m\u001b[0m\u001b[0m\n\u001b[0;32m--> 122\u001b[0;31m     \u001b[0;32mreturn\u001b[0m \u001b[0mself\u001b[0m\u001b[0;34m.\u001b[0m\u001b[0mhttp_client\u001b[0m\u001b[0;34m.\u001b[0m\u001b[0mrequest\u001b[0m\u001b[0;34m(\u001b[0m\u001b[0mhttp_request\u001b[0m\u001b[0;34m)\u001b[0m\u001b[0;34m\u001b[0m\u001b[0m\n\u001b[0m\u001b[1;32m    123\u001b[0m \u001b[0;34m\u001b[0m\u001b[0m\n\u001b[1;32m    124\u001b[0m   \u001b[0mRequest\u001b[0m \u001b[0;34m=\u001b[0m \u001b[0mrequest\u001b[0m\u001b[0;34m\u001b[0m\u001b[0m\n",
        "\u001b[0;32m/Users/neill/Library/Enthought/Canopy_64bit/User/lib/python2.7/site-packages/atom/http_core.pyc\u001b[0m in \u001b[0;36mrequest\u001b[0;34m(self, http_request)\u001b[0m\n\u001b[1;32m    422\u001b[0m   \u001b[0;32mdef\u001b[0m \u001b[0mrequest\u001b[0m\u001b[0;34m(\u001b[0m\u001b[0mself\u001b[0m\u001b[0;34m,\u001b[0m \u001b[0mhttp_request\u001b[0m\u001b[0;34m)\u001b[0m\u001b[0;34m:\u001b[0m\u001b[0;34m\u001b[0m\u001b[0m\n\u001b[1;32m    423\u001b[0m     return self._http_request(http_request.method, http_request.uri,\n\u001b[0;32m--> 424\u001b[0;31m                               http_request.headers, http_request._body_parts)\n\u001b[0m\u001b[1;32m    425\u001b[0m \u001b[0;34m\u001b[0m\u001b[0m\n\u001b[1;32m    426\u001b[0m   \u001b[0mRequest\u001b[0m \u001b[0;34m=\u001b[0m \u001b[0mrequest\u001b[0m\u001b[0;34m\u001b[0m\u001b[0m\n",
        "\u001b[0;32m/Users/neill/Library/Enthought/Canopy_64bit/User/lib/python2.7/site-packages/atom/http_core.pyc\u001b[0m in \u001b[0;36m_http_request\u001b[0;34m(self, method, uri, headers, body_parts)\u001b[0m\n\u001b[1;32m    491\u001b[0m     \u001b[0;32mfor\u001b[0m \u001b[0mheader_name\u001b[0m\u001b[0;34m,\u001b[0m \u001b[0mvalue\u001b[0m \u001b[0;32min\u001b[0m \u001b[0mheaders\u001b[0m\u001b[0;34m.\u001b[0m\u001b[0miteritems\u001b[0m\u001b[0;34m(\u001b[0m\u001b[0;34m)\u001b[0m\u001b[0;34m:\u001b[0m\u001b[0;34m\u001b[0m\u001b[0m\n\u001b[1;32m    492\u001b[0m       \u001b[0mconnection\u001b[0m\u001b[0;34m.\u001b[0m\u001b[0mputheader\u001b[0m\u001b[0;34m(\u001b[0m\u001b[0mheader_name\u001b[0m\u001b[0;34m,\u001b[0m \u001b[0mvalue\u001b[0m\u001b[0;34m)\u001b[0m\u001b[0;34m\u001b[0m\u001b[0m\n\u001b[0;32m--> 493\u001b[0;31m     \u001b[0mconnection\u001b[0m\u001b[0;34m.\u001b[0m\u001b[0mendheaders\u001b[0m\u001b[0;34m(\u001b[0m\u001b[0;34m)\u001b[0m\u001b[0;34m\u001b[0m\u001b[0m\n\u001b[0m\u001b[1;32m    494\u001b[0m \u001b[0;34m\u001b[0m\u001b[0m\n\u001b[1;32m    495\u001b[0m     \u001b[0;31m# If there is data, send it in the request.\u001b[0m\u001b[0;34m\u001b[0m\u001b[0;34m\u001b[0m\u001b[0m\n",
        "\u001b[0;32m/Applications/Canopy.app/appdata/canopy-1.1.0.1371.macosx-x86_64/Canopy.app/Contents/lib/python2.7/httplib.pyc\u001b[0m in \u001b[0;36mendheaders\u001b[0;34m(self, message_body)\u001b[0m\n\u001b[1;32m    952\u001b[0m         \u001b[0;32melse\u001b[0m\u001b[0;34m:\u001b[0m\u001b[0;34m\u001b[0m\u001b[0m\n\u001b[1;32m    953\u001b[0m             \u001b[0;32mraise\u001b[0m \u001b[0mCannotSendHeader\u001b[0m\u001b[0;34m(\u001b[0m\u001b[0;34m)\u001b[0m\u001b[0;34m\u001b[0m\u001b[0m\n\u001b[0;32m--> 954\u001b[0;31m         \u001b[0mself\u001b[0m\u001b[0;34m.\u001b[0m\u001b[0m_send_output\u001b[0m\u001b[0;34m(\u001b[0m\u001b[0mmessage_body\u001b[0m\u001b[0;34m)\u001b[0m\u001b[0;34m\u001b[0m\u001b[0m\n\u001b[0m\u001b[1;32m    955\u001b[0m \u001b[0;34m\u001b[0m\u001b[0m\n\u001b[1;32m    956\u001b[0m     \u001b[0;32mdef\u001b[0m \u001b[0mrequest\u001b[0m\u001b[0;34m(\u001b[0m\u001b[0mself\u001b[0m\u001b[0;34m,\u001b[0m \u001b[0mmethod\u001b[0m\u001b[0;34m,\u001b[0m \u001b[0murl\u001b[0m\u001b[0;34m,\u001b[0m \u001b[0mbody\u001b[0m\u001b[0;34m=\u001b[0m\u001b[0mNone\u001b[0m\u001b[0;34m,\u001b[0m \u001b[0mheaders\u001b[0m\u001b[0;34m=\u001b[0m\u001b[0;34m{\u001b[0m\u001b[0;34m}\u001b[0m\u001b[0;34m)\u001b[0m\u001b[0;34m:\u001b[0m\u001b[0;34m\u001b[0m\u001b[0m\n",
        "\u001b[0;32m/Applications/Canopy.app/appdata/canopy-1.1.0.1371.macosx-x86_64/Canopy.app/Contents/lib/python2.7/httplib.pyc\u001b[0m in \u001b[0;36m_send_output\u001b[0;34m(self, message_body)\u001b[0m\n\u001b[1;32m    812\u001b[0m             \u001b[0mmsg\u001b[0m \u001b[0;34m+=\u001b[0m \u001b[0mmessage_body\u001b[0m\u001b[0;34m\u001b[0m\u001b[0m\n\u001b[1;32m    813\u001b[0m             \u001b[0mmessage_body\u001b[0m \u001b[0;34m=\u001b[0m \u001b[0mNone\u001b[0m\u001b[0;34m\u001b[0m\u001b[0m\n\u001b[0;32m--> 814\u001b[0;31m         \u001b[0mself\u001b[0m\u001b[0;34m.\u001b[0m\u001b[0msend\u001b[0m\u001b[0;34m(\u001b[0m\u001b[0mmsg\u001b[0m\u001b[0;34m)\u001b[0m\u001b[0;34m\u001b[0m\u001b[0m\n\u001b[0m\u001b[1;32m    815\u001b[0m         \u001b[0;32mif\u001b[0m \u001b[0mmessage_body\u001b[0m \u001b[0;32mis\u001b[0m \u001b[0;32mnot\u001b[0m \u001b[0mNone\u001b[0m\u001b[0;34m:\u001b[0m\u001b[0;34m\u001b[0m\u001b[0m\n\u001b[1;32m    816\u001b[0m             \u001b[0;31m#message_body was not a string (i.e. it is a file) and\u001b[0m\u001b[0;34m\u001b[0m\u001b[0;34m\u001b[0m\u001b[0m\n",
        "\u001b[0;32m/Applications/Canopy.app/appdata/canopy-1.1.0.1371.macosx-x86_64/Canopy.app/Contents/lib/python2.7/httplib.pyc\u001b[0m in \u001b[0;36msend\u001b[0;34m(self, data)\u001b[0m\n\u001b[1;32m    774\u001b[0m         \u001b[0;32mif\u001b[0m \u001b[0mself\u001b[0m\u001b[0;34m.\u001b[0m\u001b[0msock\u001b[0m \u001b[0;32mis\u001b[0m \u001b[0mNone\u001b[0m\u001b[0;34m:\u001b[0m\u001b[0;34m\u001b[0m\u001b[0m\n\u001b[1;32m    775\u001b[0m             \u001b[0;32mif\u001b[0m \u001b[0mself\u001b[0m\u001b[0;34m.\u001b[0m\u001b[0mauto_open\u001b[0m\u001b[0;34m:\u001b[0m\u001b[0;34m\u001b[0m\u001b[0m\n\u001b[0;32m--> 776\u001b[0;31m                 \u001b[0mself\u001b[0m\u001b[0;34m.\u001b[0m\u001b[0mconnect\u001b[0m\u001b[0;34m(\u001b[0m\u001b[0;34m)\u001b[0m\u001b[0;34m\u001b[0m\u001b[0m\n\u001b[0m\u001b[1;32m    777\u001b[0m             \u001b[0;32melse\u001b[0m\u001b[0;34m:\u001b[0m\u001b[0;34m\u001b[0m\u001b[0m\n\u001b[1;32m    778\u001b[0m                 \u001b[0;32mraise\u001b[0m \u001b[0mNotConnected\u001b[0m\u001b[0;34m(\u001b[0m\u001b[0;34m)\u001b[0m\u001b[0;34m\u001b[0m\u001b[0m\n",
        "\u001b[0;32m/Applications/Canopy.app/appdata/canopy-1.1.0.1371.macosx-x86_64/Canopy.app/Contents/lib/python2.7/httplib.pyc\u001b[0m in \u001b[0;36mconnect\u001b[0;34m(self)\u001b[0m\n\u001b[1;32m   1159\u001b[0m                 \u001b[0mself\u001b[0m\u001b[0;34m.\u001b[0m\u001b[0msock\u001b[0m \u001b[0;34m=\u001b[0m \u001b[0msock\u001b[0m\u001b[0;34m\u001b[0m\u001b[0m\n\u001b[1;32m   1160\u001b[0m                 \u001b[0mself\u001b[0m\u001b[0;34m.\u001b[0m\u001b[0m_tunnel\u001b[0m\u001b[0;34m(\u001b[0m\u001b[0;34m)\u001b[0m\u001b[0;34m\u001b[0m\u001b[0m\n\u001b[0;32m-> 1161\u001b[0;31m             \u001b[0mself\u001b[0m\u001b[0;34m.\u001b[0m\u001b[0msock\u001b[0m \u001b[0;34m=\u001b[0m \u001b[0mssl\u001b[0m\u001b[0;34m.\u001b[0m\u001b[0mwrap_socket\u001b[0m\u001b[0;34m(\u001b[0m\u001b[0msock\u001b[0m\u001b[0;34m,\u001b[0m \u001b[0mself\u001b[0m\u001b[0;34m.\u001b[0m\u001b[0mkey_file\u001b[0m\u001b[0;34m,\u001b[0m \u001b[0mself\u001b[0m\u001b[0;34m.\u001b[0m\u001b[0mcert_file\u001b[0m\u001b[0;34m)\u001b[0m\u001b[0;34m\u001b[0m\u001b[0m\n\u001b[0m\u001b[1;32m   1162\u001b[0m \u001b[0;34m\u001b[0m\u001b[0m\n\u001b[1;32m   1163\u001b[0m     \u001b[0m__all__\u001b[0m\u001b[0;34m.\u001b[0m\u001b[0mappend\u001b[0m\u001b[0;34m(\u001b[0m\u001b[0;34m\"HTTPSConnection\"\u001b[0m\u001b[0;34m)\u001b[0m\u001b[0;34m\u001b[0m\u001b[0m\n",
        "\u001b[0;32m/Applications/Canopy.app/appdata/canopy-1.1.0.1371.macosx-x86_64/Canopy.app/Contents/lib/python2.7/ssl.pyc\u001b[0m in \u001b[0;36mwrap_socket\u001b[0;34m(sock, keyfile, certfile, server_side, cert_reqs, ssl_version, ca_certs, do_handshake_on_connect, suppress_ragged_eofs, ciphers)\u001b[0m\n\u001b[1;32m    379\u001b[0m                      \u001b[0mdo_handshake_on_connect\u001b[0m\u001b[0;34m=\u001b[0m\u001b[0mdo_handshake_on_connect\u001b[0m\u001b[0;34m,\u001b[0m\u001b[0;34m\u001b[0m\u001b[0m\n\u001b[1;32m    380\u001b[0m                      \u001b[0msuppress_ragged_eofs\u001b[0m\u001b[0;34m=\u001b[0m\u001b[0msuppress_ragged_eofs\u001b[0m\u001b[0;34m,\u001b[0m\u001b[0;34m\u001b[0m\u001b[0m\n\u001b[0;32m--> 381\u001b[0;31m                      ciphers=ciphers)\n\u001b[0m\u001b[1;32m    382\u001b[0m \u001b[0;34m\u001b[0m\u001b[0m\n\u001b[1;32m    383\u001b[0m \u001b[0;34m\u001b[0m\u001b[0m\n",
        "\u001b[0;32m/Applications/Canopy.app/appdata/canopy-1.1.0.1371.macosx-x86_64/Canopy.app/Contents/lib/python2.7/ssl.pyc\u001b[0m in \u001b[0;36m__init__\u001b[0;34m(self, sock, keyfile, certfile, server_side, cert_reqs, ssl_version, ca_certs, do_handshake_on_connect, suppress_ragged_eofs, ciphers)\u001b[0m\n\u001b[1;32m    141\u001b[0m                                         ciphers)\n\u001b[1;32m    142\u001b[0m             \u001b[0;32mif\u001b[0m \u001b[0mdo_handshake_on_connect\u001b[0m\u001b[0;34m:\u001b[0m\u001b[0;34m\u001b[0m\u001b[0m\n\u001b[0;32m--> 143\u001b[0;31m                 \u001b[0mself\u001b[0m\u001b[0;34m.\u001b[0m\u001b[0mdo_handshake\u001b[0m\u001b[0;34m(\u001b[0m\u001b[0;34m)\u001b[0m\u001b[0;34m\u001b[0m\u001b[0m\n\u001b[0m\u001b[1;32m    144\u001b[0m         \u001b[0mself\u001b[0m\u001b[0;34m.\u001b[0m\u001b[0mkeyfile\u001b[0m \u001b[0;34m=\u001b[0m \u001b[0mkeyfile\u001b[0m\u001b[0;34m\u001b[0m\u001b[0m\n\u001b[1;32m    145\u001b[0m         \u001b[0mself\u001b[0m\u001b[0;34m.\u001b[0m\u001b[0mcertfile\u001b[0m \u001b[0;34m=\u001b[0m \u001b[0mcertfile\u001b[0m\u001b[0;34m\u001b[0m\u001b[0m\n",
        "\u001b[0;32m/Applications/Canopy.app/appdata/canopy-1.1.0.1371.macosx-x86_64/Canopy.app/Contents/lib/python2.7/ssl.pyc\u001b[0m in \u001b[0;36mdo_handshake\u001b[0;34m(self)\u001b[0m\n\u001b[1;32m    303\u001b[0m         \u001b[0;34m\"\"\"Perform a TLS/SSL handshake.\"\"\"\u001b[0m\u001b[0;34m\u001b[0m\u001b[0m\n\u001b[1;32m    304\u001b[0m \u001b[0;34m\u001b[0m\u001b[0m\n\u001b[0;32m--> 305\u001b[0;31m         \u001b[0mself\u001b[0m\u001b[0;34m.\u001b[0m\u001b[0m_sslobj\u001b[0m\u001b[0;34m.\u001b[0m\u001b[0mdo_handshake\u001b[0m\u001b[0;34m(\u001b[0m\u001b[0;34m)\u001b[0m\u001b[0;34m\u001b[0m\u001b[0m\n\u001b[0m\u001b[1;32m    306\u001b[0m \u001b[0;34m\u001b[0m\u001b[0m\n\u001b[1;32m    307\u001b[0m     \u001b[0;32mdef\u001b[0m \u001b[0m_real_connect\u001b[0m\u001b[0;34m(\u001b[0m\u001b[0mself\u001b[0m\u001b[0;34m,\u001b[0m \u001b[0maddr\u001b[0m\u001b[0;34m,\u001b[0m \u001b[0mreturn_errno\u001b[0m\u001b[0;34m)\u001b[0m\u001b[0;34m:\u001b[0m\u001b[0;34m\u001b[0m\u001b[0m\n",
        "\u001b[0;31mKeyboardInterrupt\u001b[0m: "
       ]
      }
     ],
     "prompt_number": 4
    },
    {
     "cell_type": "code",
     "collapsed": false,
     "input": [
      "import pandas as pd\n",
      "import os\n",
      "pods.util.download_url('https://www.dropbox.com/s/s6gqvp9b383b59y/movies.csv?dl=0&raw=1', store_directory = 'class_movie', save_name='movies.csv')\n",
      "movies = pd.read_csv(os.path.join(pods.datasets.data_path, 'class_movie', 'movies.csv')).set_index('index')\n"
     ],
     "language": "python",
     "metadata": {},
     "outputs": [
      {
       "output_type": "stream",
       "stream": "stdout",
       "text": [
        "movies.csv?dl=0&raw=1\n",
        "Downloading  https://www.dropbox.com/s/s6gqvp9b383b59y/movies.csv?dl=0&raw=1 -> /Users/neill/ods_data_cache/class_movie/movies.csv\n",
        "\r"
       ]
      },
      {
       "output_type": "stream",
       "stream": "stdout",
       "text": [
        "[                              ]   0.008/0.377MB"
       ]
      },
      {
       "output_type": "stream",
       "stream": "stdout",
       "text": [
        "                                                \r",
        "[=                             ]   0.016/0.377MB"
       ]
      },
      {
       "output_type": "stream",
       "stream": "stdout",
       "text": [
        "                                                \r",
        "[=                             ]   0.023/0.377MB"
       ]
      },
      {
       "output_type": "stream",
       "stream": "stdout",
       "text": [
        "                                                \r",
        "[==                            ]   0.031/0.377MB"
       ]
      },
      {
       "output_type": "stream",
       "stream": "stdout",
       "text": [
        "                                                \r",
        "[===                           ]   0.039/0.377MB"
       ]
      },
      {
       "output_type": "stream",
       "stream": "stdout",
       "text": [
        "                                                \r",
        "[===                           ]   0.047/0.377MB"
       ]
      },
      {
       "output_type": "stream",
       "stream": "stdout",
       "text": [
        "                                                \r",
        "[====                          ]   0.055/0.377MB"
       ]
      },
      {
       "output_type": "stream",
       "stream": "stdout",
       "text": [
        "                                                \r",
        "[====                          ]   0.062/0.377MB"
       ]
      },
      {
       "output_type": "stream",
       "stream": "stdout",
       "text": [
        "                                                \r",
        "[=====                         ]   0.070/0.377MB"
       ]
      },
      {
       "output_type": "stream",
       "stream": "stdout",
       "text": [
        "                                                \r",
        "[======                        ]   0.078/0.377MB"
       ]
      },
      {
       "output_type": "stream",
       "stream": "stdout",
       "text": [
        "                                                \r",
        "[======                        ]   0.086/0.377MB"
       ]
      },
      {
       "output_type": "stream",
       "stream": "stdout",
       "text": [
        "                                                \r",
        "[=======                       ]   0.094/0.377MB"
       ]
      },
      {
       "output_type": "stream",
       "stream": "stdout",
       "text": [
        "                                                \r",
        "[========                      ]   0.102/0.377MB"
       ]
      },
      {
       "output_type": "stream",
       "stream": "stdout",
       "text": [
        "                                                \r",
        "[========                      ]   0.109/0.377MB"
       ]
      },
      {
       "output_type": "stream",
       "stream": "stdout",
       "text": [
        "                                                \r",
        "[=========                     ]   0.117/0.377MB"
       ]
      },
      {
       "output_type": "stream",
       "stream": "stdout",
       "text": [
        "                                                \r",
        "[=========                     ]   0.125/0.377MB"
       ]
      },
      {
       "output_type": "stream",
       "stream": "stdout",
       "text": [
        "                                                \r",
        "[==========                    ]   0.133/0.377MB"
       ]
      },
      {
       "output_type": "stream",
       "stream": "stdout",
       "text": [
        "                                                \r",
        "[===========                   ]   0.141/0.377MB"
       ]
      },
      {
       "output_type": "stream",
       "stream": "stdout",
       "text": [
        "                                                \r",
        "[===========                   ]   0.148/0.377MB"
       ]
      },
      {
       "output_type": "stream",
       "stream": "stdout",
       "text": [
        "                                                \r",
        "[============                  ]   0.156/0.377MB"
       ]
      },
      {
       "output_type": "stream",
       "stream": "stdout",
       "text": [
        "                                                \r",
        "[=============                 ]   0.164/0.377MB"
       ]
      },
      {
       "output_type": "stream",
       "stream": "stdout",
       "text": [
        "                                                \r",
        "[=============                 ]   0.172/0.377MB"
       ]
      },
      {
       "output_type": "stream",
       "stream": "stdout",
       "text": [
        "                                                \r",
        "[==============                ]   0.180/0.377MB"
       ]
      },
      {
       "output_type": "stream",
       "stream": "stdout",
       "text": [
        "                                                \r",
        "[==============                ]   0.188/0.377MB"
       ]
      },
      {
       "output_type": "stream",
       "stream": "stdout",
       "text": [
        "                                                \r",
        "[===============               ]   0.195/0.377MB"
       ]
      },
      {
       "output_type": "stream",
       "stream": "stdout",
       "text": [
        "                                                \r",
        "[================              ]   0.203/0.377MB"
       ]
      },
      {
       "output_type": "stream",
       "stream": "stdout",
       "text": [
        "                                                \r",
        "[================              ]   0.211/0.377MB"
       ]
      },
      {
       "output_type": "stream",
       "stream": "stdout",
       "text": [
        "                                                \r",
        "[=================             ]   0.219/0.377MB"
       ]
      },
      {
       "output_type": "stream",
       "stream": "stdout",
       "text": [
        "                                                \r",
        "[==================            ]   0.227/0.377MB"
       ]
      },
      {
       "output_type": "stream",
       "stream": "stdout",
       "text": [
        "                                                \r",
        "[==================            ]   0.234/0.377MB"
       ]
      },
      {
       "output_type": "stream",
       "stream": "stdout",
       "text": [
        "                                                \r",
        "[===================           ]   0.242/0.377MB"
       ]
      },
      {
       "output_type": "stream",
       "stream": "stdout",
       "text": [
        "                                                \r",
        "[===================           ]   0.250/0.377MB"
       ]
      },
      {
       "output_type": "stream",
       "stream": "stdout",
       "text": [
        "                                                \r",
        "[====================          ]   0.258/0.377MB"
       ]
      },
      {
       "output_type": "stream",
       "stream": "stdout",
       "text": [
        "                                                \r",
        "[=====================         ]   0.266/0.377MB"
       ]
      },
      {
       "output_type": "stream",
       "stream": "stdout",
       "text": [
        "                                                \r",
        "[=====================         ]   0.273/0.377MB"
       ]
      },
      {
       "output_type": "stream",
       "stream": "stdout",
       "text": [
        "                                                \r",
        "[======================        ]   0.281/0.377MB"
       ]
      },
      {
       "output_type": "stream",
       "stream": "stdout",
       "text": [
        "                                                \r",
        "[=======================       ]   0.289/0.377MB"
       ]
      },
      {
       "output_type": "stream",
       "stream": "stdout",
       "text": [
        "                                                \r",
        "[=======================       ]   0.297/0.377MB"
       ]
      },
      {
       "output_type": "stream",
       "stream": "stdout",
       "text": [
        "                                                \r",
        "[========================      ]   0.305/0.377MB"
       ]
      },
      {
       "output_type": "stream",
       "stream": "stdout",
       "text": [
        "                                                \r",
        "[========================      ]   0.312/0.377MB"
       ]
      },
      {
       "output_type": "stream",
       "stream": "stdout",
       "text": [
        "                                                \r",
        "[=========================     ]   0.320/0.377MB"
       ]
      },
      {
       "output_type": "stream",
       "stream": "stdout",
       "text": [
        "                                                \r",
        "[==========================    ]   0.328/0.377MB"
       ]
      },
      {
       "output_type": "stream",
       "stream": "stdout",
       "text": [
        "                                                \r",
        "[==========================    ]   0.336/0.377MB"
       ]
      },
      {
       "output_type": "stream",
       "stream": "stdout",
       "text": [
        "                                                \r",
        "[===========================   ]   0.344/0.377MB"
       ]
      },
      {
       "output_type": "stream",
       "stream": "stdout",
       "text": [
        "                                                \r",
        "[===========================   ]   0.352/0.377MB"
       ]
      },
      {
       "output_type": "stream",
       "stream": "stdout",
       "text": [
        "                                                \r",
        "[============================  ]   0.359/0.377MB"
       ]
      },
      {
       "output_type": "stream",
       "stream": "stdout",
       "text": [
        "                                                \r",
        "[============================= ]   0.367/0.377MB"
       ]
      },
      {
       "output_type": "stream",
       "stream": "stdout",
       "text": [
        "                                                \r",
        "[============================= ]   0.375/0.377MB"
       ]
      },
      {
       "output_type": "stream",
       "stream": "stdout",
       "text": [
        "                                                \r",
        "[==============================]   0.377/0.377MB"
       ]
      },
      {
       "output_type": "stream",
       "stream": "stdout",
       "text": [
        "                                                \r",
        "[==============================]   0.377/0.377MB\n"
       ]
      }
     ],
     "prompt_number": 28
    },
    {
     "cell_type": "code",
     "collapsed": false,
     "input": [],
     "language": "python",
     "metadata": {},
     "outputs": []
    },
    {
     "cell_type": "markdown",
     "metadata": {},
     "source": [
      "### Assignment Question 2\n",
      "The movies data is now in a data frame which contains one column for each user rating the movie. Have a look at the data, what do the entries with 'NaN' in mean?\n",
      "\n",
      "*5 marks*"
     ]
    },
    {
     "cell_type": "markdown",
     "metadata": {},
     "source": [
      "#### Answer Question 2\n",
      "\n",
      "Write your answer to the question in this box."
     ]
    },
    {
     "cell_type": "markdown",
     "metadata": {},
     "source": [
      "## Processing the Data\n",
      "\n",
      "We will now prepare the data set for processing. To do this we are going to conver the data into a new format using the `melt` command."
     ]
    },
    {
     "cell_type": "code",
     "collapsed": false,
     "input": [
      "user_names = list(set(movies.columns)-set(movies.columns[:9]))\n",
      "Y = pd.melt(movies.reset_index(), id_vars=['Film', 'index'], \n",
      "            var_name='user', value_name='rating', \n",
      "            value_vars=user_names)\n",
      "Y = Y.dropna(axis=0)"
     ],
     "language": "python",
     "metadata": {},
     "outputs": [],
     "prompt_number": 46
    },
    {
     "cell_type": "code",
     "collapsed": false,
     "input": [
      "Y"
     ],
     "language": "python",
     "metadata": {},
     "outputs": [
      {
       "html": [
        "<div style=\"max-height:1000px;max-width:1500px;overflow:auto;\">\n",
        "<table border=\"1\" class=\"dataframe\">\n",
        "  <thead>\n",
        "    <tr style=\"text-align: right;\">\n",
        "      <th></th>\n",
        "      <th>Film</th>\n",
        "      <th>index</th>\n",
        "      <th>user</th>\n",
        "      <th>rating</th>\n",
        "    </tr>\n",
        "  </thead>\n",
        "  <tbody>\n",
        "    <tr>\n",
        "      <th>148 </th>\n",
        "      <td>                                       Ghost Rider</td>\n",
        "      <td> 148</td>\n",
        "      <td>          DPekaslan1@sheffield.ac.uk</td>\n",
        "      <td> 1</td>\n",
        "    </tr>\n",
        "    <tr>\n",
        "      <th>275 </th>\n",
        "      <td>                                      Pearl Harbor</td>\n",
        "      <td> 275</td>\n",
        "      <td>          DPekaslan1@sheffield.ac.uk</td>\n",
        "      <td> 3</td>\n",
        "    </tr>\n",
        "    <tr>\n",
        "      <th>319 </th>\n",
        "      <td>                                 The Scorpion King</td>\n",
        "      <td> 319</td>\n",
        "      <td>          DPekaslan1@sheffield.ac.uk</td>\n",
        "      <td> 2</td>\n",
        "    </tr>\n",
        "    <tr>\n",
        "      <th>392 </th>\n",
        "      <td>                                    V for Vendetta</td>\n",
        "      <td> 392</td>\n",
        "      <td>          DPekaslan1@sheffield.ac.uk</td>\n",
        "      <td> 5</td>\n",
        "    </tr>\n",
        "    <tr>\n",
        "      <th>409 </th>\n",
        "      <td>                                             X-Men</td>\n",
        "      <td> 409</td>\n",
        "      <td>          DPekaslan1@sheffield.ac.uk</td>\n",
        "      <td> 3</td>\n",
        "    </tr>\n",
        "    <tr>\n",
        "      <th>432 </th>\n",
        "      <td>                                             Alien</td>\n",
        "      <td>  11</td>\n",
        "      <td>            MCooper2@sheffield.ac.uk</td>\n",
        "      <td> 1</td>\n",
        "    </tr>\n",
        "    <tr>\n",
        "      <th>445 </th>\n",
        "      <td>                                        Armageddon</td>\n",
        "      <td>  24</td>\n",
        "      <td>            MCooper2@sheffield.ac.uk</td>\n",
        "      <td> 2</td>\n",
        "    </tr>\n",
        "    <tr>\n",
        "      <th>457 </th>\n",
        "      <td>                                            Batman</td>\n",
        "      <td>  36</td>\n",
        "      <td>            MCooper2@sheffield.ac.uk</td>\n",
        "      <td> 3</td>\n",
        "    </tr>\n",
        "    <tr>\n",
        "      <th>458 </th>\n",
        "      <td>                                     Batman Begins</td>\n",
        "      <td>  37</td>\n",
        "      <td>            MCooper2@sheffield.ac.uk</td>\n",
        "      <td> 3</td>\n",
        "    </tr>\n",
        "    <tr>\n",
        "      <th>475 </th>\n",
        "      <td>                                        Braveheart</td>\n",
        "      <td>  54</td>\n",
        "      <td>            MCooper2@sheffield.ac.uk</td>\n",
        "      <td> 1</td>\n",
        "    </tr>\n",
        "    <tr>\n",
        "      <th>490 </th>\n",
        "      <td>                                 A Christmas Story</td>\n",
        "      <td>  69</td>\n",
        "      <td>            MCooper2@sheffield.ac.uk</td>\n",
        "      <td> 3</td>\n",
        "    </tr>\n",
        "    <tr>\n",
        "      <th>530 </th>\n",
        "      <td>                        Die Hard: With a Vengeance</td>\n",
        "      <td> 109</td>\n",
        "      <td>            MCooper2@sheffield.ac.uk</td>\n",
        "      <td> 1</td>\n",
        "    </tr>\n",
        "    <tr>\n",
        "      <th>588 </th>\n",
        "      <td>                                            Hitman</td>\n",
        "      <td> 167</td>\n",
        "      <td>            MCooper2@sheffield.ac.uk</td>\n",
        "      <td> 1</td>\n",
        "    </tr>\n",
        "    <tr>\n",
        "      <th>591 </th>\n",
        "      <td>                                          Hot Fuzz</td>\n",
        "      <td> 170</td>\n",
        "      <td>            MCooper2@sheffield.ac.uk</td>\n",
        "      <td> 1</td>\n",
        "    </tr>\n",
        "    <tr>\n",
        "      <th>630 </th>\n",
        "      <td>                                     Lethal Weapon</td>\n",
        "      <td> 209</td>\n",
        "      <td>            MCooper2@sheffield.ac.uk</td>\n",
        "      <td> 1</td>\n",
        "    </tr>\n",
        "    <tr>\n",
        "      <th>678 </th>\n",
        "      <td>                         A Nightmare on Elm Street</td>\n",
        "      <td> 257</td>\n",
        "      <td>            MCooper2@sheffield.ac.uk</td>\n",
        "      <td> 2</td>\n",
        "    </tr>\n",
        "    <tr>\n",
        "      <th>740 </th>\n",
        "      <td>                                 The Scorpion King</td>\n",
        "      <td> 319</td>\n",
        "      <td>            MCooper2@sheffield.ac.uk</td>\n",
        "      <td> 2</td>\n",
        "    </tr>\n",
        "    <tr>\n",
        "      <th>750 </th>\n",
        "      <td>                                             Signs</td>\n",
        "      <td> 329</td>\n",
        "      <td>            MCooper2@sheffield.ac.uk</td>\n",
        "      <td> 3</td>\n",
        "    </tr>\n",
        "    <tr>\n",
        "      <th>762 </th>\n",
        "      <td>                                          Stardust</td>\n",
        "      <td> 341</td>\n",
        "      <td>            MCooper2@sheffield.ac.uk</td>\n",
        "      <td> 2</td>\n",
        "    </tr>\n",
        "    <tr>\n",
        "      <th>766 </th>\n",
        "      <td>      Star Wars: Episode III - Revenge of the Sith</td>\n",
        "      <td> 345</td>\n",
        "      <td>            MCooper2@sheffield.ac.uk</td>\n",
        "      <td> 1</td>\n",
        "    </tr>\n",
        "    <tr>\n",
        "      <th>781 </th>\n",
        "      <td>                                         Swordfish</td>\n",
        "      <td> 360</td>\n",
        "      <td>            MCooper2@sheffield.ac.uk</td>\n",
        "      <td> 1</td>\n",
        "    </tr>\n",
        "    <tr>\n",
        "      <th>786 </th>\n",
        "      <td>                        Team America: World Police</td>\n",
        "      <td> 365</td>\n",
        "      <td>            MCooper2@sheffield.ac.uk</td>\n",
        "      <td> 3</td>\n",
        "    </tr>\n",
        "    <tr>\n",
        "      <th>796 </th>\n",
        "      <td>                                           Titanic</td>\n",
        "      <td> 375</td>\n",
        "      <td>            MCooper2@sheffield.ac.uk</td>\n",
        "      <td> 1</td>\n",
        "    </tr>\n",
        "    <tr>\n",
        "      <th>800 </th>\n",
        "      <td>                       The Transformers: The Movie</td>\n",
        "      <td> 379</td>\n",
        "      <td>            MCooper2@sheffield.ac.uk</td>\n",
        "      <td> 5</td>\n",
        "    </tr>\n",
        "    <tr>\n",
        "      <th>841 </th>\n",
        "      <td>                                              Zulu</td>\n",
        "      <td> 420</td>\n",
        "      <td>            MCooper2@sheffield.ac.uk</td>\n",
        "      <td> 1</td>\n",
        "    </tr>\n",
        "    <tr>\n",
        "      <th>880 </th>\n",
        "      <td>                                    Batman Returns</td>\n",
        "      <td>  38</td>\n",
        "      <td>           LHeavens1@sheffield.ac.uk</td>\n",
        "      <td> 2</td>\n",
        "    </tr>\n",
        "    <tr>\n",
        "      <th>893 </th>\n",
        "      <td>                               The Bourne Identity</td>\n",
        "      <td>  51</td>\n",
        "      <td>           LHeavens1@sheffield.ac.uk</td>\n",
        "      <td> 5</td>\n",
        "    </tr>\n",
        "    <tr>\n",
        "      <th>894 </th>\n",
        "      <td>                              The Bourne Supremacy</td>\n",
        "      <td>  52</td>\n",
        "      <td>           LHeavens1@sheffield.ac.uk</td>\n",
        "      <td> 5</td>\n",
        "    </tr>\n",
        "    <tr>\n",
        "      <th>1025</th>\n",
        "      <td>                                          Iron Man</td>\n",
        "      <td> 183</td>\n",
        "      <td>           LHeavens1@sheffield.ac.uk</td>\n",
        "      <td> 4</td>\n",
        "    </tr>\n",
        "    <tr>\n",
        "      <th>1063</th>\n",
        "      <td> The Lord of the Rings: The Fellowship of the Ring</td>\n",
        "      <td> 221</td>\n",
        "      <td>           LHeavens1@sheffield.ac.uk</td>\n",
        "      <td> 4</td>\n",
        "    </tr>\n",
        "    <tr>\n",
        "      <th>...</th>\n",
        "      <td>...</td>\n",
        "      <td>...</td>\n",
        "      <td>...</td>\n",
        "      <td>...</td>\n",
        "    </tr>\n",
        "    <tr>\n",
        "      <th>6398</th>\n",
        "      <td>                                       Constantine</td>\n",
        "      <td>  83</td>\n",
        "      <td>          CSheridan1@sheffield.ac.uk</td>\n",
        "      <td> 3</td>\n",
        "    </tr>\n",
        "    <tr>\n",
        "      <th>6410</th>\n",
        "      <td>                                   The Dark Knight</td>\n",
        "      <td>  95</td>\n",
        "      <td>          CSheridan1@sheffield.ac.uk</td>\n",
        "      <td> 5</td>\n",
        "    </tr>\n",
        "    <tr>\n",
        "      <th>6442</th>\n",
        "      <td>                    Fear and Loathing in Las Vegas</td>\n",
        "      <td> 127</td>\n",
        "      <td>          CSheridan1@sheffield.ac.uk</td>\n",
        "      <td> 5</td>\n",
        "    </tr>\n",
        "    <tr>\n",
        "      <th>6478</th>\n",
        "      <td>                                           Hellboy</td>\n",
        "      <td> 163</td>\n",
        "      <td>          CSheridan1@sheffield.ac.uk</td>\n",
        "      <td> 4</td>\n",
        "    </tr>\n",
        "    <tr>\n",
        "      <th>6504</th>\n",
        "      <td>                                            Jumper</td>\n",
        "      <td> 189</td>\n",
        "      <td>          CSheridan1@sheffield.ac.uk</td>\n",
        "      <td> 2</td>\n",
        "    </tr>\n",
        "    <tr>\n",
        "      <th>6560</th>\n",
        "      <td>                               Mission: Impossible</td>\n",
        "      <td> 245</td>\n",
        "      <td>          CSheridan1@sheffield.ac.uk</td>\n",
        "      <td> 2</td>\n",
        "    </tr>\n",
        "    <tr>\n",
        "      <th>6592</th>\n",
        "      <td> Pirates of the Caribbean: The Curse of the Bla...</td>\n",
        "      <td> 277</td>\n",
        "      <td>          CSheridan1@sheffield.ac.uk</td>\n",
        "      <td> 3</td>\n",
        "    </tr>\n",
        "    <tr>\n",
        "      <th>6606</th>\n",
        "      <td>                                             Rambo</td>\n",
        "      <td> 291</td>\n",
        "      <td>          CSheridan1@sheffield.ac.uk</td>\n",
        "      <td> 3</td>\n",
        "    </tr>\n",
        "    <tr>\n",
        "      <th>6615</th>\n",
        "      <td>                                    Reservoir Dogs</td>\n",
        "      <td> 300</td>\n",
        "      <td>          CSheridan1@sheffield.ac.uk</td>\n",
        "      <td> 5</td>\n",
        "    </tr>\n",
        "    <tr>\n",
        "      <th>6622</th>\n",
        "      <td>                                           RoboCop</td>\n",
        "      <td> 307</td>\n",
        "      <td>          CSheridan1@sheffield.ac.uk</td>\n",
        "      <td> 3</td>\n",
        "    </tr>\n",
        "    <tr>\n",
        "      <th>6629</th>\n",
        "      <td>                                   The Running Man</td>\n",
        "      <td> 314</td>\n",
        "      <td>          CSheridan1@sheffield.ac.uk</td>\n",
        "      <td> 4</td>\n",
        "    </tr>\n",
        "    <tr>\n",
        "      <th>6633</th>\n",
        "      <td>                                          Scarface</td>\n",
        "      <td> 318</td>\n",
        "      <td>          CSheridan1@sheffield.ac.uk</td>\n",
        "      <td> 5</td>\n",
        "    </tr>\n",
        "    <tr>\n",
        "      <th>6647</th>\n",
        "      <td>                                          Sin City</td>\n",
        "      <td> 332</td>\n",
        "      <td>          CSheridan1@sheffield.ac.uk</td>\n",
        "      <td> 4</td>\n",
        "    </tr>\n",
        "    <tr>\n",
        "      <th>6673</th>\n",
        "      <td>    Sweeney Todd: The Demon Barber of Fleet Street</td>\n",
        "      <td> 358</td>\n",
        "      <td>          CSheridan1@sheffield.ac.uk</td>\n",
        "      <td> 3</td>\n",
        "    </tr>\n",
        "    <tr>\n",
        "      <th>6826</th>\n",
        "      <td>                                       Crime Spree</td>\n",
        "      <td>  90</td>\n",
        "      <td>             XWang95@sheffield.ac.uk</td>\n",
        "      <td> 4</td>\n",
        "    </tr>\n",
        "    <tr>\n",
        "      <th>6926</th>\n",
        "      <td>                                 Jurassic Park III</td>\n",
        "      <td> 190</td>\n",
        "      <td>             XWang95@sheffield.ac.uk</td>\n",
        "      <td> 5</td>\n",
        "    </tr>\n",
        "    <tr>\n",
        "      <th>6927</th>\n",
        "      <td>                              K-19: The Widowmaker</td>\n",
        "      <td> 191</td>\n",
        "      <td>             XWang95@sheffield.ac.uk</td>\n",
        "      <td> 4</td>\n",
        "    </tr>\n",
        "    <tr>\n",
        "      <th>7103</th>\n",
        "      <td>                        Terminator 2: Judgment Day</td>\n",
        "      <td> 367</td>\n",
        "      <td>             XWang95@sheffield.ac.uk</td>\n",
        "      <td> 5</td>\n",
        "    </tr>\n",
        "    <tr>\n",
        "      <th>7142</th>\n",
        "      <td>                                  We Were Soldiers</td>\n",
        "      <td> 406</td>\n",
        "      <td>             XWang95@sheffield.ac.uk</td>\n",
        "      <td> 5</td>\n",
        "    </tr>\n",
        "    <tr>\n",
        "      <th>7354</th>\n",
        "      <td>                                         King Kong</td>\n",
        "      <td> 197</td>\n",
        "      <td>            SSensay1@sheffield.ac.uk</td>\n",
        "      <td> 4</td>\n",
        "    </tr>\n",
        "    <tr>\n",
        "      <th>7761</th>\n",
        "      <td>                                          Iron Man</td>\n",
        "      <td> 183</td>\n",
        "      <td>             JTLGoh1@sheffield.ac.uk</td>\n",
        "      <td> 5</td>\n",
        "    </tr>\n",
        "    <tr>\n",
        "      <th>7868</th>\n",
        "      <td>                           Raiders of the Lost Ark</td>\n",
        "      <td> 290</td>\n",
        "      <td>             JTLGoh1@sheffield.ac.uk</td>\n",
        "      <td> 1</td>\n",
        "    </tr>\n",
        "    <tr>\n",
        "      <th>7879</th>\n",
        "      <td>                         Resident Evil: Apocalypse</td>\n",
        "      <td> 301</td>\n",
        "      <td>             JTLGoh1@sheffield.ac.uk</td>\n",
        "      <td> 3</td>\n",
        "    </tr>\n",
        "    <tr>\n",
        "      <th>7925</th>\n",
        "      <td>    Star Wars: Episode V - The Empire Strikes Back</td>\n",
        "      <td> 347</td>\n",
        "      <td>             JTLGoh1@sheffield.ac.uk</td>\n",
        "      <td> 2</td>\n",
        "    </tr>\n",
        "    <tr>\n",
        "      <th>7935</th>\n",
        "      <td>                                  Superman Returns</td>\n",
        "      <td> 357</td>\n",
        "      <td>             JTLGoh1@sheffield.ac.uk</td>\n",
        "      <td> 4</td>\n",
        "    </tr>\n",
        "    <tr>\n",
        "      <th>8079</th>\n",
        "      <td>                                           Con Air</td>\n",
        "      <td>  80</td>\n",
        "      <td> CAekmunkhongpaisal1@sheffield.ac.uk</td>\n",
        "      <td> 3</td>\n",
        "    </tr>\n",
        "    <tr>\n",
        "      <th>8082</th>\n",
        "      <td>                                       Constantine</td>\n",
        "      <td>  83</td>\n",
        "      <td> CAekmunkhongpaisal1@sheffield.ac.uk</td>\n",
        "      <td> 4</td>\n",
        "    </tr>\n",
        "    <tr>\n",
        "      <th>8207</th>\n",
        "      <td>                               The Legend of Zorro</td>\n",
        "      <td> 208</td>\n",
        "      <td> CAekmunkhongpaisal1@sheffield.ac.uk</td>\n",
        "      <td> 5</td>\n",
        "    </tr>\n",
        "    <tr>\n",
        "      <th>8276</th>\n",
        "      <td> Pirates of the Caribbean: The Curse of the Bla...</td>\n",
        "      <td> 277</td>\n",
        "      <td> CAekmunkhongpaisal1@sheffield.ac.uk</td>\n",
        "      <td> 5</td>\n",
        "    </tr>\n",
        "    <tr>\n",
        "      <th>8337</th>\n",
        "      <td>                                           Spartan</td>\n",
        "      <td> 338</td>\n",
        "      <td> CAekmunkhongpaisal1@sheffield.ac.uk</td>\n",
        "      <td> 5</td>\n",
        "    </tr>\n",
        "  </tbody>\n",
        "</table>\n",
        "<p>242 rows \u00d7 4 columns</p>\n",
        "</div>"
       ],
       "metadata": {},
       "output_type": "pyout",
       "prompt_number": 47,
       "text": [
        "                                                   Film  index  \\\n",
        "148                                         Ghost Rider    148   \n",
        "275                                        Pearl Harbor    275   \n",
        "319                                   The Scorpion King    319   \n",
        "392                                      V for Vendetta    392   \n",
        "409                                               X-Men    409   \n",
        "432                                               Alien     11   \n",
        "445                                          Armageddon     24   \n",
        "457                                              Batman     36   \n",
        "458                                       Batman Begins     37   \n",
        "475                                          Braveheart     54   \n",
        "490                                   A Christmas Story     69   \n",
        "530                          Die Hard: With a Vengeance    109   \n",
        "588                                              Hitman    167   \n",
        "591                                            Hot Fuzz    170   \n",
        "630                                       Lethal Weapon    209   \n",
        "678                           A Nightmare on Elm Street    257   \n",
        "740                                   The Scorpion King    319   \n",
        "750                                               Signs    329   \n",
        "762                                            Stardust    341   \n",
        "766        Star Wars: Episode III - Revenge of the Sith    345   \n",
        "781                                           Swordfish    360   \n",
        "786                          Team America: World Police    365   \n",
        "796                                             Titanic    375   \n",
        "800                         The Transformers: The Movie    379   \n",
        "841                                                Zulu    420   \n",
        "880                                      Batman Returns     38   \n",
        "893                                 The Bourne Identity     51   \n",
        "894                                The Bourne Supremacy     52   \n",
        "1025                                           Iron Man    183   \n",
        "1063  The Lord of the Rings: The Fellowship of the Ring    221   \n",
        "...                                                 ...    ...   \n",
        "6398                                        Constantine     83   \n",
        "6410                                    The Dark Knight     95   \n",
        "6442                     Fear and Loathing in Las Vegas    127   \n",
        "6478                                            Hellboy    163   \n",
        "6504                                             Jumper    189   \n",
        "6560                                Mission: Impossible    245   \n",
        "6592  Pirates of the Caribbean: The Curse of the Bla...    277   \n",
        "6606                                              Rambo    291   \n",
        "6615                                     Reservoir Dogs    300   \n",
        "6622                                            RoboCop    307   \n",
        "6629                                    The Running Man    314   \n",
        "6633                                           Scarface    318   \n",
        "6647                                           Sin City    332   \n",
        "6673     Sweeney Todd: The Demon Barber of Fleet Street    358   \n",
        "6826                                        Crime Spree     90   \n",
        "6926                                  Jurassic Park III    190   \n",
        "6927                               K-19: The Widowmaker    191   \n",
        "7103                         Terminator 2: Judgment Day    367   \n",
        "7142                                   We Were Soldiers    406   \n",
        "7354                                          King Kong    197   \n",
        "7761                                           Iron Man    183   \n",
        "7868                            Raiders of the Lost Ark    290   \n",
        "7879                          Resident Evil: Apocalypse    301   \n",
        "7925     Star Wars: Episode V - The Empire Strikes Back    347   \n",
        "7935                                   Superman Returns    357   \n",
        "8079                                            Con Air     80   \n",
        "8082                                        Constantine     83   \n",
        "8207                                The Legend of Zorro    208   \n",
        "8276  Pirates of the Caribbean: The Curse of the Bla...    277   \n",
        "8337                                            Spartan    338   \n",
        "\n",
        "                                     user  rating  \n",
        "148            DPekaslan1@sheffield.ac.uk       1  \n",
        "275            DPekaslan1@sheffield.ac.uk       3  \n",
        "319            DPekaslan1@sheffield.ac.uk       2  \n",
        "392            DPekaslan1@sheffield.ac.uk       5  \n",
        "409            DPekaslan1@sheffield.ac.uk       3  \n",
        "432              MCooper2@sheffield.ac.uk       1  \n",
        "445              MCooper2@sheffield.ac.uk       2  \n",
        "457              MCooper2@sheffield.ac.uk       3  \n",
        "458              MCooper2@sheffield.ac.uk       3  \n",
        "475              MCooper2@sheffield.ac.uk       1  \n",
        "490              MCooper2@sheffield.ac.uk       3  \n",
        "530              MCooper2@sheffield.ac.uk       1  \n",
        "588              MCooper2@sheffield.ac.uk       1  \n",
        "591              MCooper2@sheffield.ac.uk       1  \n",
        "630              MCooper2@sheffield.ac.uk       1  \n",
        "678              MCooper2@sheffield.ac.uk       2  \n",
        "740              MCooper2@sheffield.ac.uk       2  \n",
        "750              MCooper2@sheffield.ac.uk       3  \n",
        "762              MCooper2@sheffield.ac.uk       2  \n",
        "766              MCooper2@sheffield.ac.uk       1  \n",
        "781              MCooper2@sheffield.ac.uk       1  \n",
        "786              MCooper2@sheffield.ac.uk       3  \n",
        "796              MCooper2@sheffield.ac.uk       1  \n",
        "800              MCooper2@sheffield.ac.uk       5  \n",
        "841              MCooper2@sheffield.ac.uk       1  \n",
        "880             LHeavens1@sheffield.ac.uk       2  \n",
        "893             LHeavens1@sheffield.ac.uk       5  \n",
        "894             LHeavens1@sheffield.ac.uk       5  \n",
        "1025            LHeavens1@sheffield.ac.uk       4  \n",
        "1063            LHeavens1@sheffield.ac.uk       4  \n",
        "...                                   ...     ...  \n",
        "6398           CSheridan1@sheffield.ac.uk       3  \n",
        "6410           CSheridan1@sheffield.ac.uk       5  \n",
        "6442           CSheridan1@sheffield.ac.uk       5  \n",
        "6478           CSheridan1@sheffield.ac.uk       4  \n",
        "6504           CSheridan1@sheffield.ac.uk       2  \n",
        "6560           CSheridan1@sheffield.ac.uk       2  \n",
        "6592           CSheridan1@sheffield.ac.uk       3  \n",
        "6606           CSheridan1@sheffield.ac.uk       3  \n",
        "6615           CSheridan1@sheffield.ac.uk       5  \n",
        "6622           CSheridan1@sheffield.ac.uk       3  \n",
        "6629           CSheridan1@sheffield.ac.uk       4  \n",
        "6633           CSheridan1@sheffield.ac.uk       5  \n",
        "6647           CSheridan1@sheffield.ac.uk       4  \n",
        "6673           CSheridan1@sheffield.ac.uk       3  \n",
        "6826              XWang95@sheffield.ac.uk       4  \n",
        "6926              XWang95@sheffield.ac.uk       5  \n",
        "6927              XWang95@sheffield.ac.uk       4  \n",
        "7103              XWang95@sheffield.ac.uk       5  \n",
        "7142              XWang95@sheffield.ac.uk       5  \n",
        "7354             SSensay1@sheffield.ac.uk       4  \n",
        "7761              JTLGoh1@sheffield.ac.uk       5  \n",
        "7868              JTLGoh1@sheffield.ac.uk       1  \n",
        "7879              JTLGoh1@sheffield.ac.uk       3  \n",
        "7925              JTLGoh1@sheffield.ac.uk       2  \n",
        "7935              JTLGoh1@sheffield.ac.uk       4  \n",
        "8079  CAekmunkhongpaisal1@sheffield.ac.uk       3  \n",
        "8082  CAekmunkhongpaisal1@sheffield.ac.uk       4  \n",
        "8207  CAekmunkhongpaisal1@sheffield.ac.uk       5  \n",
        "8276  CAekmunkhongpaisal1@sheffield.ac.uk       5  \n",
        "8337  CAekmunkhongpaisal1@sheffield.ac.uk       5  \n",
        "\n",
        "[242 rows x 4 columns]"
       ]
      }
     ],
     "prompt_number": 47
    },
    {
     "cell_type": "markdown",
     "metadata": {},
     "source": [
      "### Assignment Question 3\n",
      "\n",
      "What is a pivot table? What does the `pandas` command `pd.melt` do? \n",
      "\n",
      "*10 marks*"
     ]
    },
    {
     "cell_type": "markdown",
     "metadata": {},
     "source": [
      "#### Question 3 Answer\n",
      "\n",
      "Write your answer to the question in this box."
     ]
    },
    {
     "cell_type": "markdown",
     "metadata": {},
     "source": [
      "## Measuring Similarity\n",
      "\n",
      "We now need a measure for determining the similarity between the item and the user: how close the user is sitting to the item in the rooom if you like. We are going to use the inner product between the vector representing the item and the vector representing the user. \n",
      "\n",
      "An inner product (or [dot product](http://en.wikipedia.org/wiki/Dot_product)) between two vectors $\\mathbf{a}$ and $\\mathbf{b}$ is written as $\\mathbf{a}\\cdot\\mathbf{b}$. Or in vector notation we sometimes write it as $\\mathbf{a}^\\top\\mathbf{b}$. An inner product is simply the sume of the products of each element of the vector,\n",
      "$$\n",
      "\\mathbf{a}^\\top\\mathbf{b} = \\sum_{i} a_i b_i\n",
      "$$\n",
      "The inner product can be seen as a measure of similarity. The inner product gives us the cosine of the angle between the two vectors multiplied by their length. The smaller the angle between two vectors the larger the inner product. \n",
      "$$\n",
      "\\mathbf{a}^\\top\\mathbf{b} = |\\mathbf{a}||\\mathbf{b}| \\cos(\\theta)\n",
      "$$\n",
      "where $\\theta$ is the angle between two vectors and $|\\mathbf{a}|$ and $|\\mathbf{b}|$ are the respective lengths of the two vectors.\n",
      "\n",
      "Since we want each user to be sitting near each item, then we want the inner product to be large for any two items which are rated highly by that user. We can do this by trying to force the inner product $\\mathbf{u}_i^\\top\\mathbf{v}_j$ to be similar to the rating given by the user, $y_{i,j}$. To ensure this we will use a least squares objective function for all user ratings."
     ]
    },
    {
     "cell_type": "markdown",
     "metadata": {},
     "source": [
      "## Objective Function\n",
      "\n",
      "The error function (or objective function, or cost function) we will choose is known as 'sum of squares', we will aim to minimize the sum of squared squared error between the inner product of $\\mathbf{u}_i$ and $\\mathbf{v}_i$ and the observed score for the user/item pairing, given by $y_{i, j}$. \n",
      "\n",
      "The total objective function can be written as\n",
      "$$\n",
      "E(\\mathbf{U}, \\mathbf{V}) = \\sum_{i,j} s_{i,j} (y_{i,j} - \\mathbf{u}_i^\\top \\mathbf{v}_j)^2\n",
      "$$\n",
      "where $s_{i,j}$ is an *indicator* variable that is 1 if user $i$ has rated item $j$ and is zero otherwise. Here $\\mathbf{U}$ is the matrix made up of all the vectors $\\mathbf{u}$,\n",
      "$$\n",
      "\\mathbf{U} = \\begin{bmatrix} \\mathbf{u}_1 \\dots \\mathbf{u}_n\\end{bmatrix}^\\top\n",
      "$$\n",
      "where we note that $i$th *row* of $\\mathbf{U}$ contains the vector associated with the $i$th user and $n$ is the total number of users. This form of matrix is known as a *design matrix*. Similarly, we define the matrix\n",
      "$$\n",
      "\\mathbf{V} = \\begin{bmatrix} \\mathbf{v}_1 \\dots \\mathbf{v}_m\\end{bmatrix}^\\top\n",
      "$$\n",
      "where again the $j$th row of $\\mathbf{V}$ contains the vector associated with the $j$th item and $m$ is the total number o items in the data set.\n",
      "\n",
      "## Objective Optimization\n",
      "\n",
      "The idea is to mimimize this objective. A standard, simple, technique for minimizing an objective is *gradient descent* or *steepest descent*. In gradient descent we simply choose to update each parameter in the model by subtracting a multiple of the objective function's gradient with respect to the parameters. So for a parameter $u_{i,j}$ from the matrix $\\mathbf{U}$ we would have an update as follows:\n",
      "$$\n",
      "u_{i,j} \\leftarrow u_{i,j} - \\eta \\frac{\\text{d} E(\\mathbf{U}, \\mathbf{V})}{\\text{d}u_{i,j}} \n",
      "$$\n",
      "where $\\eta$ (which is pronounced *eta* in English) is a Greek letter representing the *learning rate*.  \n",
      "\n",
      "We can compute the gradient of the objective function with respect to $u_{k,\\ell}$ as\n",
      "$$\n",
      "\\frac{\\text{d}E(\\mathbf{U}, \\mathbf{V})}{\\text{d}u_{k,\\ell}} = 2\\sum_{j} s_{k,j}v_{j,\\ell}(y_{k,\\ell} - \\mathbf{u}_k^\\top\\mathbf{v}_{j}). \n",
      "$$\n",
      "Similarly each parameter $v_{i,j}$ needs to be updated according to its gradient. \n"
     ]
    },
    {
     "cell_type": "markdown",
     "metadata": {},
     "source": [
      "### Assignment Question 4\n",
      "\n",
      "What is the gradient of the objective function with respect to $v_{k, \\ell}$? Write your answer in the box below, and explain which differentiation techniques you used to get there. You will be expected to justify your answer in class by oral questioning. Create a function for computing this gradient that is used in the algorithm below.\n",
      "\n",
      "*20 marks*"
     ]
    },
    {
     "cell_type": "markdown",
     "metadata": {},
     "source": [
      "#### Question 4 Answer\n",
      "\n",
      "Write your answer to the question in this box."
     ]
    },
    {
     "cell_type": "code",
     "collapsed": false,
     "input": [
      "# Question 4 Code Answer"
     ],
     "language": "python",
     "metadata": {},
     "outputs": [],
     "prompt_number": 29
    },
    {
     "cell_type": "markdown",
     "metadata": {},
     "source": [
      "## Steepest Descent Algorithm\n",
      "\n",
      "In the steepest descent algorithm we aim to minimize the objective function by subtacting the gradient of the objective function from the parameters. To start with though, we need initial values for the matrix $\\mathbf{U}$ and the matrix $\\mathbf{V}$. Let's create them as `pandas` data frames and initialise them randomly with small values."
     ]
    },
    {
     "cell_type": "code",
     "collapsed": false,
     "input": [
      "np.random.normal((len(user_names), q))"
     ],
     "language": "python",
     "metadata": {},
     "outputs": [
      {
       "metadata": {},
       "output_type": "pyout",
       "prompt_number": 55,
       "text": [
        "array([ 19.31136343,   3.40341188])"
       ]
      }
     ],
     "prompt_number": 55
    },
    {
     "cell_type": "code",
     "collapsed": false,
     "input": [
      "np.random.normal()"
     ],
     "language": "python",
     "metadata": {},
     "outputs": [
      {
       "metadata": {},
       "output_type": "pyout",
       "prompt_number": 56,
       "text": [
        "20"
       ]
      }
     ],
     "prompt_number": 56
    },
    {
     "cell_type": "code",
     "collapsed": false,
     "input": [
      "q = 2 # the dimension of our map of the 'library'\n",
      "learn_rate = 0.01\n",
      "U = pd.DataFrame(np.random.normal(size=(len(user_names), q))*0.001, index=user_names)\n",
      "V = pd.DataFrame(np.random.normal(size=(len(movies.index), q))*0.001, index=movies.index)"
     ],
     "language": "python",
     "metadata": {},
     "outputs": [],
     "prompt_number": 125
    },
    {
     "cell_type": "markdown",
     "metadata": {},
     "source": [
      "We also will subtract the mean from the rating before we try and predict them predictions. Have a think about why this might be a good idea (hint, what will the gradients be if we don't subtract the mean)."
     ]
    },
    {
     "cell_type": "code",
     "collapsed": false,
     "input": [
      "Y['rating'] -= Y['rating'].mean()"
     ],
     "language": "python",
     "metadata": {},
     "outputs": [],
     "prompt_number": 126
    },
    {
     "cell_type": "markdown",
     "metadata": {},
     "source": [
      "Now that we have the initial values set, we can start the optimization. First we define a function for the gradient of the objective and the objective function itself."
     ]
    },
    {
     "cell_type": "code",
     "collapsed": false,
     "input": [
      "def objective_gradient(Y, U, V):\n",
      "    gU = pd.DataFrame(np.zeros((U.shape)), index=U.index)\n",
      "    gV = pd.DataFrame(np.zeros((V.shape)), index=V.index)\n",
      "    obj = 0.\n",
      "    for ind, series in Y.iterrows():\n",
      "        film = series['index']\n",
      "        user = series['user']\n",
      "        rating = series['rating']\n",
      "        prediction = np.dot(U.loc[user], V.loc[film]) # vTu\n",
      "        diff = prediction - rating # vTu - y\n",
      "        obj += diff*diff\n",
      "        gU.loc[user] += 2*diff*V.loc[film]\n",
      "        gV.loc[film] += 2*diff*U.loc[user]\n",
      "    return obj, gU, gV"
     ],
     "language": "python",
     "metadata": {},
     "outputs": [],
     "prompt_number": 127
    },
    {
     "cell_type": "markdown",
     "metadata": {},
     "source": [
      "Now we can write our simple optimisation route. This allows us to observe the objective function as the optimization proceeds."
     ]
    },
    {
     "cell_type": "code",
     "collapsed": false,
     "input": [
      "import sys\n",
      "iterations = 100\n",
      "for i in range(iterations):\n",
      "    obj, gU, gV = objective_gradient(Y, U, V)\n",
      "    print \"Iteration\", i, \" Objective function: \", obj\n",
      "    U -= learn_rate*gU\n",
      "    V -= learn_rate*gV\n",
      "\n",
      "    "
     ],
     "language": "python",
     "metadata": {},
     "outputs": []
    },
    {
     "cell_type": "markdown",
     "metadata": {},
     "source": [
      "### Assignment Question 5\n",
      "\n",
      "What happens as you increase the number of iterations? What happens if you increse the learning rate?\n",
      "\n",
      "*10 marks*"
     ]
    },
    {
     "cell_type": "markdown",
     "metadata": {},
     "source": [
      "#### Question 5 Answer"
     ]
    },
    {
     "cell_type": "code",
     "collapsed": false,
     "input": [
      "%matplotlib inline\n",
      "import pylab as plt\n",
      "fig, axes = plt.subplots(figsize=(8,8))\n",
      "axes.plot(U[0], U[1], 'rx')\n",
      "for index in U.index:\n",
      "    axes.text(U[0][index], U[1][index], index)\n",
      "fig, axes = plt.subplots(figsize=(8,8))\n",
      "axes.plot(V[0], V[1], 'rx')\n",
      "for index in V.index:\n",
      "    # display the movie if it was rated.\n",
      "    if np.sum(Y['index']==index)>0:\n",
      "        axes.text(V[0][index], V[1][index], movies['Film'][index])\n",
      "   "
     ],
     "language": "python",
     "metadata": {},
     "outputs": [
      {
       "metadata": {},
       "output_type": "display_data",
       "png": "[encoded data removed]",
       "text": [
        "<matplotlib.figure.Figure at 0x10e2493d0>"
       ]
      },
      {
       "metadata": {},
       "output_type": "display_data",
       "png": "[encoded data removed]",
       "text": [
        "<matplotlib.figure.Figure at 0x113038410>"
       ]
      }
     ],
     "prompt_number": 157
    },
    {
     "cell_type": "code",
     "collapsed": false,
     "input": [
      "np.sum(Y['index']==2)"
     ],
     "language": "python",
     "metadata": {},
     "outputs": [
      {
       "metadata": {},
       "output_type": "pyout",
       "prompt_number": 156,
       "text": [
        "0"
       ]
      }
     ],
     "prompt_number": 156
    },
    {
     "cell_type": "code",
     "collapsed": false,
     "input": [
      "U.index"
     ],
     "language": "python",
     "metadata": {},
     "outputs": [
      {
       "metadata": {},
       "output_type": "pyout",
       "prompt_number": 140,
       "text": [
        "Index([u'DPekaslan1@sheffield.ac.uk', u'MCooper2@sheffield.ac.uk', u'LHeavens1@sheffield.ac.uk', u'QAZaini1@sheffield.ac.uk', u'TSuleymanov1@sheffield.ac.uk', u'YHe20@sheffield.ac.uk', u'SJWilson1@sheffield.ac.uk', u'HMa9@sheffield.ac.uk', u'JJohal1@sheffield.ac.uk', u'JParak1@sheffield.ac.uk', u'AVouros1@sheffield.ac.uk', u'JDrane1@sheffield.ac.uk', u'RMo1@sheffield.ac.uk', u'ermira.daka@sheffield.ac.uk', u'YLin41@sheffield.ac.uk', u'CSheridan1@sheffield.ac.uk', u'XWang95@sheffield.ac.uk', u'SSensay1@sheffield.ac.uk', u'JTLGoh1@sheffield.ac.uk', u'CAekmunkhongpaisal1@sheffield.ac.uk'], dtype='object')"
       ]
      }
     ],
     "prompt_number": 140
    },
    {
     "cell_type": "markdown",
     "metadata": {},
     "source": [
      "## Stochastic Gradient Descent or Robbins Monroe Algorithm\n",
      "\n",
      "Stochastic gradient descent involves updating separating each gradient update according to each separate observation, rather than summing over them all. It is an approximate optimization method, but it has proven convergence under certain conditions and can be much faster in practice. It is used widely by internet companies for doing machine learning in practice. For example, Facebook's ad ranking algorithm uses stochastic gradient descent. "
     ]
    },
    {
     "cell_type": "markdown",
     "metadata": {},
     "source": [
      "### Assignment Question 4\n",
      "\n",
      "Create a stochastic gradient descent version of the algorithm. \n",
      "\n",
      "*20 marks*"
     ]
    },
    {
     "cell_type": "code",
     "collapsed": false,
     "input": [
      "# Question 4 Code Answer"
     ],
     "language": "python",
     "metadata": {},
     "outputs": []
    },
    {
     "cell_type": "markdown",
     "metadata": {},
     "source": [
      "## Making Predictions\n",
      "\n",
      "Predictions can be made from the model of the appropriate rating for a given user, $i$, for a given film, $j$, by simply taking the inner product between their vectors $\\mathbf{u}_i$ and $\\mathbf{v}_j$. "
     ]
    },
    {
     "cell_type": "markdown",
     "metadata": {},
     "source": [
      "### Assignment Question 5\n",
      "\n",
      "Using your estimates for $\\mathbf{U}$ and $\\mathbf{V}$ compute predictions for ratings for all films for all students in the class. Examine some of the predictions the model makes for you for the remaining films. Are they sensible?\n",
      "\n",
      "*10 marks*\n"
     ]
    },
    {
     "cell_type": "code",
     "collapsed": false,
     "input": [
      "# Question 5 Code Answer"
     ],
     "language": "python",
     "metadata": {},
     "outputs": []
    },
    {
     "cell_type": "markdown",
     "metadata": {},
     "source": [
      "## Is Our Map Enough? Are Our Data Enough?\n",
      "\n",
      "Is two dimensions really enough to capture the complexity of humans and their artforms? Perhaps we need even more dimensions to capture that complexity. Extending our books analogy further, consider how we should place books that have a historical timeframe as well as some geographical location. Do we really want books from the 2nd World War to sit alongside books from the Roman Empire? Books on the American invasion of Sicily in 1943 are perhaps less related to books about Carthage than those that study the Jewish Revolt from 66-70 (in the Roman Province of Judaea). So books that relate to subjects which are closer in time should be stored together. However, a student of rebellion against empire may also be interested in the relationship between the Jewish Revolt of 66-70 and the Indian Rebellion of 1857, nearly 1800 years later. Whilst the technologies are different, the psychology of the people is shared: a rebellious nation angainst their imperial masters, triggered by misrule with a religious and cultural background. To capture such complexities we would need further dimensions in our latent representation. But are further dimensions justified by the amount of data we have? Can we really understand the facets of a film that only has at most three or four ratings?"
     ]
    },
    {
     "cell_type": "markdown",
     "metadata": {},
     "source": [
      "### Assignment Question 6\n",
      "\n",
      "What does it mean for a person to want to sit at several locations in the library because they have several interests. How might we achieve something like this within our model?\n",
      "\n",
      "*10 marks*"
     ]
    },
    {
     "cell_type": "markdown",
     "metadata": {},
     "source": [
      "#### Question 6 Answer\n",
      "\n",
      "Write your answer to the question in this box."
     ]
    },
    {
     "cell_type": "markdown",
     "metadata": {},
     "source": [
      "## Going Further\n",
      "\n",
      "If you want to take this model further then you'll need more data. One possible source of data is the [`movielens` data set](http://grouplens.org/datasets/movielens/). They have data sets containing up to ten million movie ratings. The few ratings we were able to collect in the class are not enough to capture the rich structure underlying these films. Imagine if we assume that the ratings are uniformly distributed between 1 and 5. If you know something about information theory then you could use that to work out the maximum number of *bits* of information we could gain per rating. \n",
      "\n",
      "Now we'll download the movielens 100k data and see if we can extract information about these movies."
     ]
    },
    {
     "cell_type": "code",
     "collapsed": false,
     "input": [
      "import pods\n",
      "d = pods.datasets.movielens100k()\n",
      "Y=d['Y']"
     ],
     "language": "python",
     "metadata": {},
     "outputs": [],
     "prompt_number": 1
    },
    {
     "cell_type": "markdown",
     "metadata": {},
     "source": [
      "### Assignment Question 6\n",
      "\n",
      "Use stochastic gradient descent to make a movie map for the movielens data. "
     ]
    },
    {
     "cell_type": "code",
     "collapsed": false,
     "input": [
      "# Answer"
     ],
     "language": "python",
     "metadata": {},
     "outputs": [
      {
       "html": [
        "<div style=\"max-height:1000px;max-width:1500px;overflow:auto;\">\n",
        "<table border=\"1\" class=\"dataframe\">\n",
        "  <thead>\n",
        "    <tr style=\"text-align: right;\">\n",
        "      <th></th>\n",
        "      <th>user</th>\n",
        "      <th>item</th>\n",
        "      <th>rating</th>\n",
        "    </tr>\n",
        "    <tr>\n",
        "      <th>index</th>\n",
        "      <th></th>\n",
        "      <th></th>\n",
        "      <th></th>\n",
        "    </tr>\n",
        "  </thead>\n",
        "  <tbody>\n",
        "    <tr>\n",
        "      <th>887431973</th>\n",
        "      <td>   1</td>\n",
        "      <td>    6</td>\n",
        "      <td> 5</td>\n",
        "    </tr>\n",
        "    <tr>\n",
        "      <th>875693118</th>\n",
        "      <td>   1</td>\n",
        "      <td>   10</td>\n",
        "      <td> 3</td>\n",
        "    </tr>\n",
        "    <tr>\n",
        "      <th>878542960</th>\n",
        "      <td>   1</td>\n",
        "      <td>   12</td>\n",
        "      <td> 5</td>\n",
        "    </tr>\n",
        "    <tr>\n",
        "      <th>874965706</th>\n",
        "      <td>   1</td>\n",
        "      <td>   14</td>\n",
        "      <td> 5</td>\n",
        "    </tr>\n",
        "    <tr>\n",
        "      <th>875073198</th>\n",
        "      <td>   1</td>\n",
        "      <td>   17</td>\n",
        "      <td> 3</td>\n",
        "    </tr>\n",
        "    <tr>\n",
        "      <th>887431883</th>\n",
        "      <td>   1</td>\n",
        "      <td>   20</td>\n",
        "      <td> 4</td>\n",
        "    </tr>\n",
        "    <tr>\n",
        "      <th>875072895</th>\n",
        "      <td>   1</td>\n",
        "      <td>   23</td>\n",
        "      <td> 4</td>\n",
        "    </tr>\n",
        "    <tr>\n",
        "      <th>875071713</th>\n",
        "      <td>   1</td>\n",
        "      <td>   24</td>\n",
        "      <td> 3</td>\n",
        "    </tr>\n",
        "    <tr>\n",
        "      <th>876892946</th>\n",
        "      <td>   1</td>\n",
        "      <td>   27</td>\n",
        "      <td> 2</td>\n",
        "    </tr>\n",
        "    <tr>\n",
        "      <th>875072144</th>\n",
        "      <td>   1</td>\n",
        "      <td>   31</td>\n",
        "      <td> 3</td>\n",
        "    </tr>\n",
        "    <tr>\n",
        "      <th>878542699</th>\n",
        "      <td>   1</td>\n",
        "      <td>   33</td>\n",
        "      <td> 4</td>\n",
        "    </tr>\n",
        "    <tr>\n",
        "      <th>875073180</th>\n",
        "      <td>   1</td>\n",
        "      <td>   36</td>\n",
        "      <td> 2</td>\n",
        "    </tr>\n",
        "    <tr>\n",
        "      <th>875072173</th>\n",
        "      <td>   1</td>\n",
        "      <td>   39</td>\n",
        "      <td> 4</td>\n",
        "    </tr>\n",
        "    <tr>\n",
        "      <th>878543541</th>\n",
        "      <td>   1</td>\n",
        "      <td>   44</td>\n",
        "      <td> 5</td>\n",
        "    </tr>\n",
        "    <tr>\n",
        "      <th>875072125</th>\n",
        "      <td>   1</td>\n",
        "      <td>   47</td>\n",
        "      <td> 4</td>\n",
        "    </tr>\n",
        "    <tr>\n",
        "      <th>878542478</th>\n",
        "      <td>   1</td>\n",
        "      <td>   49</td>\n",
        "      <td> 3</td>\n",
        "    </tr>\n",
        "    <tr>\n",
        "      <th>878543275</th>\n",
        "      <td>   1</td>\n",
        "      <td>   51</td>\n",
        "      <td> 4</td>\n",
        "    </tr>\n",
        "    <tr>\n",
        "      <th>876893206</th>\n",
        "      <td>   1</td>\n",
        "      <td>   53</td>\n",
        "      <td> 3</td>\n",
        "    </tr>\n",
        "    <tr>\n",
        "      <th>878543308</th>\n",
        "      <td>   1</td>\n",
        "      <td>   54</td>\n",
        "      <td> 3</td>\n",
        "    </tr>\n",
        "    <tr>\n",
        "      <th>875072716</th>\n",
        "      <td>   1</td>\n",
        "      <td>   56</td>\n",
        "      <td> 4</td>\n",
        "    </tr>\n",
        "    <tr>\n",
        "      <th>875072370</th>\n",
        "      <td>   1</td>\n",
        "      <td>   60</td>\n",
        "      <td> 5</td>\n",
        "    </tr>\n",
        "    <tr>\n",
        "      <th>878542420</th>\n",
        "      <td>   1</td>\n",
        "      <td>   61</td>\n",
        "      <td> 4</td>\n",
        "    </tr>\n",
        "    <tr>\n",
        "      <th>878542282</th>\n",
        "      <td>   1</td>\n",
        "      <td>   62</td>\n",
        "      <td> 3</td>\n",
        "    </tr>\n",
        "    <tr>\n",
        "      <th>875072404</th>\n",
        "      <td>   1</td>\n",
        "      <td>   64</td>\n",
        "      <td> 5</td>\n",
        "    </tr>\n",
        "    <tr>\n",
        "      <th>875072125</th>\n",
        "      <td>   1</td>\n",
        "      <td>   65</td>\n",
        "      <td> 4</td>\n",
        "    </tr>\n",
        "    <tr>\n",
        "      <th>876893054</th>\n",
        "      <td>   1</td>\n",
        "      <td>   67</td>\n",
        "      <td> 3</td>\n",
        "    </tr>\n",
        "    <tr>\n",
        "      <th>875072262</th>\n",
        "      <td>   1</td>\n",
        "      <td>   69</td>\n",
        "      <td> 3</td>\n",
        "    </tr>\n",
        "    <tr>\n",
        "      <th>875072895</th>\n",
        "      <td>   1</td>\n",
        "      <td>   70</td>\n",
        "      <td> 3</td>\n",
        "    </tr>\n",
        "    <tr>\n",
        "      <th>878542678</th>\n",
        "      <td>   1</td>\n",
        "      <td>   72</td>\n",
        "      <td> 4</td>\n",
        "    </tr>\n",
        "    <tr>\n",
        "      <th>876892774</th>\n",
        "      <td>   1</td>\n",
        "      <td>   73</td>\n",
        "      <td> 3</td>\n",
        "    </tr>\n",
        "    <tr>\n",
        "      <th>...</th>\n",
        "      <td>...</td>\n",
        "      <td>...</td>\n",
        "      <td>...</td>\n",
        "    </tr>\n",
        "    <tr>\n",
        "      <th>888267128</th>\n",
        "      <td> 454</td>\n",
        "      <td>  418</td>\n",
        "      <td> 3</td>\n",
        "    </tr>\n",
        "    <tr>\n",
        "      <th>881960445</th>\n",
        "      <td> 454</td>\n",
        "      <td>  484</td>\n",
        "      <td> 3</td>\n",
        "    </tr>\n",
        "    <tr>\n",
        "      <th>888266565</th>\n",
        "      <td> 454</td>\n",
        "      <td>  487</td>\n",
        "      <td> 4</td>\n",
        "    </tr>\n",
        "    <tr>\n",
        "      <th>888267617</th>\n",
        "      <td> 454</td>\n",
        "      <td>  493</td>\n",
        "      <td> 2</td>\n",
        "    </tr>\n",
        "    <tr>\n",
        "      <th>881959745</th>\n",
        "      <td> 454</td>\n",
        "      <td>  633</td>\n",
        "      <td> 2</td>\n",
        "    </tr>\n",
        "    <tr>\n",
        "      <th>881960029</th>\n",
        "      <td> 454</td>\n",
        "      <td> 1063</td>\n",
        "      <td> 4</td>\n",
        "    </tr>\n",
        "    <tr>\n",
        "      <th>888266991</th>\n",
        "      <td> 454</td>\n",
        "      <td> 1299</td>\n",
        "      <td> 2</td>\n",
        "    </tr>\n",
        "    <tr>\n",
        "      <th>879111248</th>\n",
        "      <td> 455</td>\n",
        "      <td>  135</td>\n",
        "      <td> 5</td>\n",
        "    </tr>\n",
        "    <tr>\n",
        "      <th>879109664</th>\n",
        "      <td> 455</td>\n",
        "      <td>  282</td>\n",
        "      <td> 3</td>\n",
        "    </tr>\n",
        "    <tr>\n",
        "      <th>879109110</th>\n",
        "      <td> 455</td>\n",
        "      <td>  293</td>\n",
        "      <td> 4</td>\n",
        "    </tr>\n",
        "    <tr>\n",
        "      <th>879111371</th>\n",
        "      <td> 455</td>\n",
        "      <td>  629</td>\n",
        "      <td> 3</td>\n",
        "    </tr>\n",
        "    <tr>\n",
        "      <th>879112189</th>\n",
        "      <td> 455</td>\n",
        "      <td>  755</td>\n",
        "      <td> 3</td>\n",
        "    </tr>\n",
        "    <tr>\n",
        "      <th>881372946</th>\n",
        "      <td> 456</td>\n",
        "      <td>  175</td>\n",
        "      <td> 3</td>\n",
        "    </tr>\n",
        "    <tr>\n",
        "      <th>881375667</th>\n",
        "      <td> 456</td>\n",
        "      <td>  294</td>\n",
        "      <td> 1</td>\n",
        "    </tr>\n",
        "    <tr>\n",
        "      <th>881373697</th>\n",
        "      <td> 456</td>\n",
        "      <td>  715</td>\n",
        "      <td> 3</td>\n",
        "    </tr>\n",
        "    <tr>\n",
        "      <th>881372946</th>\n",
        "      <td> 456</td>\n",
        "      <td>  943</td>\n",
        "      <td> 4</td>\n",
        "    </tr>\n",
        "    <tr>\n",
        "      <th>882396659</th>\n",
        "      <td> 457</td>\n",
        "      <td>  182</td>\n",
        "      <td> 4</td>\n",
        "    </tr>\n",
        "    <tr>\n",
        "      <th>882395018</th>\n",
        "      <td> 457</td>\n",
        "      <td>  192</td>\n",
        "      <td> 5</td>\n",
        "    </tr>\n",
        "    <tr>\n",
        "      <th>882549287</th>\n",
        "      <td> 457</td>\n",
        "      <td>  366</td>\n",
        "      <td> 4</td>\n",
        "    </tr>\n",
        "    <tr>\n",
        "      <th>882396989</th>\n",
        "      <td> 457</td>\n",
        "      <td>  443</td>\n",
        "      <td> 4</td>\n",
        "    </tr>\n",
        "    <tr>\n",
        "      <th>882548466</th>\n",
        "      <td> 457</td>\n",
        "      <td>  636</td>\n",
        "      <td> 4</td>\n",
        "    </tr>\n",
        "    <tr>\n",
        "      <th>882397240</th>\n",
        "      <td> 457</td>\n",
        "      <td>  704</td>\n",
        "      <td> 4</td>\n",
        "    </tr>\n",
        "    <tr>\n",
        "      <th>882398002</th>\n",
        "      <td> 457</td>\n",
        "      <td>  708</td>\n",
        "      <td> 4</td>\n",
        "    </tr>\n",
        "    <tr>\n",
        "      <th>882551021</th>\n",
        "      <td> 457</td>\n",
        "      <td>  775</td>\n",
        "      <td> 3</td>\n",
        "    </tr>\n",
        "    <tr>\n",
        "      <th>886396390</th>\n",
        "      <td> 458</td>\n",
        "      <td>  144</td>\n",
        "      <td> 4</td>\n",
        "    </tr>\n",
        "    <tr>\n",
        "      <th>886395899</th>\n",
        "      <td> 458</td>\n",
        "      <td>  648</td>\n",
        "      <td> 4</td>\n",
        "    </tr>\n",
        "    <tr>\n",
        "      <th>886397931</th>\n",
        "      <td> 458</td>\n",
        "      <td> 1101</td>\n",
        "      <td> 4</td>\n",
        "    </tr>\n",
        "    <tr>\n",
        "      <th>879563639</th>\n",
        "      <td> 459</td>\n",
        "      <td>  934</td>\n",
        "      <td> 3</td>\n",
        "    </tr>\n",
        "    <tr>\n",
        "      <th>882912371</th>\n",
        "      <td> 460</td>\n",
        "      <td>   10</td>\n",
        "      <td> 3</td>\n",
        "    </tr>\n",
        "    <tr>\n",
        "      <th>886365231</th>\n",
        "      <td> 462</td>\n",
        "      <td>  682</td>\n",
        "      <td> 5</td>\n",
        "    </tr>\n",
        "  </tbody>\n",
        "</table>\n",
        "<p>20000 rows \u00d7 3 columns</p>\n",
        "</div>"
       ],
       "metadata": {},
       "output_type": "pyout",
       "prompt_number": 35,
       "text": [
        "           user  item  rating\n",
        "index                        \n",
        "887431973     1     6       5\n",
        "875693118     1    10       3\n",
        "878542960     1    12       5\n",
        "874965706     1    14       5\n",
        "875073198     1    17       3\n",
        "887431883     1    20       4\n",
        "875072895     1    23       4\n",
        "875071713     1    24       3\n",
        "876892946     1    27       2\n",
        "875072144     1    31       3\n",
        "878542699     1    33       4\n",
        "875073180     1    36       2\n",
        "875072173     1    39       4\n",
        "878543541     1    44       5\n",
        "875072125     1    47       4\n",
        "878542478     1    49       3\n",
        "878543275     1    51       4\n",
        "876893206     1    53       3\n",
        "878543308     1    54       3\n",
        "875072716     1    56       4\n",
        "875072370     1    60       5\n",
        "878542420     1    61       4\n",
        "878542282     1    62       3\n",
        "875072404     1    64       5\n",
        "875072125     1    65       4\n",
        "876893054     1    67       3\n",
        "875072262     1    69       3\n",
        "875072895     1    70       3\n",
        "878542678     1    72       4\n",
        "876892774     1    73       3\n",
        "...         ...   ...     ...\n",
        "888267128   454   418       3\n",
        "881960445   454   484       3\n",
        "888266565   454   487       4\n",
        "888267617   454   493       2\n",
        "881959745   454   633       2\n",
        "881960029   454  1063       4\n",
        "888266991   454  1299       2\n",
        "879111248   455   135       5\n",
        "879109664   455   282       3\n",
        "879109110   455   293       4\n",
        "879111371   455   629       3\n",
        "879112189   455   755       3\n",
        "881372946   456   175       3\n",
        "881375667   456   294       1\n",
        "881373697   456   715       3\n",
        "881372946   456   943       4\n",
        "882396659   457   182       4\n",
        "882395018   457   192       5\n",
        "882549287   457   366       4\n",
        "882396989   457   443       4\n",
        "882548466   457   636       4\n",
        "882397240   457   704       4\n",
        "882398002   457   708       4\n",
        "882551021   457   775       3\n",
        "886396390   458   144       4\n",
        "886395899   458   648       4\n",
        "886397931   458  1101       4\n",
        "879563639   459   934       3\n",
        "882912371   460    10       3\n",
        "886365231   462   682       5\n",
        "\n",
        "[20000 rows x 3 columns]"
       ]
      }
     ],
     "prompt_number": 35
    },
    {
     "cell_type": "code",
     "collapsed": false,
     "input": [],
     "language": "python",
     "metadata": {},
     "outputs": []
    }
   ],
   "metadata": {}
  }
 ]
}