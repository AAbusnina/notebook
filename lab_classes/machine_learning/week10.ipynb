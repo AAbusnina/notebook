{
 "metadata": {
  "name": "",
  "signature": "sha256:0c67047a7e701418d88b992bd46edbcaf8898372d671e89ce91431fcdadf412d"
 },
 "nbformat": 3,
 "nbformat_minor": 0,
 "worksheets": [
  {
   "cells": [
    {
     "cell_type": "markdown",
     "metadata": {},
     "source": [
      "# Special Topics I\n",
      "\n",
      "### 2nd December 2014 Neil D. Lawrence"
     ]
    },
    {
     "cell_type": "code",
     "collapsed": false,
     "input": [],
     "language": "python",
     "metadata": {},
     "outputs": []
    }
   ],
   "metadata": {}
  }
 ]
}