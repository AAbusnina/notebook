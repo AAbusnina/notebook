{
 "metadata": {
  "name": "",
  "signature": "sha256:4d0039e3d86ff79d353cd2d37b7ef9eafe5a3fcddac758d93c594b476a06a418"
 },
 "nbformat": 3,
 "nbformat_minor": 0,
 "worksheets": [
  {
   "cells": [
    {
     "cell_type": "markdown",
     "metadata": {},
     "source": [
      "# Model checking: Training, Testing and Validation\n",
      "\n",
      "### 4th November 2014 Neil D. Lawrence"
     ]
    }
   ],
   "metadata": {}
  }
 ]
}