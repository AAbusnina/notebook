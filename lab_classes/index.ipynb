{
 "metadata": {
  "name": "",
  "signature": "sha256:89ea7bb388b1239f03257bab10dfe5b303fa44e932eee7a07e5e6fd4553a4148"
 },
 "nbformat": 3,
 "nbformat_minor": 0,
 "worksheets": [
  {
   "cells": [
    {
     "cell_type": "markdown",
     "metadata": {},
     "source": [
      "## Lab Class Notebooks\n",
      "\n",
      "This subdirectory contains a collection of notebooks designed for running lab classes.\n",
      "\n",
      "* [Machines and Intelligence](./machines_and_intelligence/index.ipynb)\n",
      "* [Introduction to Machine Learning](./machine_learning/index.ipynb)\n",
      "* [Gaussian Process Summer School](./gpss/index.ipynb)"
     ]
    },
    {
     "cell_type": "code",
     "collapsed": false,
     "input": [],
     "language": "python",
     "metadata": {},
     "outputs": []
    }
   ],
   "metadata": {}
  }
 ]
}