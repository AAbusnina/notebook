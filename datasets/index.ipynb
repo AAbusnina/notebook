{
 "metadata": {
  "name": "",
  "signature": "sha256:c17de617027c5b6fe33f017948117c1d3bd594ecf5c5a3572c9fee3a01168d95"
 },
 "nbformat": 3,
 "nbformat_minor": 0,
 "worksheets": [
  {
   "cells": [
    {
     "cell_type": "markdown",
     "metadata": {},
     "source": [
      "## Description of Datasets Available in GPy\n",
      "\n",
      "The GPy toolbox provides easy access to various data sets. The data sets are accessed through calls to the `GPy.util.datasets` module. This module contains functions which download and preprocess the data for you, presenting it in a dictionary with a standard format for use in `GPy`. On download you will also be informed of any licensing restrictions and relevant citations for the data. The data is then cached on your local drive. \n",
      "\n",
      "Here are some descriptions of the data sets in different notebooks.\n",
      "\n",
      "### Count Data\n",
      "* [`GPy.util.datasets.google_trends()`](./googleTrendsData.ipynb) download data from Google trends. Based on an original [notebook](https://github.com/sahuguet/notebooks/blob/master/GoogleTrends%20meet%20Notebook.ipynb) by [sahuguet](https://github.com/sahuguet).\n",
      "\n",
      "### Regression Data\n",
      "* [`GPy.util.datasets.mauna_loa()`](./maunaLoaData.ipynb) download the latest version of the Mauna Loa data set. This is data giving carbon dioxide concentrations from the Mauna Loa observatory in Hawaii.\n"
     ]
    },
    {
     "cell_type": "code",
     "collapsed": false,
     "input": [],
     "language": "python",
     "metadata": {},
     "outputs": []
    }
   ],
   "metadata": {}
  }
 ]
}