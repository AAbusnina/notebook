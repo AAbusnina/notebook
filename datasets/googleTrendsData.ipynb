{
 "metadata": {
  "name": "",
  "signature": "sha256:7c0f11a39512a7506014777e6e580635356bcf29171f65ff1ee6644672366fe5"
 },
 "nbformat": 3,
 "nbformat_minor": 0,
 "worksheets": [
  {
   "cells": [
    {
     "cell_type": "heading",
     "level": 1,
     "metadata": {},
     "source": [
      "Datasets: Downloading Data from Google Trends"
     ]
    },
    {
     "cell_type": "heading",
     "level": 3,
     "metadata": {},
     "source": [
      "28th May 2014"
     ]
    },
    {
     "cell_type": "heading",
     "level": 3,
     "metadata": {},
     "source": [
      "Neil Lawrence"
     ]
    },
    {
     "cell_type": "markdown",
     "metadata": {},
     "source": [
      "This data set collection was inspired by a [ipython notebook](https://github.com/sahuguet/notebooks/blob/master/GoogleTrends%20meet%20Notebook.ipynb) from [sahuguet](https://github.com/sahuguet) which made queries to google trends and downloaded the results. We've modified the download to cache the results of a query: making multiple calls to the google API results in a block due to terms of service violations, cacheing the data locally prevents this happening."
     ]
    },
    {
     "cell_type": "code",
     "collapsed": false,
     "input": [
      "import GPy\n",
      "%matplotlib inline"
     ],
     "language": "python",
     "metadata": {},
     "outputs": [],
     "prompt_number": 7
    },
    {
     "cell_type": "code",
     "collapsed": false,
     "input": [
      "# calling without arguments uses the default query terms\n",
      "data = GPy.util.datasets.google_trends() "
     ],
     "language": "python",
     "metadata": {},
     "outputs": [
      {
       "output_type": "stream",
       "stream": "stdout",
       "text": [
        "Reading cached data for google trends. To refresh the cache set 'refresh_data=True' when calling this function.\n",
        "Query terms:  big data, data science, machine learning\n"
       ]
      }
     ],
     "prompt_number": 8
    },
    {
     "cell_type": "markdown",
     "metadata": {},
     "source": [
      "The default query terms are 'big data', 'data science' and 'machine learning'. The dictionary returned from the call contains the standard 'X' and 'y' keys that are ready to be used in the GPy toolkit as inputs to the Gaussian process. In this case the 'X' variables are the time (first column) and an index representing the query.\n"
     ]
    },
    {
     "cell_type": "code",
     "collapsed": false,
     "input": [
      "print data['X'][284, :]"
     ],
     "language": "python",
     "metadata": {},
     "outputs": [
      {
       "output_type": "stream",
       "stream": "stdout",
       "text": [
        "[34  2]\n"
       ]
      }
     ],
     "prompt_number": 9
    },
    {
     "cell_type": "markdown",
     "metadata": {},
     "source": [
      "So the 284th element of X contains is the 34th time point of the query term 2, which in this case is the 34th time point of the 'machine learning' time series. The value of the time series at that point is given by the corresponding row of `Y`"
     ]
    },
    {
     "cell_type": "code",
     "collapsed": false,
     "input": [
      "print data['Y'][284, :]"
     ],
     "language": "python",
     "metadata": {},
     "outputs": [
      {
       "output_type": "stream",
       "stream": "stdout",
       "text": [
        "[ 20.]\n"
       ]
      }
     ],
     "prompt_number": 10
    },
    {
     "cell_type": "markdown",
     "metadata": {},
     "source": [
      "which here is 5. The dictionary also contains a pandas data frame of the trend data, which is in line with what [sahuguet](https://github.com/sahuguet) originally returned."
     ]
    },
    {
     "cell_type": "code",
     "collapsed": false,
     "input": [
      "data['data frame'].describe()"
     ],
     "language": "python",
     "metadata": {},
     "outputs": [
      {
       "html": [
        "<div style=\"max-height:1000px;max-width:1500px;overflow:auto;\">\n",
        "<table border=\"1\" class=\"dataframe\">\n",
        "  <thead>\n",
        "    <tr style=\"text-align: right;\">\n",
        "      <th></th>\n",
        "      <th>big data</th>\n",
        "      <th>data science</th>\n",
        "      <th>machine learning</th>\n",
        "    </tr>\n",
        "  </thead>\n",
        "  <tbody>\n",
        "    <tr>\n",
        "      <th>count</th>\n",
        "      <td> 125.000000</td>\n",
        "      <td> 125.000000</td>\n",
        "      <td> 125.000000</td>\n",
        "    </tr>\n",
        "    <tr>\n",
        "      <th>mean</th>\n",
        "      <td>  20.184000</td>\n",
        "      <td>  11.856000</td>\n",
        "      <td>  21.472000</td>\n",
        "    </tr>\n",
        "    <tr>\n",
        "      <th>std</th>\n",
        "      <td>  25.836766</td>\n",
        "      <td>   3.252056</td>\n",
        "      <td>   5.864843</td>\n",
        "    </tr>\n",
        "    <tr>\n",
        "      <th>min</th>\n",
        "      <td>   4.000000</td>\n",
        "      <td>   7.000000</td>\n",
        "      <td>  14.000000</td>\n",
        "    </tr>\n",
        "    <tr>\n",
        "      <th>25%</th>\n",
        "      <td>   7.000000</td>\n",
        "      <td>  10.000000</td>\n",
        "      <td>  17.000000</td>\n",
        "    </tr>\n",
        "    <tr>\n",
        "      <th>50%</th>\n",
        "      <td>   8.000000</td>\n",
        "      <td>  11.000000</td>\n",
        "      <td>  20.000000</td>\n",
        "    </tr>\n",
        "    <tr>\n",
        "      <th>75%</th>\n",
        "      <td>  17.000000</td>\n",
        "      <td>  13.000000</td>\n",
        "      <td>  24.000000</td>\n",
        "    </tr>\n",
        "    <tr>\n",
        "      <th>max</th>\n",
        "      <td> 100.000000</td>\n",
        "      <td>  21.000000</td>\n",
        "      <td>  43.000000</td>\n",
        "    </tr>\n",
        "  </tbody>\n",
        "</table>\n",
        "</div>"
       ],
       "metadata": {},
       "output_type": "pyout",
       "prompt_number": 11,
       "text": [
        "         big data  data science  machine learning\n",
        "count  125.000000    125.000000        125.000000\n",
        "mean    20.184000     11.856000         21.472000\n",
        "std     25.836766      3.252056          5.864843\n",
        "min      4.000000      7.000000         14.000000\n",
        "25%      7.000000     10.000000         17.000000\n",
        "50%      8.000000     11.000000         20.000000\n",
        "75%     17.000000     13.000000         24.000000\n",
        "max    100.000000     21.000000         43.000000"
       ]
      }
     ],
     "prompt_number": 11
    },
    {
     "cell_type": "heading",
     "level": 3,
     "metadata": {},
     "source": [
      "Dogs, Cats and Rabbits"
     ]
    },
    {
     "cell_type": "markdown",
     "metadata": {},
     "source": [
      "Another data set we might consider downloading from google trends is different pets. Below we consider cats, dogs and rabbits."
     ]
    },
    {
     "cell_type": "code",
     "collapsed": false,
     "input": [
      "data = GPy.util.datasets.google_trends(['cats', 'dogs', 'rabbits'])\n",
      "data['data frame'].set_index('Date', inplace=True)\n",
      "data['data frame'].plot()"
     ],
     "language": "python",
     "metadata": {},
     "outputs": [
      {
       "output_type": "stream",
       "stream": "stdout",
       "text": [
        "Reading cached data for google trends. To refresh the cache set 'refresh_data=True' when calling this function.\n",
        "Query terms:  cats, dogs, rabbits\n"
       ]
      },
      {
       "metadata": {},
       "output_type": "pyout",
       "prompt_number": 12,
       "text": [
        "<matplotlib.axes.AxesSubplot at 0x10fa36c50>"
       ]
      },
      {
       "metadata": {},
       "output_type": "display_data",
       "png": "[encoded data removed]",
       "text": [
        "<matplotlib.figure.Figure at 0x10fa367d0>"
       ]
      }
     ],
     "prompt_number": 12
    },
    {
     "cell_type": "markdown",
     "metadata": {},
     "source": [
      "Here we've plotted the data in the same manner as [sahuguet](https://github.com/sahuguet) suggested in his original notebook, using the plotting facility of pandas."
     ]
    },
    {
     "cell_type": "code",
     "collapsed": false,
     "input": [],
     "language": "python",
     "metadata": {},
     "outputs": [],
     "prompt_number": 12
    }
   ],
   "metadata": {}
  }
 ]
}