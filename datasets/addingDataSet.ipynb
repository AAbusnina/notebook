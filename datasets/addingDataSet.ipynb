{
 "metadata": {
  "name": "",
  "signature": "sha256:10ad95b3e16637988020f907d7f992141ecb0153fbfbd2bf27d535a93c8342d0"
 },
 "nbformat": 3,
 "nbformat_minor": 0,
 "worksheets": [
  {
   "cells": [
    {
     "cell_type": "heading",
     "level": 1,
     "metadata": {},
     "source": [
      "Adding a Data Set to GPy"
     ]
    },
    {
     "cell_type": "heading",
     "level": 3,
     "metadata": {},
     "source": [
      "28th May 2014"
     ]
    },
    {
     "cell_type": "heading",
     "level": 3,
     "metadata": {},
     "source": [
      "Neil Lawrence"
     ]
    },
    {
     "cell_type": "markdown",
     "metadata": {},
     "source": [
      "Adding a data set to GPy should be done in two stages. Firstly, you need to edit the `data_resources.json` file to provide information about where to download the data from and what the license and citation information for the data is. Then you can edit the `datasets.py` file, located in `GPy.util` to load in the data and perform any preprocessing, before returning the data set to the user in the standard dictionary format."
     ]
    },
    {
     "cell_type": "heading",
     "level": 2,
     "metadata": {},
     "source": [
      "Step 1: Editing `data_resources.json`"
     ]
    },
    {
     "cell_type": "markdown",
     "metadata": {},
     "source": [
      "A `json` file is a simple way of storing a python dictionary in a format that is interchangeable with other languages. This file is loaded in at the beginning of `datasets.py` to provide information on where he data set is located, what its licensing terms are and any other standard details about the data. You can use any `json` editor to edit the file. You can also use a standard text editor, but be careful not to damage the format of the file! If you do damage the format, there are various on line json format checkers you can use to try and recover the file."
     ]
    },
    {
     "cell_type": "markdown",
     "metadata": {},
     "source": [
      "The file consists of a comma separated list of dictionary entries. Each dictionary entry corresponds to a single data set. Below is the dictionary entry for the Boston Housing data."
     ]
    },
    {
     "cell_type": "code",
     "collapsed": false,
     "input": [
      " \n",
      "    \"boston_housing\": {\n",
      "        \"citation\": \"Harrison, D. and Rubinfeld, D.L. 'Hedonic prices and the demand for clean air', J. Environ. Economics & Management, vol.5, 81-102, 1978.\",\n",
      "        \"details\": \"The Boston Housing data relates house values in Boston to a range of input variables.\",\n",
      "        \"files\": [\n",
      "            [\n",
      "                \"Index\",\n",
      "                \"housing.data\",\n",
      "                \"housing.names\"\n",
      "            ]\n",
      "        ],\n",
      "        \"license\": null,\n",
      "        \"size\": 51276,\n",
      "        \"urls\": [\n",
      "            \"http://archive.ics.uci.edu/ml/machine-learning-databases/housing/\"\n",
      "        ]\n",
      "    },\n"
     ],
     "language": "python",
     "metadata": {},
     "outputs": []
    },
    {
     "cell_type": "markdown",
     "metadata": {},
     "source": [
      "The entry includes firstly, the data set name. Then it includes six fields for describing. \n",
      "* `url` The download url location of the data. This is provided as a *list* of urls. Just in case several different locations need to be visited. Here the list contains only one element.\n",
      "* `files` This is a *list of lists*. Each list contains the files to be downloaded from the corresponding url. Here there are three files required from the first (and only) url.\n",
      "* `details` Some helpful information for the user about the data.\n",
      "* `citation` The citation to use when publishing on the data. If you use a data set you should always cite its origin.\n",
      "* `size` A total size information for the user to know how much disk space the data will take when its all downloaded.\n",
      "* `license` The license terms for the data. Many data sets have a license associated. Don't include data sets in this collection that don't permit their inclusion. There don't appear to be any license constraints for the use of the Boston housing data, so in this case this value is set to `null`."
     ]
    },
    {
     "cell_type": "heading",
     "level": 3,
     "metadata": {},
     "source": [
      "Step 2: Including the Data in `datasets.py`"
     ]
    },
    {
     "cell_type": "markdown",
     "metadata": {},
     "source": [
      "The `data_resources.json` file includes all the information about how to download the data. Now in `datasets.py` we write a short function to execute the download and return the data to the user. It has the following form:"
     ]
    },
    {
     "cell_type": "code",
     "collapsed": false,
     "input": [
      "def boston_housing(data_set='boston_housing'):\n",
      "    if not data_available(data_set):\n",
      "        download_data(data_set)\n",
      "    all_data = np.genfromtxt(os.path.join(data_path, data_set, 'housing.data'))\n",
      "    X = all_data[:, 0:13]\n",
      "    Y = all_data[:, 13:14]\n",
      "    return data_details_return({'X' : X, 'Y': Y}, data_set)\n"
     ],
     "language": "python",
     "metadata": {},
     "outputs": []
    },
    {
     "cell_type": "markdown",
     "metadata": {},
     "source": [
      "The function name allows users to call `data = GPy.util.datasets.boston_housing()` to acquire the data. You should use a name that makes it clear to readers of the code what is going on. The data set name is passed to the function as a default argument. This name corresponds to the entry in the `json` file. \n",
      "\n",
      "The next two lines call the function `data_available()` to check if the data set is already in the cache. If the data set is not there, then `download_data()`, which handles the interface with the user for downloading the data is called. \n",
      "\n",
      "The location of the cached data can be determined through the configuration file. By default it is set to be in a temporary directory under your home directory: `tmp/GPy-datasets`. But you can change this by creating your own configuration file in your home directiory, `.gpy_config.cfg` or by editing the configuration file for your GPy installation, `gpy_config.cfg`. \n",
      "\n",
      "The final line, `data_details_return` returns the dictionary of information loaded in from `data_resource.json` alongside the dictionary we've just constructed. The dictionary we return to the user is in a standard format with entries `X` and `Y` for the covariates and response variables. "
     ]
    },
    {
     "cell_type": "markdown",
     "metadata": {},
     "source": [
      "Now things should be ready for you to download the data!"
     ]
    },
    {
     "cell_type": "code",
     "collapsed": false,
     "input": [
      "import GPy\n",
      "data = GPy.util.datasets.boston_housing()"
     ],
     "language": "python",
     "metadata": {},
     "outputs": [
      {
       "output_type": "stream",
       "stream": "stdout",
       "text": [
        "Acquiring resource: boston_housing\n",
        "\n",
        "Details of data: \n",
        "The Boston Housing data relates house values in Boston to a range of input variables.\n",
        "\n",
        "Please cite:\n",
        "Harrison, D. and Rubinfeld, D.L. 'Hedonic prices and the demand for clean air', J. Environ. Economics & Management, vol.5, 81-102, 1978.\n",
        "\n",
        "After downloading the data will take up 51276 bytes of space.\n",
        "\n",
        "Data will be stored in /Users/neil/GPy-datasets/boston_housing.\n",
        "\n",
        "Do you wish to proceed with the download? [yes/no]\n"
       ]
      },
      {
       "name": "stdout",
       "output_type": "stream",
       "stream": "stdout",
       "text": [
        "yes\n"
       ]
      },
      {
       "output_type": "stream",
       "stream": "stdout",
       "text": [
        "Index\n",
        "Downloading  http://archive.ics.uci.edu/ml/machine-learning-databases/housing/Index -> boston_housing/Index\n",
        "\r"
       ]
      },
      {
       "output_type": "stream",
       "stream": "stdout",
       "text": [
        "[==============================]   0.000/0.000MB"
       ]
      },
      {
       "output_type": "stream",
       "stream": "stdout",
       "text": [
        "                                                \r",
        "[==============================]   0.000/0.000MB\n",
        "housing.data\n",
        "Downloading  http://archive.ics.uci.edu/ml/machine-learning-databases/housing/housing.data -> boston_housing/housing.data\n",
        "\r"
       ]
      },
      {
       "output_type": "stream",
       "stream": "stdout",
       "text": [
        "[=====                         ]   0.008/0.047MB"
       ]
      },
      {
       "output_type": "stream",
       "stream": "stdout",
       "text": [
        "                                                \r",
        "[==========                    ]   0.016/0.047MB"
       ]
      },
      {
       "output_type": "stream",
       "stream": "stdout",
       "text": [
        "                                                \r",
        "[===============               ]   0.023/0.047MB"
       ]
      },
      {
       "output_type": "stream",
       "stream": "stdout",
       "text": [
        "                                                \r",
        "[====================          ]   0.031/0.047MB"
       ]
      },
      {
       "output_type": "stream",
       "stream": "stdout",
       "text": [
        "                                                \r",
        "[=========================     ]   0.039/0.047MB"
       ]
      },
      {
       "output_type": "stream",
       "stream": "stdout",
       "text": [
        "                                                \r",
        "[==============================]   0.047/0.047MB"
       ]
      },
      {
       "output_type": "stream",
       "stream": "stdout",
       "text": [
        "                                                \r",
        "[==============================]   0.047/0.047MB\n",
        "housing.names\n",
        "Downloading  http://archive.ics.uci.edu/ml/machine-learning-databases/housing/housing.names -> boston_housing/housing.names\n",
        "\r"
       ]
      },
      {
       "output_type": "stream",
       "stream": "stdout",
       "text": [
        "[==============================]   0.002/0.002MB"
       ]
      },
      {
       "output_type": "stream",
       "stream": "stdout",
       "text": [
        "                                                \r",
        "[==============================]   0.002/0.002MB\n"
       ]
      }
     ],
     "prompt_number": 1
    },
    {
     "cell_type": "heading",
     "level": 3,
     "metadata": {},
     "source": [
      "Preprocessing"
     ]
    },
    {
     "cell_type": "markdown",
     "metadata": {},
     "source": [
      "In the above we haven't performed any preprocessing of the data. What if we want to preprocess the data before giving it to the user? We can write a different version of the data set download file for providing a different preprocessing. Here we preprocess the `Y` values to be zero mean and unit standard deviation."
     ]
    },
    {
     "cell_type": "code",
     "collapsed": false,
     "input": [
      "from GPy.util.datasets import *\n",
      "import numpy as np\n",
      "def boston_housing_preprocess(data_set='boston_housing'):\n",
      "    if not data_available(data_set):\n",
      "        download_data(data_set)\n",
      "    all_data = np.genfromtxt(os.path.join(data_path, data_set, 'housing.data'))\n",
      "    X = all_data[:, 0:13]\n",
      "    Y = all_data[:, 13:14]\n",
      "    Y = (Y - np.mean(Y))/np.std(Y)\n",
      "    return data_details_return({'X' : X, 'Y': Y, \n",
      "                                'info' : 'The response variables have been preprocessed to have zero mean and unit standard deviation'\n",
      "                                }, data_set)"
     ],
     "language": "python",
     "metadata": {},
     "outputs": [],
     "prompt_number": 2
    },
    {
     "cell_type": "markdown",
     "metadata": {},
     "source": [
      "Now we can access the same data set, but this time, because we have the data in cache no download is performed."
     ]
    },
    {
     "cell_type": "code",
     "collapsed": false,
     "input": [
      "data = boston_housing_preprocess()"
     ],
     "language": "python",
     "metadata": {},
     "outputs": [],
     "prompt_number": 3
    },
    {
     "cell_type": "markdown",
     "metadata": {},
     "source": [
      "For this version of the data set we can check that the response variables have been normalized."
     ]
    },
    {
     "cell_type": "code",
     "collapsed": false,
     "input": [
      "print 'Mean: ', data['Y'].mean()\n",
      "print 'Standard deviation ', data['Y'].std()"
     ],
     "language": "python",
     "metadata": {},
     "outputs": [
      {
       "output_type": "stream",
       "stream": "stdout",
       "text": [
        "Mean:  -3.02085980297e-15\n",
        "Standard deviation  1.0\n"
       ]
      }
     ],
     "prompt_number": 4
    },
    {
     "cell_type": "code",
     "collapsed": false,
     "input": [],
     "language": "python",
     "metadata": {},
     "outputs": []
    }
   ],
   "metadata": {}
  }
 ]
}