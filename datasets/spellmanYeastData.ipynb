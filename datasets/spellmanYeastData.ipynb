{
 "metadata": {
  "name": "",
  "signature": "sha256:e34bc4876de6b6e2d0663d954eb65ef10bd3ef7ae3b7dfa3fe53571c6b828f21"
 },
 "nbformat": 3,
 "nbformat_minor": 0,
 "worksheets": [
  {
   "cells": [
    {
     "cell_type": "heading",
     "level": 1,
     "metadata": {},
     "source": [
      "Datasets: The Spellman Yeast Data"
     ]
    },
    {
     "cell_type": "heading",
     "level": 3,
     "metadata": {},
     "source": [
      "29th May 2014"
     ]
    },
    {
     "cell_type": "heading",
     "level": 3,
     "metadata": {},
     "source": [
      "Neil Lawrence"
     ]
    },
    {
     "cell_type": "markdown",
     "metadata": {},
     "source": [
      "This data set collection is from an classic early microarray paper on the yeast cell cycle, [Spellman et al (1998)](http://www.molbiolcell.org/content/9/12/3273.full)."
     ]
    },
    {
     "cell_type": "code",
     "collapsed": false,
     "input": [
      "import GPy\n",
      "import pylab as plt\n",
      "%matplotlib inline"
     ],
     "language": "python",
     "metadata": {},
     "outputs": [],
     "prompt_number": 2
    },
    {
     "cell_type": "code",
     "collapsed": false,
     "input": [
      "data = GPy.util.datasets.spellman_yeast()"
     ],
     "language": "python",
     "metadata": {},
     "outputs": [],
     "prompt_number": 3
    },
    {
     "cell_type": "markdown",
     "metadata": {},
     "source": [
      "The data is from two colour spotted cDNA arrays. It has been widely studied in computational biology. There are four different time series in the data as well as induction experiments. The data is returned in the form of a `pandas` data frame which can be described as follows."
     ]
    },
    {
     "cell_type": "code",
     "collapsed": false,
     "input": [
      "data['Y'].describe()"
     ],
     "language": "python",
     "metadata": {},
     "outputs": [
      {
       "html": [
        "<div style=\"max-height:1000px;max-width:1500px;overflow:auto;\">\n",
        "<table border=\"1\" class=\"dataframe\">\n",
        "  <thead>\n",
        "    <tr style=\"text-align: right;\">\n",
        "      <th></th>\n",
        "      <th>cln3-1</th>\n",
        "      <th>cln3-2</th>\n",
        "      <th>clb</th>\n",
        "      <th>clb2-2</th>\n",
        "      <th>clb2-1</th>\n",
        "      <th>alpha</th>\n",
        "      <th>alpha0</th>\n",
        "      <th>alpha7</th>\n",
        "      <th>alpha14</th>\n",
        "      <th>alpha21</th>\n",
        "      <th>alpha28</th>\n",
        "      <th>alpha35</th>\n",
        "      <th>alpha42</th>\n",
        "      <th>alpha49</th>\n",
        "      <th>alpha56</th>\n",
        "      <th>alpha63</th>\n",
        "      <th>alpha70</th>\n",
        "      <th>alpha77</th>\n",
        "      <th>alpha84</th>\n",
        "      <th>alpha91</th>\n",
        "      <th></th>\n",
        "    </tr>\n",
        "  </thead>\n",
        "  <tbody>\n",
        "    <tr>\n",
        "      <th>count</th>\n",
        "      <td> 5985.000000</td>\n",
        "      <td> 5813.000000</td>\n",
        "      <td>  0</td>\n",
        "      <td> 5724.000000</td>\n",
        "      <td> 6036.000000</td>\n",
        "      <td>  0</td>\n",
        "      <td> 6013.000000</td>\n",
        "      <td> 5653.000000</td>\n",
        "      <td> 5987.000000</td>\n",
        "      <td> 5866.000000</td>\n",
        "      <td> 5911.000000</td>\n",
        "      <td> 5971.000000</td>\n",
        "      <td> 6055.000000</td>\n",
        "      <td> 5921.000000</td>\n",
        "      <td> 6031.000000</td>\n",
        "      <td> 5992.000000</td>\n",
        "      <td> 5993.000000</td>\n",
        "      <td> 6000.000000</td>\n",
        "      <td> 6023.000000</td>\n",
        "      <td> 5849.000000</td>\n",
        "      <td>...</td>\n",
        "    </tr>\n",
        "    <tr>\n",
        "      <th>mean</th>\n",
        "      <td>    0.011270</td>\n",
        "      <td>   -0.284361</td>\n",
        "      <td>NaN</td>\n",
        "      <td>   -0.214780</td>\n",
        "      <td>   -0.027646</td>\n",
        "      <td>NaN</td>\n",
        "      <td>    0.004695</td>\n",
        "      <td>   -0.049756</td>\n",
        "      <td>    0.025881</td>\n",
        "      <td>   -0.006715</td>\n",
        "      <td>    0.028104</td>\n",
        "      <td>    0.008553</td>\n",
        "      <td>    0.074826</td>\n",
        "      <td>    0.003354</td>\n",
        "      <td>    0.051857</td>\n",
        "      <td>   -0.003598</td>\n",
        "      <td>    0.020521</td>\n",
        "      <td>   -0.012695</td>\n",
        "      <td>    0.045255</td>\n",
        "      <td>   -0.157596</td>\n",
        "      <td>...</td>\n",
        "    </tr>\n",
        "    <tr>\n",
        "      <th>std</th>\n",
        "      <td>    0.552941</td>\n",
        "      <td>    0.620545</td>\n",
        "      <td>NaN</td>\n",
        "      <td>    0.420586</td>\n",
        "      <td>    0.432394</td>\n",
        "      <td>NaN</td>\n",
        "      <td>    0.413762</td>\n",
        "      <td>    0.446178</td>\n",
        "      <td>    0.360738</td>\n",
        "      <td>    0.329861</td>\n",
        "      <td>    0.266806</td>\n",
        "      <td>    0.259786</td>\n",
        "      <td>    0.275598</td>\n",
        "      <td>    0.242568</td>\n",
        "      <td>    0.244722</td>\n",
        "      <td>    0.266623</td>\n",
        "      <td>    0.305651</td>\n",
        "      <td>    0.250983</td>\n",
        "      <td>    0.209481</td>\n",
        "      <td>    0.212510</td>\n",
        "      <td>...</td>\n",
        "    </tr>\n",
        "    <tr>\n",
        "      <th>min</th>\n",
        "      <td>   -2.940000</td>\n",
        "      <td>   -3.320000</td>\n",
        "      <td>NaN</td>\n",
        "      <td>   -2.940000</td>\n",
        "      <td>   -2.940000</td>\n",
        "      <td>NaN</td>\n",
        "      <td>   -2.420000</td>\n",
        "      <td>   -2.710000</td>\n",
        "      <td>   -1.960000</td>\n",
        "      <td>   -2.290000</td>\n",
        "      <td>   -1.920000</td>\n",
        "      <td>   -2.060000</td>\n",
        "      <td>   -2.240000</td>\n",
        "      <td>   -2.170000</td>\n",
        "      <td>   -2.170000</td>\n",
        "      <td>   -3.010000</td>\n",
        "      <td>   -2.070000</td>\n",
        "      <td>   -2.130000</td>\n",
        "      <td>   -1.360000</td>\n",
        "      <td>   -1.590000</td>\n",
        "      <td>...</td>\n",
        "    </tr>\n",
        "    <tr>\n",
        "      <th>25%</th>\n",
        "      <td>   -0.300000</td>\n",
        "      <td>   -0.640000</td>\n",
        "      <td>NaN</td>\n",
        "      <td>   -0.430000</td>\n",
        "      <td>   -0.270000</td>\n",
        "      <td>NaN</td>\n",
        "      <td>   -0.160000</td>\n",
        "      <td>   -0.280000</td>\n",
        "      <td>   -0.150000</td>\n",
        "      <td>   -0.180000</td>\n",
        "      <td>   -0.120000</td>\n",
        "      <td>   -0.150000</td>\n",
        "      <td>   -0.070000</td>\n",
        "      <td>   -0.120000</td>\n",
        "      <td>   -0.060000</td>\n",
        "      <td>   -0.160000</td>\n",
        "      <td>   -0.160000</td>\n",
        "      <td>   -0.150000</td>\n",
        "      <td>   -0.070000</td>\n",
        "      <td>   -0.280000</td>\n",
        "      <td>...</td>\n",
        "    </tr>\n",
        "    <tr>\n",
        "      <th>50%</th>\n",
        "      <td>    0.000000</td>\n",
        "      <td>   -0.320000</td>\n",
        "      <td>NaN</td>\n",
        "      <td>   -0.230000</td>\n",
        "      <td>   -0.040000</td>\n",
        "      <td>NaN</td>\n",
        "      <td>    0.010000</td>\n",
        "      <td>   -0.060000</td>\n",
        "      <td>    0.030000</td>\n",
        "      <td>   -0.020000</td>\n",
        "      <td>    0.040000</td>\n",
        "      <td>    0.000000</td>\n",
        "      <td>    0.100000</td>\n",
        "      <td>    0.010000</td>\n",
        "      <td>    0.060000</td>\n",
        "      <td>   -0.020000</td>\n",
        "      <td>   -0.020000</td>\n",
        "      <td>   -0.030000</td>\n",
        "      <td>    0.040000</td>\n",
        "      <td>   -0.160000</td>\n",
        "      <td>...</td>\n",
        "    </tr>\n",
        "    <tr>\n",
        "      <th>75%</th>\n",
        "      <td>    0.300000</td>\n",
        "      <td>    0.030000</td>\n",
        "      <td>NaN</td>\n",
        "      <td>   -0.040000</td>\n",
        "      <td>    0.190000</td>\n",
        "      <td>NaN</td>\n",
        "      <td>    0.170000</td>\n",
        "      <td>    0.150000</td>\n",
        "      <td>    0.210000</td>\n",
        "      <td>    0.150000</td>\n",
        "      <td>    0.190000</td>\n",
        "      <td>    0.170000</td>\n",
        "      <td>    0.240000</td>\n",
        "      <td>    0.140000</td>\n",
        "      <td>    0.170000</td>\n",
        "      <td>    0.150000</td>\n",
        "      <td>    0.160000</td>\n",
        "      <td>    0.100000</td>\n",
        "      <td>    0.150000</td>\n",
        "      <td>   -0.050000</td>\n",
        "      <td>...</td>\n",
        "    </tr>\n",
        "    <tr>\n",
        "      <th>max</th>\n",
        "      <td>    5.550000</td>\n",
        "      <td>    4.120000</td>\n",
        "      <td>NaN</td>\n",
        "      <td>    4.510000</td>\n",
        "      <td>    5.840000</td>\n",
        "      <td>NaN</td>\n",
        "      <td>    4.950000</td>\n",
        "      <td>    4.230000</td>\n",
        "      <td>    2.380000</td>\n",
        "      <td>    2.110000</td>\n",
        "      <td>    1.750000</td>\n",
        "      <td>    1.650000</td>\n",
        "      <td>    1.600000</td>\n",
        "      <td>    2.220000</td>\n",
        "      <td>    1.640000</td>\n",
        "      <td>    2.300000</td>\n",
        "      <td>    2.740000</td>\n",
        "      <td>    2.710000</td>\n",
        "      <td>    1.930000</td>\n",
        "      <td>    2.450000</td>\n",
        "      <td>...</td>\n",
        "    </tr>\n",
        "  </tbody>\n",
        "</table>\n",
        "<p>8 rows \u00d7 82 columns</p>\n",
        "</div>"
       ],
       "metadata": {},
       "output_type": "pyout",
       "prompt_number": 4,
       "text": [
        "            cln3-1       cln3-2  clb       clb2-2       clb2-1  alpha  \\\n",
        "count  5985.000000  5813.000000    0  5724.000000  6036.000000      0   \n",
        "mean      0.011270    -0.284361  NaN    -0.214780    -0.027646    NaN   \n",
        "std       0.552941     0.620545  NaN     0.420586     0.432394    NaN   \n",
        "min      -2.940000    -3.320000  NaN    -2.940000    -2.940000    NaN   \n",
        "25%      -0.300000    -0.640000  NaN    -0.430000    -0.270000    NaN   \n",
        "50%       0.000000    -0.320000  NaN    -0.230000    -0.040000    NaN   \n",
        "75%       0.300000     0.030000  NaN    -0.040000     0.190000    NaN   \n",
        "max       5.550000     4.120000  NaN     4.510000     5.840000    NaN   \n",
        "\n",
        "            alpha0       alpha7      alpha14      alpha21      alpha28  \\\n",
        "count  6013.000000  5653.000000  5987.000000  5866.000000  5911.000000   \n",
        "mean      0.004695    -0.049756     0.025881    -0.006715     0.028104   \n",
        "std       0.413762     0.446178     0.360738     0.329861     0.266806   \n",
        "min      -2.420000    -2.710000    -1.960000    -2.290000    -1.920000   \n",
        "25%      -0.160000    -0.280000    -0.150000    -0.180000    -0.120000   \n",
        "50%       0.010000    -0.060000     0.030000    -0.020000     0.040000   \n",
        "75%       0.170000     0.150000     0.210000     0.150000     0.190000   \n",
        "max       4.950000     4.230000     2.380000     2.110000     1.750000   \n",
        "\n",
        "           alpha35      alpha42      alpha49      alpha56      alpha63  \\\n",
        "count  5971.000000  6055.000000  5921.000000  6031.000000  5992.000000   \n",
        "mean      0.008553     0.074826     0.003354     0.051857    -0.003598   \n",
        "std       0.259786     0.275598     0.242568     0.244722     0.266623   \n",
        "min      -2.060000    -2.240000    -2.170000    -2.170000    -3.010000   \n",
        "25%      -0.150000    -0.070000    -0.120000    -0.060000    -0.160000   \n",
        "50%       0.000000     0.100000     0.010000     0.060000    -0.020000   \n",
        "75%       0.170000     0.240000     0.140000     0.170000     0.150000   \n",
        "max       1.650000     1.600000     2.220000     1.640000     2.300000   \n",
        "\n",
        "           alpha70      alpha77      alpha84      alpha91      \n",
        "count  5993.000000  6000.000000  6023.000000  5849.000000 ...  \n",
        "mean      0.020521    -0.012695     0.045255    -0.157596 ...  \n",
        "std       0.305651     0.250983     0.209481     0.212510 ...  \n",
        "min      -2.070000    -2.130000    -1.360000    -1.590000 ...  \n",
        "25%      -0.160000    -0.150000    -0.070000    -0.280000 ...  \n",
        "50%      -0.020000    -0.030000     0.040000    -0.160000 ...  \n",
        "75%       0.160000     0.100000     0.150000    -0.050000 ...  \n",
        "max       2.740000     2.710000     1.930000     2.450000 ...  \n",
        "\n",
        "[8 rows x 82 columns]"
       ]
      }
     ],
     "prompt_number": 4
    },
    {
     "cell_type": "markdown",
     "metadata": {},
     "source": [
      "The first five columns are the clb2 and cln3 induction experiments. The columns that follow are the alpha, cdc15, cdc28 and elutriation time course experiments. The index gives the gene names. The columns are named according to the experiment."
     ]
    },
    {
     "cell_type": "code",
     "collapsed": false,
     "input": [
      "print data['Y'].columns"
     ],
     "language": "python",
     "metadata": {},
     "outputs": [
      {
       "output_type": "stream",
       "stream": "stdout",
       "text": [
        "Index([u'cln3-1', u'cln3-2', u'clb', u'clb2-2', u'clb2-1', u'alpha', u'alpha0', u'alpha7', u'alpha14', u'alpha21', u'alpha28', u'alpha35', u'alpha42', u'alpha49', u'alpha56', u'alpha63', u'alpha70', u'alpha77', u'alpha84', u'alpha91', u'alpha98', u'alpha105', u'alpha112', u'alpha119', u'cdc15', u'cdc15_10', u'cdc15_30', u'cdc15_50', u'cdc15_70', u'cdc15_80', u'cdc15_90', u'cdc15_100', u'cdc15_110', u'cdc15_120', u'cdc15_130', u'cdc15_140', u'cdc15_150', u'cdc15_160', u'cdc15_170', u'cdc15_180', u'cdc15_190', u'cdc15_200', u'cdc15_210', u'cdc15_220', u'cdc15_230', u'cdc15_240', u'cdc15_250', u'cdc15_270', u'cdc15_290', u'cdc28', u'cdc28_0', u'cdc28_10', u'cdc28_20', u'cdc28_30', u'cdc28_40', u'cdc28_50', u'cdc28_60', u'cdc28_70', u'cdc28_80', u'cdc28_90', u'cdc28_100', u'cdc28_110', u'cdc28_120', u'cdc28_130', u'cdc28_140', u'cdc28_150', u'cdc28_160', u'elu', u'elu0', u'elu30', u'elu60', u'elu90', u'elu120', u'elu150', u'elu180', u'elu210', u'elu240', u'elu270', u'elu300', u'elu330', u'elu360', u'elu390'], dtype='object')\n"
       ]
      }
     ],
     "prompt_number": 5
    },
    {
     "cell_type": "markdown",
     "metadata": {},
     "source": [
      "And the index is given by the gene name, there are 6178 genes in total."
     ]
    },
    {
     "cell_type": "code",
     "collapsed": false,
     "input": [
      "print data['Y'].index"
     ],
     "language": "python",
     "metadata": {},
     "outputs": [
      {
       "output_type": "stream",
       "stream": "stdout",
       "text": [
        "Index([u'YAL001C', u'YAL002W', u'YAL003W', u'YAL004W', u'YAL005C', u'YAL007C', u'YAL008W', u'YAL009W', u'YAL010C', u'YAL011W', u'YAL012W', u'YAL013W', u'YAL014C', u'YAL015C', u'YAL016W', u'YAL017W', u'YAL018C', u'YAL019W', u'YAL020C', u'YAL021C', u'YAL022C', u'YAL023C', u'YAL024C', u'YAL025C', u'YAL026C', u'YAL027W', u'YAL028W', u'YAL029C', u'YAL030W', u'YAL031C', u'YAL032C', u'YAL033W', u'YAL034C', u'YAL035C-A', u'YAL035W', u'YAL036C', u'YAL037W', u'YAL038W', u'YAL039C', u'YAL040C', u'YAL041W', u'YAL042W', u'YAL043C', u'YAL043C-A', u'YAL044C', u'YAL045C', u'YAL046C', u'YAL047C', u'YAL048C', u'YAL049C', u'YAL051W', u'YAL053W', u'YAL054C', u'YAL055W', u'YAL056W', u'YAL058C-A', u'YAL058W', u'YAL059W', u'YAL060W', u'YAL061W', u'YAL062W', u'YAL063C', u'YAL064C-A', u'YAL064W', u'YAL064W-B', u'YAL065C', u'YAL066W', u'YAL067C', u'YAL068C', u'YAL069W', u'YAR002C-A', u'YAR002W', u'YAR003W', u'YAR007C', u'YAR008W', u'YAR009C', u'YAR010C', u'YAR014C', u'YAR015W', u'YAR018C', u'YAR019C', u'YAR020C', u'YAR023C', u'YAR027W', u'YAR028W', u'YAR029W', u'YAR030C', u'YAR031W', u'YAR033W', u'YAR035W', u'YAR037W', u'YAR040C', u'YAR042W', u'YAR043C', u'YAR044W', u'YAR047C', u'YAR050W', u'YAR052C', u'YAR053W', u'YAR060C', ...], dtype='object')\n"
       ]
      }
     ],
     "prompt_number": 6
    },
    {
     "cell_type": "markdown",
     "metadata": {},
     "source": [
      "We also provide a variant of the data for just the cdc15 time course. "
     ]
    },
    {
     "cell_type": "code",
     "collapsed": false,
     "input": [
      "data = GPy.util.datasets.spellman_yeast_cdc15()"
     ],
     "language": "python",
     "metadata": {},
     "outputs": [],
     "prompt_number": 7
    },
    {
     "cell_type": "markdown",
     "metadata": {},
     "source": [
      "And in this data we also provide the associated time points."
     ]
    },
    {
     "cell_type": "code",
     "collapsed": false,
     "input": [
      "plt.plot(data['t'], data['Y']['YAR015W'],'rx')\n",
      "plt.title('Gene YAR015W from Spellman et al for the cdc15 Time Course')\n",
      "plt.xlabel('time')\n",
      "plt.ylabel('$\\log_2$ expression ratio')"
     ],
     "language": "python",
     "metadata": {},
     "outputs": [
      {
       "metadata": {},
       "output_type": "pyout",
       "prompt_number": 8,
       "text": [
        "<matplotlib.text.Text at 0x100650d10>"
       ]
      },
      {
       "metadata": {},
       "output_type": "display_data",
       "png": "[encoded data removed]",
       "text": [
        "<matplotlib.figure.Figure at 0x10ee89d90>"
       ]
      }
     ],
     "prompt_number": 8
    },
    {
     "cell_type": "markdown",
     "metadata": {},
     "source": [
      "As normal we include the citation information for the data."
     ]
    },
    {
     "cell_type": "code",
     "collapsed": false,
     "input": [
      "print data['citation']"
     ],
     "language": "python",
     "metadata": {},
     "outputs": [
      {
       "output_type": "stream",
       "stream": "stdout",
       "text": [
        "Paul T. Spellman, Gavin Sherlock, Michael Q. Zhang, Vishwanath R. Iyer, Kirk Anders, Michael B. Eisen, Patrick O. Brown, David Botstein, and Bruce Futcher 'Comprehensive Identification of Cell Cycle-regulated Genes of the Yeast Saccharomyces cerevisiae by Microarray Hybridization.'  Molecular Biology of the Cell 9, 3273-3297\n"
       ]
      }
     ],
     "prompt_number": 9
    },
    {
     "cell_type": "markdown",
     "metadata": {},
     "source": [
      "And extra information about the data is included, as standard, under the keys `info` and `details`."
     ]
    },
    {
     "cell_type": "code",
     "collapsed": false,
     "input": [
      "print data['info']\n",
      "print\n",
      "print data['details']"
     ],
     "language": "python",
     "metadata": {},
     "outputs": [
      {
       "output_type": "stream",
       "stream": "stdout",
       "text": [
        "Time series of synchronized yeast cells from the CDC-15 experiment of Spellman et al (1998).\n",
        "\n",
        "Two colour spotted cDNA array data set of a series of experiments to identify which genes in Yeast are cell cycle regulated.\n"
       ]
      }
     ],
     "prompt_number": 10
    }
   ],
   "metadata": {}
  }
 ]
}