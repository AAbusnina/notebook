{
 "metadata": {
  "name": "",
  "signature": "sha256:37bea714e9eed1c64be91bf94835d28c660fbba0b65e721ad626b483baf2c048"
 },
 "nbformat": 3,
 "nbformat_minor": 0,
 "worksheets": [
  {
   "cells": [
    {
     "cell_type": "heading",
     "level": 1,
     "metadata": {},
     "source": [
      "Inferring Transcription Factor Activities by Combining Binding Information with Gene Expression Profiles"
     ]
    },
    {
     "cell_type": "heading",
     "level": 2,
     "metadata": {},
     "source": [
      "A Model and Analysis in Progress"
     ]
    },
    {
     "cell_type": "heading",
     "level": 3,
     "metadata": {},
     "source": [
      "30th May 2014"
     ]
    },
    {
     "cell_type": "heading",
     "level": 3,
     "metadata": {},
     "source": [
      "M. Arif Rahman and Neil D. Lawrence"
     ]
    },
    {
     "cell_type": "markdown",
     "metadata": {},
     "source": [
      "In this notebook we design a covariance function for reconstructing transcription factor activities given gene expression profiles and a connectivity matrix (binding data) between genes and transcription factors. Our modelling framework builds on ideas in [Sanguinetti et al (2006)](http://bioinformatics.oxfordjournals.org/content/22/14/1753.short) who used a linear-Gaussian statespace modelling framework to infer the transcription factor activity of a group of genes. \n",
      "\n",
      "We note that the linear Gaussian model is equivalent to a Gaussian process with a particular covariance function. We therefore build a model directly from the Gaussian process perspective to achieve the same effect. We introduce a computational trick, based on  judicious application of singluar value decomposition, to enable us to efficiently fit the Gaussian process in a reduced 'TF activity' space. "
     ]
    },
    {
     "cell_type": "code",
     "collapsed": false,
     "input": [
      "import numpy as np\n",
      "import pylab as pb\n",
      "import GPy\n",
      "import scipy.io\n",
      "import matplotlib.pyplot as plt\n",
      "\n",
      "%matplotlib inline"
     ],
     "language": "python",
     "metadata": {},
     "outputs": [],
     "prompt_number": 1
    },
    {
     "cell_type": "markdown",
     "metadata": {},
     "source": [
      "First we load in the classic [Spellman et al (1998)](http://www.molbiolcell.org/content/9/12/3273.full) Yeast Cell Cycle data set. The cdc15 time series data has 23 time points. We can load this gene expression data in with GPy."
     ]
    },
    {
     "cell_type": "code",
     "collapsed": false,
     "input": [
      "data = GPy.util.datasets.spellman_yeast_cdc15()\n",
      "Y = data['Y'].fillna(0) # Replace missing values with zero following Sanguinetti et al.\n",
      "t = data['t']\n",
      "print data['info'], data['details']"
     ],
     "language": "python",
     "metadata": {},
     "outputs": [
      {
       "output_type": "stream",
       "stream": "stdout",
       "text": [
        "Time series of synchronized yeast cells from the CDC-15 experiment of Spellman et al (1998). Two colour spotted cDNA array data set of a series of experiments to identify which genes in Yeast are cell cycle regulated.\n"
       ]
      }
     ],
     "prompt_number": 2
    },
    {
     "cell_type": "markdown",
     "metadata": {},
     "source": [
      "More details on the data are given in [this notebook](../datasets/spellmanYeastData.ipynb)."
     ]
    },
    {
     "cell_type": "markdown",
     "metadata": {},
     "source": [
      "We can make a simple helper function to plot genes from the data set (which are provided as a `pandas` array)."
     ]
    },
    {
     "cell_type": "code",
     "collapsed": false,
     "input": [
      "def plot_gene(gene_name='YER124C'):\n",
      "    plt.plot(data['t'], data['Y'][gene_name], 'rx')\n",
      "    plt.title('Gene: ' + gene_name)\n",
      "    plt.xlabel('time/minutes')\n",
      "plot_gene('YER124C')"
     ],
     "language": "python",
     "metadata": {},
     "outputs": [
      {
       "metadata": {},
       "output_type": "display_data",
       "png": "[encoded data removed]",
       "text": [
        "<matplotlib.figure.Figure at 0x10f91af50>"
       ]
      }
     ],
     "prompt_number": 3
    },
    {
     "cell_type": "markdown",
     "metadata": {},
     "source": [
      "Our second data set is from ChiP-chip experiments performed on yeast by [Lee et al (2002)](http://www.cs.gsu.edu/~wkim/index_files/ref/TR.pdf). These give us the binding information between transcription factors and genes. In this notebook we are going to try and combine this binding information with the gene expression information to infer transcription factor activities."
     ]
    },
    {
     "cell_type": "code",
     "collapsed": false,
     "input": [
      "data = GPy.util.datasets.lee_yeast_ChIP()\n",
      "# set S to find relationships where p-value is less than 1e-3\n",
      "S = data['Y'].T<1e-3"
     ],
     "language": "python",
     "metadata": {},
     "outputs": [],
     "prompt_number": 4
    },
    {
     "cell_type": "markdown",
     "metadata": {},
     "source": [
      "More details on the data are give in [this notebook](../datasets/leeYeastChip.ipynb)."
     ]
    },
    {
     "cell_type": "heading",
     "level": 3,
     "metadata": {},
     "source": [
      "Matching the Data"
     ]
    },
    {
     "cell_type": "markdown",
     "metadata": {},
     "source": [
      "The two data sets have slightly different overlapping sets of genes. Fortunately, with `pandas` it is easy to do the matching."
     ]
    },
    {
     "cell_type": "code",
     "collapsed": false,
     "input": [
      "intersect = list(set(S.columns) & set(Y.columns))\n",
      "# this is the new value for n\n",
      "print 'There are n=', len(intersect), 'overlapping genes.'\n",
      "# Now reset S and Y to have the overlap of genes\n",
      "Y = Y[intersect].T # now an n by T matrix\n",
      "S = S[intersect].T # now an n by q matrix"
     ],
     "language": "python",
     "metadata": {},
     "outputs": [
      {
       "output_type": "stream",
       "stream": "stdout",
       "text": [
        "There are n= 6099 overlapping genes.\n"
       ]
      }
     ],
     "prompt_number": 5
    },
    {
     "cell_type": "heading",
     "level": 3,
     "metadata": {},
     "source": [
      "Model for Transcription Factor Activities"
     ]
    },
    {
     "cell_type": "markdown",
     "metadata": {},
     "source": [
      "We are working with *log* expression levels in a matrix $\\mathbf{Y} \\in \\Re^{n\\times T}$ and we will assume a linear (additive) model giving the relationship between the expression level of the gene and the corresponding transcription factor activity which are unobserved, but we represent by a matrix $\\mathbf{F} \\in \\Re^{q\\times T}$. Our basic assumption is as follows. Transcription factors are in time series, so they are likely to be temporally smooth. Further we assume that the transcription factors are potentially correlated with one another (to account for transcription factors that operate in unison). \n",
      "\n",
      "#### Correlation Between Transcription Factors \n",
      "If there are $q$ transcription factors then correlation between different transcription factors is encoded in a covariance matrix, $\\boldsymbol{\\Sigma}$ which is $q\\times q$ in dimensionality. \n",
      "\n",
      "#### Temporal Smoothness\n",
      "\n",
      "Further we assume that the log of the transcription factors' activities is temporally smooth, and drawn from an underlying Gaussian process with covariance $\\mathbf{K}_t$. \n",
      "\n",
      "#### Intrinsic Coregionalization Model\n",
      "\n",
      "We assume that the joint process across all $q$ transcription factor activities and across all time points is well represented by an *intrinsic model of coregionalization* where the covariance is given by the Kronecker product of these terms.\n",
      "$$\\mathbf{K}_f = \\mathbf{K}_t \\otimes \\boldsymbol{\\Sigma}$$\n",
      "\n",
      "This is known as an intrinsic coregionalization model [Wackernagel, (2003)](http://books.google.co.uk/books/about/Multivariate_Geostatistics.html?id=Rhr7bgLWxx4C). See [Alvarez et al (2012)](http://www.nowpublishers.com/articles/foundations-and-trends-in-machine-learning/MAL-036) for a machine learning orientated review of these methods. The matrix $\\boldsymbol{\\Sigma}$ is known as the coregionalization matrix."
     ]
    },
    {
     "cell_type": "heading",
     "level": 3,
     "metadata": {},
     "source": [
      "Relation to Gene Expressions"
     ]
    },
    {
     "cell_type": "markdown",
     "metadata": {},
     "source": [
      "We now assume that the $j$th gene's expression is given by the product of the transcription factors that bind to that gene. Because we are working in log space, that implies a log linear relationship. At the $i$th time point, the log of the $j$th gene's expression, $\\mathbf{y}_{i,j}$ is linearly related to the log of the transcription factor activities at the corresponding time point, $\\mathbf{f}_{i, :}$. This relationship is given by the binding information from $\\mathbf{S}$. We then assume that there is some corrupting Gaussian noise to give us the final observation."
     ]
    },
    {
     "cell_type": "markdown",
     "metadata": {},
     "source": [
      "$$\\mathbf{y}_{i, j} = \\mathbf{S}\\mathbf{f}_{:, i} + \\boldsymbol{\\epsilon}_i$$"
     ]
    },
    {
     "cell_type": "markdown",
     "metadata": {},
     "source": [
      "where the Gaussian noise is sampled from "
     ]
    },
    {
     "cell_type": "markdown",
     "metadata": {},
     "source": [
      "$$\\epsilon_i \\sim \\mathcal{N}(\\mathbf{0}, \\sigma^2 \\mathbf{I}).$$"
     ]
    },
    {
     "cell_type": "heading",
     "level": 3,
     "metadata": {},
     "source": [
      "Gaussian Process Model of Gene Expression"
     ]
    },
    {
     "cell_type": "markdown",
     "metadata": {},
     "source": [
      "We consider a vector operator which takes all the separate time series in $\\mathbf{Y}$ and stacks the time series to form a new vector $n\\times T$ length vector $\\mathbf{y}$. A similar operation is applied to form a $q \\times T$ length vector $\\mathbf{f}$. Using Kronecker products we can now represent the relationship between $\\mathbf{y}$ and $\\mathbf{f}$ as follows:  "
     ]
    },
    {
     "cell_type": "markdown",
     "metadata": {},
     "source": [
      "$$\\mathbf{y} = \\left[\\mathbf{I} \\otimes \\mathbf{S}\\right] \\mathbf{f} + \\boldsymbol{\\epsilon}.$$"
     ]
    },
    {
     "cell_type": "markdown",
     "metadata": {},
     "source": [
      "[Standard properties of multivariate Gaussian distributions](../background/gaussianProperties.ipynb) tell us that "
     ]
    },
    {
     "cell_type": "markdown",
     "metadata": {},
     "source": [
      "$$\\mathbf{y} \\sim \\mathcal{N}(\\mathbf{0}, \\mathbf{K}),$$"
     ]
    },
    {
     "cell_type": "markdown",
     "metadata": {},
     "source": [
      "where\n",
      "$$\\mathbf{K} = \\mathbf{K}_t \\otimes \\mathbf{S} \\boldsymbol{\\Sigma} \\mathbf{S}^\\top + \\sigma^2 \\mathbf{I}.$$\n",
      "This results in a covariance function that is of size $n$ by $T$ where $n$ is number of genes and $T$ is number of time points. However, we can get a drastic reduction in the size of the covariance function by considering the singular value decomposition of $\\mathbf{S}$. "
     ]
    },
    {
     "cell_type": "markdown",
     "metadata": {},
     "source": [
      "The matrix $\\mathbf{S}$ is $n$ by $q$ matrix, where $q$ is the number of transcription factors. It contains a 1 if a given transcription factor binds to a given gene, and zero otherwise."
     ]
    },
    {
     "cell_type": "markdown",
     "metadata": {},
     "source": [
      "$$L = -\\frac{1}{2} \\log |\\mathbf{K}| - \\frac{1}{2} \\mathbf{y}^\\top \\mathbf{K}^{-1} \\mathbf{y}$$"
     ]
    },
    {
     "cell_type": "markdown",
     "metadata": {},
     "source": [
      "In the worst case, because the vector $\\mathbf{y}$ contains $T\\times n$ points ($T$ time points for each of $n$ genes) we are faced with $O(T^3n^3)$ computational complexity. We are going to use a rotation trick to help. "
     ]
    },
    {
     "cell_type": "heading",
     "level": 3,
     "metadata": {},
     "source": [
      "The Main Computational Trick"
     ]
    },
    {
     "cell_type": "heading",
     "level": 4,
     "metadata": {},
     "source": [
      " Rotating the Basis of a Multivariate Gaussian"
     ]
    },
    {
     "cell_type": "markdown",
     "metadata": {},
     "source": [
      "For any multivariate Gaussian you can rotate the data set and compute a new roated covariance which is valid for the rotated data set. Mathematically this works by first inserting $\\mathbf{R}\\mathbf{R}^\\top$ into the likelihood at three points as follows:"
     ]
    },
    {
     "cell_type": "markdown",
     "metadata": {},
     "source": [
      "$$L = -\\frac{1}{2} \\log |\\mathbf{K}\\mathbf{R}^\\top\\mathbf{R}| - \\frac{1}{2} \\mathbf{y}^\\top\\mathbf{R}^\\top\\mathbf{R} \\mathbf{K}^{-1}\\mathbf{R}^\\top\\mathbf{R} \\mathbf{y} + \\text{const}$$"
     ]
    },
    {
     "cell_type": "markdown",
     "metadata": {},
     "source": [
      "The rules of determinants and a transformation of the data allows us to rewrite the likelihood as"
     ]
    },
    {
     "cell_type": "markdown",
     "metadata": {},
     "source": [
      "$$L = -\\frac{1}{2} \\log |\\mathbf{R}^\\top\\mathbf{K}\\mathbf{R}| - \\frac{1}{2} \\hat{\\mathbf{y}}^\\top \\left[\\mathbf{R}^\\top\\mathbf{K}\\mathbf{R}\\right]^{-1}\\hat{\\mathbf{y}} + \\text{const}$$"
     ]
    },
    {
     "cell_type": "markdown",
     "metadata": {},
     "source": [
      "where we have introduced the rotated data: $\\hat{\\mathbf{y}}=\\mathbf{R} \\mathbf{y}$. Geometrically what this says is that if we want to maintain the same likelihood, then when we rotate our data set by $\\mathbf{R}$ we need to rotate either side of the covariance matrix by $\\mathbf{R}$, which makes perfect sense when we recall the properties of the multivariate Gaussian. "
     ]
    },
    {
     "cell_type": "heading",
     "level": 4,
     "metadata": {},
     "source": [
      "A Kronecker Rotation"
     ]
    },
    {
     "cell_type": "markdown",
     "metadata": {},
     "source": [
      "In this notebook we are using a particular structure of covariance which involves a Kronecker product. The rotation we consider will be a Kronecker rotation (see [Stegle et al, 2011](http://papers.nips.cc/paper/4281-efficient-inference-in-matrix-variate-gaussian-models-with-iid-observation-noise.pdf)). We are going to try and take advantage of the fact that the matrix $\\mathbf{S}$ is square meaning that $\\mathbf{S}\\boldsymbol{\\Sigma}\\mathbf{S}^\\top$ is not full rank (it has rank of most $q$, but is size $n\\times n$, and we expect number of transcription factors $q$ to be less than number of genes $n$). \n",
      "\n",
      "When ranks are involved, it is always a good idea to look at singular value decompositions (SVDs). The SVD of $\\mathbf{S}$ is given by:\n",
      "$$\\mathbf{S} = \\mathbf{Q} \\boldsymbol{\\Lambda} \\mathbf{V}^\\top$$\n",
      "where $\\mathbf{V}^\\top \\mathbf{V} = \\mathbf{I}$, $\\boldsymbol{\\Lambda}$ is a diagonal matrix of positive values, $\\mathbf{Q}$ is a matrix of size $n\\times q$: it matches the dimensionality of $\\mathbf{S}$, but we have $\\mathbf{Q}^\\top \\mathbf{Q} = \\mathbf{I}$. Note that because it is not square, $\\mathbf{Q}$ is not in itself a rotation matrix. However it could be seen as the first $q$ columns of an $n$ dimensional rotation matrix (assuming $n$ is larger than $q$, i.e. there are more genes than transcription factors). \n",
      "\n",
      "If we call the $n-q$ missing columns of this rotation matrix $\\mathbf{U}$ then we have a valid rotation matrix $\\mathbf{R}=\\begin{bmatrix} \\mathbf{Q}& \\mathbf{U}\\end{bmatrix}$. Although this rotation matrix is only rotating across the $n$ dimensions of the genes, not the additional dimensions across time. In other words we are choosing $\\mathbf{K}_t$ to be unrotated. To represent this properly for our covariance we need to set $\\mathbf{R} = \\mathbf{I} \\otimes \\begin{bmatrix} \\mathbf{Q}& \\mathbf{U}\\end{bmatrix}$. This gives us a structure that when applied to a covariance of the form $\\mathbf{K}_t\\otimes \\mathbf{K}_n$ it will rotate $\\mathbf{K}_n$ whilst leaving $\\mathbf{K}_t$ untouched.\n",
      "\n"
     ]
    },
    {
     "cell_type": "markdown",
     "metadata": {},
     "source": [
      "When we apply this rotation matrix to $\\mathbf{K}$ we hace to consider two terms, the rotation of $\\mathbf{K}_t \\otimes \\mathbf{S}\\boldsymbol{\\Sigma}\\mathbf{S}^\\top$, and the rotation of $\\sigma^2 \\mathbf{I}$."
     ]
    },
    {
     "cell_type": "markdown",
     "metadata": {},
     "source": [
      "Rotating the latter is easy, because it is just the identity multiplied by a scalar so it remains unchanged\n",
      "$$\\mathbf{R}^\\top\\mathbf{I}\\sigma^2 \\mathbf{R}= \\mathbf{I}\\sigma^2$$\n",
      "The former is slightly more involved, for that term we have\n",
      "$$\\left[\\mathbf{I}\\otimes \\begin{bmatrix}\\mathbf{Q} & \\mathbf{U}\\end{bmatrix}^\\top \\right]\\mathbf{K}_t \\otimes \\mathbf{S}\\boldsymbol{\\Sigma}\\mathbf{S}^\\top\\left[ \\mathbf{I} \\otimes \\begin{bmatrix}\\mathbf{Q} & \\mathbf{U}\\end{bmatrix}\\right]=\\mathbf{K}_t \\otimes \\begin{bmatrix}\\mathbf{Q} & \\mathbf{U}\\end{bmatrix}^\\top \\mathbf{S} \\boldsymbol{\\Sigma}\\mathbf{S}^\\top \\begin{bmatrix}\\mathbf{Q} & \\mathbf{U}\\end{bmatrix}.$$ \n",
      " "
     ]
    },
    {
     "cell_type": "markdown",
     "metadata": {},
     "source": [
      "Since $\\mathbf{X} = \\mathbf{Q}\\boldsymbol{\\Lambda}\\mathbf{V}^\\top$ then we have\n",
      "$$\\begin{bmatrix}\\mathbf{Q} & \\mathbf{U}\\end{bmatrix}^\\top \\mathbf{X}\\boldsymbol{\\Sigma}\\mathbf{X}^\\top\\begin{bmatrix}\\mathbf{Q} & \\mathbf{U}\\end{bmatrix} = \\begin{bmatrix}\\boldsymbol{\\Lambda} \\mathbf{V}^\\top \\boldsymbol{\\Sigma}\\mathbf{V} \\boldsymbol{\\Lambda} &\\mathbf{0} \\\\ \\mathbf{0} & \\mathbf{0}\\end{bmatrix}.$$\n",
      "\n",
      "This prompts us to split our vector $\\hat{\\mathbf{y}}$ into a $q$ dimensional vector $\\hat{\\mathbf{y}}_u = \\mathbf{U}^\\top \\mathbf{y}$ and an $n-q$ dimensional vector $\\hat{\\mathbf{y}}_q =\\mathbf{Q}^\\top \\mathbf{y}$. The Gaussian likelihood can be written as"
     ]
    },
    {
     "cell_type": "markdown",
     "metadata": {},
     "source": [
      "$$L = L_u + L_q + \\text{const}$$"
     ]
    },
    {
     "cell_type": "markdown",
     "metadata": {},
     "source": [
      "where"
     ]
    },
    {
     "cell_type": "markdown",
     "metadata": {},
     "source": [
      "$$L_q = -\\frac{1}{2} \\log |\\mathbf{K}_t\\otimes\\boldsymbol{\\Lambda}\\mathbf{V}^\\top\\boldsymbol{\\Sigma}\\mathbf{V}\\boldsymbol{\\Lambda}+\\sigma^2\\mathbf{I}| - \\frac{1}{2} \\hat{\\mathbf{y}}_q^\\top \\left[\\mathbf{K}_t\\otimes \\boldsymbol{\\Lambda}\\mathbf{V}^\\top\\boldsymbol{\\Sigma}\\mathbf{V}\\boldsymbol{\\Lambda}+\\sigma^2\\mathbf{I}\\right]^{-1} \\hat{\\mathbf{y}}_q$$"
     ]
    },
    {
     "cell_type": "markdown",
     "metadata": {},
     "source": [
      "and"
     ]
    },
    {
     "cell_type": "markdown",
     "metadata": {},
     "source": [
      "$$L_u = -\\frac{T(n-q)}{2} \\log \\sigma^2  -\\frac{1}{2\\sigma^2} \\hat{\\mathbf{y}}_u^\\top \\hat{\\mathbf{y}}_u$$"
     ]
    },
    {
     "cell_type": "markdown",
     "metadata": {},
     "source": [
      "Strictly speaking we should fit these models jointly, but for the purposes of illustration we will firstly use a simple procedure. Firstly, we fit the noise variance $\\sigma^2$ on $\\hat{\\mathbf{y}}_u$ alone using $L_u$. Once this is done, fix the value of $\\sigma^2$ in $L_q$ and optimize with respect to the other parameters."
     ]
    },
    {
     "cell_type": "code",
     "collapsed": false,
     "input": [
      "# step 1, find the SVD of S.\n",
      "n, q = S.shape\n",
      "T = Y.shape[1]\n",
      "R, Lambda, V = np.linalg.svd(S)\n",
      "# Extract first q columns for Q\n",
      "Q = R[:, :q]\n",
      "# remaining columns for U\n",
      "U = R[:, q:]\n"
     ],
     "language": "python",
     "metadata": {},
     "outputs": [],
     "prompt_number": 6
    },
    {
     "cell_type": "code",
     "collapsed": false,
     "input": [
      "Q.shape\n",
      "#U.shape\n",
      "#Y.shape"
     ],
     "language": "python",
     "metadata": {},
     "outputs": [
      {
       "metadata": {},
       "output_type": "pyout",
       "prompt_number": 7,
       "text": [
        "(6099, 113)"
       ]
      }
     ],
     "prompt_number": 7
    },
    {
     "cell_type": "code",
     "collapsed": false,
     "input": [
      "# Find sigma2 by looking at variance of y_u\n",
      "Y_u = np.dot(U.T, Y)\n",
      "sigma2 = 1./(T*(n-q))*(Y_u*Y_u).sum()\n",
      "print \"sigma2 found as\", sigma2\n"
     ],
     "language": "python",
     "metadata": {},
     "outputs": [
      {
       "output_type": "stream",
       "stream": "stdout",
       "text": [
        "sigma2 found as 0.178461463478\n"
       ]
      }
     ],
     "prompt_number": 8
    },
    {
     "cell_type": "code",
     "collapsed": false,
     "input": [
      "# Prepare the data for processing in GPy\n",
      "Y_q = np.dot(Q.T, Y) # project data onto the principal subspace of X \n",
      "\n",
      "# Generate the input associated with each Y, the TF and the time point.\n",
      "x0, x1 = np.asarray(np.meshgrid(t.flatten(),np.arange(q)))\n",
      "X = np.hstack([x0.flatten()[:, None], x1.flatten()[:, None]])\n",
      "y = Y_q.flatten()[:, None]"
     ],
     "language": "python",
     "metadata": {},
     "outputs": [],
     "prompt_number": 10
    },
    {
     "cell_type": "code",
     "collapsed": false,
     "input": [
      "\n",
      "kern = GPy.kern.RBF(1, active_dims=[0])*GPy.kern.Coregionalize(1,q,rank=5, active_dims=[1])\n",
      "m = GPy.models.GPRegression(X, y, kern)\n",
      "m.mul.rbf.lengthscale = 50\n",
      "m.Gaussian_noise.variance = sigma2\n",
      "#m.Gaussian_noise.variance.constrain_fixed()\n",
      "#()#kern, t, y_q)\n",
      "#m.sigma2 = constrained_fixed(sigma2)\n",
      "#m.optimize(messages=True)"
     ],
     "language": "python",
     "metadata": {},
     "outputs": [],
     "prompt_number": 50
    },
    {
     "cell_type": "code",
     "collapsed": false,
     "input": [
      "print m"
     ],
     "language": "python",
     "metadata": {},
     "outputs": [
      {
       "output_type": "stream",
       "stream": "stdout",
       "text": [
        "  GP_regression.           |      Value       |  Constraint  |  Prior  |  Tied to\n",
        "  \u001b[1mmul.rbf.variance       \u001b[0;0m  |             1.0  |     +ve      |         |         \n",
        "  \u001b[1mmul.rbf.lengthscale    \u001b[0;0m  |            50.0  |     +ve      |         |         \n",
        "  \u001b[1mmul.coregion.W         \u001b[0;0m  |        (113, 5)  |              |         |         \n",
        "  \u001b[1mmul.coregion.kappa     \u001b[0;0m  |          (113,)  |     +ve      |         |         \n",
        "  \u001b[1mGaussian_noise.variance\u001b[0;0m  |  0.178461463478  |     +ve      |         |         \n"
       ]
      }
     ],
     "prompt_number": 51
    },
    {
     "cell_type": "code",
     "collapsed": false,
     "input": [
      "m.optimize(messages=True)\n",
      "#m.plot(fixed_inputs=[(1, 1)]) # this would plot ACE2."
     ],
     "language": "python",
     "metadata": {},
     "outputs": [],
     "prompt_number": 52
    },
    {
     "cell_type": "code",
     "collapsed": false,
     "input": [
      "print m"
     ],
     "language": "python",
     "metadata": {},
     "outputs": [
      {
       "output_type": "stream",
       "stream": "stdout",
       "text": [
        "  GP_regression.           |        Value        |  Constraint  |  Prior  |  Tied to\n",
        "  \u001b[1mmul.rbf.variance       \u001b[0;0m  |    0.0114900759537  |     +ve      |         |         \n",
        "  \u001b[1mmul.rbf.lengthscale    \u001b[0;0m  |  5.19983490521e-08  |     +ve      |         |         \n",
        "  \u001b[1mmul.coregion.W         \u001b[0;0m  |           (113, 5)  |              |         |         \n",
        "  \u001b[1mmul.coregion.kappa     \u001b[0;0m  |             (113,)  |     +ve      |         |         \n",
        "  \u001b[1mGaussian_noise.variance\u001b[0;0m  |      0.11622609441  |     +ve      |         |         \n"
       ]
      }
     ],
     "prompt_number": 53
    },
    {
     "cell_type": "markdown",
     "metadata": {},
     "source": [
      "With the current design the model is switching off the temporal correlation. The next step in the analysis will be to reimplement the same model as described by [Sanguinetti et al (2006)](http://bioinformatics.oxfordjournals.org/content/22/14/1753.short) and recover their results. That will involve using an Ornstein Uhlbeck covariance and joint maximisation of the likelihoood of $L_u$ and $L_q$."
     ]
    },
    {
     "cell_type": "markdown",
     "metadata": {},
     "source": [
      "This work is funded by a Commonwealth Scholarship to Aif Rahman and by the EU FP7 RADIANT project."
     ]
    },
    {
     "cell_type": "markdown",
     "metadata": {},
     "source": []
    }
   ],
   "metadata": {}
  }
 ]
}