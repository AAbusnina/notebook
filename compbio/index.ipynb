{
 "metadata": {
  "name": "",
  "signature": "sha256:c72d5f89817aaba27f29b2a7417274a7d01f3aaf0a9dc46d161b0513978e3992"
 },
 "nbformat": 3,
 "nbformat_minor": 0,
 "worksheets": [
  {
   "cells": [
    {
     "cell_type": "markdown",
     "metadata": {},
     "source": [
      "## Notebooks on Computational Biology Data\n",
      "\n",
      "* [Hierarchical](./Hierarchical.ipynb) James Hensman, Magnus Rattray and Neil Lawrence. Work funded by the [Iterative Project](http://staffwww.dcs.shef.ac.uk/people/N.Lawrence/projects/iterative/).\n",
      "* [Checking Replicate Time Series Quality with GPy](./TomancakDataWithGPy.ipynb) Marta Milo and Neil Lawrence\n",
      "* [Visualizing Single Cell Data with the GP-LVM](./SingleCellDataWithGPy.ipynb) Max Zwiessele, Oliver Stegle and Neil Lawrence. Work funded by the [BioPreDyn Project](http://staffwww.dcs.shef.ac.uk/people/N.Lawrence/projects/biopredyn/) and is an ongoing collaboration with Florian Buettner.\n",
      "* [Spatio-temporal Model of Gene Expression in Drosophila Blastoderm Development](./SpatioTemporalGeneProteinDrosophila.ipynb) Mu Niu, Nicolas Durrande and Neil Lawrence. Work funded by the [BioPreDyn Project](http://staffwww.dcs.shef.ac.uk/people/N.Lawrence/projects/biopredyn/). Ongoing collaboration with Johannes Jaeger's group."
     ]
    },
    {
     "cell_type": "code",
     "collapsed": false,
     "input": [],
     "language": "python",
     "metadata": {},
     "outputs": []
    }
   ],
   "metadata": {}
  }
 ]
}