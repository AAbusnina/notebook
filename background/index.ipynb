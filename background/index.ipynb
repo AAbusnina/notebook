{
 "metadata": {
  "name": "",
  "signature": "sha256:dd3fc1baa8dbb09eb8620bc33a67e501b8224937373480c4c908e6078046be05"
 },
 "nbformat": 3,
 "nbformat_minor": 0,
 "worksheets": [
  {
   "cells": [
    {
     "cell_type": "markdown",
     "metadata": {},
     "source": [
      "# Background\n",
      "\n",
      "This subdirectory contains notebooks on background mathematics useful for understanding Gaussian processes.\n",
      "\n",
      "[Properties of Multivariate Gaussians](./gaussianProperties.ipynb) Details on the properties of multivariate Gaussians will appear here."
     ]
    }
   ],
   "metadata": {}
  }
 ]
}