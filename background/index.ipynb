{
 "metadata": {
  "name": "",
  "signature": "sha256:48ec023dc1a2a1e6d50f0af81f7ba154d03ca8b9105f4123376e0808fd5b4904"
 },
 "nbformat": 3,
 "nbformat_minor": 0,
 "worksheets": [
  {
   "cells": [
    {
     "cell_type": "markdown",
     "metadata": {},
     "source": [
      "# Background\n",
      "\n",
      "This subdirectory contains notebooks on background mathematics useful for understanding Gaussian processes.\n",
      "\n",
      "[Properties of Multivariate Gaussians](./gaussianProperties.ipynb) Details on the properties of multivariate Gaussians will appear here."
     ]
    },
    {
     "cell_type": "code",
     "collapsed": false,
     "input": [],
     "language": "python",
     "metadata": {},
     "outputs": []
    }
   ],
   "metadata": {}
  }
 ]
}