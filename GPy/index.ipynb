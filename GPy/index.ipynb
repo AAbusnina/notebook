{
 "metadata": {
  "name": "",
  "signature": "sha256:a39201a1e444c8549790a2e18b54d2cf96e96cf1c8b3fdd8be602e46ba688a2a"
 },
 "nbformat": 3,
 "nbformat_minor": 0,
 "worksheets": [
  {
   "cells": [
    {
     "cell_type": "markdown",
     "metadata": {},
     "source": [
      "# Examples of Using GPy\n",
      "\n",
      "* [Count Data with GPy](./Poisson regression tutorial.ipynb)"
     ]
    },
    {
     "cell_type": "heading",
     "level": 2,
     "metadata": {},
     "source": [
      "GPy Configuration Files"
     ]
    },
    {
     "cell_type": "markdown",
     "metadata": {},
     "source": [
      "* [Configuration Files](./config.ipynb) Setting up your local GPy configuration."
     ]
    },
    {
     "cell_type": "code",
     "collapsed": false,
     "input": [],
     "language": "python",
     "metadata": {},
     "outputs": []
    }
   ],
   "metadata": {}
  }
 ]
}