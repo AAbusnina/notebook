{
 "metadata": {
  "name": "",
  "signature": "sha256:954003c7e90ae18bd458adae6e10d13c7c225a60c901e25555caf96253226834"
 },
 "nbformat": 3,
 "nbformat_minor": 0,
 "worksheets": [
  {
   "cells": [
    {
     "cell_type": "markdown",
     "metadata": {},
     "source": [
      "# Examples of Using GPy\n",
      "\n",
      "This set of examples shows some of the functionality of the GPy Gaussian process framework in python. The framework is BSD licensed and we welcome collaborators to develop new functionality.\n",
      "\n",
      "## Multiple Output Gaussian Processes\n",
      "* [Coregionalization with Gaussian Processes](./coregionalized_regression_tutorial.ipynb) This tutorial shows the use of a coregionalized model within GPy. In particular such models can be used for multi-task or multi-output learning.\n",
      "\n",
      "## Different Noise Models\n",
      "* [Count Data with GPy](./Poisson regression tutorial.ipynb) This tutorial gives an example of Poisson regression using GPy.\n",
      "* [Heteroschedastic Gaussian Processes](./heteroscedastic_regression.ipynb) This tutorial shows how heteroschedastic Gaussian processes can be fit using GPy.\n",
      "\n",
      "## Approximations\n",
      "* [Sparse Gaussian Processes](./sparse_gp_regression.ipynb) This tutorial gives a quick overview of the variational approximation used to fit sparse Gaussian processes. "
     ]
    },
    {
     "cell_type": "heading",
     "level": 2,
     "metadata": {},
     "source": [
      "GPy Configuration Files"
     ]
    },
    {
     "cell_type": "markdown",
     "metadata": {},
     "source": [
      "* [Configuration Files](./config.ipynb) Setting up your local GPy configuration."
     ]
    },
    {
     "cell_type": "code",
     "collapsed": false,
     "input": [],
     "language": "python",
     "metadata": {},
     "outputs": []
    }
   ],
   "metadata": {}
  }
 ]
}