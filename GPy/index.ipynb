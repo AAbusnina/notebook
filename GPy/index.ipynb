{
 "metadata": {
  "name": "",
  "signature": "sha256:99834c2f1a1137e2e71dbc6b6c17e17b340da9af5b401825044ab40cd270cd45"
 },
 "nbformat": 3,
 "nbformat_minor": 0,
 "worksheets": [
  {
   "cells": [
    {
     "cell_type": "markdown",
     "metadata": {},
     "source": [
      "# Examples of Using GPy\n",
      "\n",
      "* [Count Data with GPy](./Poisson regression tutorial.ipynb) This tutorial gives an example of Poisson regression using GPy."
     ]
    },
    {
     "cell_type": "heading",
     "level": 2,
     "metadata": {},
     "source": [
      "GPy Configuration Files"
     ]
    },
    {
     "cell_type": "markdown",
     "metadata": {},
     "source": [
      "* [Configuration Files](./config.ipynb) Setting up your local GPy configuration."
     ]
    },
    {
     "cell_type": "code",
     "collapsed": false,
     "input": [],
     "language": "python",
     "metadata": {},
     "outputs": []
    }
   ],
   "metadata": {}
  }
 ]
}