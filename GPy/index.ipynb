{
 "metadata": {
  "name": "",
  "signature": "sha256:fea71dae78c95e1777ab30115e08673b8b3743fd247c56f98b19de33ee016ddc"
 },
 "nbformat": 3,
 "nbformat_minor": 0,
 "worksheets": [
  {
   "cells": [
    {
     "cell_type": "markdown",
     "metadata": {},
     "source": [
      "# Examples of Using GPy\n",
      "\n",
      "* [Count Data with GPy](./Poisson regression tutorial.ipynb)"
     ]
    },
    {
     "cell_type": "code",
     "collapsed": false,
     "input": [],
     "language": "python",
     "metadata": {},
     "outputs": []
    }
   ],
   "metadata": {}
  }
 ]
}