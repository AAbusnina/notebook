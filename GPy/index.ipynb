{
 "cells": [
  {
   "cell_type": "markdown",
   "metadata": {},
   "source": [
    "#Introduction\n",
    "Here are a few notebooks outlining basic functionality of GPy\n",
    "* [Handling models](./models_basic.ipynb)\n",
    "* [Basic GP regression](./basic_gp.ipynb)\n",
    "* [Working with kernels](./basic_kernels.ipynb)"
   ]
  },
  {
   "cell_type": "markdown",
   "metadata": {},
   "source": [
    "# Example GPy use\n",
    "\n",
    "This set of examples shows some of the functionality of the GPy Gaussian process framework in python. The framework is BSD licensed and we welcome collaborators to develop new functionality.\n",
    "\n",
    "### Multiple Output Gaussian Processes\n",
    "* [Coregionalization with Gaussian Processes](./coregionalized_regression_tutorial.ipynb) This tutorial shows the use of a coregionalized model within GPy. In particular such models can be used for multi-task or multi-output learning.\n",
    "\n",
    "### Different Noise Models\n",
    "* [GP classification](./basic_classification.ipynb) A very simple turorial on GP classification.\n",
    "* [Count Data with GPy](./Poisson regression tutorial.ipynb) This tutorial gives an example of Poisson regression using GPy.\n",
    "* [Heteroschedastic Gaussian Processes](./heteroscedastic_regression.ipynb) This tutorial shows how heteroschedastic Gaussian processes can be fit using GPy (with an interactive widget!).\n",
    "\n",
    "### Approximations\n",
    "* [Sparse Gaussian Processes](./sparse_gp_regression.ipynb) This tutorial gives a quick overview of the variational approximation used to fit sparse Gaussian processes. \n",
    "\n",
    "### Partially parametric models\n",
    "* [Parametric non-parametric Gaussian Process Regression](./ParametricNonParametricInference.ipynb) The steps from Linear regression to non-linear regression and finally non-parametric (better: infinite parametric) regression."
   ]
  },
  {
   "cell_type": "markdown",
   "metadata": {},
   "source": [
    "#GPy Configuration Files\n",
    "* [Configuration Files](./config.ipynb) Setting up your local GPy configuration."
   ]
  }
 ],
 "metadata": {
  "kernelspec": {
   "display_name": "Python 2",
   "language": "python",
   "name": "python2"
  },
  "language_info": {
   "codemirror_mode": {
    "name": "ipython",
    "version": 2
   },
   "file_extension": ".py",
   "mimetype": "text/x-python",
   "name": "python",
   "nbconvert_exporter": "python",
   "pygments_lexer": "ipython2",
   "version": "2.7.6"
  }
 },
 "nbformat": 4,
 "nbformat_minor": 0
}
