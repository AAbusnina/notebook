{
 "metadata": {
  "name": "",
  "signature": "sha256:35fd7ff683a9eb18d66db51e78b825616897f2f29b39540e145b1ba2f1f081ff"
 },
 "nbformat": 3,
 "nbformat_minor": 0,
 "worksheets": [
  {
   "cells": [
    {
     "cell_type": "heading",
     "level": 1,
     "metadata": {},
     "source": [
      "Count Data Tutorial"
     ]
    },
    {
     "cell_type": "heading",
     "level": 2,
     "metadata": {},
     "source": [
      "28th May 2014"
     ]
    },
    {
     "cell_type": "heading",
     "level": 3,
     "metadata": {},
     "source": [
      "by Alan Saul, with edits by Neil Lawrence"
     ]
    },
    {
     "cell_type": "markdown",
     "metadata": {},
     "source": [
      "In this tutorial we will look at using a Gaussian Process with a Poisson likelihood to model a response variable that is count data, i.e $ Y \\in \\mathbb{N}^{0} = \\{0, 1, 2, 3, ..\\}$.\n",
      "\n",
      "This allows us to incorporate an approximate Poisson Process regression model into our Gaussian Process framework, indeed as the Poisson rate parameter, $\\lambda$, becomes large the Poisson Process asymptotically approaches a Gaussian Process. This is important as if your counts are large, the rate, $\\lambda$ at which events is happening is likely to be large, and it may not be required to use the approximation routine used here. Instead it may be more appropriate simply use a Gaussian Process, this will drastically reduce the computation required without a significant loss in accuracy.\n",
      "\n",
      "The approximation we will use here is known as the Laplace approximation. The Laplace approximation was applied to Gaussian processes for classification by [Williams and Barber, 1999](http://ieeexplore.ieee.org/xpl/login.jsp?tp=&arnumber=735807&url=http%3A%2F%2Fieeexplore.ieee.org%2Fxpls%2Fabs_all.jsp%3Farnumber%3D735807). More details are given in [Rasmussen and Williams, 2006](http://www.gaussianprocess.org/gpml/),  Section 3.4 and Section 5.5.1. It has also been suggested for Gaussian random fields by [Rue, Martino and Chopin, 2009](http://hachamam-inla.googlecode.com/hg/r-inla.org/papers/inla-rss.pdf). The Laplace approximation is a local approximation. It proceeds by finding the mode of the posterior distribution and computing the curvature to find the fit.\n",
      "\n",
      "First we perform some setup."
     ]
    },
    {
     "cell_type": "code",
     "collapsed": false,
     "input": [
      "%pylab inline\n",
      "import numpy as np\n",
      "import scipy as sp\n",
      "import pylab as pb"
     ],
     "language": "python",
     "metadata": {},
     "outputs": []
    },
    {
     "cell_type": "markdown",
     "metadata": {},
     "source": [
      "Next we show the Poisson distribution for several different rate parameters."
     ]
    },
    {
     "cell_type": "code",
     "collapsed": false,
     "input": [
      "K = np.arange(0, 30, 1)[:, None]\n",
      "poisson1 = sp.stats.poisson(1).pmf(K)\n",
      "poisson4 = sp.stats.poisson(3).pmf(K)\n",
      "poisson10 = sp.stats.poisson(8).pmf(K)\n",
      "poisson20 = sp.stats.poisson(20).pmf(K)\n",
      "pb.plot(K, poisson1, label='1')\n",
      "pb.plot(K, poisson5, label='3')\n",
      "pb.plot(K, poisson10, label='8')\n",
      "pb.plot(K, poisson20, label='20')\n",
      "pb.title('Poisson probability mass distribution for different rates')\n",
      "pb.ylabel('PMF')\n",
      "pb.xlabel('Counts')\n",
      "pb.legend()"
     ],
     "language": "python",
     "metadata": {},
     "outputs": []
    },
    {
     "cell_type": "markdown",
     "metadata": {},
     "source": [
      "As the rate increases, the Poisson distribution over discrete values begins to take on the form of a Gaussian density, over continuous values.\n",
      "\n",
      "The variance of the Poisson distribution is equal to its mean. The Poisson only has support for non-negative integers, whereas a Gaussian has support over all real numbers (including negatives). This can complicate matters because if we place a Gaussian process prior directly over the rate of the Poisson, then the implication is that the rate can go negative. In practice we normally consider a Gaussian process over the logarithm of the rate. This is known as a log Gaussian process. It is formed by combining a logarithmic link function with a Gaussian model. "
     ]
    },
    {
     "cell_type": "code",
     "collapsed": false,
     "input": [
      "#TODO Should really show the poisson likelihood as a function of rate ... it is the Gaussianity in that space that is important, not the Gaussianity in count space --- Neil"
     ],
     "language": "python",
     "metadata": {},
     "outputs": []
    },
    {
     "cell_type": "code",
     "collapsed": false,
     "input": [
      "small_rate = 2\n",
      "K = np.arange(0, 20, 1)[:, None]\n",
      "Kcont = np.linspace(0, 20, 100)[:, None]\n",
      "gauss20 = sp.stats.norm(loc=small_rate, scale=np.sqrt(small_rate)).pdf(Kcont)\n",
      "poisson20 = sp.stats.poisson(small_rate).pmf(K)\n",
      "pb.plot(K, poisson20, label='Poisson')\n",
      "pb.plot(Kcont, gauss20, label='Gaussian')\n",
      "pb.title('Gaussian and Poisson small rate')\n",
      "pb.ylabel('PDF/PMF')\n",
      "pb.xlabel('Counts')\n",
      "pb.legend()\n",
      "\n",
      "pb.figure()\n",
      "large_rate = 40\n",
      "K = np.arange(0, 80, 1)[:, None]\n",
      "Kcont = np.linspace(0, 80, 200)[:, None]\n",
      "gauss20 = sp.stats.norm(loc=large_rate, scale=np.sqrt(large_rate)).pdf(Kcont)\n",
      "poisson20 = sp.stats.poisson(40).pmf(K)\n",
      "pb.plot(K, poisson20, label='Poisson')\n",
      "pb.plot(Kcont, gauss20, label='Gaussian')\n",
      "pb.title('Gaussian and Poisson large rate')\n",
      "pb.ylabel('PDF/PMF')\n",
      "pb.xlabel('Counts')\n",
      "pb.legend()"
     ],
     "language": "python",
     "metadata": {},
     "outputs": []
    },
    {
     "cell_type": "markdown",
     "metadata": {},
     "source": [
      "If the counts are believed to follow a Poisson distribution and are very large, then the underlying rate is also likely to be large and we might reasonably approximate the Poisson likelihood with a Gaussian likelihood by matching the mean and variance to the observed counts. \n",
      "\n",
      "If, however, counts are relatively small, and we wish to fit Poisson process regression into a Gaussian Process framework, we may need a more involved approximation to the posterior.\n",
      "\n",
      "The approximation used in this tutorial is called the Laplace approximation, it uses the location of the mode of the marginal distribution and the curvature of this mode (the hessian) to find a more appropriate Gaussian posterior approximation. As we shall see, in practice this is quite effective, and future tutorials will show us how it can be used to make Gaussian Process approximations to a range of different likelihoods, rather than just the Poisson, with relative ease.\n",
      "\n"
     ]
    },
    {
     "cell_type": "markdown",
     "metadata": {},
     "source": [
      "Approximate Poisson Process Regression\n",
      "======================================\n",
      "\n",
      "Poisson process regression, contrasting to the above example, allows the rate to change, for example over time. That is the intensity of the counts can change, initially perhaps the data suggests there were few counts due to a low number of counts, but later this intensity is assumed to rise as we start observing larger more frequent counts. \n",
      "\n",
      "An example of data that might follow this change in 'intensity' is the times at which buses come throughout the day, we will choose this as our toy modelling example.\n",
      "\n",
      "First we will generate some toy data, we will say that there are very few buses overnight, thus low counts, then during the morning rush-hour the number of observed counts rises, it then reduces and plateus until the evening rush-hour, and then finally as the evening draws on we observe again a reduced number "
     ]
    },
    {
     "cell_type": "code",
     "collapsed": false,
     "input": [
      "X = np.linspace(0,23.50,48)[:, None]\n",
      "intensities = 4 + 3*np.sin(10 + 0.6*X) + np.sin(0.1*X)\n",
      "pb.plot(X, intensities)\n",
      "pb.title('Real underlying intensities (rate at which buses are issued)')\n",
      "\n",
      "Y = np.array([[sp.random.poisson(intensity) for intensity in intensities]]).T\n",
      "pb.figure()\n",
      "pb.bar(X, Y, width=0.5)\n",
      "pb.xlabel('Time')\n",
      "pb.ylabel('Buses in half an hour')\n",
      "pb.title('Observed (noisey) counts of buses throughout day')"
     ],
     "language": "python",
     "metadata": {},
     "outputs": []
    },
    {
     "cell_type": "markdown",
     "metadata": {},
     "source": [
      "We will now fit a Gaussian Process to this data using a Poisson likelihood and a Laplace approximation using GPy, as we shall see this is relatively simple, however to use Gaussian Processes we must make some assumptions about the intensity, we do this by defining a kernel."
     ]
    },
    {
     "cell_type": "code",
     "collapsed": false,
     "input": [
      "import GPy\n",
      "kernel = GPy.kern.RBF(1, variance=1.0, lengthscale=1.0)"
     ],
     "language": "python",
     "metadata": {},
     "outputs": []
    },
    {
     "cell_type": "markdown",
     "metadata": {},
     "source": [
      "By defining a radial basis function (RBF) kernel (also known as a exponentiated quadratic, squared exponential or Gaussian kernel), we are making *a priori* a smoothness assumption about the intensity parameter throughout time in this case. This is a very general assumption that is required in many learning algorithms, that data 'close' to one another shares similar properties. In this case we are saying that times that are close to one another have a similar number of buses arriving. \n",
      "\n",
      "The measure of closeness is defined by the lengthscale (or timescale) parameter, $\\ell$, initially we set this to be 2.0, roughly speaking this says that as we have moved two time-steps (1 hour in this case) the intensity shares almost nothing with the intensity a hour previous.\n",
      "\n",
      "The variance parameter describes our prior assumptions about the scale of the function being learnt. Both of these parameters although initialised here are usually optimized to find the most appropriate parameters, as such we set them to something that seems sensible but do not need to worry about having them absolutely correct.\n",
      "\n",
      "There are a variety of likelihoods implemented in GPy, type 'GPy.likelihoods.' then press tab to list them.\n",
      "\n",
      "There is also a number of alternative inference methods implemented, a subject for another tutorial, however it is worth noting that not all likelihoods are yet compatible with all inference methods. \n",
      "\n",
      "We now choose the type of likelihood and inference method we would like to use, in this case the Poisson likelihood and Laplace inference method. "
     ]
    },
    {
     "cell_type": "code",
     "collapsed": false,
     "input": [
      "poisson_likelihood = GPy.likelihoods.Poisson()\n",
      "laplace_inf = GPy.inference.latent_function_inference.Laplace()"
     ],
     "language": "python",
     "metadata": {},
     "outputs": []
    },
    {
     "cell_type": "markdown",
     "metadata": {},
     "source": [
      "Finally we are ready to create our model Gaussian Process model"
     ]
    },
    {
     "cell_type": "code",
     "collapsed": false,
     "input": [
      "m = GPy.core.GP(X=X, Y=Y, likelihood=poisson_likelihood, inference_method=laplace_inf, kernel=kernel)\n",
      "print m\n",
      "\n",
      "#Predictions of counts of buses, including noise arising from Poisson noise\n",
      "m.plot()\n",
      "pb.xlabel('Time')\n",
      "pb.ylabel('Buses counts per 30 minutes')"
     ],
     "language": "python",
     "metadata": {},
     "outputs": []
    },
    {
     "cell_type": "markdown",
     "metadata": {},
     "source": [
      "As we can see, the model as it stands is not all that great, the lengthscale parameter is soo small. We noted before that the kernels hyperparameters we chose were not the correct ones, only an initial guess. Next we try maximizing the likelihood of the model with respect to the parameters. Optimization within GPy is straightforward."
     ]
    },
    {
     "cell_type": "code",
     "collapsed": false,
     "input": [
      "m.optimize('scg')\n",
      "print m\n",
      "\n",
      "#Predictions of counts of buses, including noise arising from Poisson noise\n",
      "m.plot()\n",
      "pb.xlabel('Time')\n",
      "pb.ylabel('Buses counts per 30 minutes')"
     ],
     "language": "python",
     "metadata": {},
     "outputs": []
    },
    {
     "cell_type": "markdown",
     "metadata": {},
     "source": [
      "Now we should have a clearly better fit to the data, we have made predictions of the number of counts we would see throughout the day with our model and it seems to fit the training data we have provided quite well.\n",
      "\n",
      "To get a better indication of the intensity we have infered we can plot the latent function $f$ of the model, this is the models prediction, before we have added Poisson noise to it. In fact the model is modelling the log intensity, this is what is displayed below"
     ]
    },
    {
     "cell_type": "code",
     "collapsed": false,
     "input": [
      "#Posterior distribution of the intensity of buses, and true intensity in red\n",
      "m.plot_f()\n",
      "pb.plot(X, np.log(intensities), '--r', linewidth=2)\n",
      "pb.title('Real log intensity vs posterior belief')\n",
      "pb.xlabel('Time')\n",
      "pb.ylabel('Log intensity')"
     ],
     "language": "python",
     "metadata": {},
     "outputs": []
    },
    {
     "cell_type": "markdown",
     "metadata": {},
     "source": [
      "To get the predictions from the model is straightforward with the plot functionality."
     ]
    },
    {
     "cell_type": "code",
     "collapsed": false,
     "input": [
      "pred_points = np.linspace(0,24,100)[:, None]\n",
      "#Predictive GP for log intensity mean and variance\n",
      "f_mean, f_var = m._raw_predict(pred_points)\n",
      "f_upper, f_lower = f_mean + 2*np.sqrt(f_var), f_mean - 2.*np.sqrt(f_var)\n",
      "pb.plot(X, intensities, '--r', linewidth=2, label='true intensity')\n",
      "GPy.plotting.matplot_dep.base_plots.gpplot(pred_points, np.exp(f_mean), np.exp(f_lower), np.exp(f_upper), ax=pb.gca())\n",
      "pb.title('Real intensity vs posterior belief')\n",
      "pb.xlabel('Time')\n",
      "pb.ylabel('intensity')\n",
      "pb.legend()"
     ],
     "language": "python",
     "metadata": {},
     "outputs": []
    },
    {
     "cell_type": "markdown",
     "metadata": {},
     "source": []
    }
   ],
   "metadata": {}
  }
 ]
}