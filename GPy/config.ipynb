{
 "cells": [
  {
   "cell_type": "markdown",
   "metadata": {},
   "source": [
    "# GPy Configuration Settings\n",
    "\n",
    "The GPy default configuration settings are stored in a file in the main `GPy` directory called `defaults.cfg`. These settings should not be changed in this file. The file gives you an overview of what the configuration settings are for the install. "
   ]
  },
  {
   "cell_type": "code",
   "execution_count": 1,
   "metadata": {
    "collapsed": false
   },
   "outputs": [
    {
     "ename": "NameError",
     "evalue": "name 'parallel' is not defined",
     "output_type": "error",
     "traceback": [
      "\u001b[1;31m---------------------------------------------------------------------------\u001b[0m",
      "\u001b[1;31mNameError\u001b[0m                                 Traceback (most recent call last)",
      "\u001b[1;32m<ipython-input-1-4811a0093f32>\u001b[0m in \u001b[0;36m<module>\u001b[1;34m()\u001b[0m\n\u001b[0;32m      6\u001b[0m \u001b[1;33m\u001b[0m\u001b[0m\n\u001b[0;32m      7\u001b[0m \u001b[1;31m# For user specific changes edit $HOME/.gpy_user.cfg\u001b[0m\u001b[1;33m\u001b[0m\u001b[1;33m\u001b[0m\u001b[0m\n\u001b[1;32m----> 8\u001b[1;33m \u001b[1;33m[\u001b[0m\u001b[0mparallel\u001b[0m\u001b[1;33m]\u001b[0m\u001b[1;33m\u001b[0m\u001b[0m\n\u001b[0m\u001b[0;32m      9\u001b[0m \u001b[1;31m# Enable openmp support. This speeds up some computations, depending on the number\u001b[0m\u001b[1;33m\u001b[0m\u001b[1;33m\u001b[0m\u001b[0m\n\u001b[0;32m     10\u001b[0m \u001b[1;31m# of cores available. Setting up a compiler with openmp support can be difficult on\u001b[0m\u001b[1;33m\u001b[0m\u001b[1;33m\u001b[0m\u001b[0m\n",
      "\u001b[1;31mNameError\u001b[0m: name 'parallel' is not defined"
     ]
    }
   ],
   "source": [
    "# This is the default configuration file for GPy\n",
    "\n",
    "# Do note edit this file.\n",
    "\n",
    "# For machine specific changes (i.e. those specific to a given installation) edit GPy/installation.cfg\n",
    "\n",
    "# For user specific changes edit $HOME/.gpy_user.cfg\n",
    "[parallel]\n",
    "# Enable openmp support. This speeds up some computations, depending on the number\n",
    "# of cores available. Setting up a compiler with openmp support can be difficult on\n",
    "# some platforms, hence by default it is off.\n",
    "openmp=False\n",
    "\n",
    "[anaconda]\n",
    "# if you have an anaconda python installation please specify it here.\n",
    "installed = False\n",
    "location = None\n",
    "MKL = False # set this to true if you have the MKL optimizations installed\n"
   ]
  },
  {
   "cell_type": "markdown",
   "metadata": {},
   "source": [
    "### Machine Dependent Options\n",
    "\n",
    "Each installation of GPy also creates an `installation.cfg` file. This file should include any installation specific settings for your GPy installation. For example, if a particular machine is set up to run OpenMP then the `installation.cfg` file should contain"
   ]
  },
  {
   "cell_type": "code",
   "execution_count": null,
   "metadata": {
    "collapsed": false
   },
   "outputs": [],
   "source": [
    "# This is the local installation configuration file for GPy\n",
    "[parallel]\n",
    "openmp=True"
   ]
  },
  {
   "cell_type": "markdown",
   "metadata": {},
   "source": [
    "### User Dependent Options\n",
    "\n",
    "Options that are user dependent should be installed in the user's home directory in `.gpy_user.cfg`. "
   ]
  }
 ],
 "metadata": {
  "kernelspec": {
   "display_name": "Python 2",
   "language": "python",
   "name": "python2"
  },
  "language_info": {
   "codemirror_mode": {
    "name": "ipython",
    "version": 2
   },
   "file_extension": ".py",
   "mimetype": "text/x-python",
   "name": "python",
   "nbconvert_exporter": "python",
   "pygments_lexer": "ipython2",
   "version": "2.7.10"
  }
 },
 "nbformat": 4,
 "nbformat_minor": 0
}
