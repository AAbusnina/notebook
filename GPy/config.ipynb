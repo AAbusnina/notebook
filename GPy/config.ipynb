{
 "metadata": {
  "name": "",
  "signature": "sha256:8d965e3df0836fa24810af3d870806032c60fb9870cfee9ab0d97066961f80c4"
 },
 "nbformat": 3,
 "nbformat_minor": 0,
 "worksheets": [
  {
   "cells": [
    {
     "cell_type": "heading",
     "level": 2,
     "metadata": {},
     "source": [
      "GPy Configuration Settings"
     ]
    },
    {
     "cell_type": "markdown",
     "metadata": {},
     "source": [
      "The GPy default configuration settings are stored in a file in the main `GPy` directory called `defaults.cfg`. These settings should not be changed in this file. The file gives you an overview of what the configuration settings are for the install. "
     ]
    },
    {
     "cell_type": "code",
     "collapsed": false,
     "input": [
      "# This is the default configuration file for GPy\n",
      "\n",
      "# Do note edit this file.\n",
      "\n",
      "# For machine specific changes (i.e. those specific to a given installation) edit GPy/installation.cfg\n",
      "\n",
      "# For user specific changes edit $HOME/.gpy_user.cfg\n",
      "[parallel]\n",
      "# Enable openmp support. This speeds up some computations, depending on the number\n",
      "# of cores available. Setting up a compiler with openmp support can be difficult on\n",
      "# some platforms, hence by default it is off.\n",
      "openmp=False\n",
      "\n",
      "[datasets]\n",
      "# location for the local data cache\n",
      "dir=$HOME/tmp/GPy-datasets/\n",
      "\n",
      "[anaconda]\n",
      "# if you have an anaconda python installation please specify it here.\n",
      "installed = False\n",
      "location = None\n",
      "MKL = False # set this to true if you have the MKL optimizations installed\n"
     ],
     "language": "python",
     "metadata": {},
     "outputs": []
    },
    {
     "cell_type": "heading",
     "level": 3,
     "metadata": {},
     "source": [
      "Machine Dependent Options"
     ]
    },
    {
     "cell_type": "markdown",
     "metadata": {},
     "source": [
      "Each installation of GPy also creates an `installation.cfg` file. This file should include any installation specific settings for your GPy installation. For example, if a particular machine is set up to run OpenMP then the `installation.cfg` file should contain"
     ]
    },
    {
     "cell_type": "code",
     "collapsed": false,
     "input": [
      "# This is the local installation configuration file for GPy\n",
      "[parallel]\n",
      "openmp=True"
     ],
     "language": "python",
     "metadata": {},
     "outputs": []
    },
    {
     "cell_type": "heading",
     "level": 3,
     "metadata": {},
     "source": [
      "User Dependent Options"
     ]
    },
    {
     "cell_type": "markdown",
     "metadata": {},
     "source": [
      "Options that are user dependent should be installed in the user's home directory in `.gpy_user.cfg`. For example, a user might want to specify where the system should look for the data sets cache."
     ]
    },
    {
     "cell_type": "code",
     "collapsed": false,
     "input": [
      "# This is a user's personal configuration file for GPy\n",
      "[datasets]\n",
      "# location for the local data cache\n",
      "dir=$HOME/GPy-datasets/\n"
     ],
     "language": "python",
     "metadata": {},
     "outputs": []
    },
    {
     "cell_type": "markdown",
     "metadata": {},
     "source": [
      "Here the user has chosen to place the data sets cache in their home directory in a directory called `GPy-datasets`. If it doesn't exist already, this directory will be created."
     ]
    },
    {
     "cell_type": "code",
     "collapsed": false,
     "input": [],
     "language": "python",
     "metadata": {},
     "outputs": []
    }
   ],
   "metadata": {}
  }
 ]
}